{
 "cells": [
  {
   "cell_type": "markdown",
   "source": [
    "# Imports"
   ],
   "metadata": {
    "collapsed": false
   }
  },
  {
   "cell_type": "code",
   "execution_count": 74,
   "metadata": {
    "collapsed": true
   },
   "outputs": [],
   "source": [
    "from pyspark.sql import SparkSession\n",
    "from pyspark.sql.types import StructType, StructField, StringType, \\\n",
    "    IntegerType, FloatType\n",
    "from pyspark.sql.dataframe import DataFrame\n",
    "from pyspark.sql.functions import col, lit, sum, avg, max, min, mean, \\\n",
    "    count, udf\n",
    "from pyspark import SparkConf, SparkContext"
   ]
  },
  {
   "cell_type": "code",
   "execution_count": 3,
   "outputs": [],
   "source": [
    "student_data = 'data/students.csv'"
   ],
   "metadata": {
    "collapsed": false
   }
  },
  {
   "cell_type": "code",
   "execution_count": 4,
   "outputs": [],
   "source": [
    "spark = SparkSession.builder.appName('PracticeDataframe').getOrCreate()"
   ],
   "metadata": {
    "collapsed": false
   }
  },
  {
   "cell_type": "markdown",
   "source": [
    "# Schema"
   ],
   "metadata": {
    "collapsed": false
   }
  },
  {
   "cell_type": "code",
   "execution_count": 5,
   "outputs": [],
   "source": [
    "schema = StructType([\n",
    "    StructField('age', IntegerType(), True),\n",
    "    StructField('gender', StringType(), True),\n",
    "    StructField('name', StringType(), True),\n",
    "    StructField('course', StringType(), True),\n",
    "    StructField('roll', StringType(), True),\n",
    "    StructField('marks', IntegerType(), True),\n",
    "    StructField('email', StringType(), True),\n",
    "])"
   ],
   "metadata": {
    "collapsed": false
   }
  },
  {
   "cell_type": "code",
   "execution_count": 6,
   "outputs": [
    {
     "name": "stdout",
     "output_type": "stream",
     "text": [
      "root\n",
      " |-- age: integer (nullable = true)\n",
      " |-- gender: string (nullable = true)\n",
      " |-- name: string (nullable = true)\n",
      " |-- course: string (nullable = true)\n",
      " |-- roll: string (nullable = true)\n",
      " |-- marks: integer (nullable = true)\n",
      " |-- email: string (nullable = true)\n",
      "\n"
     ]
    }
   ],
   "source": [
    "df = spark.read.options(header=True).schema(schema).csv('data/students.csv')\n",
    "df.printSchema()"
   ],
   "metadata": {
    "collapsed": false
   }
  },
  {
   "cell_type": "code",
   "execution_count": 7,
   "outputs": [
    {
     "name": "stdout",
     "output_type": "stream",
     "text": [
      "+---+------+----------------+------+------+-----+--------------------+\n",
      "|age|gender|            name|course|  roll|marks|               email|\n",
      "+---+------+----------------+------+------+-----+--------------------+\n",
      "| 28|Female| Hubert Oliveras|    DB| 02984|   59|Annika Hoffman_Na...|\n",
      "| 29|Female|Toshiko Hillyard| Cloud| 12899|   62|Margene Moores_Ma...|\n",
      "| 28|  Male|  Celeste Lollis|    PF| 21267|   45|Jeannetta Golden_...|\n",
      "| 29|Female|    Elenore Choy|    DB| 32877|   29|Billi Clore_Mitzi...|\n",
      "| 28|  Male|  Sheryll Towler|   DSA| 41487|   41|Claude Panos_Judi...|\n",
      "| 28|  Male|  Margene Moores|   MVC| 52771|   32|Toshiko Hillyard_...|\n",
      "| 28|  Male|     Neda Briski|   OOP| 61973|   69|Alberta Freund_El...|\n",
      "| 28|Female|    Claude Panos| Cloud| 72409|   85|Sheryll Towler_Al...|\n",
      "| 28|  Male|  Celeste Lollis|   MVC| 81492|   64|Nicole Harwood_Cl...|\n",
      "| 29|  Male|  Cordie Harnois|   OOP| 92882|   51|Judie Chipps_Clem...|\n",
      "| 29|Female|       Kena Wild|   DSA|102285|   35|Dustin Feagins_Ma...|\n",
      "| 29|  Male| Ernest Rossbach|    DB|111449|   53|Maybell Duguay_Ab...|\n",
      "| 28|Female|  Latia Vanhoose|    DB|122502|   27|Latia Vanhoose_Mi...|\n",
      "| 29|Female|  Latia Vanhoose|   MVC|132110|   55|Eda Neathery_Nico...|\n",
      "| 29|  Male|     Neda Briski|    PF|141770|   42|Margene Moores_Mi...|\n",
      "| 29|Female|  Latia Vanhoose|    DB|152159|   27|Claude Panos_Sant...|\n",
      "| 29|  Male|  Loris Crossett|   MVC|161771|   36|Mitzi Seldon_Jenn...|\n",
      "| 29|  Male|  Annika Hoffman|   OOP|171660|   22|Taryn Brownlee_Mi...|\n",
      "| 29|  Male|   Santa Kerfien|    PF|182129|   56|Judie Chipps_Tary...|\n",
      "| 28|Female|Mickey Cortright|    DB|192537|   62|Ernest Rossbach_M...|\n",
      "+---+------+----------------+------+------+-----+--------------------+\n",
      "only showing top 20 rows\n",
      "\n"
     ]
    }
   ],
   "source": [
    "df.show()"
   ],
   "metadata": {
    "collapsed": false
   }
  },
  {
   "cell_type": "markdown",
   "source": [
    "# RDD to DF"
   ],
   "metadata": {
    "collapsed": false
   }
  },
  {
   "cell_type": "code",
   "execution_count": 8,
   "outputs": [
    {
     "data": {
      "text/plain": "[[28,\n  'Female',\n  'Hubert Oliveras',\n  'DB',\n  '02984',\n  59,\n  'Annika Hoffman_Naoma Fritts@OOP.com'],\n [29,\n  'Female',\n  'Toshiko Hillyard',\n  'Cloud',\n  '12899',\n  62,\n  'Margene Moores_Marylee Capasso@DB.com']]"
     },
     "execution_count": 8,
     "metadata": {},
     "output_type": "execute_result"
    }
   ],
   "source": [
    "conf = SparkConf().setAppName(\"RDD\")\n",
    "sc = SparkContext.getOrCreate(conf=conf)\n",
    "rdd_students = sc.textFile(student_data)\n",
    "rdd_students_header = rdd_students.first()\n",
    "rdd_students = rdd_students \\\n",
    "    .filter(lambda row: row != rdd_students_header) \\\n",
    "    .map(lambda elem: elem.split(',')) \\\n",
    "    .map(lambda row: [int(row[0]), row[1], row[2], row[3], row[4], int(row[5]), row[6]])\n",
    "\n",
    "rdd_students.collect()[0:2]"
   ],
   "metadata": {
    "collapsed": false
   }
  },
  {
   "cell_type": "code",
   "execution_count": 9,
   "outputs": [
    {
     "name": "stdout",
     "output_type": "stream",
     "text": [
      "+---+------+----------------+------+------+-----+--------------------+\n",
      "|age|gender|            name|course|  roll|marks|               email|\n",
      "+---+------+----------------+------+------+-----+--------------------+\n",
      "| 28|Female| Hubert Oliveras|    DB| 02984|   59|Annika Hoffman_Na...|\n",
      "| 29|Female|Toshiko Hillyard| Cloud| 12899|   62|Margene Moores_Ma...|\n",
      "| 28|  Male|  Celeste Lollis|    PF| 21267|   45|Jeannetta Golden_...|\n",
      "| 29|Female|    Elenore Choy|    DB| 32877|   29|Billi Clore_Mitzi...|\n",
      "| 28|  Male|  Sheryll Towler|   DSA| 41487|   41|Claude Panos_Judi...|\n",
      "| 28|  Male|  Margene Moores|   MVC| 52771|   32|Toshiko Hillyard_...|\n",
      "| 28|  Male|     Neda Briski|   OOP| 61973|   69|Alberta Freund_El...|\n",
      "| 28|Female|    Claude Panos| Cloud| 72409|   85|Sheryll Towler_Al...|\n",
      "| 28|  Male|  Celeste Lollis|   MVC| 81492|   64|Nicole Harwood_Cl...|\n",
      "| 29|  Male|  Cordie Harnois|   OOP| 92882|   51|Judie Chipps_Clem...|\n",
      "| 29|Female|       Kena Wild|   DSA|102285|   35|Dustin Feagins_Ma...|\n",
      "| 29|  Male| Ernest Rossbach|    DB|111449|   53|Maybell Duguay_Ab...|\n",
      "| 28|Female|  Latia Vanhoose|    DB|122502|   27|Latia Vanhoose_Mi...|\n",
      "| 29|Female|  Latia Vanhoose|   MVC|132110|   55|Eda Neathery_Nico...|\n",
      "| 29|  Male|     Neda Briski|    PF|141770|   42|Margene Moores_Mi...|\n",
      "| 29|Female|  Latia Vanhoose|    DB|152159|   27|Claude Panos_Sant...|\n",
      "| 29|  Male|  Loris Crossett|   MVC|161771|   36|Mitzi Seldon_Jenn...|\n",
      "| 29|  Male|  Annika Hoffman|   OOP|171660|   22|Taryn Brownlee_Mi...|\n",
      "| 29|  Male|   Santa Kerfien|    PF|182129|   56|Judie Chipps_Tary...|\n",
      "| 28|Female|Mickey Cortright|    DB|192537|   62|Ernest Rossbach_M...|\n",
      "+---+------+----------------+------+------+-----+--------------------+\n",
      "only showing top 20 rows\n",
      "\n"
     ]
    }
   ],
   "source": [
    "header_row = rdd_students_header.split(',')\n",
    "df_from_rdd = rdd_students.toDF(header_row)\n",
    "df_from_rdd.show()"
   ],
   "metadata": {
    "collapsed": false
   }
  },
  {
   "cell_type": "markdown",
   "source": [],
   "metadata": {
    "collapsed": false
   }
  },
  {
   "cell_type": "markdown",
   "source": [
    "## RDD to DF with schema"
   ],
   "metadata": {
    "collapsed": false
   }
  },
  {
   "cell_type": "code",
   "execution_count": 10,
   "outputs": [
    {
     "name": "stdout",
     "output_type": "stream",
     "text": [
      "root\n",
      " |-- age: integer (nullable = true)\n",
      " |-- gender: string (nullable = true)\n",
      " |-- name: string (nullable = true)\n",
      " |-- course: string (nullable = true)\n",
      " |-- roll: string (nullable = true)\n",
      " |-- marks: integer (nullable = true)\n",
      " |-- email: string (nullable = true)\n",
      "\n"
     ]
    }
   ],
   "source": [
    "df_from_rdd_from_schema = spark.createDataFrame(rdd_students, schema=schema)\n",
    "df_from_rdd_from_schema.printSchema()"
   ],
   "metadata": {
    "collapsed": false
   }
  },
  {
   "cell_type": "code",
   "execution_count": 11,
   "outputs": [
    {
     "name": "stdout",
     "output_type": "stream",
     "text": [
      "+---+------+----------------+------+------+-----+--------------------+\n",
      "|age|gender|            name|course|  roll|marks|               email|\n",
      "+---+------+----------------+------+------+-----+--------------------+\n",
      "| 28|Female| Hubert Oliveras|    DB| 02984|   59|Annika Hoffman_Na...|\n",
      "| 29|Female|Toshiko Hillyard| Cloud| 12899|   62|Margene Moores_Ma...|\n",
      "| 28|  Male|  Celeste Lollis|    PF| 21267|   45|Jeannetta Golden_...|\n",
      "| 29|Female|    Elenore Choy|    DB| 32877|   29|Billi Clore_Mitzi...|\n",
      "| 28|  Male|  Sheryll Towler|   DSA| 41487|   41|Claude Panos_Judi...|\n",
      "| 28|  Male|  Margene Moores|   MVC| 52771|   32|Toshiko Hillyard_...|\n",
      "| 28|  Male|     Neda Briski|   OOP| 61973|   69|Alberta Freund_El...|\n",
      "| 28|Female|    Claude Panos| Cloud| 72409|   85|Sheryll Towler_Al...|\n",
      "| 28|  Male|  Celeste Lollis|   MVC| 81492|   64|Nicole Harwood_Cl...|\n",
      "| 29|  Male|  Cordie Harnois|   OOP| 92882|   51|Judie Chipps_Clem...|\n",
      "| 29|Female|       Kena Wild|   DSA|102285|   35|Dustin Feagins_Ma...|\n",
      "| 29|  Male| Ernest Rossbach|    DB|111449|   53|Maybell Duguay_Ab...|\n",
      "| 28|Female|  Latia Vanhoose|    DB|122502|   27|Latia Vanhoose_Mi...|\n",
      "| 29|Female|  Latia Vanhoose|   MVC|132110|   55|Eda Neathery_Nico...|\n",
      "| 29|  Male|     Neda Briski|    PF|141770|   42|Margene Moores_Mi...|\n",
      "| 29|Female|  Latia Vanhoose|    DB|152159|   27|Claude Panos_Sant...|\n",
      "| 29|  Male|  Loris Crossett|   MVC|161771|   36|Mitzi Seldon_Jenn...|\n",
      "| 29|  Male|  Annika Hoffman|   OOP|171660|   22|Taryn Brownlee_Mi...|\n",
      "| 29|  Male|   Santa Kerfien|    PF|182129|   56|Judie Chipps_Tary...|\n",
      "| 28|Female|Mickey Cortright|    DB|192537|   62|Ernest Rossbach_M...|\n",
      "+---+------+----------------+------+------+-----+--------------------+\n",
      "only showing top 20 rows\n",
      "\n"
     ]
    }
   ],
   "source": [
    "df_from_rdd_from_schema.show()"
   ],
   "metadata": {
    "collapsed": false
   }
  },
  {
   "cell_type": "markdown",
   "source": [
    "# Selecting DataFrame Columns"
   ],
   "metadata": {
    "collapsed": false
   }
  },
  {
   "cell_type": "code",
   "execution_count": 12,
   "outputs": [
    {
     "name": "stdout",
     "output_type": "stream",
     "text": [
      "+----------------+------+\n",
      "|            name|gender|\n",
      "+----------------+------+\n",
      "| Hubert Oliveras|Female|\n",
      "|Toshiko Hillyard|Female|\n",
      "|  Celeste Lollis|  Male|\n",
      "|    Elenore Choy|Female|\n",
      "|  Sheryll Towler|  Male|\n",
      "+----------------+------+\n",
      "only showing top 5 rows\n",
      "\n"
     ]
    }
   ],
   "source": [
    "df_students = df_from_rdd_from_schema\n",
    "df_students.select(\"name\", \"gender\").show(5)"
   ],
   "metadata": {
    "collapsed": false
   }
  },
  {
   "cell_type": "code",
   "execution_count": 13,
   "outputs": [
    {
     "name": "stdout",
     "output_type": "stream",
     "text": [
      "+----------------+--------------------+\n",
      "|            name|               email|\n",
      "+----------------+--------------------+\n",
      "| Hubert Oliveras|Annika Hoffman_Na...|\n",
      "|Toshiko Hillyard|Margene Moores_Ma...|\n",
      "|  Celeste Lollis|Jeannetta Golden_...|\n",
      "|    Elenore Choy|Billi Clore_Mitzi...|\n",
      "|  Sheryll Towler|Claude Panos_Judi...|\n",
      "+----------------+--------------------+\n",
      "only showing top 5 rows\n",
      "\n"
     ]
    }
   ],
   "source": [
    "df_students.select(df_students.name, df_students.email).show(5)"
   ],
   "metadata": {
    "collapsed": false
   }
  },
  {
   "cell_type": "code",
   "execution_count": 14,
   "outputs": [
    {
     "name": "stdout",
     "output_type": "stream",
     "text": [
      "+-----+----------------+\n",
      "| roll|            name|\n",
      "+-----+----------------+\n",
      "|02984| Hubert Oliveras|\n",
      "|12899|Toshiko Hillyard|\n",
      "|21267|  Celeste Lollis|\n",
      "|32877|    Elenore Choy|\n",
      "|41487|  Sheryll Towler|\n",
      "+-----+----------------+\n",
      "only showing top 5 rows\n",
      "\n"
     ]
    }
   ],
   "source": [
    "df.select(col(\"roll\"), col(\"name\")).show(5)"
   ],
   "metadata": {
    "collapsed": false
   }
  },
  {
   "cell_type": "markdown",
   "source": [
    "## Select by column index"
   ],
   "metadata": {
    "collapsed": false
   }
  },
  {
   "cell_type": "code",
   "execution_count": 15,
   "outputs": [
    {
     "name": "stdout",
     "output_type": "stream",
     "text": [
      "+---+------+----------------+\n",
      "|age|gender|            name|\n",
      "+---+------+----------------+\n",
      "| 28|Female| Hubert Oliveras|\n",
      "| 29|Female|Toshiko Hillyard|\n",
      "| 28|  Male|  Celeste Lollis|\n",
      "| 29|Female|    Elenore Choy|\n",
      "| 28|  Male|  Sheryll Towler|\n",
      "+---+------+----------------+\n",
      "only showing top 5 rows\n",
      "\n"
     ]
    }
   ],
   "source": [
    "df_students.select(df_students.columns[0:3]).show(5)"
   ],
   "metadata": {
    "collapsed": false
   }
  },
  {
   "cell_type": "code",
   "execution_count": 16,
   "outputs": [
    {
     "name": "stdout",
     "output_type": "stream",
     "text": [
      "+------+-----+\n",
      "|course| roll|\n",
      "+------+-----+\n",
      "|    DB|02984|\n",
      "| Cloud|12899|\n",
      "|    PF|21267|\n",
      "|    DB|32877|\n",
      "|   DSA|41487|\n",
      "+------+-----+\n",
      "only showing top 5 rows\n",
      "\n"
     ]
    }
   ],
   "source": [
    "df_students.select(df_students.columns[3], df_students.columns[4]).show(5)"
   ],
   "metadata": {
    "collapsed": false
   }
  },
  {
   "cell_type": "markdown",
   "source": [
    "# .withColumn()"
   ],
   "metadata": {
    "collapsed": false
   }
  },
  {
   "cell_type": "code",
   "execution_count": 17,
   "outputs": [
    {
     "name": "stdout",
     "output_type": "stream",
     "text": [
      "root\n",
      " |-- age: integer (nullable = true)\n",
      " |-- gender: string (nullable = true)\n",
      " |-- name: string (nullable = true)\n",
      " |-- course: string (nullable = true)\n",
      " |-- roll: integer (nullable = true)\n",
      " |-- marks: integer (nullable = true)\n",
      " |-- email: string (nullable = true)\n",
      "\n"
     ]
    }
   ],
   "source": [
    "df_students2 = df_students.withColumn(\"roll\", col(\"roll\").cast(\"Int\"))\n",
    "df_students2.printSchema()"
   ],
   "metadata": {
    "collapsed": false
   }
  },
  {
   "cell_type": "code",
   "execution_count": 18,
   "outputs": [
    {
     "name": "stdout",
     "output_type": "stream",
     "text": [
      "+---+------+----------------+------+-----+-----+--------------------+--------+\n",
      "|age|gender|            name|course| roll|marks|               email|marks_10|\n",
      "+---+------+----------------+------+-----+-----+--------------------+--------+\n",
      "| 28|Female| Hubert Oliveras|    DB| 2984|   59|Annika Hoffman_Na...|      69|\n",
      "| 29|Female|Toshiko Hillyard| Cloud|12899|   62|Margene Moores_Ma...|      72|\n",
      "| 28|  Male|  Celeste Lollis|    PF|21267|   45|Jeannetta Golden_...|      55|\n",
      "| 29|Female|    Elenore Choy|    DB|32877|   29|Billi Clore_Mitzi...|      39|\n",
      "| 28|  Male|  Sheryll Towler|   DSA|41487|   41|Claude Panos_Judi...|      51|\n",
      "+---+------+----------------+------+-----+-----+--------------------+--------+\n",
      "only showing top 5 rows\n",
      "\n"
     ]
    }
   ],
   "source": [
    "df_students2 = df_students2.withColumn(\"marks_10\", col(\"marks\") + 10)\n",
    "df_students2.show(5)"
   ],
   "metadata": {
    "collapsed": false
   }
  },
  {
   "cell_type": "code",
   "execution_count": 19,
   "outputs": [
    {
     "name": "stdout",
     "output_type": "stream",
     "text": [
      "+---+------+----------------+------+-----+-----+--------------------+--------+-------+\n",
      "|age|gender|            name|course| roll|marks|               email|marks_10|country|\n",
      "+---+------+----------------+------+-----+-----+--------------------+--------+-------+\n",
      "| 28|Female| Hubert Oliveras|    DB| 2984|   59|Annika Hoffman_Na...|      69|    USA|\n",
      "| 29|Female|Toshiko Hillyard| Cloud|12899|   62|Margene Moores_Ma...|      72|    USA|\n",
      "| 28|  Male|  Celeste Lollis|    PF|21267|   45|Jeannetta Golden_...|      55|    USA|\n",
      "| 29|Female|    Elenore Choy|    DB|32877|   29|Billi Clore_Mitzi...|      39|    USA|\n",
      "| 28|  Male|  Sheryll Towler|   DSA|41487|   41|Claude Panos_Judi...|      51|    USA|\n",
      "+---+------+----------------+------+-----+-----+--------------------+--------+-------+\n",
      "only showing top 5 rows\n",
      "\n"
     ]
    }
   ],
   "source": [
    "df_students2 = df_students2.withColumn(\"country\", lit('USA'))\n",
    "df_students2.show(5)"
   ],
   "metadata": {
    "collapsed": false
   }
  },
  {
   "cell_type": "code",
   "execution_count": 20,
   "outputs": [
    {
     "name": "stdout",
     "output_type": "stream",
     "text": [
      "+---+------+----------------+------+-----+-----+--------------------+--------+-------+----------+--------+-------+\n",
      "|age|gender|            name|course| roll|marks|               email|marks_10|country|course_eng|mark_pct|age_old|\n",
      "+---+------+----------------+------+-----+-----+--------------------+--------+-------+----------+--------+-------+\n",
      "| 28|Female| Hubert Oliveras|    DB| 2984|   59|Annika Hoffman_Na...|      69|    USA|      null|    0.59|   70.0|\n",
      "| 29|Female|Toshiko Hillyard| Cloud|12899|   62|Margene Moores_Ma...|      72|    USA|      null|    0.62|   72.5|\n",
      "| 28|  Male|  Celeste Lollis|    PF|21267|   45|Jeannetta Golden_...|      55|    USA|      null|    0.45|   70.0|\n",
      "| 29|Female|    Elenore Choy|    DB|32877|   29|Billi Clore_Mitzi...|      39|    USA|      null|    0.29|   72.5|\n",
      "| 28|  Male|  Sheryll Towler|   DSA|41487|   41|Claude Panos_Judi...|      51|    USA|      null|    0.41|   70.0|\n",
      "+---+------+----------------+------+-----+-----+--------------------+--------+-------+----------+--------+-------+\n",
      "only showing top 5 rows\n",
      "\n"
     ]
    }
   ],
   "source": [
    "# adding multiple columns\n",
    "df_students2.withColumn(\"course_eng\", col('course') + 'Engineering') \\\n",
    "    .withColumn('mark_pct', col('marks') / 100) \\\n",
    "    .withColumn('age_old', col('age') * 2.5).show(5)"
   ],
   "metadata": {
    "collapsed": false
   }
  },
  {
   "cell_type": "markdown",
   "source": [
    "# .withColumnRenamed()"
   ],
   "metadata": {
    "collapsed": false
   }
  },
  {
   "cell_type": "code",
   "execution_count": 23,
   "outputs": [
    {
     "name": "stdout",
     "output_type": "stream",
     "text": [
      "+---+------+----------------+------+--------+------+--------------------+\n",
      "|age|gender|            name|course|roll_num|grades|               email|\n",
      "+---+------+----------------+------+--------+------+--------------------+\n",
      "| 28|Female| Hubert Oliveras|    DB|   02984|    59|Annika Hoffman_Na...|\n",
      "| 29|Female|Toshiko Hillyard| Cloud|   12899|    62|Margene Moores_Ma...|\n",
      "| 28|  Male|  Celeste Lollis|    PF|   21267|    45|Jeannetta Golden_...|\n",
      "| 29|Female|    Elenore Choy|    DB|   32877|    29|Billi Clore_Mitzi...|\n",
      "| 28|  Male|  Sheryll Towler|   DSA|   41487|    41|Claude Panos_Judi...|\n",
      "+---+------+----------------+------+--------+------+--------------------+\n",
      "only showing top 5 rows\n",
      "\n"
     ]
    }
   ],
   "source": [
    "df_students = df_students.withColumnRenamed(\"marks\", \"grades\").withColumnRenamed(\"roll\", \"roll_num\")\n",
    "df_students.show(5)"
   ],
   "metadata": {
    "collapsed": false
   }
  },
  {
   "cell_type": "code",
   "execution_count": 26,
   "outputs": [
    {
     "name": "stdout",
     "output_type": "stream",
     "text": [
      "+----------------+\n",
      "|       full_name|\n",
      "+----------------+\n",
      "| Hubert Oliveras|\n",
      "|Toshiko Hillyard|\n",
      "|  Celeste Lollis|\n",
      "|    Elenore Choy|\n",
      "|  Sheryll Towler|\n",
      "+----------------+\n",
      "only showing top 5 rows\n",
      "\n"
     ]
    }
   ],
   "source": [
    "# .alias()\n",
    "df_students.select(col('name').alias('full_name')).show(5)"
   ],
   "metadata": {
    "collapsed": false
   }
  },
  {
   "cell_type": "markdown",
   "source": [
    "# .filter() .isin() .like() .startswith() .endswith() .contains()"
   ],
   "metadata": {
    "collapsed": false
   }
  },
  {
   "cell_type": "code",
   "execution_count": 30,
   "outputs": [
    {
     "name": "stdout",
     "output_type": "stream",
     "text": [
      "+---+------+---------------+------+--------+------+--------------------+\n",
      "|age|gender|           name|course|roll_num|grades|               email|\n",
      "+---+------+---------------+------+--------+------+--------------------+\n",
      "| 28|Female|Hubert Oliveras|    DB|   02984|    59|Annika Hoffman_Na...|\n",
      "| 29|Female|   Elenore Choy|    DB|   32877|    29|Billi Clore_Mitzi...|\n",
      "| 29|  Male|Ernest Rossbach|    DB|  111449|    53|Maybell Duguay_Ab...|\n",
      "| 28|Female| Latia Vanhoose|    DB|  122502|    27|Latia Vanhoose_Mi...|\n",
      "| 29|Female| Latia Vanhoose|    DB|  152159|    27|Claude Panos_Sant...|\n",
      "+---+------+---------------+------+--------+------+--------------------+\n",
      "only showing top 5 rows\n",
      "\n"
     ]
    }
   ],
   "source": [
    "df_students.filter(df_students.course == 'DB').show(5)"
   ],
   "metadata": {
    "collapsed": false
   }
  },
  {
   "cell_type": "code",
   "execution_count": 31,
   "outputs": [
    {
     "name": "stdout",
     "output_type": "stream",
     "text": [
      "+---+------+---------------+------+--------+------+--------------------+\n",
      "|age|gender|           name|course|roll_num|grades|               email|\n",
      "+---+------+---------------+------+--------+------+--------------------+\n",
      "| 28|Female|Hubert Oliveras|    DB|   02984|    59|Annika Hoffman_Na...|\n",
      "| 29|Female|   Elenore Choy|    DB|   32877|    29|Billi Clore_Mitzi...|\n",
      "| 29|  Male|Ernest Rossbach|    DB|  111449|    53|Maybell Duguay_Ab...|\n",
      "| 28|Female| Latia Vanhoose|    DB|  122502|    27|Latia Vanhoose_Mi...|\n",
      "| 29|Female| Latia Vanhoose|    DB|  152159|    27|Claude Panos_Sant...|\n",
      "+---+------+---------------+------+--------+------+--------------------+\n",
      "only showing top 5 rows\n",
      "\n"
     ]
    }
   ],
   "source": [
    "df_students.filter(col('course') == 'DB').show(5)"
   ],
   "metadata": {
    "collapsed": false
   }
  },
  {
   "cell_type": "code",
   "execution_count": 33,
   "outputs": [
    {
     "name": "stdout",
     "output_type": "stream",
     "text": [
      "+---+------+------------------+------+--------+------+--------------------+\n",
      "|age|gender|              name|course|roll_num|grades|               email|\n",
      "+---+------+------------------+------+--------+------+--------------------+\n",
      "| 28|  Male|   Marylee Capasso|    DB| 1611411|    96|Annika Hoffman_Lo...|\n",
      "| 29|  Male|    Alberta Freund|    DB| 1671638|    98|Clementina Menke_...|\n",
      "| 28|Female|Priscila Tavernier|    DB| 1722388|    86|Lawanda Wohlwend_...|\n",
      "| 29|  Male|    Dustin Feagins|    DB| 1782045|    81|Cordie Harnois_To...|\n",
      "| 29|  Male|     Tijuana Kropf|    DB| 1882795|    92|Hubert Oliveras_E...|\n",
      "+---+------+------------------+------+--------+------+--------------------+\n",
      "only showing top 5 rows\n",
      "\n"
     ]
    }
   ],
   "source": [
    "# & and | or\n",
    "df_students.filter((df_students.course == 'DB') & (df_students.grades > 80)).show(5)"
   ],
   "metadata": {
    "collapsed": false
   }
  },
  {
   "cell_type": "code",
   "execution_count": 34,
   "outputs": [
    {
     "name": "stdout",
     "output_type": "stream",
     "text": [
      "+---+------+----------------+------+--------+------+--------------------+\n",
      "|age|gender|            name|course|roll_num|grades|               email|\n",
      "+---+------+----------------+------+--------+------+--------------------+\n",
      "| 28|Female| Hubert Oliveras|    DB|   02984|    59|Annika Hoffman_Na...|\n",
      "| 29|Female|Toshiko Hillyard| Cloud|   12899|    62|Margene Moores_Ma...|\n",
      "| 29|Female|    Elenore Choy|    DB|   32877|    29|Billi Clore_Mitzi...|\n",
      "| 28|  Male|     Neda Briski|   OOP|   61973|    69|Alberta Freund_El...|\n",
      "| 28|Female|    Claude Panos| Cloud|   72409|    85|Sheryll Towler_Al...|\n",
      "+---+------+----------------+------+--------+------+--------------------+\n",
      "only showing top 5 rows\n",
      "\n"
     ]
    }
   ],
   "source": [
    "# .isin()\n",
    "courses = ['DB', 'Cloud', 'OOP']\n",
    "df_students.filter(df_students.course.isin(courses)).show(5)"
   ],
   "metadata": {
    "collapsed": false
   }
  },
  {
   "cell_type": "code",
   "execution_count": 35,
   "outputs": [
    {
     "name": "stdout",
     "output_type": "stream",
     "text": [
      "+---+------+---------------+------+--------+------+--------------------+\n",
      "|age|gender|           name|course|roll_num|grades|               email|\n",
      "+---+------+---------------+------+--------+------+--------------------+\n",
      "| 28|Female|Hubert Oliveras|    DB|   02984|    59|Annika Hoffman_Na...|\n",
      "| 29|Female|   Elenore Choy|    DB|   32877|    29|Billi Clore_Mitzi...|\n",
      "| 28|  Male| Sheryll Towler|   DSA|   41487|    41|Claude Panos_Judi...|\n",
      "| 29|Female|      Kena Wild|   DSA|  102285|    35|Dustin Feagins_Ma...|\n",
      "| 29|  Male|Ernest Rossbach|    DB|  111449|    53|Maybell Duguay_Ab...|\n",
      "+---+------+---------------+------+--------+------+--------------------+\n",
      "only showing top 5 rows\n",
      "\n"
     ]
    }
   ],
   "source": [
    "# also .like() .startswith() .endswith()\n",
    "df_students.filter(df_students.course.startswith('D')).show(5)"
   ],
   "metadata": {
    "collapsed": false
   }
  },
  {
   "cell_type": "code",
   "execution_count": 36,
   "outputs": [
    {
     "name": "stdout",
     "output_type": "stream",
     "text": [
      "+---+------+--------------+------+--------+------+--------------------+\n",
      "|age|gender|          name|course|roll_num|grades|               email|\n",
      "+---+------+--------------+------+--------+------+--------------------+\n",
      "| 28|Female|Latia Vanhoose|    DB|  122502|    27|Latia Vanhoose_Mi...|\n",
      "| 29|Female|Latia Vanhoose|   MVC|  132110|    55|Eda Neathery_Nico...|\n",
      "| 29|Female|Latia Vanhoose|    DB|  152159|    27|Claude Panos_Sant...|\n",
      "| 29|  Male|Loris Crossett|   MVC|  161771|    36|Mitzi Seldon_Jenn...|\n",
      "| 29|Female|Loris Crossett|    PF|  201487|    96|Elenore Choy_Lati...|\n",
      "+---+------+--------------+------+--------+------+--------------------+\n",
      "only showing top 5 rows\n",
      "\n"
     ]
    }
   ],
   "source": [
    "# .contains()\n",
    "df_students.filter(df_students.name.contains('se')).show(5)"
   ],
   "metadata": {
    "collapsed": false
   }
  },
  {
   "cell_type": "code",
   "execution_count": 38,
   "outputs": [
    {
     "name": "stdout",
     "output_type": "stream",
     "text": [
      "+---+------+--------------+------+--------+------+--------------------+\n",
      "|age|gender|          name|course|roll_num|grades|               email|\n",
      "+---+------+--------------+------+--------+------+--------------------+\n",
      "| 28|  Male|Celeste Lollis|    PF|   21267|    45|Jeannetta Golden_...|\n",
      "| 28|  Male|Celeste Lollis|   MVC|   81492|    64|Nicole Harwood_Cl...|\n",
      "| 29|  Male|Loris Crossett|   MVC|  161771|    36|Mitzi Seldon_Jenn...|\n",
      "| 29|Female|Loris Crossett|    PF|  201487|    96|Elenore Choy_Lati...|\n",
      "| 28|Female|Loris Crossett|    PF|  332739|    62|Michelle Ruggiero...|\n",
      "+---+------+--------------+------+--------+------+--------------------+\n",
      "only showing top 5 rows\n",
      "\n"
     ]
    }
   ],
   "source": [
    "# like the SQL like operator\n",
    "# \"_\" matches any single character and \"%\" matches any sequence of characters\n",
    "df_students.filter(df_students.name.like('%s_e%')).show(5)"
   ],
   "metadata": {
    "collapsed": false
   }
  },
  {
   "cell_type": "markdown",
   "source": [
    "# .count() .distinct() .dropDuplicates()"
   ],
   "metadata": {
    "collapsed": false
   }
  },
  {
   "cell_type": "code",
   "execution_count": 40,
   "outputs": [
    {
     "data": {
      "text/plain": "157"
     },
     "execution_count": 40,
     "metadata": {},
     "output_type": "execute_result"
    }
   ],
   "source": [
    "# .count()\n",
    "df_students.filter(df_students.course == 'DB').count()"
   ],
   "metadata": {
    "collapsed": false
   }
  },
  {
   "cell_type": "code",
   "execution_count": 41,
   "outputs": [
    {
     "data": {
      "text/plain": "1000"
     },
     "execution_count": 41,
     "metadata": {},
     "output_type": "execute_result"
    }
   ],
   "source": [
    "# how many distinct rows are there?\n",
    "df_students.distinct().count()"
   ],
   "metadata": {
    "collapsed": false
   }
  },
  {
   "cell_type": "code",
   "execution_count": 44,
   "outputs": [
    {
     "data": {
      "text/plain": "4"
     },
     "metadata": {},
     "output_type": "display_data"
    },
    {
     "name": "stdout",
     "output_type": "stream",
     "text": [
      "+------+---+\n",
      "|gender|age|\n",
      "+------+---+\n",
      "|Female| 29|\n",
      "|Female| 28|\n",
      "|  Male| 28|\n",
      "|  Male| 29|\n",
      "+------+---+\n",
      "\n"
     ]
    }
   ],
   "source": [
    "# distinct will return the selected columns\n",
    "display(df_students.select('gender', 'age').distinct().count())\n",
    "df_students.select('gender', 'age').distinct().show()"
   ],
   "metadata": {
    "collapsed": false
   }
  },
  {
   "cell_type": "code",
   "execution_count": 45,
   "outputs": [
    {
     "name": "stdout",
     "output_type": "stream",
     "text": [
      "+---+------+----------------+------+--------+------+--------------------+\n",
      "|age|gender|            name|course|roll_num|grades|               email|\n",
      "+---+------+----------------+------+--------+------+--------------------+\n",
      "| 29|Female|Toshiko Hillyard| Cloud|   12899|    62|Margene Moores_Ma...|\n",
      "| 28|Female| Hubert Oliveras|    DB|   02984|    59|Annika Hoffman_Na...|\n",
      "| 29|Female|       Kena Wild|   DSA|  102285|    35|Dustin Feagins_Ma...|\n",
      "| 29|Female|  Latia Vanhoose|   MVC|  132110|    55|Eda Neathery_Nico...|\n",
      "| 28|Female|  Alberta Freund|   OOP|  251805|    83|Annika Hoffman_Sh...|\n",
      "| 29|Female|  Loris Crossett|    PF|  201487|    96|Elenore Choy_Lati...|\n",
      "| 29|  Male|     Billi Clore| Cloud|  512047|    76|Taryn Brownlee_Ju...|\n",
      "| 29|  Male| Ernest Rossbach|    DB|  111449|    53|Maybell Duguay_Ab...|\n",
      "| 28|  Male|  Sheryll Towler|   DSA|   41487|    41|Claude Panos_Judi...|\n",
      "| 28|  Male|  Margene Moores|   MVC|   52771|    32|Toshiko Hillyard_...|\n",
      "| 28|  Male|     Neda Briski|   OOP|   61973|    69|Alberta Freund_El...|\n",
      "| 28|  Male|  Celeste Lollis|    PF|   21267|    45|Jeannetta Golden_...|\n",
      "+---+------+----------------+------+--------+------+--------------------+\n",
      "\n"
     ]
    }
   ],
   "source": [
    "# get the rows with the first combination\n",
    "df_students.drop_duplicates(['gender', 'course']).show()"
   ],
   "metadata": {
    "collapsed": false
   }
  },
  {
   "cell_type": "markdown",
   "source": [
    "# .orderBy() .sort()"
   ],
   "metadata": {
    "collapsed": false
   }
  },
  {
   "cell_type": "code",
   "execution_count": 46,
   "outputs": [
    {
     "name": "stdout",
     "output_type": "stream",
     "text": [
      "+---+------+-----------------+------+--------+------+--------------------+\n",
      "|age|gender|             name|course|roll_num|grades|               email|\n",
      "+---+------+-----------------+------+--------+------+--------------------+\n",
      "| 29|Female|   Tamera Blakley|   DSA| 3911247|    20|Donna Yerby_Bonit...|\n",
      "| 29|Female|Michelle Ruggiero|    DB| 9232210|    20|Donna Yerby_Latia...|\n",
      "| 28|  Male|  Marylee Capasso|   DSA| 2081560|    20|Sheryll Towler_Do...|\n",
      "| 29|Female|  Gonzalo Ferebee|   DSA| 5631172|    20|Jeannetta Golden_...|\n",
      "| 29|  Male|Michelle Ruggiero|    PF| 6001585|    20|Paris Hutton_Marg...|\n",
      "+---+------+-----------------+------+--------+------+--------------------+\n",
      "only showing top 5 rows\n",
      "\n"
     ]
    }
   ],
   "source": [
    "df_students.sort(\"grades\").show(5)"
   ],
   "metadata": {
    "collapsed": false
   }
  },
  {
   "cell_type": "code",
   "execution_count": 47,
   "outputs": [
    {
     "name": "stdout",
     "output_type": "stream",
     "text": [
      "+---+------+---------------+------+--------+------+--------------------+\n",
      "|age|gender|           name|course|roll_num|grades|               email|\n",
      "+---+------+---------------+------+--------+------+--------------------+\n",
      "| 28|Female| Maybell Duguay| Cloud|  261439|    20|Nicole Harwood_Ju...|\n",
      "| 28|Female|   Jc Andrepont|    PF|  972733|    20|Eda Neathery_Eda ...|\n",
      "| 28|  Male|Marylee Capasso|   DSA| 2081560|    20|Sheryll Towler_Do...|\n",
      "| 29|  Male|   Elenore Choy|    DB| 3652057|    20|Jc Andrepont_Gonz...|\n",
      "| 29|Female| Tamera Blakley|   DSA| 3911247|    20|Donna Yerby_Bonit...|\n",
      "+---+------+---------------+------+--------+------+--------------------+\n",
      "only showing top 5 rows\n",
      "\n"
     ]
    }
   ],
   "source": [
    "df_students.sort(\"grades\", \"age\").show(5)"
   ],
   "metadata": {
    "collapsed": false
   }
  },
  {
   "cell_type": "code",
   "execution_count": 48,
   "outputs": [
    {
     "name": "stdout",
     "output_type": "stream",
     "text": [
      "+---+------+---------------+------+--------+------+--------------------+\n",
      "|age|gender|           name|course|roll_num|grades|               email|\n",
      "+---+------+---------------+------+--------+------+--------------------+\n",
      "| 28|  Male|Marylee Capasso|   DSA| 2081560|    20|Sheryll Towler_Do...|\n",
      "| 29|Female| Tamera Blakley|   DSA| 3911247|    20|Donna Yerby_Bonit...|\n",
      "| 28|Female| Maybell Duguay| Cloud|  261439|    20|Nicole Harwood_Ju...|\n",
      "| 28|Female|   Jc Andrepont|    PF|  972733|    20|Eda Neathery_Eda ...|\n",
      "| 29|  Male|   Elenore Choy|    DB| 3652057|    20|Jc Andrepont_Gonz...|\n",
      "+---+------+---------------+------+--------+------+--------------------+\n",
      "only showing top 5 rows\n",
      "\n"
     ]
    }
   ],
   "source": [
    "df_students.orderBy(\"grades\").show(5)"
   ],
   "metadata": {
    "collapsed": false
   }
  },
  {
   "cell_type": "code",
   "execution_count": 49,
   "outputs": [
    {
     "name": "stdout",
     "output_type": "stream",
     "text": [
      "+---+------+-----------------+------+--------+------+--------------------+\n",
      "|age|gender|             name|course|roll_num|grades|               email|\n",
      "+---+------+-----------------+------+--------+------+--------------------+\n",
      "| 28|Female|   Melani Engberg| Cloud| 1872667|    99|Alberta Freund_Ni...|\n",
      "| 29|  Male|   Maybell Duguay|    PF|  701486|    99|Clementina Menke_...|\n",
      "| 29|Female|     Paris Hutton|   DSA|  271472|    99|Sheryll Towler_Al...|\n",
      "| 29|  Male|Michelle Ruggiero|   DSA| 1022971|    99|Cordie Harnois_Cl...|\n",
      "+---+------+-----------------+------+--------+------+--------------------+\n",
      "only showing top 4 rows\n",
      "\n"
     ]
    }
   ],
   "source": [
    "df_students.sort(col(\"grades\").desc()).show(4)"
   ],
   "metadata": {
    "collapsed": false
   }
  },
  {
   "cell_type": "code",
   "execution_count": 51,
   "outputs": [
    {
     "name": "stdout",
     "output_type": "stream",
     "text": [
      "+---+------+-----------------+------+--------+------+--------------------+\n",
      "|age|gender|             name|course|roll_num|grades|               email|\n",
      "+---+------+-----------------+------+--------+------+--------------------+\n",
      "| 29|Female|   Tamera Blakley|   DSA| 3911247|    20|Donna Yerby_Bonit...|\n",
      "| 29|Female|Michelle Ruggiero|    DB| 9232210|    20|Donna Yerby_Latia...|\n",
      "| 29|  Male|     Elenore Choy|    DB| 3652057|    20|Jc Andrepont_Gonz...|\n",
      "| 29|Female|  Gonzalo Ferebee|   DSA| 5631172|    20|Jeannetta Golden_...|\n",
      "| 29|  Male|Michelle Ruggiero|    PF| 6001585|    20|Paris Hutton_Marg...|\n",
      "+---+------+-----------------+------+--------+------+--------------------+\n",
      "only showing top 5 rows\n",
      "\n"
     ]
    }
   ],
   "source": [
    "# sort grades by ascending and age by descending\n",
    "df_students.sort(df_students.grades.asc(), df_students.age.desc()).show(5)"
   ],
   "metadata": {
    "collapsed": false
   }
  },
  {
   "cell_type": "markdown",
   "source": [
    "# .groupBy() .agg()"
   ],
   "metadata": {
    "collapsed": false
   }
  },
  {
   "cell_type": "code",
   "execution_count": 52,
   "outputs": [
    {
     "name": "stdout",
     "output_type": "stream",
     "text": [
      "+---+------+----------------+------+--------+------+--------------------+\n",
      "|age|gender|            name|course|roll_num|grades|               email|\n",
      "+---+------+----------------+------+--------+------+--------------------+\n",
      "| 28|Female| Hubert Oliveras|    DB|   02984|    59|Annika Hoffman_Na...|\n",
      "| 29|Female|Toshiko Hillyard| Cloud|   12899|    62|Margene Moores_Ma...|\n",
      "| 28|  Male|  Celeste Lollis|    PF|   21267|    45|Jeannetta Golden_...|\n",
      "| 29|Female|    Elenore Choy|    DB|   32877|    29|Billi Clore_Mitzi...|\n",
      "+---+------+----------------+------+--------+------+--------------------+\n",
      "only showing top 4 rows\n",
      "\n"
     ]
    }
   ],
   "source": [
    "df_students.show(4)"
   ],
   "metadata": {
    "collapsed": false
   }
  },
  {
   "cell_type": "code",
   "execution_count": 56,
   "outputs": [
    {
     "name": "stdout",
     "output_type": "stream",
     "text": [
      "+------+-----------+\n",
      "|gender|sum(grades)|\n",
      "+------+-----------+\n",
      "|Female|      29636|\n",
      "|  Male|      30461|\n",
      "+------+-----------+\n",
      "\n"
     ]
    }
   ],
   "source": [
    "df_students.groupBy(\"gender\").sum(\"grades\").show()"
   ],
   "metadata": {
    "collapsed": false
   }
  },
  {
   "cell_type": "code",
   "execution_count": 54,
   "outputs": [
    {
     "name": "stdout",
     "output_type": "stream",
     "text": [
      "+------+-----+\n",
      "|course|count|\n",
      "+------+-----+\n",
      "|    PF|  166|\n",
      "|    DB|  157|\n",
      "|   MVC|  157|\n",
      "|   DSA|  176|\n",
      "| Cloud|  192|\n",
      "|   OOP|  152|\n",
      "+------+-----+\n",
      "\n"
     ]
    }
   ],
   "source": [
    "# group df_students by course and count\n",
    "df_students.groupBy(\"course\").count().show()"
   ],
   "metadata": {
    "collapsed": false
   }
  },
  {
   "cell_type": "code",
   "execution_count": 57,
   "outputs": [
    {
     "name": "stdout",
     "output_type": "stream",
     "text": [
      "+------+-----------+\n",
      "|gender|max(grades)|\n",
      "+------+-----------+\n",
      "|Female|         99|\n",
      "|  Male|         99|\n",
      "+------+-----------+\n",
      "\n"
     ]
    }
   ],
   "source": [
    "df_students.groupBy('gender').max('grades').show()"
   ],
   "metadata": {
    "collapsed": false
   }
  },
  {
   "cell_type": "code",
   "execution_count": 58,
   "outputs": [
    {
     "name": "stdout",
     "output_type": "stream",
     "text": [
      "+------+-----------+\n",
      "|gender|min(grades)|\n",
      "+------+-----------+\n",
      "|Female|         20|\n",
      "|  Male|         20|\n",
      "+------+-----------+\n",
      "\n"
     ]
    }
   ],
   "source": [
    "df_students.groupBy('gender').min('grades').show()"
   ],
   "metadata": {
    "collapsed": false
   }
  },
  {
   "cell_type": "code",
   "execution_count": 59,
   "outputs": [
    {
     "name": "stdout",
     "output_type": "stream",
     "text": [
      "+---+------------------+\n",
      "|age|       avg(grades)|\n",
      "+---+------------------+\n",
      "| 28|60.487854251012145|\n",
      "| 29|59.715415019762844|\n",
      "+---+------------------+\n",
      "\n"
     ]
    }
   ],
   "source": [
    "df_students.groupBy('age').avg('grades').show()"
   ],
   "metadata": {
    "collapsed": false
   }
  },
  {
   "cell_type": "code",
   "execution_count": 60,
   "outputs": [
    {
     "name": "stdout",
     "output_type": "stream",
     "text": [
      "+---+------+------------------+\n",
      "|age|gender|       avg(grades)|\n",
      "+---+------+------------------+\n",
      "| 28|Female|       59.44140625|\n",
      "| 29|  Male|60.524904214559385|\n",
      "| 29|Female| 58.85306122448979|\n",
      "| 28|  Male| 61.61344537815126|\n",
      "+---+------+------------------+\n",
      "\n"
     ]
    }
   ],
   "source": [
    "df_students.groupBy('age', 'gender').avg('grades').show()"
   ],
   "metadata": {
    "collapsed": false
   }
  },
  {
   "cell_type": "code",
   "execution_count": 67,
   "outputs": [
    {
     "name": "stdout",
     "output_type": "stream",
     "text": [
      "+---+------+------+-------------+---------+---------+---------+\n",
      "|age|gender|course|student_count|grade_sum|max_grade|min_grade|\n",
      "+---+------+------+-------------+---------+---------+---------+\n",
      "| 28|  Male| Cloud|           43|     2641|       97|       21|\n",
      "| 28|Female|    DB|           40|     2261|       88|       24|\n",
      "| 28|Female|   MVC|           34|     2094|       99|       24|\n",
      "| 29|  Male|    PF|           53|     3055|       99|       20|\n",
      "| 28|Female|   OOP|           43|     2408|       99|       24|\n",
      "| 29|Female| Cloud|           49|     3149|       98|       24|\n",
      "| 29|  Male| Cloud|           43|     2486|       88|       21|\n",
      "| 29|Female|   DSA|           51|     2969|       99|       20|\n",
      "| 29|  Male|   OOP|           35|     2146|       97|       20|\n",
      "| 29|  Male|    DB|           40|     2515|       98|       20|\n",
      "| 28|Female|    PF|           35|     2132|       98|       20|\n",
      "| 29|Female|   MVC|           37|     2250|       97|       22|\n",
      "| 29|Female|    DB|           35|     1936|       96|       20|\n",
      "| 28|  Male|    PF|           44|     2905|       97|       22|\n",
      "| 29|  Male|   DSA|           42|     2612|       99|       22|\n",
      "| 28|Female| Cloud|           57|     3167|       99|       20|\n",
      "| 29|Female|   OOP|           39|     2274|       99|       21|\n",
      "| 29|  Male|   MVC|           48|     2983|       99|       22|\n",
      "| 28|  Male|   OOP|           35|     2088|       99|       23|\n",
      "| 28|  Male|   DSA|           36|     2214|       99|       20|\n",
      "+---+------+------+-------------+---------+---------+---------+\n",
      "only showing top 20 rows\n",
      "\n"
     ]
    }
   ],
   "source": [
    "df_students.groupBy('age', 'gender', 'course') \\\n",
    "    .agg(count(\"*\").alias('student_count'),\n",
    "         sum(\"grades\").alias(\"grade_sum\"),\n",
    "         max(\"grades\").alias(\"max_grade\"),\n",
    "         min(\"grades\").alias(\"min_grade\")).show()"
   ],
   "metadata": {
    "collapsed": false
   }
  },
  {
   "cell_type": "code",
   "execution_count": 68,
   "outputs": [
    {
     "name": "stdout",
     "output_type": "stream",
     "text": [
      "+-------------+----------+-----+------+---+-----+\n",
      "|employee_name|department|state|salary|age|bonus|\n",
      "+-------------+----------+-----+------+---+-----+\n",
      "|        James|     Sales|   NY| 90000| 34|10000|\n",
      "|      Michael|     Sales|   NY| 86000| 56|20000|\n",
      "|       Robert|     Sales|   CA| 81000| 30|23000|\n",
      "|        Maria|   Finance|   CA| 90000| 24|23000|\n",
      "+-------------+----------+-----+------+---+-----+\n",
      "only showing top 4 rows\n",
      "\n"
     ]
    }
   ],
   "source": [
    "df_office = spark.read.options(header=True).csv('data/office.csv')\n",
    "df_office.show(4)"
   ],
   "metadata": {
    "collapsed": false
   }
  },
  {
   "cell_type": "code",
   "execution_count": 69,
   "outputs": [
    {
     "name": "stdout",
     "output_type": "stream",
     "text": [
      "+----------+-----+\n",
      "|department|count|\n",
      "+----------+-----+\n",
      "|     Sales|    3|\n",
      "|   Finance|    4|\n",
      "| Marketing|    2|\n",
      "+----------+-----+\n",
      "\n"
     ]
    }
   ],
   "source": [
    "# count df_office by department\n",
    "df_office.groupBy('department').count().show()"
   ],
   "metadata": {
    "collapsed": false
   }
  },
  {
   "cell_type": "code",
   "execution_count": 70,
   "outputs": [
    {
     "name": "stdout",
     "output_type": "stream",
     "text": [
      "+------+-----+\n",
      "|gender|count|\n",
      "+------+-----+\n",
      "|  Male|  499|\n",
      "+------+-----+\n",
      "\n"
     ]
    }
   ],
   "source": [
    "df_students.filter(df_students.gender == 'Male').groupBy('gender').count().show()"
   ],
   "metadata": {
    "collapsed": false
   }
  },
  {
   "cell_type": "code",
   "execution_count": 72,
   "outputs": [
    {
     "name": "stdout",
     "output_type": "stream",
     "text": [
      "+------+------+-----------------+\n",
      "|course|gender|total_enrollments|\n",
      "+------+------+-----------------+\n",
      "|   MVC|  Male|               86|\n",
      "|    PF|  Male|               97|\n",
      "| Cloud|  Male|               86|\n",
      "+------+------+-----------------+\n",
      "\n"
     ]
    }
   ],
   "source": [
    "# filter > group by > having\n",
    "df_students.filter(df_students.gender == 'Male').groupBy('course', 'gender') \\\n",
    "    .agg(count('*').alias('total_enrollments')) \\\n",
    "    .where(col('total_enrollments') > 85).show()"
   ],
   "metadata": {
    "collapsed": false
   }
  },
  {
   "cell_type": "markdown",
   "source": [
    "# UDFs"
   ],
   "metadata": {
    "collapsed": false
   }
  },
  {
   "cell_type": "code",
   "execution_count": 77,
   "outputs": [
    {
     "name": "stdout",
     "output_type": "stream",
     "text": [
      "root\n",
      " |-- employee_name: string (nullable = true)\n",
      " |-- department: string (nullable = true)\n",
      " |-- state: string (nullable = true)\n",
      " |-- salary: string (nullable = true)\n",
      " |-- age: string (nullable = true)\n",
      " |-- bonus: string (nullable = true)\n",
      "\n"
     ]
    }
   ],
   "source": [
    "df_office.printSchema()"
   ],
   "metadata": {
    "collapsed": false
   }
  },
  {
   "cell_type": "code",
   "execution_count": 79,
   "outputs": [
    {
     "name": "stdout",
     "output_type": "stream",
     "text": [
      "root\n",
      " |-- employee_name: string (nullable = true)\n",
      " |-- department: string (nullable = true)\n",
      " |-- state: string (nullable = true)\n",
      " |-- salary: integer (nullable = true)\n",
      " |-- age: string (nullable = true)\n",
      " |-- bonus: integer (nullable = true)\n",
      "\n"
     ]
    }
   ],
   "source": [
    "# convert the df_office salary and bonus columns to integer\n",
    "df_office = df_office.withColumn('salary', col('salary').cast('Int')) \\\n",
    "    .withColumn('bonus', col('bonus').cast('Int'))\n",
    "df_office.printSchema()"
   ],
   "metadata": {
    "collapsed": false
   }
  },
  {
   "cell_type": "markdown",
   "source": [],
   "metadata": {
    "collapsed": false
   }
  },
  {
   "cell_type": "markdown",
   "source": [
    "## get_total_salary() example"
   ],
   "metadata": {
    "collapsed": false
   }
  },
  {
   "cell_type": "code",
   "execution_count": 80,
   "outputs": [
    {
     "name": "stdout",
     "output_type": "stream",
     "text": [
      "+-------------+----------+-----+------+---+-----+------------+\n",
      "|employee_name|department|state|salary|age|bonus|total_salary|\n",
      "+-------------+----------+-----+------+---+-----+------------+\n",
      "|        James|     Sales|   NY| 90000| 34|10000|      100000|\n",
      "|      Michael|     Sales|   NY| 86000| 56|20000|      106000|\n",
      "|       Robert|     Sales|   CA| 81000| 30|23000|      104000|\n",
      "|        Maria|   Finance|   CA| 90000| 24|23000|      113000|\n",
      "+-------------+----------+-----+------+---+-----+------------+\n",
      "only showing top 4 rows\n",
      "\n"
     ]
    }
   ],
   "source": [
    "def get_total_salary(salary, bonus):\n",
    "    return salary + bonus\n",
    "\n",
    "\n",
    "get_total_salary_udf = udf(\n",
    "    lambda salary, bonus: get_total_salary(salary, bonus), IntegerType())\n",
    "\n",
    "df_office.withColumn('total_salary', get_total_salary_udf(col('salary'), col('bonus'))).show(4)"
   ],
   "metadata": {
    "collapsed": false
   }
  },
  {
   "cell_type": "markdown",
   "source": [
    "# DF to RDD"
   ],
   "metadata": {
    "collapsed": false
   }
  },
  {
   "cell_type": "code",
   "execution_count": 81,
   "outputs": [
    {
     "data": {
      "text/plain": "pyspark.sql.dataframe.DataFrame"
     },
     "execution_count": 81,
     "metadata": {},
     "output_type": "execute_result"
    }
   ],
   "source": [
    "type(df_students)"
   ],
   "metadata": {
    "collapsed": false
   }
  },
  {
   "cell_type": "code",
   "execution_count": 82,
   "outputs": [
    {
     "data": {
      "text/plain": "pyspark.rdd.RDD"
     },
     "execution_count": 82,
     "metadata": {},
     "output_type": "execute_result"
    }
   ],
   "source": [
    "rdd_students = df_students.rdd\n",
    "type(rdd_students)"
   ],
   "metadata": {
    "collapsed": false
   }
  },
  {
   "cell_type": "code",
   "execution_count": 87,
   "outputs": [
    {
     "data": {
      "text/plain": "[Row(age=28, gender='Female', name='Hubert Oliveras', course='DB', roll_num='02984', grades=59, email='Annika Hoffman_Naoma Fritts@OOP.com'),\n Row(age=29, gender='Female', name='Toshiko Hillyard', course='Cloud', roll_num='12899', grades=62, email='Margene Moores_Marylee Capasso@DB.com'),\n Row(age=28, gender='Male', name='Celeste Lollis', course='PF', roll_num='21267', grades=45, email='Jeannetta Golden_Jenna Montague@DSA.com'),\n Row(age=29, gender='Female', name='Elenore Choy', course='DB', roll_num='32877', grades=29, email='Billi Clore_Mitzi Seldon@DB.com'),\n Row(age=28, gender='Male', name='Sheryll Towler', course='DSA', roll_num='41487', grades=41, email='Claude Panos_Judie Chipps@OOP.com')]"
     },
     "execution_count": 87,
     "metadata": {},
     "output_type": "execute_result"
    }
   ],
   "source": [
    "# rdd_students.collect()[0:5]\n",
    "rdd_students.take(5)"
   ],
   "metadata": {
    "collapsed": false
   }
  },
  {
   "cell_type": "code",
   "execution_count": 90,
   "outputs": [
    {
     "data": {
      "text/plain": "[Row(age=28, gender='Female', name='Hubert Oliveras', course='DB', roll_num='02984', grades=59, email='Annika Hoffman_Naoma Fritts@OOP.com'),\n Row(age=29, gender='Female', name='Elenore Choy', course='DB', roll_num='32877', grades=29, email='Billi Clore_Mitzi Seldon@DB.com'),\n Row(age=28, gender='Female', name='Latia Vanhoose', course='DB', roll_num='122502', grades=27, email='Latia Vanhoose_Mitzi Seldon@OOP.com'),\n Row(age=29, gender='Female', name='Latia Vanhoose', course='DB', roll_num='152159', grades=27, email='Claude Panos_Santa Kerfien@DB.com'),\n Row(age=28, gender='Female', name='Mickey Cortright', course='DB', roll_num='192537', grades=62, email='Ernest Rossbach_Marylee Capasso@Cloud.com')]"
     },
     "execution_count": 90,
     "metadata": {},
     "output_type": "execute_result"
    }
   ],
   "source": [
    "# filter rdd_students for female students\n",
    "# rdd_students.filter(lambda row: (row[1] == 'Female' and row[3] == 'DB')).take(5)\n",
    "rdd_students.filter(lambda row: (row['gender'] == 'Female' and row['course'] == 'DB')).take(5)"
   ],
   "metadata": {
    "collapsed": false
   }
  },
  {
   "cell_type": "markdown",
   "source": [
    "# Spark SQL"
   ],
   "metadata": {
    "collapsed": false
   }
  },
  {
   "cell_type": "code",
   "execution_count": 91,
   "outputs": [],
   "source": [
    "df_students.createOrReplaceTempView('students')"
   ],
   "metadata": {
    "collapsed": false
   }
  },
  {
   "cell_type": "code",
   "execution_count": 97,
   "outputs": [
    {
     "name": "stdout",
     "output_type": "stream",
     "text": [
      "+------+------+\n",
      "|gender|course|\n",
      "+------+------+\n",
      "|Female| Cloud|\n",
      "|Female|    DB|\n",
      "|  Male|   OOP|\n",
      "|Female|   DSA|\n",
      "+------+------+\n",
      "only showing top 4 rows\n",
      "\n"
     ]
    }
   ],
   "source": [
    "# Spark SQL version\n",
    "spark.sql('select gender, course from students where age > 28').show(4)"
   ],
   "metadata": {
    "collapsed": false
   }
  },
  {
   "cell_type": "code",
   "execution_count": 98,
   "outputs": [
    {
     "name": "stdout",
     "output_type": "stream",
     "text": [
      "+------+------+\n",
      "|gender|course|\n",
      "+------+------+\n",
      "|Female| Cloud|\n",
      "|Female|    DB|\n",
      "|  Male|   OOP|\n",
      "|Female|   DSA|\n",
      "+------+------+\n",
      "only showing top 4 rows\n",
      "\n"
     ]
    }
   ],
   "source": [
    "# Spark DataFrame version\n",
    "df_students.select(\"gender\", \"course\").filter(col(\"age\") > 28).show(4)"
   ],
   "metadata": {
    "collapsed": false
   }
  },
  {
   "cell_type": "code",
   "execution_count": 102,
   "outputs": [
    {
     "name": "stdout",
     "output_type": "stream",
     "text": [
      "+------+------+-----------------+\n",
      "|course|gender|total_enrollments|\n",
      "+------+------+-----------------+\n",
      "| Cloud|  Male|               86|\n",
      "| Cloud|Female|              106|\n",
      "|    DB|  Male|               82|\n",
      "|    DB|Female|               75|\n",
      "|   DSA|Female|               98|\n",
      "|   DSA|  Male|               78|\n",
      "|   MVC|Female|               71|\n",
      "|   MVC|  Male|               86|\n",
      "|   OOP|  Male|               70|\n",
      "|   OOP|Female|               82|\n",
      "|    PF|  Male|               97|\n",
      "|    PF|Female|               69|\n",
      "+------+------+-----------------+\n",
      "\n"
     ]
    }
   ],
   "source": [
    "df_students_agg = spark.sql('select course, gender, count(*) as total_enrollments from students group by course, gender order by course')\n",
    "df_students_agg.show()"
   ],
   "metadata": {
    "collapsed": false
   }
  },
  {
   "cell_type": "markdown",
   "source": [
    "# Write to an output file"
   ],
   "metadata": {
    "collapsed": false
   }
  },
  {
   "cell_type": "code",
   "execution_count": 103,
   "outputs": [],
   "source": [
    "df_students_agg.write.csv('data/students_agg.csv', header=True)"
   ],
   "metadata": {
    "collapsed": false
   }
  },
  {
   "cell_type": "code",
   "execution_count": 105,
   "outputs": [],
   "source": [
    "df_students.write.csv('data/df_students.csv', header=True)"
   ],
   "metadata": {
    "collapsed": false
   }
  },
  {
   "cell_type": "code",
   "execution_count": 106,
   "outputs": [
    {
     "data": {
      "text/plain": "2"
     },
     "execution_count": 106,
     "metadata": {},
     "output_type": "execute_result"
    }
   ],
   "source": [
    "df_students.rdd.getNumPartitions()"
   ],
   "metadata": {
    "collapsed": false
   }
  },
  {
   "cell_type": "code",
   "execution_count": 107,
   "outputs": [
    {
     "data": {
      "text/plain": "1000"
     },
     "metadata": {},
     "output_type": "display_data"
    },
    {
     "name": "stdout",
     "output_type": "stream",
     "text": [
      "+------+-----+\n",
      "|course|count|\n",
      "+------+-----+\n",
      "|    PF|  166|\n",
      "|    DB|  157|\n",
      "|   MVC|  157|\n",
      "|   DSA|  176|\n",
      "| Cloud|  192|\n",
      "|   OOP|  152|\n",
      "+------+-----+\n",
      "\n"
     ]
    }
   ],
   "source": [
    "# read the df_students.csv output back\n",
    "df_re_students = spark.read.options(header=True).csv('data/df_students.csv/')\n",
    "display(df_re_students.count())\n",
    "# count df_re_students by course\n",
    "df_re_students.groupBy('course').count().show()"
   ],
   "metadata": {
    "collapsed": false
   }
  },
  {
   "cell_type": "code",
   "execution_count": 108,
   "outputs": [],
   "source": [
    "'''\n",
    "The write modes\n",
    "- append\n",
    "- overwrite\n",
    "- error\n",
    "- errorifexists\n",
    "- ignore\n",
    "'''\n",
    "df_students.write.csv('data/df_students.csv', header=True, mode='overwrite')"
   ],
   "metadata": {
    "collapsed": false
   }
  },
  {
   "cell_type": "code",
   "execution_count": null,
   "outputs": [],
   "source": [],
   "metadata": {
    "collapsed": false
   }
  }
 ],
 "metadata": {
  "kernelspec": {
   "display_name": "Python 3",
   "language": "python",
   "name": "python3"
  },
  "language_info": {
   "codemirror_mode": {
    "name": "ipython",
    "version": 2
   },
   "file_extension": ".py",
   "mimetype": "text/x-python",
   "name": "python",
   "nbconvert_exporter": "python",
   "pygments_lexer": "ipython2",
   "version": "2.7.6"
  }
 },
 "nbformat": 4,
 "nbformat_minor": 0
}

{
 "cells": [
  {
   "cell_type": "markdown",
   "source": [
    "# Imports"
   ],
   "metadata": {
    "collapsed": false
   }
  },
  {
   "cell_type": "code",
   "execution_count": 22,
   "metadata": {
    "collapsed": true
   },
   "outputs": [],
   "source": [
    "from pyspark.sql import SparkSession\n",
    "from pyspark.sql.types import StructType, StructField, StringType, IntegerType\n",
    "from pyspark.sql.functions import col, lit, sum, avg, max, min, mean, count, udf, when\n",
    "from pyspark import SparkConf, SparkContext"
   ]
  },
  {
   "cell_type": "code",
   "execution_count": 2,
   "outputs": [],
   "source": [
    "spark = SparkSession.builder.appName(\"SparkSQL\").getOrCreate()"
   ],
   "metadata": {
    "collapsed": false
   }
  },
  {
   "cell_type": "code",
   "execution_count": 4,
   "outputs": [
    {
     "name": "stdout",
     "output_type": "stream",
     "text": [
      "+-----------+-----------------+----------+-----+------+---+-----+\n",
      "|employee_id|    employee_name|department|state|salary|age|bonus|\n",
      "+-----------+-----------------+----------+-----+------+---+-----+\n",
      "|       1000|        Nitz Leif| Marketing|   CA|  6131| 26|  543|\n",
      "|       1001|  Melissia Dedman|   Finance|   AK|  4027| 43| 1290|\n",
      "|       1002|Rudolph Barringer|        HR|   LA|  3122| 43| 1445|\n",
      "|       1003|      Tamra Amber|  Accounts|   AK|  5717| 47| 1291|\n",
      "+-----------+-----------------+----------+-----+------+---+-----+\n",
      "only showing top 4 rows\n",
      "\n"
     ]
    }
   ],
   "source": [
    "df_office_project = spark.read.csv(\"data/office_project.csv\", header=True, inferSchema=True)\n",
    "df_office_project.show(4)"
   ],
   "metadata": {
    "collapsed": false
   }
  },
  {
   "cell_type": "code",
   "execution_count": 5,
   "outputs": [
    {
     "data": {
      "text/plain": "1000"
     },
     "execution_count": 5,
     "metadata": {},
     "output_type": "execute_result"
    }
   ],
   "source": [
    "df_office_project.count()"
   ],
   "metadata": {
    "collapsed": false
   }
  },
  {
   "cell_type": "code",
   "execution_count": 6,
   "outputs": [
    {
     "name": "stdout",
     "output_type": "stream",
     "text": [
      "+----------+\n",
      "|department|\n",
      "+----------+\n",
      "|     Sales|\n",
      "|        HR|\n",
      "|   Finance|\n",
      "|Purchasing|\n",
      "| Marketing|\n",
      "|  Accounts|\n",
      "+----------+\n",
      "\n"
     ]
    }
   ],
   "source": [
    "df_office_project.select(\"department\").distinct().show()"
   ],
   "metadata": {
    "collapsed": false
   }
  },
  {
   "cell_type": "code",
   "execution_count": 8,
   "outputs": [
    {
     "data": {
      "text/plain": "6"
     },
     "metadata": {},
     "output_type": "display_data"
    },
    {
     "name": "stdout",
     "output_type": "stream",
     "text": [
      "+----------+\n",
      "|department|\n",
      "+----------+\n",
      "|     Sales|\n",
      "|        HR|\n",
      "|   Finance|\n",
      "|Purchasing|\n",
      "| Marketing|\n",
      "|  Accounts|\n",
      "+----------+\n",
      "\n"
     ]
    }
   ],
   "source": [
    "display(df_office_project.select(\"department\").distinct().count())\n",
    "df_office_project.select(\"department\").dropDuplicates([\"department\"]).show()"
   ],
   "metadata": {
    "collapsed": false
   }
  },
  {
   "cell_type": "code",
   "execution_count": 10,
   "outputs": [
    {
     "name": "stdout",
     "output_type": "stream",
     "text": [
      "+-----+--------------+----------+\n",
      "|state|employee_count|salary_sum|\n",
      "+-----+--------------+----------+\n",
      "|   WA|           208|   1121926|\n",
      "|   LA|           205|   1112424|\n",
      "|   CA|           205|   1105013|\n",
      "|   AK|           209|   1086468|\n",
      "|   NY|           173|    904113|\n",
      "+-----+--------------+----------+\n",
      "\n"
     ]
    }
   ],
   "source": [
    "df_office_project.groupBy(\"state\").agg(\n",
    "    count(\"state\").alias(\"employee_count\"), sum(\"salary\").alias(\"salary_sum\")\n",
    ").sort(col(\"salary_sum\").desc()).show()"
   ],
   "metadata": {
    "collapsed": false
   }
  },
  {
   "cell_type": "code",
   "execution_count": 11,
   "outputs": [
    {
     "name": "stdout",
     "output_type": "stream",
     "text": [
      "+----------+--------------+----------+\n",
      "|department|employee_count|salary_sum|\n",
      "+----------+--------------+----------+\n",
      "|        HR|           171|    988537|\n",
      "|     Sales|           169|    929430|\n",
      "| Marketing|           170|    881983|\n",
      "|Purchasing|           166|    852551|\n",
      "|  Accounts|           162|    841873|\n",
      "|   Finance|           162|    835570|\n",
      "+----------+--------------+----------+\n",
      "\n"
     ]
    }
   ],
   "source": [
    "df_office_project.groupBy(\"department\").agg(\n",
    "    count(\"state\").alias(\"employee_count\"), sum(\"salary\").alias(\"salary_sum\")\n",
    ").sort(col(\"salary_sum\").desc()).show()"
   ],
   "metadata": {
    "collapsed": false
   }
  },
  {
   "cell_type": "code",
   "execution_count": 13,
   "outputs": [
    {
     "name": "stdout",
     "output_type": "stream",
     "text": [
      "+-----+----------+--------------+----------+\n",
      "|state|department|employee_count|salary_sum|\n",
      "+-----+----------+--------------+----------+\n",
      "|   AK| Marketing|            42|    222636|\n",
      "|   AK|Purchasing|            30|    162663|\n",
      "|   AK|  Accounts|            37|    175763|\n",
      "|   AK|        HR|            25|    142949|\n",
      "|   AK|     Sales|            38|    198180|\n",
      "|   AK|   Finance|            37|    184277|\n",
      "|   CA|        HR|            28|    155708|\n",
      "|   CA| Marketing|            33|    169825|\n",
      "|   CA|Purchasing|            32|    161203|\n",
      "|   CA|     Sales|            42|    249432|\n",
      "|   CA|   Finance|            35|    200392|\n",
      "|   CA|  Accounts|            35|    168453|\n",
      "|   LA|     Sales|            35|    199421|\n",
      "|   LA|Purchasing|            45|    252488|\n",
      "|   LA|   Finance|            29|    131111|\n",
      "|   LA|  Accounts|            29|    161007|\n",
      "|   LA|        HR|            41|    235166|\n",
      "|   LA| Marketing|            26|    133231|\n",
      "|   NY|  Accounts|            34|    179785|\n",
      "|   NY|     Sales|            27|    132294|\n",
      "+-----+----------+--------------+----------+\n",
      "only showing top 20 rows\n",
      "\n"
     ]
    }
   ],
   "source": [
    "df_office_project.groupBy(\"state\", \"department\").agg(\n",
    "    count(\"state\").alias(\"employee_count\"), sum(\"salary\").alias(\"salary_sum\")\n",
    ").sort(col(\"state\").asc()).show()"
   ],
   "metadata": {
    "collapsed": false
   }
  },
  {
   "cell_type": "code",
   "execution_count": 15,
   "outputs": [
    {
     "name": "stdout",
     "output_type": "stream",
     "text": [
      "+----------+-----------+-----------+-----------------+\n",
      "|department|min(salary)|max(salary)|      avg(salary)|\n",
      "+----------+-----------+-----------+-----------------+\n",
      "|  Accounts|       1007|       9890|5196.746913580247|\n",
      "|   Finance|       1006|       9899| 5157.83950617284|\n",
      "|        HR|       1013|       9982|5780.918128654971|\n",
      "| Marketing|       1031|       9974|5188.135294117647|\n",
      "|Purchasing|       1105|       9985|5135.849397590361|\n",
      "|     Sales|       1103|       9982|5499.585798816568|\n",
      "+----------+-----------+-----------+-----------------+\n",
      "\n"
     ]
    }
   ],
   "source": [
    "df_office_project.groupBy(\"department\").agg(\n",
    "    min('salary'), max(\"salary\"), avg(\"salary\")\n",
    ").sort(col(\"department\").asc()).show()"
   ],
   "metadata": {
    "collapsed": false
   }
  },
  {
   "cell_type": "code",
   "execution_count": 18,
   "outputs": [
    {
     "data": {
      "text/plain": "float"
     },
     "metadata": {},
     "output_type": "display_data"
    },
    {
     "data": {
      "text/plain": "5226.086705202312"
     },
     "metadata": {},
     "output_type": "display_data"
    }
   ],
   "source": [
    "# select states in NY where avg salary is greater than the avg salary of NY\n",
    "avg_ny_salary = df_office_project.filter(col(\"state\") == \"NY\") \\\n",
    "    .groupBy(\"state\").agg(avg(\"salary\").alias(\"avg_salary\")) \\\n",
    "    .select('avg_salary').collect()[0]['avg_salary']\n",
    "\n",
    "display(type(avg_ny_salary))\n",
    "display(avg_ny_salary)"
   ],
   "metadata": {
    "collapsed": false
   }
  },
  {
   "cell_type": "code",
   "execution_count": 21,
   "outputs": [
    {
     "name": "stdout",
     "output_type": "stream",
     "text": [
      "+-----------+--------------------+----------+-----+------+---+-----+\n",
      "|employee_id|       employee_name|department|state|salary|age|bonus|\n",
      "+-----------+--------------------+----------+-----+------+---+-----+\n",
      "|       1079|       Grigg Debroah|   Finance|   NY|  5728| 28| 1146|\n",
      "|       1087|       Leif Lemaster|   Finance|   NY|  8642| 45| 1782|\n",
      "|       1100|Ellingsworth Meli...|   Finance|   NY|  7845| 32| 1358|\n",
      "|       1180|       Juliana Grigg|   Finance|   NY|  8178| 42| 1617|\n",
      "|       1286|        Kohn Vankirk|   Finance|   NY|  5754| 39| 1229|\n",
      "|       1301|     Melissia Katlyn|   Finance|   NY|  5731| 26|  525|\n",
      "|       1335|    Deandre Melissia|   Finance|   NY|  8898| 32|  513|\n",
      "|       1342|   Phylicia Antonina|   Finance|   NY|  8626| 30| 1857|\n",
      "|       1509|   Ellingsworth Nitz|   Finance|   NY|  7234| 45| 1004|\n",
      "|       1660|       Melissia Jere|   Finance|   NY|  9201| 21| 1533|\n",
      "|       1737|      Yukiko Kreamer|   Finance|   NY|  7396| 20| 1332|\n",
      "|       1738|      Nena Kensinger|   Finance|   NY|  8534| 41| 1610|\n",
      "|       1780|     Margret Reardon|   Finance|   NY|  9677| 47|  567|\n",
      "|       1845|      Stanford Luisa|   Finance|   NY|  8499| 47|  595|\n",
      "|       1854|      Kensinger Benz|   Finance|   NY|  7739| 28|  611|\n",
      "+-----------+--------------------+----------+-----+------+---+-----+\n",
      "\n"
     ]
    }
   ],
   "source": [
    "# select states in NY where avg salary is greater than the avg salary of NY\n",
    "# and the department is Finance\n",
    "df_office_project.filter(\n",
    "    (col(\"state\") == \"NY\") & (col('salary') > avg_ny_salary)\n",
    "    & (col('department') == 'Finance')).show()"
   ],
   "metadata": {
    "collapsed": false
   }
  },
  {
   "cell_type": "markdown",
   "source": [
    "# UDF"
   ],
   "metadata": {
    "collapsed": false
   }
  },
  {
   "cell_type": "code",
   "execution_count": null,
   "outputs": [],
   "source": [
    "# Raise the salaries $500 of all employees whose age is greater than 45\n",
    "df_office_project.withColumn(\"salary\",\n",
    "    when(col(\"age\") > 45, col(\"salary\") + 500).otherwise(col(\"salary\"))\n",
    ").show()"
   ],
   "metadata": {
    "collapsed": false
   }
  },
  {
   "cell_type": "code",
   "execution_count": 24,
   "outputs": [
    {
     "name": "stdout",
     "output_type": "stream",
     "text": [
      "+-----------+-------------------+----------+-----+------+---+-----+----------+\n",
      "|employee_id|      employee_name|department|state|salary|age|bonus|salary_inc|\n",
      "+-----------+-------------------+----------+-----+------+---+-----+----------+\n",
      "|       1000|          Nitz Leif| Marketing|   CA|  6131| 26|  543|      6131|\n",
      "|       1001|    Melissia Dedman|   Finance|   AK|  4027| 43| 1290|      4027|\n",
      "|       1002|  Rudolph Barringer|        HR|   LA|  3122| 43| 1445|      3122|\n",
      "|       1003|        Tamra Amber|  Accounts|   AK|  5717| 47| 1291|      6217|\n",
      "|       1004|        Mullan Nitz|Purchasing|   CA|  5685| 34| 1394|      5685|\n",
      "|       1005|      Zollner Karie|  Accounts|   CA|  2843| 27| 1078|      2843|\n",
      "|       1006|Kaczorowski Zollner|     Sales|   CA|  7201| 21| 1834|      7201|\n",
      "|       1007|      Nakano Locust| Marketing|   LA|  3444| 23| 1823|      3444|\n",
      "|       1008|  Recalde Kensinger|  Accounts|   LA|  3704| 48| 1330|      4204|\n",
      "|       1009|        Imai Hallie|  Accounts|   AK|  5061| 38| 1557|      5061|\n",
      "|       1010|    Debroah Gallman|  Accounts|   NY|  9308| 35|  817|      9308|\n",
      "|       1011|   Barringer Escoto|Purchasing|   WA|  1685| 49| 1706|      2185|\n",
      "|       1012|      Soules Coogan|  Accounts|   AK|  8330| 43| 1914|      8330|\n",
      "|       1013|      Luisa Suzanne|  Accounts|   CA|  1151| 37| 1095|      1151|\n",
      "|       1014|      Marvis Cobian|Purchasing|   NY|  5061| 41| 1765|      5061|\n",
      "|       1015|   Cobian Kensinger|     Sales|   LA|  1983| 21|  632|      1983|\n",
      "|       1016|      Gilma Margret| Marketing|   CA|  2919| 45| 1762|      2919|\n",
      "|       1017| Ellingsworth Ilana|  Accounts|   WA|  9614| 26| 1964|      9614|\n",
      "|       1018| Vankirk Jacquelyne|Purchasing|   NY|  8636| 47| 1192|      9136|\n",
      "|       1019|    Zollner Juliana|        HR|   NY|  9739| 30| 1119|      9739|\n",
      "+-----------+-------------------+----------+-----+------+---+-----+----------+\n",
      "only showing top 20 rows\n",
      "\n"
     ]
    }
   ],
   "source": [
    "def inc_salary(age, cur_salary):\n",
    "    if age > 45:\n",
    "        return cur_salary + 500\n",
    "    return cur_salary\n",
    "\n",
    "udf_inc_salary = udf(inc_salary, IntegerType())\n",
    "\n",
    "df_office_project.withColumn(\n",
    "    \"salary_inc\", udf_inc_salary(col(\"age\"), col(\"salary\"))).show()"
   ],
   "metadata": {
    "collapsed": false
   }
  },
  {
   "cell_type": "markdown",
   "source": [
    "# write / file output"
   ],
   "metadata": {
    "collapsed": false
   }
  },
  {
   "cell_type": "code",
   "execution_count": 25,
   "outputs": [
    {
     "data": {
      "text/plain": "1"
     },
     "execution_count": 25,
     "metadata": {},
     "output_type": "execute_result"
    }
   ],
   "source": [
    "# get number of partitions for df_office_project\n",
    "df_office_project.rdd.getNumPartitions()"
   ],
   "metadata": {
    "collapsed": false
   }
  },
  {
   "cell_type": "code",
   "execution_count": 26,
   "outputs": [],
   "source": [
    "# export all employees whose age is greater than 45 to a csv file\n",
    "df_office_project.filter(col(\"age\") > 45).write \\\n",
    "    .csv(\"data/office_project_gt_45.csv\")"
   ],
   "metadata": {
    "collapsed": false
   }
  },
  {
   "cell_type": "code",
   "execution_count": null,
   "outputs": [],
   "source": [],
   "metadata": {
    "collapsed": false
   }
  }
 ],
 "metadata": {
  "kernelspec": {
   "display_name": "Python 3",
   "language": "python",
   "name": "python3"
  },
  "language_info": {
   "codemirror_mode": {
    "name": "ipython",
    "version": 2
   },
   "file_extension": ".py",
   "mimetype": "text/x-python",
   "name": "python",
   "nbconvert_exporter": "python",
   "pygments_lexer": "ipython2",
   "version": "2.7.6"
  }
 },
 "nbformat": 4,
 "nbformat_minor": 0
}

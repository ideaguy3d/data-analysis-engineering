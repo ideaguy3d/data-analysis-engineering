{
 "cells": [
  {
   "cell_type": "code",
   "execution_count": 5,
   "metadata": {
    "collapsed": true
   },
   "outputs": [],
   "source": [
    "from pyspark.sql import SparkSession"
   ]
  },
  {
   "cell_type": "code",
   "execution_count": 6,
   "outputs": [],
   "source": [
    "spark = SparkSession.builder.appName(\"DataFramePractice\").getOrCreate()"
   ],
   "metadata": {
    "collapsed": false
   }
  },
  {
   "cell_type": "code",
   "execution_count": 9,
   "outputs": [
    {
     "name": "stdout",
     "output_type": "stream",
     "text": [
      "+-----------+-----------------+----------+-----+------+---+-----+\n",
      "|employee_id|    employee_name|department|state|salary|age|bonus|\n",
      "+-----------+-----------------+----------+-----+------+---+-----+\n",
      "|       1000|        Nitz Leif| Marketing|   CA|  6131| 26|  543|\n",
      "|       1001|  Melissia Dedman|   Finance|   AK|  4027| 43| 1290|\n",
      "|       1002|Rudolph Barringer|        HR|   LA|  3122| 43| 1445|\n",
      "|       1003|      Tamra Amber|  Accounts|   AK|  5717| 47| 1291|\n",
      "|       1004|      Mullan Nitz|Purchasing|   CA|  5685| 34| 1394|\n",
      "+-----------+-----------------+----------+-----+------+---+-----+\n",
      "only showing top 5 rows\n",
      "\n"
     ]
    }
   ],
   "source": [
    "df_office = spark.read.csv(\n",
    "    'data/office_project.csv', inferSchema=True, header=True)\n",
    "df_office.show(5)"
   ],
   "metadata": {
    "collapsed": false
   }
  },
  {
   "cell_type": "code",
   "execution_count": 8,
   "outputs": [
    {
     "name": "stdout",
     "output_type": "stream",
     "text": [
      "root\n",
      " |-- employee_id: integer (nullable = true)\n",
      " |-- employee_name: string (nullable = true)\n",
      " |-- department: string (nullable = true)\n",
      " |-- state: string (nullable = true)\n",
      " |-- salary: integer (nullable = true)\n",
      " |-- age: integer (nullable = true)\n",
      " |-- bonus: integer (nullable = true)\n",
      "\n"
     ]
    }
   ],
   "source": [
    "df_office.printSchema()"
   ],
   "metadata": {
    "collapsed": false
   }
  },
  {
   "cell_type": "code",
   "execution_count": 11,
   "outputs": [
    {
     "name": "stdout",
     "output_type": "stream",
     "text": [
      "+-----------------+---+\n",
      "|    employee_name|age|\n",
      "+-----------------+---+\n",
      "|        Nitz Leif| 26|\n",
      "|  Melissia Dedman| 43|\n",
      "|Rudolph Barringer| 43|\n",
      "|      Tamra Amber| 47|\n",
      "|      Mullan Nitz| 34|\n",
      "+-----------------+---+\n",
      "\n"
     ]
    }
   ],
   "source": [
    "df_office.createOrReplaceTempView('office')\n",
    "spark.table('office').select('employee_name', 'age').limit(5).show(5)"
   ],
   "metadata": {
    "collapsed": false
   }
  },
  {
   "cell_type": "code",
   "execution_count": 12,
   "outputs": [
    {
     "data": {
      "text/plain": "       employee_name  age\n0          Nitz Leif   26\n1    Melissia Dedman   43\n2  Rudolph Barringer   43\n3        Tamra Amber   47\n4        Mullan Nitz   34",
      "text/html": "<div>\n<style scoped>\n    .dataframe tbody tr th:only-of-type {\n        vertical-align: middle;\n    }\n\n    .dataframe tbody tr th {\n        vertical-align: top;\n    }\n\n    .dataframe thead th {\n        text-align: right;\n    }\n</style>\n<table border=\"1\" class=\"dataframe\">\n  <thead>\n    <tr style=\"text-align: right;\">\n      <th></th>\n      <th>employee_name</th>\n      <th>age</th>\n    </tr>\n  </thead>\n  <tbody>\n    <tr>\n      <th>0</th>\n      <td>Nitz Leif</td>\n      <td>26</td>\n    </tr>\n    <tr>\n      <th>1</th>\n      <td>Melissia Dedman</td>\n      <td>43</td>\n    </tr>\n    <tr>\n      <th>2</th>\n      <td>Rudolph Barringer</td>\n      <td>43</td>\n    </tr>\n    <tr>\n      <th>3</th>\n      <td>Tamra Amber</td>\n      <td>47</td>\n    </tr>\n    <tr>\n      <th>4</th>\n      <td>Mullan Nitz</td>\n      <td>34</td>\n    </tr>\n  </tbody>\n</table>\n</div>"
     },
     "execution_count": 12,
     "metadata": {},
     "output_type": "execute_result"
    }
   ],
   "source": [
    "spark.sql(\"\"\"\n",
    "    select employee_name, age\n",
    "    from office\n",
    "    limit 5\n",
    "\"\"\").toPandas()"
   ],
   "metadata": {
    "collapsed": false
   }
  },
  {
   "cell_type": "code",
   "execution_count": 14,
   "outputs": [
    {
     "data": {
      "text/plain": "1000"
     },
     "execution_count": 14,
     "metadata": {},
     "output_type": "execute_result"
    }
   ],
   "source": [
    "df_office.count()"
   ],
   "metadata": {
    "collapsed": false
   }
  },
  {
   "cell_type": "code",
   "execution_count": null,
   "outputs": [],
   "source": [],
   "metadata": {
    "collapsed": false
   }
  }
 ],
 "metadata": {
  "kernelspec": {
   "display_name": "Python 3",
   "language": "python",
   "name": "python3"
  },
  "language_info": {
   "codemirror_mode": {
    "name": "ipython",
    "version": 2
   },
   "file_extension": ".py",
   "mimetype": "text/x-python",
   "name": "python",
   "nbconvert_exporter": "python",
   "pygments_lexer": "ipython2",
   "version": "2.7.6"
  }
 },
 "nbformat": 4,
 "nbformat_minor": 0
}

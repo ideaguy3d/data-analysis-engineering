{
 "cells": [
  {
   "cell_type": "code",
   "execution_count": 7,
   "metadata": {
    "collapsed": true,
    "pycharm": {
     "name": "#%%\n"
    }
   },
   "outputs": [],
   "source": [
    "import re\n",
    "s = 'p1357_Apple_session2_pr131_20210611_fx0_SIRI1_0.mp4'"
   ]
  },
  {
   "cell_type": "code",
   "execution_count": 14,
   "outputs": [
    {
     "name": "stdout",
     "output_type": "stream",
     "text": [
      "_SIRI1_0.mp4\n"
     ]
    }
   ],
   "source": [
    "m = re.search(f'(_SIRI\\d_\\d.mp4)', s)\n",
    "if m:\n",
    "    print(m.groups()[0])\n",
    "else:\n",
    "    print('none')"
   ],
   "metadata": {
    "collapsed": false,
    "pycharm": {
     "name": "#%%\n"
    }
   }
  },
  {
   "cell_type": "code",
   "execution_count": 15,
   "outputs": [
    {
     "name": "stdout",
     "output_type": "stream",
     "text": [
      "none\n"
     ]
    }
   ],
   "source": [
    "p = r'(GOOGLE)'\n",
    "m = re.search(p, s)\n",
    "if m:\n",
    "    print(m.groups()[0])\n",
    "else:\n",
    "    print('none')"
   ],
   "metadata": {
    "collapsed": false,
    "pycharm": {
     "name": "#%%\n"
    }
   }
  },
  {
   "cell_type": "code",
   "execution_count": 22,
   "outputs": [
    {
     "name": "stdout",
     "output_type": "stream",
     "text": [
      "('Apple', 'session2')\n",
      "session2 for Apple\n"
     ]
    }
   ],
   "source": [
    "p = r'_(Apple|Google)_(session\\d+)_'\n",
    "m = re.search(p, s)\n",
    "if m:\n",
    "    print(m.groups())\n",
    "    manufacturer = m.group(1)\n",
    "    session = m.group(2)\n",
    "    print(f'{session} for {manufacturer}')\n",
    "else:\n",
    "    print('none')"
   ],
   "metadata": {
    "collapsed": false,
    "pycharm": {
     "name": "#%%\n"
    }
   }
  },
  {
   "cell_type": "code",
   "execution_count": 23,
   "outputs": [
    {
     "data": {
      "text/plain": "'_Apple_session2_'"
     },
     "execution_count": 23,
     "metadata": {},
     "output_type": "execute_result"
    }
   ],
   "source": [
    "m.group()"
   ],
   "metadata": {
    "collapsed": false,
    "pycharm": {
     "name": "#%%\n"
    }
   }
  },
  {
   "cell_type": "code",
   "execution_count": 24,
   "outputs": [
    {
     "data": {
      "text/plain": "('session2', 'Apple')"
     },
     "execution_count": 24,
     "metadata": {},
     "output_type": "execute_result"
    }
   ],
   "source": [
    "m.group(2, 1)"
   ],
   "metadata": {
    "collapsed": false,
    "pycharm": {
     "name": "#%%\n"
    }
   }
  },
  {
   "cell_type": "code",
   "source": [
    "p = r'_(?P<manufacturer>Apple|Google)_(?P<session>session\\d+)_'\n",
    "m = re.search(p, s)\n",
    "if m:\n",
    "    print(m.group('manufacturer'))\n",
    "    print(m.group('session'))"
   ],
   "metadata": {
    "collapsed": false,
    "pycharm": {
     "name": "#%%\n"
    }
   },
   "execution_count": 25,
   "outputs": [
    {
     "name": "stdout",
     "output_type": "stream",
     "text": [
      "Apple\n",
      "session2\n"
     ]
    }
   ]
  },
  {
   "cell_type": "code",
   "execution_count": 27,
   "outputs": [
    {
     "name": "stdout",
     "output_type": "stream",
     "text": [
      "('Apple', 'session2')\n",
      "_Apple_session2_\n",
      "p1357_Apple_session2_pr131_20210611_fx0_SIRI1_0.mp4\n"
     ]
    }
   ],
   "source": [
    "print(m.groups())\n",
    "print(m.group())\n",
    "print(s)"
   ],
   "metadata": {
    "collapsed": false,
    "pycharm": {
     "name": "#%%\n"
    }
   }
  },
  {
   "cell_type": "code",
   "execution_count": 35,
   "outputs": [
    {
     "name": "stdout",
     "output_type": "stream",
     "text": [
      "found  _GOOGLE0_1.mp4\n"
     ]
    }
   ],
   "source": [
    "s1 = '_SIRI1_0.mp4'\n",
    "s2 = '_SIRI1_0_mp4'\n",
    "s3 = '_GOOGLE0_1.mp4'\n",
    "p = r'_(SIRI\\d)_\\d\\.mp4'\n",
    "p2 = r'_SIRI\\d_\\d\\.mp4'\n",
    "p3 = r'_(SIRI|GOOGLE)\\d_\\d\\.mp4'\n",
    "m = re.search(p3, s3)\n",
    "if m:\n",
    "    print('found ', m.group())"
   ],
   "metadata": {
    "collapsed": false,
    "pycharm": {
     "name": "#%%\n"
    }
   }
  },
  {
   "cell_type": "markdown",
   "source": [],
   "metadata": {
    "collapsed": false,
    "pycharm": {
     "name": "#%% md\n"
    }
   }
  }
 ],
 "metadata": {
  "kernelspec": {
   "display_name": "Python 3",
   "language": "python",
   "name": "python3"
  },
  "language_info": {
   "codemirror_mode": {
    "name": "ipython",
    "version": 2
   },
   "file_extension": ".py",
   "mimetype": "text/x-python",
   "name": "python",
   "nbconvert_exporter": "python",
   "pygments_lexer": "ipython2",
   "version": "2.7.6"
  }
 },
 "nbformat": 4,
 "nbformat_minor": 0
}
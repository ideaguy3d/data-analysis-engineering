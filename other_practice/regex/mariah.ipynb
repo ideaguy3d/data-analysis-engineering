{
 "cells": [
  {
   "cell_type": "code",
   "execution_count": 26,
   "id": "e3e59d4174271cd1",
   "metadata": {
    "collapsed": true,
    "ExecuteTime": {
     "end_time": "2023-09-17T07:39:34.865829Z",
     "start_time": "2023-09-17T07:39:34.857849Z"
    }
   },
   "outputs": [
    {
     "data": {
      "text/plain": "'5512 people have this disorder'"
     },
     "execution_count": 26,
     "metadata": {},
     "output_type": "execute_result"
    }
   ],
   "source": [
    "x = 'hi'\n",
    "y = 'schzoid'\n",
    "\n",
    "dd1 = 'depressive disorders'\n",
    "dd2 = 'dissociative disorders'\n",
    "ed = 'eating disorders'\n",
    "\n",
    "mental_health_types = [dd1, dd2, ed]\n",
    "\n",
    "mental_health_types_dictionary = {\n",
    "    'depressive disorders': 3242,\n",
    "    'dissociative disorders': '5512 people have this disorder',\n",
    "    'eating disorders': 10325\n",
    "}\n",
    "\n",
    "\n",
    "mental_health_types_dictionary['dissociative disorders']\n"
   ]
  },
  {
   "cell_type": "code",
   "execution_count": 19,
   "outputs": [
    {
     "name": "stdout",
     "output_type": "stream",
     "text": [
      "cell 2 ran\n"
     ]
    }
   ],
   "source": [
    "\n",
    "most_people = 0\n",
    "\n",
    "# outer loop\n",
    "# for mental_health_type in mental_health_types:\n",
    "#     print('hi')\n",
    "    \n",
    "    \n",
    "print('cell 2 ran')"
   ],
   "metadata": {
    "collapsed": false,
    "ExecuteTime": {
     "end_time": "2023-09-17T07:36:54.342020Z",
     "start_time": "2023-09-17T07:36:54.338886Z"
    }
   },
   "id": "initial_id"
  },
  {
   "cell_type": "code",
   "execution_count": null,
   "outputs": [],
   "source": [],
   "metadata": {
    "collapsed": false
   },
   "id": "dd2bc83637c548ef"
  },
  {
   "cell_type": "code",
   "execution_count": null,
   "outputs": [],
   "source": [],
   "metadata": {
    "collapsed": false
   },
   "id": "cd6ebad1cc525341"
  },
  {
   "cell_type": "code",
   "execution_count": null,
   "outputs": [],
   "source": [],
   "metadata": {
    "collapsed": false
   },
   "id": "a662120faefadb49"
  }
 ],
 "metadata": {
  "kernelspec": {
   "display_name": "Python 3",
   "language": "python",
   "name": "python3"
  },
  "language_info": {
   "codemirror_mode": {
    "name": "ipython",
    "version": 2
   },
   "file_extension": ".py",
   "mimetype": "text/x-python",
   "name": "python",
   "nbconvert_exporter": "python",
   "pygments_lexer": "ipython2",
   "version": "2.7.6"
  }
 },
 "nbformat": 4,
 "nbformat_minor": 5
}

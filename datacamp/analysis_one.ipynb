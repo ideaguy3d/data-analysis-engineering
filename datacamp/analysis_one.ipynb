{
 "cells": [
  {
   "cell_type": "code",
   "execution_count": 3,
   "metadata": {
    "collapsed": true
   },
   "outputs": [],
   "source": [
    "import pandas\n",
    "import pandas as pd\n",
    "import numpy as np\n",
    "import scipy\n",
    "from scipy.stats import iqr, uniform, binom, norm, poisson, expon, t\n",
    "import matplotlib.pyplot as plt\n",
    "import seaborn as sns\n",
    "import json\n",
    "\n",
    "data_folder = '../data'\n",
    "# types: A = super center, B = discount store, C = neighborhood market\n",
    "df_walmart = pd.read_csv(f'{data_folder}/walmart_sales_subset.csv', index_col=0)\n",
    "df_homeless = pd.read_csv(f'{data_folder}/homeless.csv', index_col=0)\n",
    "df_amir = pd.read_csv(f'{data_folder}/amir_deals.csv', index_col=0)\n",
    "# simplify df_amir to just 100 observations\n",
    "df_amir = pd.DataFrame(df_amir[:100])\n",
    "df_mph = pd.read_csv(f'{data_folder}/mpg.csv')"
   ]
  },
  {
   "cell_type": "code",
   "execution_count": 4,
   "outputs": [
    {
     "name": "stdout",
     "output_type": "stream",
     "text": [
      "<class 'pandas.core.frame.DataFrame'>\n",
      "Int64Index: 51 entries, 0 to 50\n",
      "Data columns (total 5 columns):\n",
      " #   Column          Non-Null Count  Dtype  \n",
      "---  ------          --------------  -----  \n",
      " 0   region          51 non-null     object \n",
      " 1   state           51 non-null     object \n",
      " 2   individuals     51 non-null     float64\n",
      " 3   family_members  51 non-null     float64\n",
      " 4   state_pop       51 non-null     int64  \n",
      "dtypes: float64(2), int64(1), object(2)\n",
      "memory usage: 2.4+ KB\n"
     ]
    }
   ],
   "source": [
    "# df_homeless.index\n",
    "# df_homeless.head()\n",
    "df_homeless.info()"
   ],
   "metadata": {
    "collapsed": false
   }
  },
  {
   "cell_type": "code",
   "execution_count": 5,
   "outputs": [
    {
     "data": {
      "text/plain": "state               Alabama  Alaska  Arizona  Arkansas  California  Colorado  \\\nregion                                                                         \nEast North Central        0       0        0         0           0         0   \nEast South Central        1       0        0         0           0         0   \nMid-Atlantic              0       0        0         0           0         0   \nMountain                  0       0        1         0           0         1   \nNew England               0       0        0         0           0         0   \nPacific                   0       1        0         0           1         0   \nSouth Atlantic            0       0        0         0           0         0   \nWest North Central        0       0        0         0           0         0   \nWest South Central        0       0        0         1           0         0   \n\nstate               Connecticut  Delaware  District of Columbia  Florida  ...  \\\nregion                                                                    ...   \nEast North Central            0         0                     0        0  ...   \nEast South Central            0         0                     0        0  ...   \nMid-Atlantic                  0         0                     0        0  ...   \nMountain                      0         0                     0        0  ...   \nNew England                   1         0                     0        0  ...   \nPacific                       0         0                     0        0  ...   \nSouth Atlantic                0         1                     1        1  ...   \nWest North Central            0         0                     0        0  ...   \nWest South Central            0         0                     0        0  ...   \n\nstate               South Dakota  Tennessee  Texas  Utah  Vermont  Virginia  \\\nregion                                                                        \nEast North Central             0          0      0     0        0         0   \nEast South Central             0          1      0     0        0         0   \nMid-Atlantic                   0          0      0     0        0         0   \nMountain                       0          0      0     1        0         0   \nNew England                    0          0      0     0        1         0   \nPacific                        0          0      0     0        0         0   \nSouth Atlantic                 0          0      0     0        0         1   \nWest North Central             1          0      0     0        0         0   \nWest South Central             0          0      1     0        0         0   \n\nstate               Washington  West Virginia  Wisconsin  Wyoming  \nregion                                                             \nEast North Central           0              0          1        0  \nEast South Central           0              0          0        0  \nMid-Atlantic                 0              0          0        0  \nMountain                     0              0          0        1  \nNew England                  0              0          0        0  \nPacific                      1              0          0        0  \nSouth Atlantic               0              1          0        0  \nWest North Central           0              0          0        0  \nWest South Central           0              0          0        0  \n\n[9 rows x 51 columns]",
      "text/html": "<div>\n<style scoped>\n    .dataframe tbody tr th:only-of-type {\n        vertical-align: middle;\n    }\n\n    .dataframe tbody tr th {\n        vertical-align: top;\n    }\n\n    .dataframe thead th {\n        text-align: right;\n    }\n</style>\n<table border=\"1\" class=\"dataframe\">\n  <thead>\n    <tr style=\"text-align: right;\">\n      <th>state</th>\n      <th>Alabama</th>\n      <th>Alaska</th>\n      <th>Arizona</th>\n      <th>Arkansas</th>\n      <th>California</th>\n      <th>Colorado</th>\n      <th>Connecticut</th>\n      <th>Delaware</th>\n      <th>District of Columbia</th>\n      <th>Florida</th>\n      <th>...</th>\n      <th>South Dakota</th>\n      <th>Tennessee</th>\n      <th>Texas</th>\n      <th>Utah</th>\n      <th>Vermont</th>\n      <th>Virginia</th>\n      <th>Washington</th>\n      <th>West Virginia</th>\n      <th>Wisconsin</th>\n      <th>Wyoming</th>\n    </tr>\n    <tr>\n      <th>region</th>\n      <th></th>\n      <th></th>\n      <th></th>\n      <th></th>\n      <th></th>\n      <th></th>\n      <th></th>\n      <th></th>\n      <th></th>\n      <th></th>\n      <th></th>\n      <th></th>\n      <th></th>\n      <th></th>\n      <th></th>\n      <th></th>\n      <th></th>\n      <th></th>\n      <th></th>\n      <th></th>\n      <th></th>\n    </tr>\n  </thead>\n  <tbody>\n    <tr>\n      <th>East North Central</th>\n      <td>0</td>\n      <td>0</td>\n      <td>0</td>\n      <td>0</td>\n      <td>0</td>\n      <td>0</td>\n      <td>0</td>\n      <td>0</td>\n      <td>0</td>\n      <td>0</td>\n      <td>...</td>\n      <td>0</td>\n      <td>0</td>\n      <td>0</td>\n      <td>0</td>\n      <td>0</td>\n      <td>0</td>\n      <td>0</td>\n      <td>0</td>\n      <td>1</td>\n      <td>0</td>\n    </tr>\n    <tr>\n      <th>East South Central</th>\n      <td>1</td>\n      <td>0</td>\n      <td>0</td>\n      <td>0</td>\n      <td>0</td>\n      <td>0</td>\n      <td>0</td>\n      <td>0</td>\n      <td>0</td>\n      <td>0</td>\n      <td>...</td>\n      <td>0</td>\n      <td>1</td>\n      <td>0</td>\n      <td>0</td>\n      <td>0</td>\n      <td>0</td>\n      <td>0</td>\n      <td>0</td>\n      <td>0</td>\n      <td>0</td>\n    </tr>\n    <tr>\n      <th>Mid-Atlantic</th>\n      <td>0</td>\n      <td>0</td>\n      <td>0</td>\n      <td>0</td>\n      <td>0</td>\n      <td>0</td>\n      <td>0</td>\n      <td>0</td>\n      <td>0</td>\n      <td>0</td>\n      <td>...</td>\n      <td>0</td>\n      <td>0</td>\n      <td>0</td>\n      <td>0</td>\n      <td>0</td>\n      <td>0</td>\n      <td>0</td>\n      <td>0</td>\n      <td>0</td>\n      <td>0</td>\n    </tr>\n    <tr>\n      <th>Mountain</th>\n      <td>0</td>\n      <td>0</td>\n      <td>1</td>\n      <td>0</td>\n      <td>0</td>\n      <td>1</td>\n      <td>0</td>\n      <td>0</td>\n      <td>0</td>\n      <td>0</td>\n      <td>...</td>\n      <td>0</td>\n      <td>0</td>\n      <td>0</td>\n      <td>1</td>\n      <td>0</td>\n      <td>0</td>\n      <td>0</td>\n      <td>0</td>\n      <td>0</td>\n      <td>1</td>\n    </tr>\n    <tr>\n      <th>New England</th>\n      <td>0</td>\n      <td>0</td>\n      <td>0</td>\n      <td>0</td>\n      <td>0</td>\n      <td>0</td>\n      <td>1</td>\n      <td>0</td>\n      <td>0</td>\n      <td>0</td>\n      <td>...</td>\n      <td>0</td>\n      <td>0</td>\n      <td>0</td>\n      <td>0</td>\n      <td>1</td>\n      <td>0</td>\n      <td>0</td>\n      <td>0</td>\n      <td>0</td>\n      <td>0</td>\n    </tr>\n    <tr>\n      <th>Pacific</th>\n      <td>0</td>\n      <td>1</td>\n      <td>0</td>\n      <td>0</td>\n      <td>1</td>\n      <td>0</td>\n      <td>0</td>\n      <td>0</td>\n      <td>0</td>\n      <td>0</td>\n      <td>...</td>\n      <td>0</td>\n      <td>0</td>\n      <td>0</td>\n      <td>0</td>\n      <td>0</td>\n      <td>0</td>\n      <td>1</td>\n      <td>0</td>\n      <td>0</td>\n      <td>0</td>\n    </tr>\n    <tr>\n      <th>South Atlantic</th>\n      <td>0</td>\n      <td>0</td>\n      <td>0</td>\n      <td>0</td>\n      <td>0</td>\n      <td>0</td>\n      <td>0</td>\n      <td>1</td>\n      <td>1</td>\n      <td>1</td>\n      <td>...</td>\n      <td>0</td>\n      <td>0</td>\n      <td>0</td>\n      <td>0</td>\n      <td>0</td>\n      <td>1</td>\n      <td>0</td>\n      <td>1</td>\n      <td>0</td>\n      <td>0</td>\n    </tr>\n    <tr>\n      <th>West North Central</th>\n      <td>0</td>\n      <td>0</td>\n      <td>0</td>\n      <td>0</td>\n      <td>0</td>\n      <td>0</td>\n      <td>0</td>\n      <td>0</td>\n      <td>0</td>\n      <td>0</td>\n      <td>...</td>\n      <td>1</td>\n      <td>0</td>\n      <td>0</td>\n      <td>0</td>\n      <td>0</td>\n      <td>0</td>\n      <td>0</td>\n      <td>0</td>\n      <td>0</td>\n      <td>0</td>\n    </tr>\n    <tr>\n      <th>West South Central</th>\n      <td>0</td>\n      <td>0</td>\n      <td>0</td>\n      <td>1</td>\n      <td>0</td>\n      <td>0</td>\n      <td>0</td>\n      <td>0</td>\n      <td>0</td>\n      <td>0</td>\n      <td>...</td>\n      <td>0</td>\n      <td>0</td>\n      <td>1</td>\n      <td>0</td>\n      <td>0</td>\n      <td>0</td>\n      <td>0</td>\n      <td>0</td>\n      <td>0</td>\n      <td>0</td>\n    </tr>\n  </tbody>\n</table>\n<p>9 rows × 51 columns</p>\n</div>"
     },
     "execution_count": 5,
     "metadata": {},
     "output_type": "execute_result"
    }
   ],
   "source": [
    "homeless_crosstab = pandas.crosstab(df_homeless['region'],df_homeless['state'])\n",
    "homeless_crosstab"
   ],
   "metadata": {
    "collapsed": false
   }
  },
  {
   "cell_type": "code",
   "execution_count": 9,
   "outputs": [
    {
     "data": {
      "text/plain": "individuals       368515.0\nfamily_members    178749.0\ndtype: float64"
     },
     "execution_count": 9,
     "metadata": {},
     "output_type": "execute_result"
    }
   ],
   "source": [
    "df = df_homeless[['individuals','family_members']]\n",
    "df.apply(np.sum,axis=0)"
   ],
   "metadata": {
    "collapsed": false
   }
  },
  {
   "cell_type": "code",
   "execution_count": 8,
   "outputs": [
    {
     "data": {
      "text/plain": "                   state  individuals\n0                Alabama       2570.0\n1                 Alaska       1434.0\n2                Arizona       7259.0\n3               Arkansas       2280.0\n4             California     109008.0\n5               Colorado       7607.0\n6            Connecticut       2280.0\n7               Delaware        708.0\n8   District of Columbia       3770.0\n9                Florida      21443.0\n10               Georgia       6943.0\n11                Hawaii       4131.0\n12                 Idaho       1297.0\n13              Illinois       6752.0\n14               Indiana       3776.0\n15                  Iowa       1711.0\n16                Kansas       1443.0\n17              Kentucky       2735.0\n18             Louisiana       2540.0\n19                 Maine       1450.0\n20              Maryland       4914.0\n21         Massachusetts       6811.0\n22              Michigan       5209.0\n23             Minnesota       3993.0\n24           Mississippi       1024.0\n25              Missouri       3776.0\n26               Montana        983.0\n27              Nebraska       1745.0\n28                Nevada       7058.0\n29         New Hampshire        835.0\n30            New Jersey       6048.0\n31            New Mexico       1949.0\n32              New York      39827.0\n33        North Carolina       6451.0\n34          North Dakota        467.0\n35                  Ohio       6929.0\n36              Oklahoma       2823.0\n37                Oregon      11139.0\n38          Pennsylvania       8163.0\n39          Rhode Island        747.0\n40        South Carolina       3082.0\n41          South Dakota        836.0\n42             Tennessee       6139.0\n43                 Texas      19199.0\n44                  Utah       1904.0\n45               Vermont        780.0\n46              Virginia       3928.0\n47            Washington      16424.0\n48         West Virginia       1021.0\n49             Wisconsin       2740.0\n50               Wyoming        434.0",
      "text/html": "<div>\n<style scoped>\n    .dataframe tbody tr th:only-of-type {\n        vertical-align: middle;\n    }\n\n    .dataframe tbody tr th {\n        vertical-align: top;\n    }\n\n    .dataframe thead th {\n        text-align: right;\n    }\n</style>\n<table border=\"1\" class=\"dataframe\">\n  <thead>\n    <tr style=\"text-align: right;\">\n      <th></th>\n      <th>state</th>\n      <th>individuals</th>\n    </tr>\n  </thead>\n  <tbody>\n    <tr>\n      <th>0</th>\n      <td>Alabama</td>\n      <td>2570.0</td>\n    </tr>\n    <tr>\n      <th>1</th>\n      <td>Alaska</td>\n      <td>1434.0</td>\n    </tr>\n    <tr>\n      <th>2</th>\n      <td>Arizona</td>\n      <td>7259.0</td>\n    </tr>\n    <tr>\n      <th>3</th>\n      <td>Arkansas</td>\n      <td>2280.0</td>\n    </tr>\n    <tr>\n      <th>4</th>\n      <td>California</td>\n      <td>109008.0</td>\n    </tr>\n    <tr>\n      <th>5</th>\n      <td>Colorado</td>\n      <td>7607.0</td>\n    </tr>\n    <tr>\n      <th>6</th>\n      <td>Connecticut</td>\n      <td>2280.0</td>\n    </tr>\n    <tr>\n      <th>7</th>\n      <td>Delaware</td>\n      <td>708.0</td>\n    </tr>\n    <tr>\n      <th>8</th>\n      <td>District of Columbia</td>\n      <td>3770.0</td>\n    </tr>\n    <tr>\n      <th>9</th>\n      <td>Florida</td>\n      <td>21443.0</td>\n    </tr>\n    <tr>\n      <th>10</th>\n      <td>Georgia</td>\n      <td>6943.0</td>\n    </tr>\n    <tr>\n      <th>11</th>\n      <td>Hawaii</td>\n      <td>4131.0</td>\n    </tr>\n    <tr>\n      <th>12</th>\n      <td>Idaho</td>\n      <td>1297.0</td>\n    </tr>\n    <tr>\n      <th>13</th>\n      <td>Illinois</td>\n      <td>6752.0</td>\n    </tr>\n    <tr>\n      <th>14</th>\n      <td>Indiana</td>\n      <td>3776.0</td>\n    </tr>\n    <tr>\n      <th>15</th>\n      <td>Iowa</td>\n      <td>1711.0</td>\n    </tr>\n    <tr>\n      <th>16</th>\n      <td>Kansas</td>\n      <td>1443.0</td>\n    </tr>\n    <tr>\n      <th>17</th>\n      <td>Kentucky</td>\n      <td>2735.0</td>\n    </tr>\n    <tr>\n      <th>18</th>\n      <td>Louisiana</td>\n      <td>2540.0</td>\n    </tr>\n    <tr>\n      <th>19</th>\n      <td>Maine</td>\n      <td>1450.0</td>\n    </tr>\n    <tr>\n      <th>20</th>\n      <td>Maryland</td>\n      <td>4914.0</td>\n    </tr>\n    <tr>\n      <th>21</th>\n      <td>Massachusetts</td>\n      <td>6811.0</td>\n    </tr>\n    <tr>\n      <th>22</th>\n      <td>Michigan</td>\n      <td>5209.0</td>\n    </tr>\n    <tr>\n      <th>23</th>\n      <td>Minnesota</td>\n      <td>3993.0</td>\n    </tr>\n    <tr>\n      <th>24</th>\n      <td>Mississippi</td>\n      <td>1024.0</td>\n    </tr>\n    <tr>\n      <th>25</th>\n      <td>Missouri</td>\n      <td>3776.0</td>\n    </tr>\n    <tr>\n      <th>26</th>\n      <td>Montana</td>\n      <td>983.0</td>\n    </tr>\n    <tr>\n      <th>27</th>\n      <td>Nebraska</td>\n      <td>1745.0</td>\n    </tr>\n    <tr>\n      <th>28</th>\n      <td>Nevada</td>\n      <td>7058.0</td>\n    </tr>\n    <tr>\n      <th>29</th>\n      <td>New Hampshire</td>\n      <td>835.0</td>\n    </tr>\n    <tr>\n      <th>30</th>\n      <td>New Jersey</td>\n      <td>6048.0</td>\n    </tr>\n    <tr>\n      <th>31</th>\n      <td>New Mexico</td>\n      <td>1949.0</td>\n    </tr>\n    <tr>\n      <th>32</th>\n      <td>New York</td>\n      <td>39827.0</td>\n    </tr>\n    <tr>\n      <th>33</th>\n      <td>North Carolina</td>\n      <td>6451.0</td>\n    </tr>\n    <tr>\n      <th>34</th>\n      <td>North Dakota</td>\n      <td>467.0</td>\n    </tr>\n    <tr>\n      <th>35</th>\n      <td>Ohio</td>\n      <td>6929.0</td>\n    </tr>\n    <tr>\n      <th>36</th>\n      <td>Oklahoma</td>\n      <td>2823.0</td>\n    </tr>\n    <tr>\n      <th>37</th>\n      <td>Oregon</td>\n      <td>11139.0</td>\n    </tr>\n    <tr>\n      <th>38</th>\n      <td>Pennsylvania</td>\n      <td>8163.0</td>\n    </tr>\n    <tr>\n      <th>39</th>\n      <td>Rhode Island</td>\n      <td>747.0</td>\n    </tr>\n    <tr>\n      <th>40</th>\n      <td>South Carolina</td>\n      <td>3082.0</td>\n    </tr>\n    <tr>\n      <th>41</th>\n      <td>South Dakota</td>\n      <td>836.0</td>\n    </tr>\n    <tr>\n      <th>42</th>\n      <td>Tennessee</td>\n      <td>6139.0</td>\n    </tr>\n    <tr>\n      <th>43</th>\n      <td>Texas</td>\n      <td>19199.0</td>\n    </tr>\n    <tr>\n      <th>44</th>\n      <td>Utah</td>\n      <td>1904.0</td>\n    </tr>\n    <tr>\n      <th>45</th>\n      <td>Vermont</td>\n      <td>780.0</td>\n    </tr>\n    <tr>\n      <th>46</th>\n      <td>Virginia</td>\n      <td>3928.0</td>\n    </tr>\n    <tr>\n      <th>47</th>\n      <td>Washington</td>\n      <td>16424.0</td>\n    </tr>\n    <tr>\n      <th>48</th>\n      <td>West Virginia</td>\n      <td>1021.0</td>\n    </tr>\n    <tr>\n      <th>49</th>\n      <td>Wisconsin</td>\n      <td>2740.0</td>\n    </tr>\n    <tr>\n      <th>50</th>\n      <td>Wyoming</td>\n      <td>434.0</td>\n    </tr>\n  </tbody>\n</table>\n</div>"
     },
     "execution_count": 8,
     "metadata": {},
     "output_type": "execute_result"
    }
   ],
   "source": [
    "df_homeless.iloc[:,1:3]"
   ],
   "metadata": {
    "collapsed": false
   }
  },
  {
   "cell_type": "code",
   "execution_count": null,
   "outputs": [],
   "source": [
    "data = pd.Series([1, 2, np.nan, 4, 5])\n",
    "data.dropna()"
   ],
   "metadata": {
    "collapsed": false
   }
  },
  {
   "cell_type": "code",
   "execution_count": null,
   "outputs": [],
   "source": [
    "s1 = pd.Series([1,1,1,1,1])\n",
    "s2 = pd.Series([1,2,3,4,5])\n",
    "display(s1.std())\n",
    "display(s2.std())"
   ],
   "metadata": {
    "collapsed": false
   }
  },
  {
   "cell_type": "code",
   "execution_count": 10,
   "outputs": [
    {
     "data": {
      "text/plain": "region            0\nstate             0\nindividuals       0\nfamily_members    0\nstate_pop         0\ndtype: int64"
     },
     "execution_count": 10,
     "metadata": {},
     "output_type": "execute_result"
    }
   ],
   "source": [
    "df_homeless.isna().sum()"
   ],
   "metadata": {
    "collapsed": false
   }
  },
  {
   "cell_type": "code",
   "execution_count": 11,
   "outputs": [
    {
     "data": {
      "text/plain": "         individuals  family_members\ncount      51.000000       51.000000\nmean     7225.784314     3504.882353\nstd     15991.025083     7805.411811\nmin       434.000000       75.000000\n25%      1446.500000      592.000000\n50%      3082.000000     1482.000000\n75%      6781.500000     3196.000000\nmax    109008.000000    52070.000000",
      "text/html": "<div>\n<style scoped>\n    .dataframe tbody tr th:only-of-type {\n        vertical-align: middle;\n    }\n\n    .dataframe tbody tr th {\n        vertical-align: top;\n    }\n\n    .dataframe thead th {\n        text-align: right;\n    }\n</style>\n<table border=\"1\" class=\"dataframe\">\n  <thead>\n    <tr style=\"text-align: right;\">\n      <th></th>\n      <th>individuals</th>\n      <th>family_members</th>\n    </tr>\n  </thead>\n  <tbody>\n    <tr>\n      <th>count</th>\n      <td>51.000000</td>\n      <td>51.000000</td>\n    </tr>\n    <tr>\n      <th>mean</th>\n      <td>7225.784314</td>\n      <td>3504.882353</td>\n    </tr>\n    <tr>\n      <th>std</th>\n      <td>15991.025083</td>\n      <td>7805.411811</td>\n    </tr>\n    <tr>\n      <th>min</th>\n      <td>434.000000</td>\n      <td>75.000000</td>\n    </tr>\n    <tr>\n      <th>25%</th>\n      <td>1446.500000</td>\n      <td>592.000000</td>\n    </tr>\n    <tr>\n      <th>50%</th>\n      <td>3082.000000</td>\n      <td>1482.000000</td>\n    </tr>\n    <tr>\n      <th>75%</th>\n      <td>6781.500000</td>\n      <td>3196.000000</td>\n    </tr>\n    <tr>\n      <th>max</th>\n      <td>109008.000000</td>\n      <td>52070.000000</td>\n    </tr>\n  </tbody>\n</table>\n</div>"
     },
     "execution_count": 11,
     "metadata": {},
     "output_type": "execute_result"
    }
   ],
   "source": [
    "df_homeless[['individuals','family_members']].describe()"
   ],
   "metadata": {
    "collapsed": false
   }
  },
  {
   "cell_type": "code",
   "execution_count": 12,
   "outputs": [
    {
     "data": {
      "text/plain": "array([58.71622381, 47.53435829, 37.48374102, 53.52533837, 49.32042916,\n       45.16737175, 40.33997173, 45.48025068, 45.78907796, 54.85734857,\n       46.04499551, 46.33340849, 43.22796671, 50.12529291, 50.67056344,\n       42.65578597, 48.61252196, 44.32518309, 49.38153309, 52.34353112,\n       54.32464885, 51.06598683, 52.84066659, 52.05761877, 47.34806449,\n       62.63020349, 47.33093204, 47.34824424, 53.15312474, 49.4157019 ,\n       51.65430599, 42.04878713, 45.08208435, 58.28908835, 46.0233177 ,\n       49.83453933, 42.01168964, 53.66218603, 50.13295259, 53.97129804,\n       53.48526071, 52.83559416, 58.4261582 , 51.84134323, 46.06615423,\n       42.83543017, 52.37596931, 49.66523892, 43.84160783, 42.2032906 ,\n       52.71857322, 53.61193861, 45.39705829, 52.77182006, 41.90380368,\n       55.70501472, 50.01267819, 49.56986433, 57.74764884, 53.67590818,\n       46.96187924, 52.16760989, 50.70591415, 47.05408127, 50.81543572,\n       54.85926307, 48.22818828, 56.06242106, 46.12828931, 48.4212039 ,\n       56.1570534 , 51.25892457, 54.52538328, 52.71584176, 46.38593095,\n       53.60674949, 48.00813849, 50.83074802, 52.70704324, 55.25664109,\n       39.96006059, 42.29416857, 46.38228228, 57.28168042, 54.2155631 ,\n       52.11725624, 52.14579862, 60.94824214, 56.69637988, 55.15694987,\n       47.25403113, 45.39846909, 52.82285369, 53.62621454, 47.41624064,\n       46.21921471, 47.64632916, 41.49169144, 60.93488518, 51.09535312])"
     },
     "execution_count": 12,
     "metadata": {},
     "output_type": "execute_result"
    }
   ],
   "source": [
    "np.random.normal(50,5,100)"
   ],
   "metadata": {
    "collapsed": false
   }
  },
  {
   "cell_type": "code",
   "execution_count": 13,
   "outputs": [
    {
     "data": {
      "text/plain": "array([0, 1, 2, 3, 4, 5, 6, 7, 8, 9])"
     },
     "execution_count": 13,
     "metadata": {},
     "output_type": "execute_result"
    }
   ],
   "source": [
    "np.arange(10)"
   ],
   "metadata": {
    "collapsed": false
   }
  },
  {
   "cell_type": "code",
   "execution_count": 8,
   "outputs": [
    {
     "data": {
      "text/plain": "[-0.7934090602644015,\n -0.24320963862391187,\n -0.20710326593657571,\n 0.06189612661157595,\n 0.3444912989756072,\n 0.44377770003509387,\n 0.4602803588993094,\n 0.5161624434652738,\n 0.788892515515463,\n 2.6253484698187606]"
     },
     "execution_count": 8,
     "metadata": {},
     "output_type": "execute_result"
    }
   ],
   "source": [
    "sorted(np.random.normal(size=10))"
   ],
   "metadata": {
    "collapsed": false
   }
  },
  {
   "cell_type": "code",
   "execution_count": 9,
   "outputs": [
    {
     "data": {
      "text/plain": "                individuals  family_members  state_pop\nindividuals        1.000000        0.631426   0.834960\nfamily_members     0.631426        1.000000   0.589913\nstate_pop          0.834960        0.589913   1.000000",
      "text/html": "<div>\n<style scoped>\n    .dataframe tbody tr th:only-of-type {\n        vertical-align: middle;\n    }\n\n    .dataframe tbody tr th {\n        vertical-align: top;\n    }\n\n    .dataframe thead th {\n        text-align: right;\n    }\n</style>\n<table border=\"1\" class=\"dataframe\">\n  <thead>\n    <tr style=\"text-align: right;\">\n      <th></th>\n      <th>individuals</th>\n      <th>family_members</th>\n      <th>state_pop</th>\n    </tr>\n  </thead>\n  <tbody>\n    <tr>\n      <th>individuals</th>\n      <td>1.000000</td>\n      <td>0.631426</td>\n      <td>0.834960</td>\n    </tr>\n    <tr>\n      <th>family_members</th>\n      <td>0.631426</td>\n      <td>1.000000</td>\n      <td>0.589913</td>\n    </tr>\n    <tr>\n      <th>state_pop</th>\n      <td>0.834960</td>\n      <td>0.589913</td>\n      <td>1.000000</td>\n    </tr>\n  </tbody>\n</table>\n</div>"
     },
     "execution_count": 9,
     "metadata": {},
     "output_type": "execute_result"
    }
   ],
   "source": [
    "df_homeless.corr()"
   ],
   "metadata": {
    "collapsed": false
   }
  },
  {
   "cell_type": "code",
   "execution_count": null,
   "outputs": [],
   "source": [],
   "metadata": {
    "collapsed": false
   }
  }
 ],
 "metadata": {
  "kernelspec": {
   "display_name": "Python 3",
   "language": "python",
   "name": "python3"
  },
  "language_info": {
   "codemirror_mode": {
    "name": "ipython",
    "version": 2
   },
   "file_extension": ".py",
   "mimetype": "text/x-python",
   "name": "python",
   "nbconvert_exporter": "python",
   "pygments_lexer": "ipython2",
   "version": "2.7.6"
  }
 },
 "nbformat": 4,
 "nbformat_minor": 0
}

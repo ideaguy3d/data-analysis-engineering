{
 "cells": [
  {
   "cell_type": "code",
   "execution_count": 48,
   "metadata": {
    "collapsed": true,
    "pycharm": {
     "name": "#%%\n"
    }
   },
   "outputs": [],
   "source": [
    "\"\"\"\n",
    "                        ~ Notable fields/methods & Distributions ~\n",
    "\n",
    "numpy\n",
    " - .quantile()\n",
    "\n",
    "scipy.stats\n",
    " - .iqr()\n",
    "\n",
    "scipy.stats.uniform\n",
    " - .cdf()\n",
    " - .rvs()  # e.g. to Generate 1000 wait times between 0 and 30 mins\n",
    "  -- wait_times = uniform.rvs(0,30,size=1000)\n",
    "\n",
    "scipy.stats.binom\n",
    " - .rvs()\n",
    " - .pmf()  # e.g. probability of getting 7 heads (successes) in 10 coin flips\n",
    "  -- binom.pmf(\"number of successes\", \"number of trials\", \"probability of success\")\n",
    "\n",
    " - .cdf()  # e.g. probability of getting 7 heads or less in 10 coin flips\n",
    "  -- binom.cdf(\"number of successes\", \"number of trials\", \"probability of success\")\n",
    "  -- \"1 - binom.cdf()\"  # e.g. probability of getting more than 7 successes\n",
    "\n",
    "scipy.stats.norm\n",
    " - .cdf()\n",
    " - .ppf()\n",
    " - .rvs()\n",
    "\n",
    "scipy.stats.poisson\n",
    " - .pmf()\n",
    " - .cdf()\n",
    "\n",
    "scipy.stats.expon\n",
    " - .cdf()\n",
    "\n",
    "Main Distributions:\n",
    " - discrete uniform     # rolling dice\n",
    " - continuous uniform   # waiting for a bus\n",
    " - binomial             # success/failure of flipping a coin 10 times\n",
    " - normal/gaussian      # clt, mean, & sd, 1 SD 68% | 2 SD 95% | 3 SD 99.7%\n",
    " - poisson              # events over some span of time\n",
    "\n",
    "Other Distributions:\n",
    " - exponential # related to poisson\n",
    " - t\n",
    " - log-normal\n",
    "\"\"\"\n",
    "import pandas\n",
    "import numpy\n",
    "import scipy\n",
    "from scipy.stats import iqr, uniform, binom, norm, poisson, expon, t\n",
    "\n",
    "data_folder = '../../data'\n",
    "# types: A = super center, B = discount store, C = neighborhood market\n",
    "df_walmart = pandas.read_csv(f'{data_folder}/walmart_sales_subset.csv', index_col=0)\n",
    "df_homeless = pandas.read_csv(f'{data_folder}/homeless.csv', index_col=0)\n",
    "df_amir = pandas.read_csv(f'{data_folder}/amir_deals.csv',index_col=0)\n",
    "# simplify df_amir to just 100 observations\n",
    "df_amir = pandas.DataFrame(df_amir[:100])"
   ]
  },
  {
   "cell_type": "code",
   "execution_count": 26,
   "outputs": [
    {
     "data": {
      "text/plain": "   store type  department        date  weekly_sales  is_holiday  \\\n0      1    A           1  2010-02-05      24924.50       False   \n1      1    A           1  2010-03-05      21827.90       False   \n2      1    A           1  2010-04-02      57258.43       False   \n3      1    A           1  2010-05-07      17413.94       False   \n4      1    A           1  2010-06-04      17558.09       False   \n\n   temperature_c  fuel_price_usd_per_l  unemployment  \n0       5.727778              0.679451         8.106  \n1       8.055556              0.693452         8.106  \n2      16.816667              0.718284         7.808  \n3      22.527778              0.748928         7.808  \n4      27.050000              0.714586         7.808  ",
      "text/html": "<div>\n<style scoped>\n    .dataframe tbody tr th:only-of-type {\n        vertical-align: middle;\n    }\n\n    .dataframe tbody tr th {\n        vertical-align: top;\n    }\n\n    .dataframe thead th {\n        text-align: right;\n    }\n</style>\n<table border=\"1\" class=\"dataframe\">\n  <thead>\n    <tr style=\"text-align: right;\">\n      <th></th>\n      <th>store</th>\n      <th>type</th>\n      <th>department</th>\n      <th>date</th>\n      <th>weekly_sales</th>\n      <th>is_holiday</th>\n      <th>temperature_c</th>\n      <th>fuel_price_usd_per_l</th>\n      <th>unemployment</th>\n    </tr>\n  </thead>\n  <tbody>\n    <tr>\n      <th>0</th>\n      <td>1</td>\n      <td>A</td>\n      <td>1</td>\n      <td>2010-02-05</td>\n      <td>24924.50</td>\n      <td>False</td>\n      <td>5.727778</td>\n      <td>0.679451</td>\n      <td>8.106</td>\n    </tr>\n    <tr>\n      <th>1</th>\n      <td>1</td>\n      <td>A</td>\n      <td>1</td>\n      <td>2010-03-05</td>\n      <td>21827.90</td>\n      <td>False</td>\n      <td>8.055556</td>\n      <td>0.693452</td>\n      <td>8.106</td>\n    </tr>\n    <tr>\n      <th>2</th>\n      <td>1</td>\n      <td>A</td>\n      <td>1</td>\n      <td>2010-04-02</td>\n      <td>57258.43</td>\n      <td>False</td>\n      <td>16.816667</td>\n      <td>0.718284</td>\n      <td>7.808</td>\n    </tr>\n    <tr>\n      <th>3</th>\n      <td>1</td>\n      <td>A</td>\n      <td>1</td>\n      <td>2010-05-07</td>\n      <td>17413.94</td>\n      <td>False</td>\n      <td>22.527778</td>\n      <td>0.748928</td>\n      <td>7.808</td>\n    </tr>\n    <tr>\n      <th>4</th>\n      <td>1</td>\n      <td>A</td>\n      <td>1</td>\n      <td>2010-06-04</td>\n      <td>17558.09</td>\n      <td>False</td>\n      <td>27.050000</td>\n      <td>0.714586</td>\n      <td>7.808</td>\n    </tr>\n  </tbody>\n</table>\n</div>"
     },
     "execution_count": 26,
     "metadata": {},
     "output_type": "execute_result"
    }
   ],
   "source": [
    "df_walmart.head()"
   ],
   "metadata": {
    "collapsed": false,
    "pycharm": {
     "name": "#%%\n"
    }
   }
  },
  {
   "cell_type": "code",
   "execution_count": 19,
   "outputs": [
    {
     "data": {
      "text/plain": "               region       state  individuals  family_members  state_pop\n0  East South Central     Alabama       2570.0           864.0    4887681\n1             Pacific      Alaska       1434.0           582.0     735139\n2            Mountain     Arizona       7259.0          2606.0    7158024\n3  West South Central    Arkansas       2280.0           432.0    3009733\n4             Pacific  California     109008.0         20964.0   39461588",
      "text/html": "<div>\n<style scoped>\n    .dataframe tbody tr th:only-of-type {\n        vertical-align: middle;\n    }\n\n    .dataframe tbody tr th {\n        vertical-align: top;\n    }\n\n    .dataframe thead th {\n        text-align: right;\n    }\n</style>\n<table border=\"1\" class=\"dataframe\">\n  <thead>\n    <tr style=\"text-align: right;\">\n      <th></th>\n      <th>region</th>\n      <th>state</th>\n      <th>individuals</th>\n      <th>family_members</th>\n      <th>state_pop</th>\n    </tr>\n  </thead>\n  <tbody>\n    <tr>\n      <th>0</th>\n      <td>East South Central</td>\n      <td>Alabama</td>\n      <td>2570.0</td>\n      <td>864.0</td>\n      <td>4887681</td>\n    </tr>\n    <tr>\n      <th>1</th>\n      <td>Pacific</td>\n      <td>Alaska</td>\n      <td>1434.0</td>\n      <td>582.0</td>\n      <td>735139</td>\n    </tr>\n    <tr>\n      <th>2</th>\n      <td>Mountain</td>\n      <td>Arizona</td>\n      <td>7259.0</td>\n      <td>2606.0</td>\n      <td>7158024</td>\n    </tr>\n    <tr>\n      <th>3</th>\n      <td>West South Central</td>\n      <td>Arkansas</td>\n      <td>2280.0</td>\n      <td>432.0</td>\n      <td>3009733</td>\n    </tr>\n    <tr>\n      <th>4</th>\n      <td>Pacific</td>\n      <td>California</td>\n      <td>109008.0</td>\n      <td>20964.0</td>\n      <td>39461588</td>\n    </tr>\n  </tbody>\n</table>\n</div>"
     },
     "execution_count": 19,
     "metadata": {},
     "output_type": "execute_result"
    }
   ],
   "source": [
    "df_homeless.head()"
   ],
   "metadata": {
    "collapsed": false,
    "pycharm": {
     "name": "#%%\n"
    }
   }
  },
  {
   "cell_type": "code",
   "execution_count": 33,
   "outputs": [
    {
     "data": {
      "text/plain": "     product   client status   amount  num_users\n1  Product F  Current    Won  7389.52         19\n2  Product C      New    Won  4493.01         43\n3  Product B      New    Won  5738.09         87\n4  Product I  Current    Won  2591.24         83\n5  Product E  Current    Won  6622.97         17",
      "text/html": "<div>\n<style scoped>\n    .dataframe tbody tr th:only-of-type {\n        vertical-align: middle;\n    }\n\n    .dataframe tbody tr th {\n        vertical-align: top;\n    }\n\n    .dataframe thead th {\n        text-align: right;\n    }\n</style>\n<table border=\"1\" class=\"dataframe\">\n  <thead>\n    <tr style=\"text-align: right;\">\n      <th></th>\n      <th>product</th>\n      <th>client</th>\n      <th>status</th>\n      <th>amount</th>\n      <th>num_users</th>\n    </tr>\n  </thead>\n  <tbody>\n    <tr>\n      <th>1</th>\n      <td>Product F</td>\n      <td>Current</td>\n      <td>Won</td>\n      <td>7389.52</td>\n      <td>19</td>\n    </tr>\n    <tr>\n      <th>2</th>\n      <td>Product C</td>\n      <td>New</td>\n      <td>Won</td>\n      <td>4493.01</td>\n      <td>43</td>\n    </tr>\n    <tr>\n      <th>3</th>\n      <td>Product B</td>\n      <td>New</td>\n      <td>Won</td>\n      <td>5738.09</td>\n      <td>87</td>\n    </tr>\n    <tr>\n      <th>4</th>\n      <td>Product I</td>\n      <td>Current</td>\n      <td>Won</td>\n      <td>2591.24</td>\n      <td>83</td>\n    </tr>\n    <tr>\n      <th>5</th>\n      <td>Product E</td>\n      <td>Current</td>\n      <td>Won</td>\n      <td>6622.97</td>\n      <td>17</td>\n    </tr>\n  </tbody>\n</table>\n</div>"
     },
     "execution_count": 33,
     "metadata": {},
     "output_type": "execute_result"
    }
   ],
   "source": [
    "df_amir.head()"
   ],
   "metadata": {
    "collapsed": false,
    "pycharm": {
     "name": "#%%\n"
    }
   }
  },
  {
   "cell_type": "code",
   "execution_count": 20,
   "outputs": [
    {
     "data": {
      "text/plain": "array([ 1.  , 15.75, 32.5 , 51.25, 99.  ])"
     },
     "execution_count": 20,
     "metadata": {},
     "output_type": "execute_result"
    }
   ],
   "source": [
    "# df_amir.head()\n",
    "# df_amir.info()\n",
    "# df_amir['num_users'].sort_values()\n",
    "numpy.quantile(df_amir['num_users'],[0, 0.25, 0.50, 0.75, 1])"
   ],
   "metadata": {
    "collapsed": false,
    "pycharm": {
     "name": "#%%\n"
    }
   }
  },
  {
   "cell_type": "code",
   "execution_count": 21,
   "outputs": [
    {
     "data": {
      "text/plain": "                            mean   median\nregion                                   \nEast North Central   5081.200000   5209.0\nEast South Central   3117.000000   2652.5\nMid-Atlantic        18012.666667   8163.0\nMountain             3561.375000   1926.5\nNew England          2150.500000   1142.5\nPacific             28427.200000  11139.0\nSouth Atlantic       5806.666667   3928.0\nWest North Central   1995.857143   1711.0\nWest South Central   6710.500000   2681.5",
      "text/html": "<div>\n<style scoped>\n    .dataframe tbody tr th:only-of-type {\n        vertical-align: middle;\n    }\n\n    .dataframe tbody tr th {\n        vertical-align: top;\n    }\n\n    .dataframe thead th {\n        text-align: right;\n    }\n</style>\n<table border=\"1\" class=\"dataframe\">\n  <thead>\n    <tr style=\"text-align: right;\">\n      <th></th>\n      <th>mean</th>\n      <th>median</th>\n    </tr>\n    <tr>\n      <th>region</th>\n      <th></th>\n      <th></th>\n    </tr>\n  </thead>\n  <tbody>\n    <tr>\n      <th>East North Central</th>\n      <td>5081.200000</td>\n      <td>5209.0</td>\n    </tr>\n    <tr>\n      <th>East South Central</th>\n      <td>3117.000000</td>\n      <td>2652.5</td>\n    </tr>\n    <tr>\n      <th>Mid-Atlantic</th>\n      <td>18012.666667</td>\n      <td>8163.0</td>\n    </tr>\n    <tr>\n      <th>Mountain</th>\n      <td>3561.375000</td>\n      <td>1926.5</td>\n    </tr>\n    <tr>\n      <th>New England</th>\n      <td>2150.500000</td>\n      <td>1142.5</td>\n    </tr>\n    <tr>\n      <th>Pacific</th>\n      <td>28427.200000</td>\n      <td>11139.0</td>\n    </tr>\n    <tr>\n      <th>South Atlantic</th>\n      <td>5806.666667</td>\n      <td>3928.0</td>\n    </tr>\n    <tr>\n      <th>West North Central</th>\n      <td>1995.857143</td>\n      <td>1711.0</td>\n    </tr>\n    <tr>\n      <th>West South Central</th>\n      <td>6710.500000</td>\n      <td>2681.5</td>\n    </tr>\n  </tbody>\n</table>\n</div>"
     },
     "execution_count": 21,
     "metadata": {},
     "output_type": "execute_result"
    }
   ],
   "source": [
    "df_homeless.groupby('region')['individuals'].agg([numpy.mean,numpy.median])"
   ],
   "metadata": {
    "collapsed": false,
    "pycharm": {
     "name": "#%%\n"
    }
   }
  },
  {
   "cell_type": "code",
   "execution_count": 22,
   "outputs": [
    {
     "data": {
      "text/plain": "[15.75, 51.25, 35.5]"
     },
     "execution_count": 22,
     "metadata": {},
     "output_type": "execute_result"
    }
   ],
   "source": [
    "nu = df_amir['num_users']\n",
    "iqr = [numpy.quantile(nu,0.25),numpy.quantile(nu,0.75),scipy.stats.iqr(nu)]\n",
    "iqr"
   ],
   "metadata": {
    "collapsed": false,
    "pycharm": {
     "name": "#%%\n"
    }
   }
  },
  {
   "cell_type": "code",
   "execution_count": 23,
   "outputs": [
    {
     "data": {
      "text/plain": "35.5"
     },
     "execution_count": 23,
     "metadata": {},
     "output_type": "execute_result"
    }
   ],
   "source": [
    "51.25-15.75"
   ],
   "metadata": {
    "collapsed": false,
    "pycharm": {
     "name": "#%%\n"
    }
   }
  },
  {
   "cell_type": "code",
   "execution_count": 28,
   "outputs": [
    {
     "data": {
      "text/plain": "array([0])"
     },
     "execution_count": 28,
     "metadata": {},
     "output_type": "execute_result"
    }
   ],
   "source": [
    "numpy.random.seed(2022)\n",
    "# _practice_ The Binomial Distribution\n",
    "binom.rvs(\n",
    "    3,      # events (this can be the num of coins, num of deals, etc.)\n",
    "    0.30,   # probability of success (there is a 30% chance a deal will succeed)\n",
    "    size=1  # num of trials\n",
    ")\n",
    "# 3 deals (num events) in 1 week (num trials)"
   ],
   "metadata": {
    "collapsed": false,
    "pycharm": {
     "name": "#%%\n"
    }
   }
  },
  {
   "cell_type": "code",
   "execution_count": 32,
   "outputs": [
    {
     "data": {
      "text/plain": "[array([2, 0, 2, 0, 1, 1, 0, 1, 1, 0, 0, 1, 1, 2, 3, 0, 2, 1, 0, 1, 2, 2,\n        2, 1, 1, 1, 1, 1, 3, 0, 0, 0, 2, 2, 2, 1, 2, 0, 1, 0, 0, 2, 0, 1,\n        0, 1, 1, 2, 1, 0, 3, 0])]"
     },
     "execution_count": 32,
     "metadata": {},
     "output_type": "execute_result"
    }
   ],
   "source": [
    "# 3 deals per week over 52 weeks. Each deal has a 30% chance of success\n",
    "sim_year = binom.rvs(\n",
    "    3, # events (e.g. 3 deals)\n",
    "    0.30, # probability of success (based on prior years' success rate)\n",
    "    size=52 # trials (weeks in a year)\n",
    ")\n",
    "# in week 1 there were 2 successes\n",
    "# week 2 had 0 successes\n",
    "# week 3 had 2 successes\n",
    "# week 4 had 0 successes\n",
    "# week 5 had 1 success\n",
    "[sim_year]"
   ],
   "metadata": {
    "collapsed": false,
    "pycharm": {
     "name": "#%%\n"
    }
   }
  },
  {
   "cell_type": "code",
   "execution_count": 34,
   "outputs": [
    {
     "data": {
      "text/plain": "<AxesSubplot:>"
     },
     "execution_count": 34,
     "metadata": {},
     "output_type": "execute_result"
    },
    {
     "data": {
      "text/plain": "<Figure size 432x288 with 1 Axes>",
      "image/png": "[encoded data removed]"
     },
     "metadata": {
      "needs_background": "light"
     },
     "output_type": "display_data"
    }
   ],
   "source": [
    "# _practice_ The Normal Distribution\n",
    "df_amir['amount'].hist()"
   ],
   "metadata": {
    "collapsed": false,
    "pycharm": {
     "name": "#%%\n"
    }
   }
  },
  {
   "cell_type": "markdown",
   "source": [
    "# Normal distribution"
   ],
   "metadata": {
    "collapsed": false,
    "pycharm": {
     "name": "#%% md\n"
    }
   }
  },
  {
   "cell_type": "code",
   "execution_count": 38,
   "outputs": [
    {
     "data": {
      "text/plain": "0.8943502263331446"
     },
     "execution_count": 38,
     "metadata": {},
     "output_type": "execute_result"
    }
   ],
   "source": [
    "mean = 5000\n",
    "standard_deviation = 2000\n",
    "\n",
    "# What's the probability of Amir closing a deal worth less than $7500?\n",
    "norm.cdf(\n",
    "    7500,               # target?\n",
    "    mean,               # mean\n",
    "    standard_deviation  # standard deviation\n",
    ")"
   ],
   "metadata": {
    "collapsed": false,
    "pycharm": {
     "name": "#%%\n"
    }
   }
  },
  {
   "cell_type": "code",
   "execution_count": 39,
   "outputs": [
    {
     "data": {
      "text/plain": "0.9772498680518208"
     },
     "execution_count": 39,
     "metadata": {},
     "output_type": "execute_result"
    }
   ],
   "source": [
    "# What's the probability of Amir closing a deal worth more than $1000?\n",
    "1 - norm.cdf(1000, mean, standard_deviation)"
   ],
   "metadata": {
    "collapsed": false,
    "pycharm": {
     "name": "#%%\n"
    }
   }
  },
  {
   "cell_type": "code",
   "execution_count": 40,
   "outputs": [
    {
     "data": {
      "text/plain": "0.6826894921370859"
     },
     "execution_count": 40,
     "metadata": {},
     "output_type": "execute_result"
    }
   ],
   "source": [
    "# What's the probability of Amir closing a deal worth between $3000 and $7000?\n",
    "norm.cdf(7000,mean,standard_deviation)-norm.cdf(3000,mean,standard_deviation)"
   ],
   "metadata": {
    "collapsed": false,
    "pycharm": {
     "name": "#%%\n"
    }
   }
  },
  {
   "cell_type": "code",
   "execution_count": 41,
   "outputs": [
    {
     "data": {
      "text/plain": "3651.0204996078364"
     },
     "execution_count": 41,
     "metadata": {},
     "output_type": "execute_result"
    }
   ],
   "source": [
    "# What amount will 25% of Amir's sales be less than?\n",
    "norm.ppf(0.25,mean,standard_deviation)"
   ],
   "metadata": {
    "collapsed": false,
    "pycharm": {
     "name": "#%%\n"
    }
   }
  },
  {
   "cell_type": "code",
   "execution_count": 43,
   "outputs": [
    {
     "data": {
      "text/plain": "[array([5007.51442596, 1112.08562002, 3928.18005972, 3380.4123905 ,\n        2054.02409344, 7173.59605812, 5588.00572633, 3625.02552183,\n        5394.10375734, 6030.14493715, 5055.0608433 , 4643.24353768,\n        3655.82132281, 3838.80496633, 7593.48766531, 4249.13839724,\n        7245.15040391, 5053.20946806, 3659.4233646 , 3922.64735439,\n        4293.89532896, 8663.32947392, 6363.58801249, 3902.1260127 ,\n        4822.91813012, 2676.44567266, 5086.69986782, 5572.55710228,\n        5620.05531688, 7028.54391206, 3938.17087625, 7231.15111006,\n        6592.11939306, 5456.82919189, 7119.55725186, 4007.96795418,\n        5365.59381383, 3591.72922508, 9600.70509192, 1606.70810486,\n        3619.28526298, 4848.07234973, 5033.18796613, 5975.64601552,\n        7025.53247705, 6031.79868557, 6384.61245763, 7325.70864649,\n        6277.18668671, 4988.71131746, 5701.05320074, 4104.46953463])]"
     },
     "execution_count": 43,
     "metadata": {},
     "output_type": "execute_result"
    }
   ],
   "source": [
    "# Simulate a year's worth of sales\n",
    "[norm.rvs(mean,standard_deviation,size=52)]"
   ],
   "metadata": {
    "collapsed": false,
    "pycharm": {
     "name": "#%%\n"
    }
   }
  },
  {
   "cell_type": "markdown",
   "source": [
    "# Poisson Distribution"
   ],
   "metadata": {
    "collapsed": false,
    "pycharm": {
     "name": "#%% md\n"
    }
   }
  },
  {
   "cell_type": "code",
   "execution_count": 44,
   "outputs": [
    {
     "data": {
      "text/plain": "0.1562934518505317"
     },
     "execution_count": 44,
     "metadata": {},
     "output_type": "execute_result"
    }
   ],
   "source": [
    "# lambda is the average number of events per time span\n",
    "# e.g. sales rep responds to an avg of 4 leads per 1 day\n",
    "lam = 4\n",
    "# probability rep responds to 5 leads in 1 day\n",
    "poisson.pmf(5,lam)"
   ],
   "metadata": {
    "collapsed": false,
    "pycharm": {
     "name": "#%%\n"
    }
   }
  },
  {
   "cell_type": "code",
   "execution_count": 45,
   "outputs": [
    {
     "data": {
      "text/plain": "0.23810330555354436"
     },
     "execution_count": 45,
     "metadata": {},
     "output_type": "execute_result"
    }
   ],
   "source": [
    "# probability rep responds to 2 leads or fewer in 1 day\n",
    "poisson.cdf(2,lam)"
   ],
   "metadata": {
    "collapsed": false,
    "pycharm": {
     "name": "#%%\n"
    }
   }
  },
  {
   "cell_type": "code",
   "execution_count": 46,
   "outputs": [
    {
     "data": {
      "text/plain": "0.0028397661205137315"
     },
     "execution_count": 46,
     "metadata": {},
     "output_type": "execute_result"
    }
   ],
   "source": [
    "# probability of responding to more than 10 leads in 1 day\n",
    "1 - poisson.cdf(10,lam)"
   ],
   "metadata": {
    "collapsed": false,
    "pycharm": {
     "name": "#%%\n"
    }
   }
  },
  {
   "cell_type": "code",
   "execution_count": null,
   "outputs": [],
   "source": [
    "# Exponential Distribution\n",
    "# amount of time till someone pays off their loan\n",
    "# amount of time till someone walks in the store\n",
    "avg_time_to_respond = 2.5  # hours"
   ],
   "metadata": {
    "collapsed": false,
    "pycharm": {
     "name": "#%%\n"
    }
   }
  },
  {
   "cell_type": "code",
   "execution_count": 49,
   "outputs": [
    {
     "data": {
      "text/plain": "0.3296799539643607"
     },
     "execution_count": 49,
     "metadata": {},
     "output_type": "execute_result"
    }
   ],
   "source": [
    "# probability of taking less than an hour\n",
    "expon.cdf(1,scale=avg_time_to_respond)"
   ],
   "metadata": {
    "collapsed": false,
    "pycharm": {
     "name": "#%%\n"
    }
   }
  },
  {
   "cell_type": "code",
   "execution_count": 50,
   "outputs": [
    {
     "data": {
      "text/plain": "0.2231301601484298"
     },
     "execution_count": 50,
     "metadata": {},
     "output_type": "execute_result"
    }
   ],
   "source": [
    "# probability of taking more than 4 hours\n",
    "1 - expon.cdf(4,avg_time_to_respond)"
   ],
   "metadata": {
    "collapsed": false,
    "pycharm": {
     "name": "#%%\n"
    }
   }
  },
  {
   "cell_type": "code",
   "execution_count": null,
   "outputs": [],
   "source": [],
   "metadata": {
    "collapsed": false,
    "pycharm": {
     "name": "#%%\n"
    }
   }
  }
 ],
 "metadata": {
  "kernelspec": {
   "display_name": "Python 3",
   "language": "python",
   "name": "python3"
  },
  "language_info": {
   "codemirror_mode": {
    "name": "ipython",
    "version": 2
   },
   "file_extension": ".py",
   "mimetype": "text/x-python",
   "name": "python",
   "nbconvert_exporter": "python",
   "pygments_lexer": "ipython2",
   "version": "2.7.6"
  }
 },
 "nbformat": 4,
 "nbformat_minor": 0
}
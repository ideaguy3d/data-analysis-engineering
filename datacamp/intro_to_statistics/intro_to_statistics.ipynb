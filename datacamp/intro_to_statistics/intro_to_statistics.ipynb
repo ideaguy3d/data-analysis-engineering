{
 "cells": [
  {
   "cell_type": "code",
   "execution_count": 1,
   "metadata": {
    "collapsed": true,
    "pycharm": {
     "name": "#%%\n"
    }
   },
   "outputs": [
    {
     "data": {
      "text/plain": "   store type  department        date  weekly_sales  is_holiday  \\\n0      1    A           1  2010-02-05      24924.50       False   \n1      1    A           1  2010-03-05      21827.90       False   \n2      1    A           1  2010-04-02      57258.43       False   \n3      1    A           1  2010-05-07      17413.94       False   \n4      1    A           1  2010-06-04      17558.09       False   \n\n   temperature_c  fuel_price_usd_per_l  unemployment  \n0       5.727778              0.679451         8.106  \n1       8.055556              0.693452         8.106  \n2      16.816667              0.718284         7.808  \n3      22.527778              0.748928         7.808  \n4      27.050000              0.714586         7.808  ",
      "text/html": "<div>\n<style scoped>\n    .dataframe tbody tr th:only-of-type {\n        vertical-align: middle;\n    }\n\n    .dataframe tbody tr th {\n        vertical-align: top;\n    }\n\n    .dataframe thead th {\n        text-align: right;\n    }\n</style>\n<table border=\"1\" class=\"dataframe\">\n  <thead>\n    <tr style=\"text-align: right;\">\n      <th></th>\n      <th>store</th>\n      <th>type</th>\n      <th>department</th>\n      <th>date</th>\n      <th>weekly_sales</th>\n      <th>is_holiday</th>\n      <th>temperature_c</th>\n      <th>fuel_price_usd_per_l</th>\n      <th>unemployment</th>\n    </tr>\n  </thead>\n  <tbody>\n    <tr>\n      <th>0</th>\n      <td>1</td>\n      <td>A</td>\n      <td>1</td>\n      <td>2010-02-05</td>\n      <td>24924.50</td>\n      <td>False</td>\n      <td>5.727778</td>\n      <td>0.679451</td>\n      <td>8.106</td>\n    </tr>\n    <tr>\n      <th>1</th>\n      <td>1</td>\n      <td>A</td>\n      <td>1</td>\n      <td>2010-03-05</td>\n      <td>21827.90</td>\n      <td>False</td>\n      <td>8.055556</td>\n      <td>0.693452</td>\n      <td>8.106</td>\n    </tr>\n    <tr>\n      <th>2</th>\n      <td>1</td>\n      <td>A</td>\n      <td>1</td>\n      <td>2010-04-02</td>\n      <td>57258.43</td>\n      <td>False</td>\n      <td>16.816667</td>\n      <td>0.718284</td>\n      <td>7.808</td>\n    </tr>\n    <tr>\n      <th>3</th>\n      <td>1</td>\n      <td>A</td>\n      <td>1</td>\n      <td>2010-05-07</td>\n      <td>17413.94</td>\n      <td>False</td>\n      <td>22.527778</td>\n      <td>0.748928</td>\n      <td>7.808</td>\n    </tr>\n    <tr>\n      <th>4</th>\n      <td>1</td>\n      <td>A</td>\n      <td>1</td>\n      <td>2010-06-04</td>\n      <td>17558.09</td>\n      <td>False</td>\n      <td>27.050000</td>\n      <td>0.714586</td>\n      <td>7.808</td>\n    </tr>\n  </tbody>\n</table>\n</div>"
     },
     "execution_count": 1,
     "metadata": {},
     "output_type": "execute_result"
    }
   ],
   "source": [
    "\"\"\"\n",
    "                        ~ Notable fields/methods & Techniques ~\n",
    "\n",
    "df = pandas.read_csv('data.csv')\n",
    "\n",
    "\n",
    "\"\"\"\n",
    "import pandas\n",
    "import numpy\n",
    "\n",
    "data_folder = '../../data'\n",
    "# types: A = supercenter, B = discount store, C = neighborhood market\n",
    "df_walmart = pandas.read_csv(f'{data_folder}/walmart_sales_subset.csv', index_col=0)\n",
    "df_homeless = pandas.read_csv(f'{data_folder}/homeless.csv', index_col=0)\n",
    "\n",
    "df_walmart.head()"
   ]
  },
  {
   "cell_type": "code",
   "execution_count": 3,
   "outputs": [
    {
     "data": {
      "text/plain": "               region       state  individuals  family_members  state_pop\n0  East South Central     Alabama       2570.0           864.0    4887681\n1             Pacific      Alaska       1434.0           582.0     735139\n2            Mountain     Arizona       7259.0          2606.0    7158024\n3  West South Central    Arkansas       2280.0           432.0    3009733\n4             Pacific  California     109008.0         20964.0   39461588",
      "text/html": "<div>\n<style scoped>\n    .dataframe tbody tr th:only-of-type {\n        vertical-align: middle;\n    }\n\n    .dataframe tbody tr th {\n        vertical-align: top;\n    }\n\n    .dataframe thead th {\n        text-align: right;\n    }\n</style>\n<table border=\"1\" class=\"dataframe\">\n  <thead>\n    <tr style=\"text-align: right;\">\n      <th></th>\n      <th>region</th>\n      <th>state</th>\n      <th>individuals</th>\n      <th>family_members</th>\n      <th>state_pop</th>\n    </tr>\n  </thead>\n  <tbody>\n    <tr>\n      <th>0</th>\n      <td>East South Central</td>\n      <td>Alabama</td>\n      <td>2570.0</td>\n      <td>864.0</td>\n      <td>4887681</td>\n    </tr>\n    <tr>\n      <th>1</th>\n      <td>Pacific</td>\n      <td>Alaska</td>\n      <td>1434.0</td>\n      <td>582.0</td>\n      <td>735139</td>\n    </tr>\n    <tr>\n      <th>2</th>\n      <td>Mountain</td>\n      <td>Arizona</td>\n      <td>7259.0</td>\n      <td>2606.0</td>\n      <td>7158024</td>\n    </tr>\n    <tr>\n      <th>3</th>\n      <td>West South Central</td>\n      <td>Arkansas</td>\n      <td>2280.0</td>\n      <td>432.0</td>\n      <td>3009733</td>\n    </tr>\n    <tr>\n      <th>4</th>\n      <td>Pacific</td>\n      <td>California</td>\n      <td>109008.0</td>\n      <td>20964.0</td>\n      <td>39461588</td>\n    </tr>\n  </tbody>\n</table>\n</div>"
     },
     "execution_count": 3,
     "metadata": {},
     "output_type": "execute_result"
    }
   ],
   "source": [
    "df_homeless.head()"
   ],
   "metadata": {
    "collapsed": false,
    "pycharm": {
     "name": "#%%\n"
    }
   }
  },
  {
   "cell_type": "code",
   "execution_count": 4,
   "outputs": [
    {
     "data": {
      "text/plain": "                            mean   median\nregion                                   \nEast North Central   5081.200000   5209.0\nEast South Central   3117.000000   2652.5\nMid-Atlantic        18012.666667   8163.0\nMountain             3561.375000   1926.5\nNew England          2150.500000   1142.5\nPacific             28427.200000  11139.0\nSouth Atlantic       5806.666667   3928.0\nWest North Central   1995.857143   1711.0\nWest South Central   6710.500000   2681.5",
      "text/html": "<div>\n<style scoped>\n    .dataframe tbody tr th:only-of-type {\n        vertical-align: middle;\n    }\n\n    .dataframe tbody tr th {\n        vertical-align: top;\n    }\n\n    .dataframe thead th {\n        text-align: right;\n    }\n</style>\n<table border=\"1\" class=\"dataframe\">\n  <thead>\n    <tr style=\"text-align: right;\">\n      <th></th>\n      <th>mean</th>\n      <th>median</th>\n    </tr>\n    <tr>\n      <th>region</th>\n      <th></th>\n      <th></th>\n    </tr>\n  </thead>\n  <tbody>\n    <tr>\n      <th>East North Central</th>\n      <td>5081.200000</td>\n      <td>5209.0</td>\n    </tr>\n    <tr>\n      <th>East South Central</th>\n      <td>3117.000000</td>\n      <td>2652.5</td>\n    </tr>\n    <tr>\n      <th>Mid-Atlantic</th>\n      <td>18012.666667</td>\n      <td>8163.0</td>\n    </tr>\n    <tr>\n      <th>Mountain</th>\n      <td>3561.375000</td>\n      <td>1926.5</td>\n    </tr>\n    <tr>\n      <th>New England</th>\n      <td>2150.500000</td>\n      <td>1142.5</td>\n    </tr>\n    <tr>\n      <th>Pacific</th>\n      <td>28427.200000</td>\n      <td>11139.0</td>\n    </tr>\n    <tr>\n      <th>South Atlantic</th>\n      <td>5806.666667</td>\n      <td>3928.0</td>\n    </tr>\n    <tr>\n      <th>West North Central</th>\n      <td>1995.857143</td>\n      <td>1711.0</td>\n    </tr>\n    <tr>\n      <th>West South Central</th>\n      <td>6710.500000</td>\n      <td>2681.5</td>\n    </tr>\n  </tbody>\n</table>\n</div>"
     },
     "execution_count": 4,
     "metadata": {},
     "output_type": "execute_result"
    }
   ],
   "source": [
    "df_homeless.groupby('region')['individuals'].agg([numpy.mean,numpy.median])"
   ],
   "metadata": {
    "collapsed": false,
    "pycharm": {
     "name": "#%%\n"
    }
   }
  },
  {
   "cell_type": "code",
   "execution_count": null,
   "outputs": [],
   "source": [],
   "metadata": {
    "collapsed": false,
    "pycharm": {
     "name": "#%%\n"
    }
   }
  }
 ],
 "metadata": {
  "kernelspec": {
   "display_name": "Python 3",
   "language": "python",
   "name": "python3"
  },
  "language_info": {
   "codemirror_mode": {
    "name": "ipython",
    "version": 2
   },
   "file_extension": ".py",
   "mimetype": "text/x-python",
   "name": "python",
   "nbconvert_exporter": "python",
   "pygments_lexer": "ipython2",
   "version": "2.7.6"
  }
 },
 "nbformat": 4,
 "nbformat_minor": 0
}
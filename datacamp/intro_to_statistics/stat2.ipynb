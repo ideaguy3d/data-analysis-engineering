{
 "cells": [
  {
   "cell_type": "code",
   "execution_count": 1,
   "metadata": {
    "collapsed": true
   },
   "outputs": [],
   "source": [
    "import pandas\n",
    "import numpy as np\n",
    "from statsmodels.stats.proportion import proportions_ztest\n",
    "from scipy.stats import (norm)\n",
    "\n",
    "data_folder = '../../data'\n",
    "# types: A = super center, B = discount store, C = neighborhood market\n",
    "df_walmart = pandas.read_csv(f'{data_folder}/walmart_sales_subset.csv', index_col=0)\n",
    "df_homeless = pandas.read_csv(f'{data_folder}/homeless.csv', index_col=0)\n",
    "df_amir = pandas.read_csv(f'{data_folder}/amir_deals.csv',index_col=0)\n",
    "# simplify df_amir to just 100 observations\n",
    "df_amir = pandas.DataFrame(df_amir[:100])\n",
    "df_stack_overflow = pandas.read_feather(\n",
    "    f'{data_folder}/stack_overflow.feather')"
   ]
  },
  {
   "cell_type": "code",
   "execution_count": 2,
   "outputs": [
    {
     "data": {
      "text/plain": "  age_first_code_cut hobbyist\n0              adult      Yes\n1              child      Yes\n2              child      Yes\n3              adult      Yes\n4              adult       No\n5              adult      Yes\n6              child      Yes\n7              adult      Yes\n8              child      Yes\n9              adult      Yes",
      "text/html": "<div>\n<style scoped>\n    .dataframe tbody tr th:only-of-type {\n        vertical-align: middle;\n    }\n\n    .dataframe tbody tr th {\n        vertical-align: top;\n    }\n\n    .dataframe thead th {\n        text-align: right;\n    }\n</style>\n<table border=\"1\" class=\"dataframe\">\n  <thead>\n    <tr style=\"text-align: right;\">\n      <th></th>\n      <th>age_first_code_cut</th>\n      <th>hobbyist</th>\n    </tr>\n  </thead>\n  <tbody>\n    <tr>\n      <th>0</th>\n      <td>adult</td>\n      <td>Yes</td>\n    </tr>\n    <tr>\n      <th>1</th>\n      <td>child</td>\n      <td>Yes</td>\n    </tr>\n    <tr>\n      <th>2</th>\n      <td>child</td>\n      <td>Yes</td>\n    </tr>\n    <tr>\n      <th>3</th>\n      <td>adult</td>\n      <td>Yes</td>\n    </tr>\n    <tr>\n      <th>4</th>\n      <td>adult</td>\n      <td>No</td>\n    </tr>\n    <tr>\n      <th>5</th>\n      <td>adult</td>\n      <td>Yes</td>\n    </tr>\n    <tr>\n      <th>6</th>\n      <td>child</td>\n      <td>Yes</td>\n    </tr>\n    <tr>\n      <th>7</th>\n      <td>adult</td>\n      <td>Yes</td>\n    </tr>\n    <tr>\n      <th>8</th>\n      <td>child</td>\n      <td>Yes</td>\n    </tr>\n    <tr>\n      <th>9</th>\n      <td>adult</td>\n      <td>Yes</td>\n    </tr>\n  </tbody>\n</table>\n</div>"
     },
     "execution_count": 2,
     "metadata": {},
     "output_type": "execute_result"
    }
   ],
   "source": [
    "df_stack_overflow[['age_first_code_cut','hobbyist']].head(10)"
   ],
   "metadata": {
    "collapsed": false
   }
  },
  {
   "cell_type": "code",
   "execution_count": null,
   "outputs": [],
   "source": [
    "\n",
    "norm.cdf()"
   ],
   "metadata": {
    "collapsed": false
   }
  }
 ],
 "metadata": {
  "kernelspec": {
   "display_name": "Python 3",
   "language": "python",
   "name": "python3"
  },
  "language_info": {
   "codemirror_mode": {
    "name": "ipython",
    "version": 2
   },
   "file_extension": ".py",
   "mimetype": "text/x-python",
   "name": "python",
   "nbconvert_exporter": "python",
   "pygments_lexer": "ipython2",
   "version": "2.7.6"
  }
 },
 "nbformat": 4,
 "nbformat_minor": 0
}

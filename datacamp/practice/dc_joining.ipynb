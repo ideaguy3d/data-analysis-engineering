{
 "cells": [
  {
   "cell_type": "code",
   "execution_count": 2,
   "metadata": {
    "collapsed": true,
    "pycharm": {
     "name": "#%%\n"
    }
   },
   "outputs": [
    {
     "name": "stdout",
     "output_type": "stream",
     "text": [
      "hi\n"
     ]
    },
    {
     "data": {
      "text/plain": "   ward                   alderman                            address    zip\n0     1         Proco \"Joe\" Moreno          2058 NORTH WESTERN AVENUE  60647\n1     2              Brian Hopkins         1400 NORTH  ASHLAND AVENUE  60622\n2     3                 Pat Dowell            5046 SOUTH STATE STREET  60609\n3     4           William D. Burns    435 EAST 35TH STREET, 1ST FLOOR  60616\n4     5         Leslie A. Hairston              2325 EAST 71ST STREET  60649\n5     6         Roderick T. Sawyer   8001 S. MARTIN LUTHER KING DRIVE  60619\n6     7        Gregory I. Mitchell              2249 EAST 95TH STREET  60617\n7     8         Michelle A. Harris    8539 SOUTH COTTAGE GROVE AVENUE  60619\n8     9           Anthony A. Beale                34 EAST 112TH PLACE  60628\n9    10      Susan Sadlowski Garza           10500 SOUTH EWING AVENUE  60617\n10   11     Patrick Daley Thompson          3659 SOUTH HALSTED STREET  60609\n11   12            George Cardenas           3476 SOUTH ARCHER AVENUE  60608\n12   13                Marty Quinn            6500 SOUTH PULASKI ROAD  60629\n13   14            Edward M. Burke              2650 WEST 51ST STREET  60632\n14   15           Raymond A. Lopez              1650 WEST 63RD STREET  60636\n15   16            Toni L. Foulkes              3045 WEST 63RD STREET  60629\n16   17             David H. Moore          7313 SOUTH ASHLAND AVENUE  60636\n17   18          Derrick G. Curtis            8359 SOUTH PULASKI ROAD  60652\n18   19          Matthew J. O'Shea         10400 SOUTH WESTERN AVENUE  60643\n19   20          Willie B. Cochran    6357 SOUTH COTTAGE GROVE AVENUE  60637\n20   21    Howard B. Brookins, Jr.  9011 SOUTH ASHLAND AVENUE, UNIT B  60620\n21   22              Ricardo Munoz        2500 SOUTH ST. LOUIS AVENUE  60623\n22   23        Michael R. Zalewski           6247 SOUTH ARCHER AVENUE  60638\n23   24         Michael Scott, Jr.           1158 SOUTH KEELER AVENUE  60624\n24   25       Daniel \"Danny\" Solis      1800 SOUTH BLUE ISLAND AVENUE  60608\n25   26          Roberto Maldonado          2511 WEST DIVISION STREET  60622\n26   27        Walter Burnett, Jr.             4 NORTH WESTERN AVENUE  60612\n27   28             Jason C. Ervin              2602 WEST 16TH STREET  60612\n28   29           Chris Taliaferro             6272 WEST NORTH AVENUE  60639\n29   30          Ariel E. Reyboras        3559 NORTH MILWAUKEE AVENUE  60641\n30   31  Milagros \"Milly\" Santiago            2521 NORTH PULASKI ROAD  60639\n31   32           Scott Waguespack         2657 NORTH CLYBOURN AVENUE  60614\n32   33               Deborah Mell         3001 WEST IRVING PARK ROAD  60618\n33   34           Carrie M. Austin              507 WEST 111TH STREET  60628\n34   35        Carlos Ramirez-Rosa           2710 NORTH SAWYER AVENUE  60647\n35   36           Gilbert Villegas                 6934 WEST DIVERSEY  60607\n36   37              Emma M. Mitts           4924 WEST CHICAGO AVENUE  60651\n37   38           Nicholas Sposato          3821  NORTH HARLEM AVENUE  60634\n38   39           Margaret Laurino          4404 WEST LAWRENCE AVENUE  60630\n39   40        Patrick J. O'Connor          5850 NORTH LINCOLN AVENUE  60659\n40   41      Anthony V. Napolitano           7442 NORTH HARLEM AVENUE  60631\n41   42             Brendan Reilly   325 WEST HURON STREET, SUITE 510  60654\n42   43             Michelle Smith          2523 NORTH HALSTED STREET  60614\n43   44                 Tom Tunney        3223 NORTH SHEFFIELD AVENUE  60657\n44   45              John S. Arena        4754 NORTH MILWAUKEE AVENUE  60630\n45   46            James Cappleman         4544 NORTH BROADWAY AVENUE  60640\n46   47                Ameya Pawar          4243 NORTH LINCOLN AVENUE  60618\n47   48             Harry Osterman         5533 NORTH BROADWAY AVENUE  60640\n48   49                  Joe Moore        7356 NORTH GREENVIEW AVENUE  60626\n49   50       Debra L. Silverstein    2949 WEST DEVON AVENUE, SUITE A  60659",
      "text/html": "<div>\n<style scoped>\n    .dataframe tbody tr th:only-of-type {\n        vertical-align: middle;\n    }\n\n    .dataframe tbody tr th {\n        vertical-align: top;\n    }\n\n    .dataframe thead th {\n        text-align: right;\n    }\n</style>\n<table border=\"1\" class=\"dataframe\">\n  <thead>\n    <tr style=\"text-align: right;\">\n      <th></th>\n      <th>ward</th>\n      <th>alderman</th>\n      <th>address</th>\n      <th>zip</th>\n    </tr>\n  </thead>\n  <tbody>\n    <tr>\n      <th>0</th>\n      <td>1</td>\n      <td>Proco \"Joe\" Moreno</td>\n      <td>2058 NORTH WESTERN AVENUE</td>\n      <td>60647</td>\n    </tr>\n    <tr>\n      <th>1</th>\n      <td>2</td>\n      <td>Brian Hopkins</td>\n      <td>1400 NORTH  ASHLAND AVENUE</td>\n      <td>60622</td>\n    </tr>\n    <tr>\n      <th>2</th>\n      <td>3</td>\n      <td>Pat Dowell</td>\n      <td>5046 SOUTH STATE STREET</td>\n      <td>60609</td>\n    </tr>\n    <tr>\n      <th>3</th>\n      <td>4</td>\n      <td>William D. Burns</td>\n      <td>435 EAST 35TH STREET, 1ST FLOOR</td>\n      <td>60616</td>\n    </tr>\n    <tr>\n      <th>4</th>\n      <td>5</td>\n      <td>Leslie A. Hairston</td>\n      <td>2325 EAST 71ST STREET</td>\n      <td>60649</td>\n    </tr>\n    <tr>\n      <th>5</th>\n      <td>6</td>\n      <td>Roderick T. Sawyer</td>\n      <td>8001 S. MARTIN LUTHER KING DRIVE</td>\n      <td>60619</td>\n    </tr>\n    <tr>\n      <th>6</th>\n      <td>7</td>\n      <td>Gregory I. Mitchell</td>\n      <td>2249 EAST 95TH STREET</td>\n      <td>60617</td>\n    </tr>\n    <tr>\n      <th>7</th>\n      <td>8</td>\n      <td>Michelle A. Harris</td>\n      <td>8539 SOUTH COTTAGE GROVE AVENUE</td>\n      <td>60619</td>\n    </tr>\n    <tr>\n      <th>8</th>\n      <td>9</td>\n      <td>Anthony A. Beale</td>\n      <td>34 EAST 112TH PLACE</td>\n      <td>60628</td>\n    </tr>\n    <tr>\n      <th>9</th>\n      <td>10</td>\n      <td>Susan Sadlowski Garza</td>\n      <td>10500 SOUTH EWING AVENUE</td>\n      <td>60617</td>\n    </tr>\n    <tr>\n      <th>10</th>\n      <td>11</td>\n      <td>Patrick Daley Thompson</td>\n      <td>3659 SOUTH HALSTED STREET</td>\n      <td>60609</td>\n    </tr>\n    <tr>\n      <th>11</th>\n      <td>12</td>\n      <td>George Cardenas</td>\n      <td>3476 SOUTH ARCHER AVENUE</td>\n      <td>60608</td>\n    </tr>\n    <tr>\n      <th>12</th>\n      <td>13</td>\n      <td>Marty Quinn</td>\n      <td>6500 SOUTH PULASKI ROAD</td>\n      <td>60629</td>\n    </tr>\n    <tr>\n      <th>13</th>\n      <td>14</td>\n      <td>Edward M. Burke</td>\n      <td>2650 WEST 51ST STREET</td>\n      <td>60632</td>\n    </tr>\n    <tr>\n      <th>14</th>\n      <td>15</td>\n      <td>Raymond A. Lopez</td>\n      <td>1650 WEST 63RD STREET</td>\n      <td>60636</td>\n    </tr>\n    <tr>\n      <th>15</th>\n      <td>16</td>\n      <td>Toni L. Foulkes</td>\n      <td>3045 WEST 63RD STREET</td>\n      <td>60629</td>\n    </tr>\n    <tr>\n      <th>16</th>\n      <td>17</td>\n      <td>David H. Moore</td>\n      <td>7313 SOUTH ASHLAND AVENUE</td>\n      <td>60636</td>\n    </tr>\n    <tr>\n      <th>17</th>\n      <td>18</td>\n      <td>Derrick G. Curtis</td>\n      <td>8359 SOUTH PULASKI ROAD</td>\n      <td>60652</td>\n    </tr>\n    <tr>\n      <th>18</th>\n      <td>19</td>\n      <td>Matthew J. O'Shea</td>\n      <td>10400 SOUTH WESTERN AVENUE</td>\n      <td>60643</td>\n    </tr>\n    <tr>\n      <th>19</th>\n      <td>20</td>\n      <td>Willie B. Cochran</td>\n      <td>6357 SOUTH COTTAGE GROVE AVENUE</td>\n      <td>60637</td>\n    </tr>\n    <tr>\n      <th>20</th>\n      <td>21</td>\n      <td>Howard B. Brookins, Jr.</td>\n      <td>9011 SOUTH ASHLAND AVENUE, UNIT B</td>\n      <td>60620</td>\n    </tr>\n    <tr>\n      <th>21</th>\n      <td>22</td>\n      <td>Ricardo Munoz</td>\n      <td>2500 SOUTH ST. LOUIS AVENUE</td>\n      <td>60623</td>\n    </tr>\n    <tr>\n      <th>22</th>\n      <td>23</td>\n      <td>Michael R. Zalewski</td>\n      <td>6247 SOUTH ARCHER AVENUE</td>\n      <td>60638</td>\n    </tr>\n    <tr>\n      <th>23</th>\n      <td>24</td>\n      <td>Michael Scott, Jr.</td>\n      <td>1158 SOUTH KEELER AVENUE</td>\n      <td>60624</td>\n    </tr>\n    <tr>\n      <th>24</th>\n      <td>25</td>\n      <td>Daniel \"Danny\" Solis</td>\n      <td>1800 SOUTH BLUE ISLAND AVENUE</td>\n      <td>60608</td>\n    </tr>\n    <tr>\n      <th>25</th>\n      <td>26</td>\n      <td>Roberto Maldonado</td>\n      <td>2511 WEST DIVISION STREET</td>\n      <td>60622</td>\n    </tr>\n    <tr>\n      <th>26</th>\n      <td>27</td>\n      <td>Walter Burnett, Jr.</td>\n      <td>4 NORTH WESTERN AVENUE</td>\n      <td>60612</td>\n    </tr>\n    <tr>\n      <th>27</th>\n      <td>28</td>\n      <td>Jason C. Ervin</td>\n      <td>2602 WEST 16TH STREET</td>\n      <td>60612</td>\n    </tr>\n    <tr>\n      <th>28</th>\n      <td>29</td>\n      <td>Chris Taliaferro</td>\n      <td>6272 WEST NORTH AVENUE</td>\n      <td>60639</td>\n    </tr>\n    <tr>\n      <th>29</th>\n      <td>30</td>\n      <td>Ariel E. Reyboras</td>\n      <td>3559 NORTH MILWAUKEE AVENUE</td>\n      <td>60641</td>\n    </tr>\n    <tr>\n      <th>30</th>\n      <td>31</td>\n      <td>Milagros \"Milly\" Santiago</td>\n      <td>2521 NORTH PULASKI ROAD</td>\n      <td>60639</td>\n    </tr>\n    <tr>\n      <th>31</th>\n      <td>32</td>\n      <td>Scott Waguespack</td>\n      <td>2657 NORTH CLYBOURN AVENUE</td>\n      <td>60614</td>\n    </tr>\n    <tr>\n      <th>32</th>\n      <td>33</td>\n      <td>Deborah Mell</td>\n      <td>3001 WEST IRVING PARK ROAD</td>\n      <td>60618</td>\n    </tr>\n    <tr>\n      <th>33</th>\n      <td>34</td>\n      <td>Carrie M. Austin</td>\n      <td>507 WEST 111TH STREET</td>\n      <td>60628</td>\n    </tr>\n    <tr>\n      <th>34</th>\n      <td>35</td>\n      <td>Carlos Ramirez-Rosa</td>\n      <td>2710 NORTH SAWYER AVENUE</td>\n      <td>60647</td>\n    </tr>\n    <tr>\n      <th>35</th>\n      <td>36</td>\n      <td>Gilbert Villegas</td>\n      <td>6934 WEST DIVERSEY</td>\n      <td>60607</td>\n    </tr>\n    <tr>\n      <th>36</th>\n      <td>37</td>\n      <td>Emma M. Mitts</td>\n      <td>4924 WEST CHICAGO AVENUE</td>\n      <td>60651</td>\n    </tr>\n    <tr>\n      <th>37</th>\n      <td>38</td>\n      <td>Nicholas Sposato</td>\n      <td>3821  NORTH HARLEM AVENUE</td>\n      <td>60634</td>\n    </tr>\n    <tr>\n      <th>38</th>\n      <td>39</td>\n      <td>Margaret Laurino</td>\n      <td>4404 WEST LAWRENCE AVENUE</td>\n      <td>60630</td>\n    </tr>\n    <tr>\n      <th>39</th>\n      <td>40</td>\n      <td>Patrick J. O'Connor</td>\n      <td>5850 NORTH LINCOLN AVENUE</td>\n      <td>60659</td>\n    </tr>\n    <tr>\n      <th>40</th>\n      <td>41</td>\n      <td>Anthony V. Napolitano</td>\n      <td>7442 NORTH HARLEM AVENUE</td>\n      <td>60631</td>\n    </tr>\n    <tr>\n      <th>41</th>\n      <td>42</td>\n      <td>Brendan Reilly</td>\n      <td>325 WEST HURON STREET, SUITE 510</td>\n      <td>60654</td>\n    </tr>\n    <tr>\n      <th>42</th>\n      <td>43</td>\n      <td>Michelle Smith</td>\n      <td>2523 NORTH HALSTED STREET</td>\n      <td>60614</td>\n    </tr>\n    <tr>\n      <th>43</th>\n      <td>44</td>\n      <td>Tom Tunney</td>\n      <td>3223 NORTH SHEFFIELD AVENUE</td>\n      <td>60657</td>\n    </tr>\n    <tr>\n      <th>44</th>\n      <td>45</td>\n      <td>John S. Arena</td>\n      <td>4754 NORTH MILWAUKEE AVENUE</td>\n      <td>60630</td>\n    </tr>\n    <tr>\n      <th>45</th>\n      <td>46</td>\n      <td>James Cappleman</td>\n      <td>4544 NORTH BROADWAY AVENUE</td>\n      <td>60640</td>\n    </tr>\n    <tr>\n      <th>46</th>\n      <td>47</td>\n      <td>Ameya Pawar</td>\n      <td>4243 NORTH LINCOLN AVENUE</td>\n      <td>60618</td>\n    </tr>\n    <tr>\n      <th>47</th>\n      <td>48</td>\n      <td>Harry Osterman</td>\n      <td>5533 NORTH BROADWAY AVENUE</td>\n      <td>60640</td>\n    </tr>\n    <tr>\n      <th>48</th>\n      <td>49</td>\n      <td>Joe Moore</td>\n      <td>7356 NORTH GREENVIEW AVENUE</td>\n      <td>60626</td>\n    </tr>\n    <tr>\n      <th>49</th>\n      <td>50</td>\n      <td>Debra L. Silverstein</td>\n      <td>2949 WEST DEVON AVENUE, SUITE A</td>\n      <td>60659</td>\n    </tr>\n  </tbody>\n</table>\n</div>"
     },
     "execution_count": 2,
     "metadata": {},
     "output_type": "execute_result"
    }
   ],
   "source": [
    "import pandas\n",
    "print('hi')\n",
    "df_ward = pandas.read_pickle('data/join/ward.p')\n",
    "df_ward"
   ]
  },
  {
   "cell_type": "code",
   "execution_count": 3,
   "outputs": [
    {
     "data": {
      "text/plain": "(50, 4)"
     },
     "execution_count": 3,
     "metadata": {},
     "output_type": "execute_result"
    }
   ],
   "source": [
    "df_ward.shape"
   ],
   "metadata": {
    "collapsed": false,
    "pycharm": {
     "name": "#%%\n"
    }
   }
  },
  {
   "cell_type": "code",
   "execution_count": null,
   "outputs": [],
   "source": [],
   "metadata": {
    "collapsed": false,
    "pycharm": {
     "name": "#%%\n"
    }
   }
  }
 ],
 "metadata": {
  "kernelspec": {
   "display_name": "Python 3",
   "language": "python",
   "name": "python3"
  },
  "language_info": {
   "codemirror_mode": {
    "name": "ipython",
    "version": 2
   },
   "file_extension": ".py",
   "mimetype": "text/x-python",
   "name": "python",
   "nbconvert_exporter": "python",
   "pygments_lexer": "ipython2",
   "version": "2.7.6"
  }
 },
 "nbformat": 4,
 "nbformat_minor": 0
}
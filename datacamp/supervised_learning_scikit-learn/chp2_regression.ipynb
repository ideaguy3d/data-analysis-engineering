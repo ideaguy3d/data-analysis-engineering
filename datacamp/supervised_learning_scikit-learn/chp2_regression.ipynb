{
 "cells": [
  {
   "cell_type": "markdown",
   "source": [
    "# Imports "
   ],
   "metadata": {
    "collapsed": false
   },
   "id": "8ecd5ad6955ad27e"
  },
  {
   "cell_type": "code",
   "execution_count": 13,
   "id": "initial_id",
   "metadata": {
    "collapsed": true,
    "ExecuteTime": {
     "end_time": "2023-10-10T09:25:11.669265Z",
     "start_time": "2023-10-10T09:25:11.619059Z"
    }
   },
   "outputs": [],
   "source": [
    "import pandas \n",
    "from sklearn.linear_model import LinearRegression \n",
    "import matplotlib.pyplot as plt"
   ]
  },
  {
   "cell_type": "code",
   "execution_count": 2,
   "outputs": [
    {
     "data": {
      "text/plain": "           tv     radio  social_media influencer      sales\n0     16000.0   6566.23       2907.98       Mega   54732.76\n1     13000.0   9237.76       2409.57       Mega   46677.90\n2     41000.0  15886.45       2913.41       Mega  150177.83\n3     83000.0  30020.03       6922.30       Mega  298246.34\n4     15000.0   8437.41       1406.00      Micro   56594.18\n...       ...       ...           ...        ...        ...\n4541  26000.0   4472.36        717.09      Micro   94685.87\n4542  71000.0  20610.69       6545.57       Nano  249101.92\n4543  44000.0  19800.07       5096.19      Micro  163631.46\n4544  71000.0  17534.64       1940.87      Macro  253610.41\n4545  42000.0  15966.69       5046.55      Micro  148202.41\n\n[4546 rows x 5 columns]",
      "text/html": "<div>\n<style scoped>\n    .dataframe tbody tr th:only-of-type {\n        vertical-align: middle;\n    }\n\n    .dataframe tbody tr th {\n        vertical-align: top;\n    }\n\n    .dataframe thead th {\n        text-align: right;\n    }\n</style>\n<table border=\"1\" class=\"dataframe\">\n  <thead>\n    <tr style=\"text-align: right;\">\n      <th></th>\n      <th>tv</th>\n      <th>radio</th>\n      <th>social_media</th>\n      <th>influencer</th>\n      <th>sales</th>\n    </tr>\n  </thead>\n  <tbody>\n    <tr>\n      <th>0</th>\n      <td>16000.0</td>\n      <td>6566.23</td>\n      <td>2907.98</td>\n      <td>Mega</td>\n      <td>54732.76</td>\n    </tr>\n    <tr>\n      <th>1</th>\n      <td>13000.0</td>\n      <td>9237.76</td>\n      <td>2409.57</td>\n      <td>Mega</td>\n      <td>46677.90</td>\n    </tr>\n    <tr>\n      <th>2</th>\n      <td>41000.0</td>\n      <td>15886.45</td>\n      <td>2913.41</td>\n      <td>Mega</td>\n      <td>150177.83</td>\n    </tr>\n    <tr>\n      <th>3</th>\n      <td>83000.0</td>\n      <td>30020.03</td>\n      <td>6922.30</td>\n      <td>Mega</td>\n      <td>298246.34</td>\n    </tr>\n    <tr>\n      <th>4</th>\n      <td>15000.0</td>\n      <td>8437.41</td>\n      <td>1406.00</td>\n      <td>Micro</td>\n      <td>56594.18</td>\n    </tr>\n    <tr>\n      <th>...</th>\n      <td>...</td>\n      <td>...</td>\n      <td>...</td>\n      <td>...</td>\n      <td>...</td>\n    </tr>\n    <tr>\n      <th>4541</th>\n      <td>26000.0</td>\n      <td>4472.36</td>\n      <td>717.09</td>\n      <td>Micro</td>\n      <td>94685.87</td>\n    </tr>\n    <tr>\n      <th>4542</th>\n      <td>71000.0</td>\n      <td>20610.69</td>\n      <td>6545.57</td>\n      <td>Nano</td>\n      <td>249101.92</td>\n    </tr>\n    <tr>\n      <th>4543</th>\n      <td>44000.0</td>\n      <td>19800.07</td>\n      <td>5096.19</td>\n      <td>Micro</td>\n      <td>163631.46</td>\n    </tr>\n    <tr>\n      <th>4544</th>\n      <td>71000.0</td>\n      <td>17534.64</td>\n      <td>1940.87</td>\n      <td>Macro</td>\n      <td>253610.41</td>\n    </tr>\n    <tr>\n      <th>4545</th>\n      <td>42000.0</td>\n      <td>15966.69</td>\n      <td>5046.55</td>\n      <td>Micro</td>\n      <td>148202.41</td>\n    </tr>\n  </tbody>\n</table>\n<p>4546 rows × 5 columns</p>\n</div>"
     },
     "execution_count": 2,
     "metadata": {},
     "output_type": "execute_result"
    }
   ],
   "source": [
    "sales_df = pandas.read_csv('data/advertising_and_sales_clean.csv')\n",
    "sales_df"
   ],
   "metadata": {
    "collapsed": false,
    "ExecuteTime": {
     "end_time": "2023-10-10T09:11:52.998328Z",
     "start_time": "2023-10-10T09:11:52.800117Z"
    }
   },
   "id": "d3117857f441b185"
  },
  {
   "cell_type": "markdown",
   "source": [
    "# Creating Features"
   ],
   "metadata": {
    "collapsed": false
   },
   "id": "a696f0d970682183"
  },
  {
   "cell_type": "code",
   "execution_count": 3,
   "outputs": [
    {
     "data": {
      "text/plain": "array([ 6566.23,  9237.76, 15886.45, ..., 19800.07, 17534.64, 15966.69])"
     },
     "execution_count": 3,
     "metadata": {},
     "output_type": "execute_result"
    }
   ],
   "source": [
    "X = sales_df['radio'].values\n",
    "X"
   ],
   "metadata": {
    "collapsed": false,
    "ExecuteTime": {
     "end_time": "2023-10-10T09:14:48.746005Z",
     "start_time": "2023-10-10T09:14:48.728614Z"
    }
   },
   "id": "9177d16c96fe0706"
  },
  {
   "cell_type": "code",
   "execution_count": 6,
   "outputs": [
    {
     "name": "stdout",
     "output_type": "stream",
     "text": [
      "<class 'pandas.core.series.Series'>\n",
      "<class 'numpy.ndarray'> (4546,)\n"
     ]
    }
   ],
   "source": [
    "print(type(sales_df['radio']))\n",
    "print(type(X), X.shape)"
   ],
   "metadata": {
    "collapsed": false,
    "ExecuteTime": {
     "end_time": "2023-10-10T09:16:18.085887Z",
     "start_time": "2023-10-10T09:16:18.052931Z"
    }
   },
   "id": "e7c3bf724fd42c9c"
  },
  {
   "cell_type": "code",
   "execution_count": 8,
   "outputs": [
    {
     "name": "stdout",
     "output_type": "stream",
     "text": [
      "<class 'numpy.ndarray'> (4546, 1)\n"
     ]
    },
    {
     "data": {
      "text/plain": "array([[ 6566.23],\n       [ 9237.76],\n       [15886.45],\n       ...,\n       [19800.07],\n       [17534.64],\n       [15966.69]])"
     },
     "execution_count": 8,
     "metadata": {},
     "output_type": "execute_result"
    }
   ],
   "source": [
    "X = X.reshape(-1, 1)\n",
    "print(type(X), X.shape)\n",
    "X"
   ],
   "metadata": {
    "collapsed": false,
    "ExecuteTime": {
     "end_time": "2023-10-10T09:18:03.891634Z",
     "start_time": "2023-10-10T09:18:03.882309Z"
    }
   },
   "id": "514d6e4b8299eea8"
  },
  {
   "cell_type": "code",
   "execution_count": 9,
   "outputs": [],
   "source": [
    "y = sales_df['sales'].values"
   ],
   "metadata": {
    "collapsed": false,
    "ExecuteTime": {
     "end_time": "2023-10-10T09:18:40.021266Z",
     "start_time": "2023-10-10T09:18:40.009276Z"
    }
   },
   "id": "818980f75d684cb3"
  },
  {
   "cell_type": "markdown",
   "source": [
    "# Build a linear regression model"
   ],
   "metadata": {
    "collapsed": false
   },
   "id": "825fa30626b34573"
  },
  {
   "cell_type": "code",
   "execution_count": 11,
   "outputs": [
    {
     "data": {
      "text/plain": "array([ 95491.17119147, 117829.51038393, 173423.38071499, ...,\n       206147.61403088, 187204.93183873, 174094.31771993])"
     },
     "execution_count": 11,
     "metadata": {},
     "output_type": "execute_result"
    }
   ],
   "source": [
    "reg = LinearRegression()\n",
    "reg.fit(X, y)\n",
    "predictions = reg.predict(X)\n",
    "predictions"
   ],
   "metadata": {
    "collapsed": false,
    "ExecuteTime": {
     "end_time": "2023-10-10T09:22:34.469397Z",
     "start_time": "2023-10-10T09:22:34.181892Z"
    }
   },
   "id": "cae379a54e9318c3"
  },
  {
   "cell_type": "code",
   "execution_count": 12,
   "outputs": [
    {
     "data": {
      "text/plain": "array([ 95491.17119147, 117829.51038393, 173423.38071499, 291603.11444202,\n       111137.28167129])"
     },
     "execution_count": 12,
     "metadata": {},
     "output_type": "execute_result"
    }
   ],
   "source": [
    "predictions[:5]"
   ],
   "metadata": {
    "collapsed": false,
    "ExecuteTime": {
     "end_time": "2023-10-10T09:23:06.048637Z",
     "start_time": "2023-10-10T09:23:05.946852Z"
    }
   },
   "id": "e9e4d1c589ecd25b"
  },
  {
   "cell_type": "markdown",
   "source": [
    "# Visualizing the linear regression model"
   ],
   "metadata": {
    "collapsed": false
   },
   "id": "e20b89c0dc9dc377"
  },
  {
   "cell_type": "code",
   "execution_count": 14,
   "outputs": [
    {
     "data": {
      "text/plain": "<Figure size 432x288 with 1 Axes>",
      "image/png": "[encoded data removed]"
     },
     "metadata": {},
     "output_type": "display_data"
    }
   ],
   "source": [
    "plt.scatter(X, y, color='blue')\n",
    "plt.plot(X, predictions, color='red', linewidth=2)\n",
    "plt.xlabel('Radio Expenditure ($)')\n",
    "plt.ylabel('Sales ($)')\n",
    "plt.show()"
   ],
   "metadata": {
    "collapsed": false,
    "ExecuteTime": {
     "end_time": "2023-10-10T09:26:52.885402Z",
     "start_time": "2023-10-10T09:26:52.034337Z"
    }
   },
   "id": "d4d102c30b29ff59"
  },
  {
   "cell_type": "code",
   "execution_count": null,
   "outputs": [],
   "source": [],
   "metadata": {
    "collapsed": false
   },
   "id": "c061b36b2d07227"
  }
 ],
 "metadata": {
  "kernelspec": {
   "display_name": "Python 3",
   "language": "python",
   "name": "python3"
  },
  "language_info": {
   "codemirror_mode": {
    "name": "ipython",
    "version": 2
   },
   "file_extension": ".py",
   "mimetype": "text/x-python",
   "name": "python",
   "nbconvert_exporter": "python",
   "pygments_lexer": "ipython2",
   "version": "2.7.6"
  }
 },
 "nbformat": 4,
 "nbformat_minor": 5
}

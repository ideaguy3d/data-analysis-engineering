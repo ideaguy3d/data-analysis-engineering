{
 "cells": [
  {
   "cell_type": "code",
   "execution_count": 8,
   "metadata": {
    "collapsed": true
   },
   "outputs": [],
   "source": [
    "\"\"\"\n",
    "\n",
    "                        ~~~~ Hypothesis Testing ~~~~\n",
    "                t-tests, proportion tests, chi-square tests\n",
    "\n",
    "1. The Basics of Hypothesis Testing\n",
    " - sampling means, statistical significance, z-scores, p-values, proportion sample\n",
    " - left/right/two tail, confidence intervals, A/B tests, Type I & II errors\n",
    "\n",
    "2. Two-sample and ANOVA tests\n",
    " - hypothesis testing workflow, t-tests, t-stats, t-distribution, paired t-tests\n",
    " - analysis of variables tests, ttest(), pairwise t-tests\n",
    "\n",
    "3. Proportion Tests\n",
    " - one sample proportion tests, two sample proportion tests, proportions_ztest()\n",
    " - chi square tests, chi square distribution, chi square goodness of fit tests\n",
    "\n",
    "4. Non-Parametric Tests\n",
    " - Wilcoxon signed-rank test, non parametric anova tests, unpaired t-tests\n",
    " - Wilcoxon Mann Whitney test, Kruskal Wallis test\n",
    "\n",
    "\n",
    "\"\"\"\n",
    "\n",
    "import pandas\n",
    "import numpy as np\n",
    "import scipy\n",
    "from scipy.stats import iqr, uniform, binom, norm, poisson, expon, t\n",
    "import matplotlib.pyplot as plt\n",
    "import seaborn as sns\n",
    "\n",
    "data_folder = '../../data'\n",
    "# types: A = super center, B = discount store, C = neighborhood market\n",
    "df_walmart = pandas.read_csv(f'{data_folder}/walmart_sales_subset.csv', index_col=0)\n",
    "df_homeless = pandas.read_csv(f'{data_folder}/homeless.csv', index_col=0)\n",
    "df_amir = pandas.read_csv(f'{data_folder}/amir_deals.csv', index_col=0)\n",
    "# simplify df_amir to just 100 observations\n",
    "df_amir = pandas.DataFrame(df_amir[:100])\n",
    "df_mph = pandas.read_csv(f'{data_folder}/mpg.csv')\n",
    "df_stack_overflow = pandas.read_feather(f'{data_folder}/stack_overflow.feather')"
   ]
  },
  {
   "cell_type": "code",
   "execution_count": 21,
   "outputs": [
    {
     "name": "stdout",
     "output_type": "stream",
     "text": [
      "<class 'pandas.core.frame.DataFrame'>\n",
      "RangeIndex: 2261 entries, 0 to 2260\n",
      "Data columns (total 63 columns):\n",
      " #   Column                             Non-Null Count  Dtype   \n",
      "---  ------                             --------------  -----   \n",
      " 0   respondent                         2261 non-null   float64 \n",
      " 1   main_branch                        2261 non-null   object  \n",
      " 2   hobbyist                           2261 non-null   object  \n",
      " 3   age                                2261 non-null   float64 \n",
      " 4   age_1st_code                       2261 non-null   float64 \n",
      " 5   age_first_code_cut                 2261 non-null   object  \n",
      " 6   comp_freq                          2261 non-null   object  \n",
      " 7   comp_total                         2261 non-null   float64 \n",
      " 8   converted_comp                     2261 non-null   float64 \n",
      " 9   country                            2261 non-null   object  \n",
      " 10  currency_desc                      2261 non-null   object  \n",
      " 11  currency_symbol                    2261 non-null   object  \n",
      " 12  database_desire_next_year          1687 non-null   object  \n",
      " 13  database_worked_with               1934 non-null   object  \n",
      " 14  dev_type                           2261 non-null   object  \n",
      " 15  ed_level                           2246 non-null   object  \n",
      " 16  employment                         2261 non-null   object  \n",
      " 17  ethnicity                          2092 non-null   object  \n",
      " 18  gender                             2228 non-null   object  \n",
      " 19  job_factors                        2233 non-null   object  \n",
      " 20  job_sat                            2261 non-null   category\n",
      " 21  job_seek                           2261 non-null   object  \n",
      " 22  language_desire_next_year          2160 non-null   object  \n",
      " 23  language_worked_with               2254 non-null   object  \n",
      " 24  misc_tech_desire_next_year         1954 non-null   object  \n",
      " 25  misc_tech_worked_with              1964 non-null   object  \n",
      " 26  new_collab_tools_desire_next_year  2023 non-null   object  \n",
      " 27  new_collab_tools_worked_with       2192 non-null   object  \n",
      " 28  new_dev_ops                        2245 non-null   object  \n",
      " 29  new_dev_ops_impt                   2183 non-null   object  \n",
      " 30  new_ed_impt                        2246 non-null   object  \n",
      " 31  new_job_hunt                       2191 non-null   object  \n",
      " 32  new_job_hunt_research              2149 non-null   object  \n",
      " 33  new_learn                          2223 non-null   object  \n",
      " 34  new_off_topic                      2155 non-null   object  \n",
      " 35  new_onboard_good                   2244 non-null   object  \n",
      " 36  new_other_comms                    2257 non-null   object  \n",
      " 37  new_overtime                       2255 non-null   object  \n",
      " 38  new_purchase_research              1480 non-null   object  \n",
      " 39  purple_link                        2261 non-null   object  \n",
      " 40  newso_sites                        2257 non-null   object  \n",
      " 41  new_stuck                          2232 non-null   object  \n",
      " 42  op_sys                             2245 non-null   object  \n",
      " 43  org_size                           2223 non-null   object  \n",
      " 44  platform_desire_next_year          2065 non-null   object  \n",
      " 45  platform_worked_with               2170 non-null   object  \n",
      " 46  purchase_what                      2053 non-null   object  \n",
      " 47  sexuality                          2054 non-null   object  \n",
      " 48  so_account                         2247 non-null   object  \n",
      " 49  so_comm                            2248 non-null   object  \n",
      " 50  so_part_freq                       1884 non-null   object  \n",
      " 51  so_visit_freq                      2248 non-null   object  \n",
      " 52  survey_ease                        2248 non-null   object  \n",
      " 53  survey_length                      2251 non-null   object  \n",
      " 54  trans                              2199 non-null   object  \n",
      " 55  undergrad_major                    2151 non-null   object  \n",
      " 56  webframe_desire_next_year          1336 non-null   object  \n",
      " 57  webframe_worked_with               1452 non-null   object  \n",
      " 58  welcome_change                     2199 non-null   object  \n",
      " 59  work_week_hrs                      2219 non-null   float64 \n",
      " 60  years_code                         2261 non-null   float64 \n",
      " 61  years_code_pro                     2261 non-null   float64 \n",
      " 62  age_cat                            2261 non-null   object  \n",
      "dtypes: category(1), float64(8), object(54)\n",
      "memory usage: 1.1+ MB\n"
     ]
    },
    {
     "data": {
      "text/plain": "None"
     },
     "metadata": {},
     "output_type": "display_data"
    },
    {
     "data": {
      "text/plain": "   respondent                                        main_branch hobbyist  \\\n0        36.0  I am not primarily a developer, but I write co...      Yes   \n1        47.0                     I am a developer by profession      Yes   \n2        69.0                     I am a developer by profession      Yes   \n3       125.0  I am not primarily a developer, but I write co...      Yes   \n4       147.0  I am not primarily a developer, but I write co...       No   \n\n    age  age_1st_code age_first_code_cut comp_freq  comp_total  \\\n0  34.0          30.0              adult    Yearly     60000.0   \n1  53.0          10.0              child    Yearly     58000.0   \n2  25.0          12.0              child    Yearly    550000.0   \n3  41.0          30.0              adult   Monthly    200000.0   \n4  28.0          15.0              adult    Yearly     50000.0   \n\n   converted_comp         country  ...          survey_length trans  \\\n0         77556.0  United Kingdom  ...  Appropriate in length    No   \n1         74970.0  United Kingdom  ...  Appropriate in length    No   \n2        594539.0          France  ...              Too short    No   \n3       2000000.0   United States  ...  Appropriate in length    No   \n4         37816.0          Canada  ...  Appropriate in length    No   \n\n                                     undergrad_major  \\\n0  Computer science, computer engineering, or sof...   \n1  A natural science (such as biology, chemistry,...   \n2  Computer science, computer engineering, or sof...   \n3                                               None   \n4  Another engineering discipline (such as civil,...   \n\n  webframe_desire_next_year webframe_worked_with  \\\n0          Express;React.js     Express;React.js   \n1              Flask;Spring         Flask;Spring   \n2              Django;Flask         Django;Flask   \n3                      None                 None   \n4                      None        Express;Flask   \n\n                            welcome_change work_week_hrs years_code  \\\n0  Just as welcome now as I felt last year          40.0        4.0   \n1  Just as welcome now as I felt last year          40.0       43.0   \n2  Just as welcome now as I felt last year          40.0       13.0   \n3  Just as welcome now as I felt last year          40.0       11.0   \n4  Just as welcome now as I felt last year          40.0        5.0   \n\n  years_code_pro      age_cat  \n0            3.0  At least 30  \n1           28.0  At least 30  \n2            3.0     Under 30  \n3           11.0  At least 30  \n4            3.0     Under 30  \n\n[5 rows x 63 columns]",
      "text/html": "<div>\n<style scoped>\n    .dataframe tbody tr th:only-of-type {\n        vertical-align: middle;\n    }\n\n    .dataframe tbody tr th {\n        vertical-align: top;\n    }\n\n    .dataframe thead th {\n        text-align: right;\n    }\n</style>\n<table border=\"1\" class=\"dataframe\">\n  <thead>\n    <tr style=\"text-align: right;\">\n      <th></th>\n      <th>respondent</th>\n      <th>main_branch</th>\n      <th>hobbyist</th>\n      <th>age</th>\n      <th>age_1st_code</th>\n      <th>age_first_code_cut</th>\n      <th>comp_freq</th>\n      <th>comp_total</th>\n      <th>converted_comp</th>\n      <th>country</th>\n      <th>...</th>\n      <th>survey_length</th>\n      <th>trans</th>\n      <th>undergrad_major</th>\n      <th>webframe_desire_next_year</th>\n      <th>webframe_worked_with</th>\n      <th>welcome_change</th>\n      <th>work_week_hrs</th>\n      <th>years_code</th>\n      <th>years_code_pro</th>\n      <th>age_cat</th>\n    </tr>\n  </thead>\n  <tbody>\n    <tr>\n      <th>0</th>\n      <td>36.0</td>\n      <td>I am not primarily a developer, but I write co...</td>\n      <td>Yes</td>\n      <td>34.0</td>\n      <td>30.0</td>\n      <td>adult</td>\n      <td>Yearly</td>\n      <td>60000.0</td>\n      <td>77556.0</td>\n      <td>United Kingdom</td>\n      <td>...</td>\n      <td>Appropriate in length</td>\n      <td>No</td>\n      <td>Computer science, computer engineering, or sof...</td>\n      <td>Express;React.js</td>\n      <td>Express;React.js</td>\n      <td>Just as welcome now as I felt last year</td>\n      <td>40.0</td>\n      <td>4.0</td>\n      <td>3.0</td>\n      <td>At least 30</td>\n    </tr>\n    <tr>\n      <th>1</th>\n      <td>47.0</td>\n      <td>I am a developer by profession</td>\n      <td>Yes</td>\n      <td>53.0</td>\n      <td>10.0</td>\n      <td>child</td>\n      <td>Yearly</td>\n      <td>58000.0</td>\n      <td>74970.0</td>\n      <td>United Kingdom</td>\n      <td>...</td>\n      <td>Appropriate in length</td>\n      <td>No</td>\n      <td>A natural science (such as biology, chemistry,...</td>\n      <td>Flask;Spring</td>\n      <td>Flask;Spring</td>\n      <td>Just as welcome now as I felt last year</td>\n      <td>40.0</td>\n      <td>43.0</td>\n      <td>28.0</td>\n      <td>At least 30</td>\n    </tr>\n    <tr>\n      <th>2</th>\n      <td>69.0</td>\n      <td>I am a developer by profession</td>\n      <td>Yes</td>\n      <td>25.0</td>\n      <td>12.0</td>\n      <td>child</td>\n      <td>Yearly</td>\n      <td>550000.0</td>\n      <td>594539.0</td>\n      <td>France</td>\n      <td>...</td>\n      <td>Too short</td>\n      <td>No</td>\n      <td>Computer science, computer engineering, or sof...</td>\n      <td>Django;Flask</td>\n      <td>Django;Flask</td>\n      <td>Just as welcome now as I felt last year</td>\n      <td>40.0</td>\n      <td>13.0</td>\n      <td>3.0</td>\n      <td>Under 30</td>\n    </tr>\n    <tr>\n      <th>3</th>\n      <td>125.0</td>\n      <td>I am not primarily a developer, but I write co...</td>\n      <td>Yes</td>\n      <td>41.0</td>\n      <td>30.0</td>\n      <td>adult</td>\n      <td>Monthly</td>\n      <td>200000.0</td>\n      <td>2000000.0</td>\n      <td>United States</td>\n      <td>...</td>\n      <td>Appropriate in length</td>\n      <td>No</td>\n      <td>None</td>\n      <td>None</td>\n      <td>None</td>\n      <td>Just as welcome now as I felt last year</td>\n      <td>40.0</td>\n      <td>11.0</td>\n      <td>11.0</td>\n      <td>At least 30</td>\n    </tr>\n    <tr>\n      <th>4</th>\n      <td>147.0</td>\n      <td>I am not primarily a developer, but I write co...</td>\n      <td>No</td>\n      <td>28.0</td>\n      <td>15.0</td>\n      <td>adult</td>\n      <td>Yearly</td>\n      <td>50000.0</td>\n      <td>37816.0</td>\n      <td>Canada</td>\n      <td>...</td>\n      <td>Appropriate in length</td>\n      <td>No</td>\n      <td>Another engineering discipline (such as civil,...</td>\n      <td>None</td>\n      <td>Express;Flask</td>\n      <td>Just as welcome now as I felt last year</td>\n      <td>40.0</td>\n      <td>5.0</td>\n      <td>3.0</td>\n      <td>Under 30</td>\n    </tr>\n  </tbody>\n</table>\n<p>5 rows × 63 columns</p>\n</div>"
     },
     "metadata": {},
     "output_type": "display_data"
    },
    {
     "data": {
      "text/plain": "2261"
     },
     "execution_count": 21,
     "metadata": {},
     "output_type": "execute_result"
    }
   ],
   "source": [
    "display(df_stack_overflow.info())\n",
    "display(df_stack_overflow.head())\n",
    "len(df_stack_overflow)"
   ],
   "metadata": {
    "collapsed": false
   }
  },
  {
   "cell_type": "code",
   "execution_count": 32,
   "outputs": [
    {
     "data": {
      "text/plain": "1.7454578806946723"
     },
     "metadata": {},
     "output_type": "display_data"
    },
    {
     "data": {
      "text/plain": "<Figure size 360x360 with 1 Axes>",
      "image/png": "[encoded data removed]"
     },
     "metadata": {},
     "output_type": "display_data"
    }
   ],
   "source": [
    "'''\n",
    "Hypothesis: The mean salary of data scientists is 110k\n",
    " - point estimate (aka sample stat)\n",
    " - standard error is the standard deviation of the bootstrap.dist\n",
    " - z score = (orig_stat - hypothetical_stat) / standard_error\n",
    "'''\n",
    "mean_salary = df_stack_overflow['converted_comp'].mean()\n",
    "hypothetical_salary = 110000\n",
    "stack_overflow_bootstrap_dist = []\n",
    "for i in range(5000):\n",
    "    stack_overflow_bootstrap_dist.append(\n",
    "        np.mean(df_stack_overflow.sample(frac=1, replace=True)['converted_comp']))\n",
    "\n",
    "standard_error = np.std(stack_overflow_bootstrap_dist,ddof=1)\n",
    "z_score = (mean_salary - hypothetical_salary )/ standard_error\n",
    "\n",
    "# output \n",
    "display(z_score)\n",
    "sns.displot(data=stack_overflow_bootstrap_dist)\n",
    "plt.show()"
   ],
   "metadata": {
    "collapsed": false
   }
  },
  {
   "cell_type": "code",
   "execution_count": 29,
   "outputs": [],
   "source": [],
   "metadata": {
    "collapsed": false
   }
  },
  {
   "cell_type": "code",
   "execution_count": null,
   "outputs": [],
   "source": [],
   "metadata": {
    "collapsed": false
   }
  }
 ],
 "metadata": {
  "kernelspec": {
   "display_name": "Python 3",
   "language": "python",
   "name": "python3"
  },
  "language_info": {
   "codemirror_mode": {
    "name": "ipython",
    "version": 2
   },
   "file_extension": ".py",
   "mimetype": "text/x-python",
   "name": "python",
   "nbconvert_exporter": "python",
   "pygments_lexer": "ipython2",
   "version": "2.7.6"
  }
 },
 "nbformat": 4,
 "nbformat_minor": 0
}

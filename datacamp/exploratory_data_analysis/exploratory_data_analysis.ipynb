{
 "cells": [
  {
   "cell_type": "code",
   "execution_count": 6,
   "metadata": {
    "collapsed": true,
    "pycharm": {
     "name": "#%%\n"
    }
   },
   "outputs": [],
   "source": [
    "\"\"\"\n",
    "                        ~ Notable fields/methods ~\n",
    "statsmodels\n",
    " -\n",
    "\"\"\"\n",
    "import statsmodels.formula.api as sms\n",
    "import pandas\n",
    "import numpy\n",
    "from scipy.stats import uniform, norm, binom, iqr, poisson\n",
    "import matplotlib.pyplot as plt\n",
    "import seaborn\n",
    "from empiricaldist import Pmf, Cdf\n",
    "\n",
    "data_folder = '../../data'\n",
    "# df_gss = pandas.read_hdf(f'{data_folder}/gss.hdf5','gss')\n",
    "# df_gss.to_csv('gss.csv',index=False)\n",
    "df_gss = pandas.read_csv(f'{data_folder}/gss.csv')"
   ]
  },
  {
   "cell_type": "code",
   "execution_count": 7,
   "outputs": [
    {
     "name": "stdout",
     "output_type": "stream",
     "text": [
      "<class 'pandas.core.frame.DataFrame'>\n",
      "RangeIndex: 62466 entries, 0 to 62465\n",
      "Data columns (total 10 columns):\n",
      " #   Column   Non-Null Count  Dtype  \n",
      "---  ------   --------------  -----  \n",
      " 0   year     62466 non-null  int64  \n",
      " 1   age      62281 non-null  float64\n",
      " 2   cohort   62282 non-null  float64\n",
      " 3   sex      62466 non-null  int64  \n",
      " 4   race     62466 non-null  int64  \n",
      " 5   educ     62304 non-null  float64\n",
      " 6   realinc  55499 non-null  float64\n",
      " 7   gunlaw   40550 non-null  float64\n",
      " 8   grass    36222 non-null  float64\n",
      " 9   wtssall  62466 non-null  float64\n",
      "dtypes: float64(7), int64(3)\n",
      "memory usage: 4.8 MB\n"
     ]
    }
   ],
   "source": [
    "df_gss.info()"
   ],
   "metadata": {
    "collapsed": false,
    "pycharm": {
     "name": "#%%\n"
    }
   }
  },
  {
   "cell_type": "code",
   "execution_count": 11,
   "outputs": [
    {
     "data": {
      "text/plain": "0        18.0\n1        12.0\n2        12.0\n3        14.0\n4        12.0\n         ... \n62461    13.0\n62462    16.0\n62463    13.0\n62464    12.0\n62465    12.0\nName: educ, Length: 62466, dtype: float64"
     },
     "execution_count": 11,
     "metadata": {},
     "output_type": "execute_result"
    }
   ],
   "source": [
    "df_edu = df_gss['educ']\n",
    "df_edu"
   ],
   "metadata": {
    "collapsed": false,
    "pycharm": {
     "name": "#%%\n"
    }
   }
  },
  {
   "cell_type": "code",
   "execution_count": 25,
   "outputs": [
    {
     "data": {
      "text/plain": "18.0"
     },
     "metadata": {},
     "output_type": "display_data"
    },
    {
     "data": {
      "text/plain": "11.0"
     },
     "metadata": {},
     "output_type": "display_data"
    },
    {
     "data": {
      "text/plain": "0.0     0.002311\n1.0     0.000610\n2.0     0.002424\n3.0     0.003948\n4.0     0.004655\n5.0     0.006083\n6.0     0.013514\n7.0     0.013803\n8.0     0.038858\n9.0     0.031507\n10.0    0.045246\n11.0    0.062018\n12.0    0.307284\n13.0    0.086752\n14.0    0.112031\n15.0    0.045519\n16.0    0.127648\n17.0    0.028746\n18.0    0.033850\n19.0    0.012423\n20.0    0.020769\nName: , dtype: float64"
     },
     "execution_count": 25,
     "metadata": {},
     "output_type": "execute_result"
    }
   ],
   "source": [
    "# df_gss[df_gss['educ'].isna()]\n",
    "pmf_edu = Pmf(df_edu)\n",
    "display(pmf_edu(0))\n",
    "display(pmf_edu(12))\n",
    "pmf_edu.sort_values(ascending=False).value_counts(normalize=True).sort_index()"
   ],
   "metadata": {
    "collapsed": false,
    "pycharm": {
     "name": "#%%\n"
    }
   }
  },
  {
   "cell_type": "code",
   "execution_count": 14,
   "outputs": [
    {
     "data": {
      "text/plain": "<Figure size 432x288 with 1 Axes>",
      "image/png": "[encoded data removed]"
     },
     "metadata": {},
     "output_type": "display_data"
    }
   ],
   "source": [
    "pmf_edu.bar(label='edu')\n",
    "plt.xlabel('Years of education')\n",
    "plt.ylabel('PMF')\n",
    "plt.show()"
   ],
   "metadata": {
    "collapsed": false,
    "pycharm": {
     "name": "#%%\n"
    }
   }
  },
  {
   "cell_type": "code",
   "execution_count": 30,
   "outputs": [
    {
     "data": {
      "text/plain": "[0, 0]"
     },
     "execution_count": 30,
     "metadata": {},
     "output_type": "execute_result"
    }
   ],
   "source": [
    "# simp1 = [1,2,2,3,4]\n",
    "simp1 = ['a','b','b','c','d']\n",
    "pmf_s1 = Pmf(simp1)\n",
    "[pmf_s1('a'), pmf_s1('b')]"
   ],
   "metadata": {
    "collapsed": false,
    "pycharm": {
     "name": "#%%\n"
    }
   }
  },
  {
   "cell_type": "code",
   "execution_count": 38,
   "outputs": [
    {
     "data": {
      "text/plain": "18.0    0.005620\n19.0    0.019878\n20.0    0.018111\n21.0    0.019219\n22.0    0.020247\n          ...   \n85.0    0.002360\n86.0    0.001927\n87.0    0.001702\n88.0    0.001413\n89.0    0.003773\nName: age, Length: 72, dtype: float64"
     },
     "execution_count": 38,
     "metadata": {},
     "output_type": "execute_result"
    }
   ],
   "source": [
    "age_count_pct = df_gss['age'].value_counts(normalize=True).sort_index()\n",
    "age_count_pct"
   ],
   "metadata": {
    "collapsed": false,
    "pycharm": {
     "name": "#%%\n"
    }
   }
  },
  {
   "cell_type": "code",
   "execution_count": 43,
   "outputs": [
    {
     "data": {
      "text/plain": "0.7460862863473612"
     },
     "execution_count": 43,
     "metadata": {},
     "output_type": "execute_result"
    }
   ],
   "source": [
    "# type(age_count_pct)\n",
    "1-age_count_pct[18:30].sum()"
   ],
   "metadata": {
    "collapsed": false,
    "pycharm": {
     "name": "#%%\n"
    }
   }
  },
  {
   "cell_type": "code",
   "execution_count": null,
   "outputs": [],
   "source": [],
   "metadata": {
    "collapsed": false,
    "pycharm": {
     "name": "#%%\n"
    }
   }
  }
 ],
 "metadata": {
  "kernelspec": {
   "display_name": "Python 3",
   "language": "python",
   "name": "python3"
  },
  "language_info": {
   "codemirror_mode": {
    "name": "ipython",
    "version": 2
   },
   "file_extension": ".py",
   "mimetype": "text/x-python",
   "name": "python",
   "nbconvert_exporter": "python",
   "pygments_lexer": "ipython2",
   "version": "2.7.6"
  }
 },
 "nbformat": 4,
 "nbformat_minor": 0
}
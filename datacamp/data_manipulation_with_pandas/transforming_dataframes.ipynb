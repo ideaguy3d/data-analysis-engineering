{
 "cells": [
  {
   "cell_type": "code",
   "execution_count": 17,
   "metadata": {
    "collapsed": true,
    "pycharm": {
     "name": "#%%\n"
    }
   },
   "outputs": [
    {
     "data": {
      "text/plain": "   store type  department        date  weekly_sales  is_holiday  \\\n0      1    A           1  2010-02-05      24924.50       False   \n1      1    A           1  2010-03-05      21827.90       False   \n2      1    A           1  2010-04-02      57258.43       False   \n3      1    A           1  2010-05-07      17413.94       False   \n4      1    A           1  2010-06-04      17558.09       False   \n\n   temperature_c  fuel_price_usd_per_l  unemployment  \n0       5.727778              0.679451         8.106  \n1       8.055556              0.693452         8.106  \n2      16.816667              0.718284         7.808  \n3      22.527778              0.748928         7.808  \n4      27.050000              0.714586         7.808  ",
      "text/html": "<div>\n<style scoped>\n    .dataframe tbody tr th:only-of-type {\n        vertical-align: middle;\n    }\n\n    .dataframe tbody tr th {\n        vertical-align: top;\n    }\n\n    .dataframe thead th {\n        text-align: right;\n    }\n</style>\n<table border=\"1\" class=\"dataframe\">\n  <thead>\n    <tr style=\"text-align: right;\">\n      <th></th>\n      <th>store</th>\n      <th>type</th>\n      <th>department</th>\n      <th>date</th>\n      <th>weekly_sales</th>\n      <th>is_holiday</th>\n      <th>temperature_c</th>\n      <th>fuel_price_usd_per_l</th>\n      <th>unemployment</th>\n    </tr>\n  </thead>\n  <tbody>\n    <tr>\n      <th>0</th>\n      <td>1</td>\n      <td>A</td>\n      <td>1</td>\n      <td>2010-02-05</td>\n      <td>24924.50</td>\n      <td>False</td>\n      <td>5.727778</td>\n      <td>0.679451</td>\n      <td>8.106</td>\n    </tr>\n    <tr>\n      <th>1</th>\n      <td>1</td>\n      <td>A</td>\n      <td>1</td>\n      <td>2010-03-05</td>\n      <td>21827.90</td>\n      <td>False</td>\n      <td>8.055556</td>\n      <td>0.693452</td>\n      <td>8.106</td>\n    </tr>\n    <tr>\n      <th>2</th>\n      <td>1</td>\n      <td>A</td>\n      <td>1</td>\n      <td>2010-04-02</td>\n      <td>57258.43</td>\n      <td>False</td>\n      <td>16.816667</td>\n      <td>0.718284</td>\n      <td>7.808</td>\n    </tr>\n    <tr>\n      <th>3</th>\n      <td>1</td>\n      <td>A</td>\n      <td>1</td>\n      <td>2010-05-07</td>\n      <td>17413.94</td>\n      <td>False</td>\n      <td>22.527778</td>\n      <td>0.748928</td>\n      <td>7.808</td>\n    </tr>\n    <tr>\n      <th>4</th>\n      <td>1</td>\n      <td>A</td>\n      <td>1</td>\n      <td>2010-06-04</td>\n      <td>17558.09</td>\n      <td>False</td>\n      <td>27.050000</td>\n      <td>0.714586</td>\n      <td>7.808</td>\n    </tr>\n  </tbody>\n</table>\n</div>"
     },
     "execution_count": 17,
     "metadata": {},
     "output_type": "execute_result"
    }
   ],
   "source": [
    "import numpy as np\n",
    "\n",
    "\"\"\"\n",
    "~ notable fields/methods ~\n",
    "\n",
    "df = pandas.read_csv('data.csv')\n",
    "\n",
    "df\n",
    " - .columns, .index, .info(), .describe()\n",
    " - .sort_values()\n",
    " - .isin()\n",
    " - .drop_duplicates()\n",
    " - .pivot_table()\n",
    " - .set_index(), .reset_index(), .sort_index() \n",
    "\n",
    "df['column']\n",
    " - .mean(), .median()  # summary stats\n",
    " - .min(), .max()\n",
    " - .agg()\n",
    " - .cumsum(), .cummax()\n",
    "\n",
    "\"\"\"\n",
    "import pandas\n",
    "import numpy\n",
    "\n",
    "data_folder = '../../data'\n",
    "# types: A = supercenter, B = discount store, C = neighborhood market\n",
    "df_walmart = pandas.read_csv(f'{data_folder}/walmart_sales_subset.csv', index_col=0)\n",
    "\n",
    "df_walmart.head()"
   ]
  },
  {
   "cell_type": "code",
   "execution_count": 26,
   "outputs": [
    {
     "data": {
      "text/plain": "                       0        date  nums  unemployment  weekly_sales\n0                    NaN  2010-02-05   1.0         8.106      24924.50\n1                    NaN  2010-03-05   2.0         8.106      21827.90\n2                    NaN  2010-04-02   3.0         7.808      57258.43\n3                    NaN  2010-05-07   4.0         7.808      17413.94\n4                    NaN  2010-06-04   5.0         7.808      17558.09\n5                    NaN  2010-07-02   6.0         7.787      16333.14\n6                    NaN  2010-08-06   7.0         7.787      17508.41\n7                    NaN  2010-09-03   8.0         7.787      16241.78\n8                    NaN  2010-10-01   9.0         7.838      20094.19\n9                    NaN  2010-11-05  10.0         7.838      34238.88\ndate          2010-05-07         NaN   NaN           NaN           NaN\nweekly_sales   17413.940         NaN   NaN           NaN           NaN\nunemployment       7.808         NaN   NaN           NaN           NaN\nnums                   4         NaN   NaN           NaN           NaN",
      "text/html": "<div>\n<style scoped>\n    .dataframe tbody tr th:only-of-type {\n        vertical-align: middle;\n    }\n\n    .dataframe tbody tr th {\n        vertical-align: top;\n    }\n\n    .dataframe thead th {\n        text-align: right;\n    }\n</style>\n<table border=\"1\" class=\"dataframe\">\n  <thead>\n    <tr style=\"text-align: right;\">\n      <th></th>\n      <th>0</th>\n      <th>date</th>\n      <th>nums</th>\n      <th>unemployment</th>\n      <th>weekly_sales</th>\n    </tr>\n  </thead>\n  <tbody>\n    <tr>\n      <th>0</th>\n      <td>NaN</td>\n      <td>2010-02-05</td>\n      <td>1.0</td>\n      <td>8.106</td>\n      <td>24924.50</td>\n    </tr>\n    <tr>\n      <th>1</th>\n      <td>NaN</td>\n      <td>2010-03-05</td>\n      <td>2.0</td>\n      <td>8.106</td>\n      <td>21827.90</td>\n    </tr>\n    <tr>\n      <th>2</th>\n      <td>NaN</td>\n      <td>2010-04-02</td>\n      <td>3.0</td>\n      <td>7.808</td>\n      <td>57258.43</td>\n    </tr>\n    <tr>\n      <th>3</th>\n      <td>NaN</td>\n      <td>2010-05-07</td>\n      <td>4.0</td>\n      <td>7.808</td>\n      <td>17413.94</td>\n    </tr>\n    <tr>\n      <th>4</th>\n      <td>NaN</td>\n      <td>2010-06-04</td>\n      <td>5.0</td>\n      <td>7.808</td>\n      <td>17558.09</td>\n    </tr>\n    <tr>\n      <th>5</th>\n      <td>NaN</td>\n      <td>2010-07-02</td>\n      <td>6.0</td>\n      <td>7.787</td>\n      <td>16333.14</td>\n    </tr>\n    <tr>\n      <th>6</th>\n      <td>NaN</td>\n      <td>2010-08-06</td>\n      <td>7.0</td>\n      <td>7.787</td>\n      <td>17508.41</td>\n    </tr>\n    <tr>\n      <th>7</th>\n      <td>NaN</td>\n      <td>2010-09-03</td>\n      <td>8.0</td>\n      <td>7.787</td>\n      <td>16241.78</td>\n    </tr>\n    <tr>\n      <th>8</th>\n      <td>NaN</td>\n      <td>2010-10-01</td>\n      <td>9.0</td>\n      <td>7.838</td>\n      <td>20094.19</td>\n    </tr>\n    <tr>\n      <th>9</th>\n      <td>NaN</td>\n      <td>2010-11-05</td>\n      <td>10.0</td>\n      <td>7.838</td>\n      <td>34238.88</td>\n    </tr>\n    <tr>\n      <th>date</th>\n      <td>2010-05-07</td>\n      <td>NaN</td>\n      <td>NaN</td>\n      <td>NaN</td>\n      <td>NaN</td>\n    </tr>\n    <tr>\n      <th>weekly_sales</th>\n      <td>17413.940</td>\n      <td>NaN</td>\n      <td>NaN</td>\n      <td>NaN</td>\n      <td>NaN</td>\n    </tr>\n    <tr>\n      <th>unemployment</th>\n      <td>7.808</td>\n      <td>NaN</td>\n      <td>NaN</td>\n      <td>NaN</td>\n      <td>NaN</td>\n    </tr>\n    <tr>\n      <th>nums</th>\n      <td>4</td>\n      <td>NaN</td>\n      <td>NaN</td>\n      <td>NaN</td>\n      <td>NaN</td>\n    </tr>\n  </tbody>\n</table>\n</div>"
     },
     "execution_count": 26,
     "metadata": {},
     "output_type": "execute_result"
    }
   ],
   "source": [
    "df_simple_walmart = pandas.DataFrame(df_walmart[:10][['date','weekly_sales','unemployment']])\n",
    "df_simple_walmart['nums'] = [n for n in range(1,11)]\n",
    "# df_simple_walmart = pandas.concat([df_simple_walmart, df_simple_walmart.loc[3]])\n",
    "# len(df_walmart10)\n",
    "df_simple_walmart"
   ],
   "metadata": {
    "collapsed": false,
    "pycharm": {
     "name": "#%%\n"
    }
   }
  },
  {
   "cell_type": "code",
   "execution_count": 8,
   "outputs": [
    {
     "data": {
      "text/plain": "17437.5575"
     },
     "execution_count": 8,
     "metadata": {},
     "output_type": "execute_result"
    }
   ],
   "source": [
    "df_walmart10['weekly_sales'].quantile(0.25)"
   ],
   "metadata": {
    "collapsed": false,
    "pycharm": {
     "name": "#%%\n"
    }
   }
  },
  {
   "cell_type": "code",
   "execution_count": 14,
   "outputs": [
    {
     "data": {
      "text/plain": "4.5"
     },
     "execution_count": 14,
     "metadata": {},
     "output_type": "execute_result"
    }
   ],
   "source": [
    "# _practice_ .agg()\n",
    "def iqr(series):\n",
    "    return series.quantile(0.75) - series.quantile(0.25)\n",
    "\n",
    "df_simple_walmart['nums'].agg(iqr)"
   ],
   "metadata": {
    "collapsed": false,
    "pycharm": {
     "name": "#%%\n"
    }
   }
  },
  {
   "cell_type": "code",
   "execution_count": 15,
   "outputs": [
    {
     "data": {
      "text/plain": "nums               4.50000\nweekly_sales    6712.79250\nunemployment       0.04575\ndtype: float64"
     },
     "execution_count": 15,
     "metadata": {},
     "output_type": "execute_result"
    }
   ],
   "source": [
    "df_simple_walmart[['nums','weekly_sales','unemployment']].agg(iqr)"
   ],
   "metadata": {
    "collapsed": false,
    "pycharm": {
     "name": "#%%\n"
    }
   }
  },
  {
   "cell_type": "code",
   "execution_count": 18,
   "outputs": [
    {
     "data": {
      "text/plain": "        nums  weekly_sales  unemployment\niqr      4.5     6712.7925       0.04575\nmedian   5.5    18826.1400       7.80800",
      "text/html": "<div>\n<style scoped>\n    .dataframe tbody tr th:only-of-type {\n        vertical-align: middle;\n    }\n\n    .dataframe tbody tr th {\n        vertical-align: top;\n    }\n\n    .dataframe thead th {\n        text-align: right;\n    }\n</style>\n<table border=\"1\" class=\"dataframe\">\n  <thead>\n    <tr style=\"text-align: right;\">\n      <th></th>\n      <th>nums</th>\n      <th>weekly_sales</th>\n      <th>unemployment</th>\n    </tr>\n  </thead>\n  <tbody>\n    <tr>\n      <th>iqr</th>\n      <td>4.5</td>\n      <td>6712.7925</td>\n      <td>0.04575</td>\n    </tr>\n    <tr>\n      <th>median</th>\n      <td>5.5</td>\n      <td>18826.1400</td>\n      <td>7.80800</td>\n    </tr>\n  </tbody>\n</table>\n</div>"
     },
     "execution_count": 18,
     "metadata": {},
     "output_type": "execute_result"
    }
   ],
   "source": [
    "df_simple_walmart[['nums','weekly_sales','unemployment']].agg([iqr,numpy.median])"
   ],
   "metadata": {
    "collapsed": false,
    "pycharm": {
     "name": "#%%\n"
    }
   }
  },
  {
   "cell_type": "code",
   "execution_count": 22,
   "outputs": [
    {
     "data": {
      "text/plain": "   nums  cume_sum  cume_max\n0     1         1         1\n1     2         3         2\n2     3         6         3\n3     4        10         4\n4     5        15         5\n5     6        21         6\n6     7        28         7\n7     8        36         8\n8     9        45         9\n9    10        55        10",
      "text/html": "<div>\n<style scoped>\n    .dataframe tbody tr th:only-of-type {\n        vertical-align: middle;\n    }\n\n    .dataframe tbody tr th {\n        vertical-align: top;\n    }\n\n    .dataframe thead th {\n        text-align: right;\n    }\n</style>\n<table border=\"1\" class=\"dataframe\">\n  <thead>\n    <tr style=\"text-align: right;\">\n      <th></th>\n      <th>nums</th>\n      <th>cume_sum</th>\n      <th>cume_max</th>\n    </tr>\n  </thead>\n  <tbody>\n    <tr>\n      <th>0</th>\n      <td>1</td>\n      <td>1</td>\n      <td>1</td>\n    </tr>\n    <tr>\n      <th>1</th>\n      <td>2</td>\n      <td>3</td>\n      <td>2</td>\n    </tr>\n    <tr>\n      <th>2</th>\n      <td>3</td>\n      <td>6</td>\n      <td>3</td>\n    </tr>\n    <tr>\n      <th>3</th>\n      <td>4</td>\n      <td>10</td>\n      <td>4</td>\n    </tr>\n    <tr>\n      <th>4</th>\n      <td>5</td>\n      <td>15</td>\n      <td>5</td>\n    </tr>\n    <tr>\n      <th>5</th>\n      <td>6</td>\n      <td>21</td>\n      <td>6</td>\n    </tr>\n    <tr>\n      <th>6</th>\n      <td>7</td>\n      <td>28</td>\n      <td>7</td>\n    </tr>\n    <tr>\n      <th>7</th>\n      <td>8</td>\n      <td>36</td>\n      <td>8</td>\n    </tr>\n    <tr>\n      <th>8</th>\n      <td>9</td>\n      <td>45</td>\n      <td>9</td>\n    </tr>\n    <tr>\n      <th>9</th>\n      <td>10</td>\n      <td>55</td>\n      <td>10</td>\n    </tr>\n  </tbody>\n</table>\n</div>"
     },
     "execution_count": 22,
     "metadata": {},
     "output_type": "execute_result"
    }
   ],
   "source": [
    "df_simple_walmart['cume_sum'] = df_simple_walmart['nums'].cumsum()\n",
    "df_simple_walmart['cume_max'] = df_simple_walmart['nums'].cummax()\n",
    "df_simple_walmart[['nums','cume_sum','cume_max']]"
   ],
   "metadata": {
    "collapsed": false,
    "pycharm": {
     "name": "#%%\n"
    }
   }
  },
  {
   "cell_type": "code",
   "execution_count": 28,
   "outputs": [
    {
     "data": {
      "text/plain": "     0        date  nums  unemployment  weekly_sales\n0  NaN  2010-02-05   1.0         8.106      24924.50\n1  NaN  2010-03-05   2.0         8.106      21827.90\n2  NaN  2010-04-02   3.0         7.808      57258.43\n3  NaN  2010-05-07   4.0         7.808      17413.94",
      "text/html": "<div>\n<style scoped>\n    .dataframe tbody tr th:only-of-type {\n        vertical-align: middle;\n    }\n\n    .dataframe tbody tr th {\n        vertical-align: top;\n    }\n\n    .dataframe thead th {\n        text-align: right;\n    }\n</style>\n<table border=\"1\" class=\"dataframe\">\n  <thead>\n    <tr style=\"text-align: right;\">\n      <th></th>\n      <th>0</th>\n      <th>date</th>\n      <th>nums</th>\n      <th>unemployment</th>\n      <th>weekly_sales</th>\n    </tr>\n  </thead>\n  <tbody>\n    <tr>\n      <th>0</th>\n      <td>NaN</td>\n      <td>2010-02-05</td>\n      <td>1.0</td>\n      <td>8.106</td>\n      <td>24924.50</td>\n    </tr>\n    <tr>\n      <th>1</th>\n      <td>NaN</td>\n      <td>2010-03-05</td>\n      <td>2.0</td>\n      <td>8.106</td>\n      <td>21827.90</td>\n    </tr>\n    <tr>\n      <th>2</th>\n      <td>NaN</td>\n      <td>2010-04-02</td>\n      <td>3.0</td>\n      <td>7.808</td>\n      <td>57258.43</td>\n    </tr>\n    <tr>\n      <th>3</th>\n      <td>NaN</td>\n      <td>2010-05-07</td>\n      <td>4.0</td>\n      <td>7.808</td>\n      <td>17413.94</td>\n    </tr>\n  </tbody>\n</table>\n</div>"
     },
     "execution_count": 28,
     "metadata": {},
     "output_type": "execute_result"
    }
   ],
   "source": [
    "df_simple_walmart.loc[0:3]"
   ],
   "metadata": {
    "collapsed": false,
    "pycharm": {
     "name": "#%%\n"
    }
   }
  },
  {
   "cell_type": "code",
   "execution_count": 29,
   "outputs": [
    {
     "data": {
      "text/plain": "department             1              2             3             4  \\\ntype                                                                  \nA           30961.725379   67600.158788  17160.002955  44285.399091   \nB           44050.626667  112958.526667  30580.655000  51219.654167   \nAll         32052.467153   71380.022778  18278.390625  44863.253681   \n\ndepartment             5             6             7             8  \\\ntype                                                                 \nA           34821.011364   7136.292652  38454.336818  48583.475303   \nB           63236.875000  10717.297500  52909.653333  90733.753333   \nAll         37189.000000   7434.709722  39658.946528  52095.998472   \n\ndepartment             9            10  ...            91             92  \\\ntype                                    ...                                \nA           30120.449924  30930.456364  ...  70423.165227  139722.204773   \nB           66679.301667  48595.126667  ...  13199.602500   50859.278333   \nAll         33167.020903  32402.512222  ...  65654.535000  132316.960903   \n\ndepartment            93            94             95            96  \\\ntype                                                                  \nA           53413.633939  60081.155303  123933.787121  21367.042857   \nB            1466.274167    161.445833   77082.102500   9528.538333   \nAll         49084.687292  55087.846181  120029.480069  20337.607681   \n\ndepartment            97            98          99           All  \ntype                                                              \nA           28471.266970  12875.423182  379.123659  23674.667242  \nB            5828.873333    217.428333    0.000000  25696.678370  \nAll         26584.400833  11820.590278  379.123659  23843.950149  \n\n[3 rows x 81 columns]",
      "text/html": "<div>\n<style scoped>\n    .dataframe tbody tr th:only-of-type {\n        vertical-align: middle;\n    }\n\n    .dataframe tbody tr th {\n        vertical-align: top;\n    }\n\n    .dataframe thead th {\n        text-align: right;\n    }\n</style>\n<table border=\"1\" class=\"dataframe\">\n  <thead>\n    <tr style=\"text-align: right;\">\n      <th>department</th>\n      <th>1</th>\n      <th>2</th>\n      <th>3</th>\n      <th>4</th>\n      <th>5</th>\n      <th>6</th>\n      <th>7</th>\n      <th>8</th>\n      <th>9</th>\n      <th>10</th>\n      <th>...</th>\n      <th>91</th>\n      <th>92</th>\n      <th>93</th>\n      <th>94</th>\n      <th>95</th>\n      <th>96</th>\n      <th>97</th>\n      <th>98</th>\n      <th>99</th>\n      <th>All</th>\n    </tr>\n    <tr>\n      <th>type</th>\n      <th></th>\n      <th></th>\n      <th></th>\n      <th></th>\n      <th></th>\n      <th></th>\n      <th></th>\n      <th></th>\n      <th></th>\n      <th></th>\n      <th></th>\n      <th></th>\n      <th></th>\n      <th></th>\n      <th></th>\n      <th></th>\n      <th></th>\n      <th></th>\n      <th></th>\n      <th></th>\n      <th></th>\n    </tr>\n  </thead>\n  <tbody>\n    <tr>\n      <th>A</th>\n      <td>30961.725379</td>\n      <td>67600.158788</td>\n      <td>17160.002955</td>\n      <td>44285.399091</td>\n      <td>34821.011364</td>\n      <td>7136.292652</td>\n      <td>38454.336818</td>\n      <td>48583.475303</td>\n      <td>30120.449924</td>\n      <td>30930.456364</td>\n      <td>...</td>\n      <td>70423.165227</td>\n      <td>139722.204773</td>\n      <td>53413.633939</td>\n      <td>60081.155303</td>\n      <td>123933.787121</td>\n      <td>21367.042857</td>\n      <td>28471.266970</td>\n      <td>12875.423182</td>\n      <td>379.123659</td>\n      <td>23674.667242</td>\n    </tr>\n    <tr>\n      <th>B</th>\n      <td>44050.626667</td>\n      <td>112958.526667</td>\n      <td>30580.655000</td>\n      <td>51219.654167</td>\n      <td>63236.875000</td>\n      <td>10717.297500</td>\n      <td>52909.653333</td>\n      <td>90733.753333</td>\n      <td>66679.301667</td>\n      <td>48595.126667</td>\n      <td>...</td>\n      <td>13199.602500</td>\n      <td>50859.278333</td>\n      <td>1466.274167</td>\n      <td>161.445833</td>\n      <td>77082.102500</td>\n      <td>9528.538333</td>\n      <td>5828.873333</td>\n      <td>217.428333</td>\n      <td>0.000000</td>\n      <td>25696.678370</td>\n    </tr>\n    <tr>\n      <th>All</th>\n      <td>32052.467153</td>\n      <td>71380.022778</td>\n      <td>18278.390625</td>\n      <td>44863.253681</td>\n      <td>37189.000000</td>\n      <td>7434.709722</td>\n      <td>39658.946528</td>\n      <td>52095.998472</td>\n      <td>33167.020903</td>\n      <td>32402.512222</td>\n      <td>...</td>\n      <td>65654.535000</td>\n      <td>132316.960903</td>\n      <td>49084.687292</td>\n      <td>55087.846181</td>\n      <td>120029.480069</td>\n      <td>20337.607681</td>\n      <td>26584.400833</td>\n      <td>11820.590278</td>\n      <td>379.123659</td>\n      <td>23843.950149</td>\n    </tr>\n  </tbody>\n</table>\n<p>3 rows × 81 columns</p>\n</div>"
     },
     "execution_count": 29,
     "metadata": {},
     "output_type": "execute_result"
    }
   ],
   "source": [
    "# _practice_ .pivot_table()\n",
    "df_walmart.pivot_table(\n",
    "    values='weekly_sales', # what to agg by\n",
    "    index='type', # the index\n",
    "    columns='department', # groupby this 'index AND columns'\n",
    "    aggfunc=numpy.mean,\n",
    "    fill_value=0,\n",
    "    margins=True\n",
    ")"
   ],
   "metadata": {
    "collapsed": false,
    "pycharm": {
     "name": "#%%\n"
    }
   }
  },
  {
   "cell_type": "code",
   "execution_count": null,
   "outputs": [],
   "source": [],
   "metadata": {
    "collapsed": false,
    "pycharm": {
     "name": "#%%\n"
    }
   }
  }
 ],
 "metadata": {
  "kernelspec": {
   "display_name": "Python 3",
   "language": "python",
   "name": "python3"
  },
  "language_info": {
   "codemirror_mode": {
    "name": "ipython",
    "version": 2
   },
   "file_extension": ".py",
   "mimetype": "text/x-python",
   "name": "python",
   "nbconvert_exporter": "python",
   "pygments_lexer": "ipython2",
   "version": "2.7.6"
  }
 },
 "nbformat": 4,
 "nbformat_minor": 0
}
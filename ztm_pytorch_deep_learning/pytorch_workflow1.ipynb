{
 "cells": [
  {
   "cell_type": "markdown",
   "source": [
    "# Imports"
   ],
   "metadata": {
    "collapsed": false
   }
  },
  {
   "cell_type": "code",
   "execution_count": 1,
   "metadata": {
    "collapsed": true,
    "ExecuteTime": {
     "end_time": "2023-06-03T20:01:55.590085Z",
     "start_time": "2023-06-03T20:01:40.257944Z"
    }
   },
   "outputs": [
    {
     "data": {
      "text/plain": "'1.13.1'"
     },
     "execution_count": 1,
     "metadata": {},
     "output_type": "execute_result"
    }
   ],
   "source": [
    "import torch\n",
    "import numpy as np\n",
    "from torch import nn\n",
    "from pathlib import Path\n",
    "import matplotlib.pyplot as plt\n",
    "\n",
    "torch.__version__"
   ]
  },
  {
   "cell_type": "code",
   "execution_count": 2,
   "outputs": [
    {
     "data": {
      "text/plain": "tensor([1.1304])"
     },
     "execution_count": 2,
     "metadata": {},
     "output_type": "execute_result"
    }
   ],
   "source": [
    "torch.randn(1)"
   ],
   "metadata": {
    "collapsed": false,
    "ExecuteTime": {
     "end_time": "2023-06-03T20:01:55.590857Z",
     "start_time": "2023-06-03T20:01:55.588962Z"
    }
   }
  },
  {
   "cell_type": "markdown",
   "source": [
    "# Create some data"
   ],
   "metadata": {
    "collapsed": false
   }
  },
  {
   "cell_type": "code",
   "execution_count": 4,
   "outputs": [
    {
     "data": {
      "text/plain": "tensor([[0.],\n        [1.],\n        [2.],\n        [3.],\n        [4.]])"
     },
     "metadata": {},
     "output_type": "display_data"
    },
    {
     "data": {
      "text/plain": "torch.Size([50, 1])"
     },
     "metadata": {},
     "output_type": "display_data"
    },
    {
     "data": {
      "text/plain": "2"
     },
     "metadata": {},
     "output_type": "display_data"
    },
    {
     "data": {
      "text/plain": "tensor([[0.3000],\n        [1.0000],\n        [1.7000],\n        [2.4000],\n        [3.1000]])"
     },
     "metadata": {},
     "output_type": "display_data"
    }
   ],
   "source": [
    "# linear regression\n",
    "# Y = mX + b\n",
    "# Y is the dependent variable, X is the independent variable, m is the slope, b is the intercept\n",
    "# weight = m, also known as the gradient\n",
    "# bias = b, also known as the backpropagation\n",
    "\n",
    "# known parameters\n",
    "weight = 0.7\n",
    "bias = 0.3\n",
    "\n",
    "# created data\n",
    "X = torch.arange(0, 50, step=1).unsqueeze(dim=1).float()\n",
    "y = weight * X + bias\n",
    "\n",
    "display(X[:5], X.shape, X.ndim, y[:5])"
   ],
   "metadata": {
    "collapsed": false,
    "ExecuteTime": {
     "end_time": "2023-06-03T20:02:48.338335Z",
     "start_time": "2023-06-03T20:02:48.326246Z"
    }
   }
  },
  {
   "cell_type": "code",
   "execution_count": 17,
   "outputs": [
    {
     "data": {
      "text/plain": "tensor([[0.3000],\n        [1.0000],\n        [1.7000],\n        [2.4000],\n        [3.1000]])"
     },
     "metadata": {},
     "output_type": "display_data"
    },
    {
     "data": {
      "text/plain": "torch.Size([50, 1])"
     },
     "metadata": {},
     "output_type": "display_data"
    },
    {
     "data": {
      "text/plain": "2"
     },
     "metadata": {},
     "output_type": "display_data"
    }
   ],
   "source": [
    "# The model will try to learn what these values are\n",
    "display(y[:5], y.shape, y.ndim)"
   ],
   "metadata": {
    "collapsed": false,
    "ExecuteTime": {
     "end_time": "2023-05-07T22:36:31.105009Z",
     "start_time": "2023-05-07T22:36:30.917444Z"
    }
   }
  },
  {
   "cell_type": "markdown",
   "source": [],
   "metadata": {
    "collapsed": false
   }
  },
  {
   "cell_type": "markdown",
   "source": [
    "# Split to test and train data"
   ],
   "metadata": {
    "collapsed": false
   }
  },
  {
   "cell_type": "code",
   "execution_count": 18,
   "outputs": [],
   "source": [
    "# train on 40 samples to predict the next 10 samples\n",
    "train_split = 40\n",
    "X_train, y_train = X[:train_split], y[:train_split]\n",
    "X_test, y_test = X[train_split:], y[train_split:]"
   ],
   "metadata": {
    "collapsed": false,
    "ExecuteTime": {
     "end_time": "2023-05-07T22:36:31.105160Z",
     "start_time": "2023-05-07T22:36:30.927032Z"
    }
   }
  },
  {
   "cell_type": "code",
   "execution_count": 19,
   "outputs": [],
   "source": [
    "def plot_predictions(train_data=X_train,\n",
    "                     train_labels=y_train,\n",
    "                     test_data=X_test,\n",
    "                     test_labels=y_test,\n",
    "                     predictions=None):\n",
    "    plt.figure(figsize=(10, 7))\n",
    "    plt.scatter(train_data, train_labels, c=\"b\", s=4, label=\"Training data\")\n",
    "    plt.scatter(test_data, test_labels, c=\"g\", s=4, label=\"Testing data\")\n",
    "    if predictions is not None:\n",
    "        plt.scatter(test_data, predictions, c=\"r\", s=4, label=\"Predictions\")\n",
    "    plt.legend(prop={\"size\": 14})\n",
    "    plt.show()\n"
   ],
   "metadata": {
    "collapsed": false,
    "ExecuteTime": {
     "end_time": "2023-05-07T22:36:31.105257Z",
     "start_time": "2023-05-07T22:36:30.934932Z"
    }
   }
  },
  {
   "cell_type": "markdown",
   "source": [],
   "metadata": {
    "collapsed": false
   }
  },
  {
   "cell_type": "markdown",
   "source": [
    "# Create a LinearRegressionModel model"
   ],
   "metadata": {
    "collapsed": false
   }
  },
  {
   "cell_type": "code",
   "execution_count": 20,
   "outputs": [],
   "source": [
    "class LinearRegressionModel(nn.Module):\n",
    "    def __init__(self):\n",
    "        super().__init__()\n",
    "        self.weights = nn.Parameter(torch.randn(1))\n",
    "        self.bias = nn.Parameter(torch.randn(1))\n",
    "\n",
    "    def forward(self, x: torch.Tensor) -> torch.Tensor:\n",
    "        \"\"\"\n",
    "        :param x: the input/training data\n",
    "        :return:\n",
    "        \"\"\"\n",
    "        # the linear regression formula\n",
    "        return self.weights * x + self.bias"
   ],
   "metadata": {
    "collapsed": false,
    "ExecuteTime": {
     "end_time": "2023-05-07T22:36:31.106843Z",
     "start_time": "2023-05-07T22:36:30.943876Z"
    }
   }
  },
  {
   "cell_type": "markdown",
   "source": [],
   "metadata": {
    "collapsed": false
   }
  },
  {
   "cell_type": "markdown",
   "source": [
    "# Create a model instance & initial predictions"
   ],
   "metadata": {
    "collapsed": false
   }
  },
  {
   "cell_type": "code",
   "execution_count": 21,
   "outputs": [
    {
     "name": "stdout",
     "output_type": "stream",
     "text": [
      "OrderedDict([('weights', tensor([0.3367])), ('bias', tensor([0.1288]))])\n",
      "tensor([[13.5964],\n",
      "        [13.9331],\n",
      "        [14.2698],\n",
      "        [14.6065],\n",
      "        [14.9432],\n",
      "        [15.2799],\n",
      "        [15.6166],\n",
      "        [15.9533],\n",
      "        [16.2899],\n",
      "        [16.6266]])\n"
     ]
    },
    {
     "data": {
      "text/plain": "<Figure size 720x504 with 1 Axes>",
      "image/png": "[encoded data removed]"
     },
     "metadata": {
      "needs_background": "light"
     },
     "output_type": "display_data"
    }
   ],
   "source": [
    "torch.manual_seed(42)\n",
    "model_0 = LinearRegressionModel()\n",
    "print(model_0.state_dict())\n",
    "\n",
    "with torch.inference_mode():\n",
    "    y_predictions = model_0(X_test)\n",
    "\n",
    "print(y_predictions)\n",
    "plot_predictions(predictions=y_predictions)"
   ],
   "metadata": {
    "collapsed": false,
    "ExecuteTime": {
     "end_time": "2023-05-07T22:36:31.269241Z",
     "start_time": "2023-05-07T22:36:30.951833Z"
    }
   }
  },
  {
   "cell_type": "markdown",
   "source": [],
   "metadata": {
    "collapsed": false
   }
  },
  {
   "cell_type": "markdown",
   "source": [
    "# Create a loss & optim function"
   ],
   "metadata": {
    "collapsed": false
   }
  },
  {
   "cell_type": "code",
   "execution_count": 22,
   "outputs": [],
   "source": [
    "loss_fn = nn.L1Loss()\n",
    "optimizer = torch.optim.SGD(params=model_0.parameters(), lr=0.01)"
   ],
   "metadata": {
    "collapsed": false,
    "ExecuteTime": {
     "end_time": "2023-05-07T22:36:31.269415Z",
     "start_time": "2023-05-07T22:36:31.192385Z"
    }
   }
  },
  {
   "cell_type": "markdown",
   "source": [],
   "metadata": {
    "collapsed": false
   }
  },
  {
   "cell_type": "markdown",
   "source": [
    "# Train the model"
   ],
   "metadata": {
    "collapsed": false
   }
  },
  {
   "cell_type": "code",
   "execution_count": 23,
   "outputs": [
    {
     "name": "stdout",
     "output_type": "stream",
     "text": [
      "Epoch: 0/100, loss: 7.2557, test_loss: 7.6510\n",
      "Epoch: 10/100, loss: 0.7543, test_loss: 6.6827\n",
      "Epoch: 20/100, loss: 0.9349, test_loss: 6.3415\n",
      "Epoch: 30/100, loss: 1.0864, test_loss: 6.0002\n",
      "Epoch: 40/100, loss: 1.1593, test_loss: 5.8840\n",
      "Epoch: 50/100, loss: 1.2125, test_loss: 5.7677\n",
      "Epoch: 60/100, loss: 1.2656, test_loss: 5.6515\n",
      "Epoch: 70/100, loss: 1.3187, test_loss: 5.5352\n",
      "Epoch: 80/100, loss: 1.3718, test_loss: 5.4190\n",
      "Epoch: 90/100, loss: 1.4249, test_loss: 5.3028\n",
      "Epoch: 99/100, loss: 2.3395, test_loss: 3.4777\n",
      "\n",
      "\t\t_> Done training ✅\n",
      "\n",
      "0.7543 7.2557\n"
     ]
    },
    {
     "data": {
      "text/plain": "<Figure size 720x504 with 1 Axes>",
      "image/png": "[encoded data removed]"
     },
     "metadata": {
      "needs_background": "light"
     },
     "output_type": "display_data"
    }
   ],
   "source": [
    "torch.manual_seed(42)\n",
    "\n",
    "epochs = 100\n",
    "epoch, loss = None, None\n",
    "losses_list = []\n",
    "test_losses_list = []\n",
    "epoch_list = []\n",
    "\n",
    "for epoch in range(epochs):\n",
    "    # set model to train mode\n",
    "    model_0.train()\n",
    "\n",
    "    # 1. forward propagation\n",
    "    y_pred = model_0(X_train)\n",
    "\n",
    "    # 2. calculate loss\n",
    "    loss = loss_fn(y_pred, y_train)\n",
    "\n",
    "    # 3. optimize weights\n",
    "    optimizer.zero_grad()\n",
    "\n",
    "    # 4. perform backpropagation\n",
    "    loss.backward()\n",
    "\n",
    "    # 5. gradient descent\n",
    "    optimizer.step()\n",
    "\n",
    "    # turn off gradient tracking\n",
    "    model_0.eval()\n",
    "    with torch.inference_mode():\n",
    "        # forward propagation\n",
    "        test_predictions = model_0(X_test)\n",
    "\n",
    "        # calculate loss\n",
    "        test_loss = loss_fn(test_predictions, y_test)\n",
    "\n",
    "    if epoch % 10 == 0:\n",
    "        epoch_list.append(epoch)\n",
    "        losses_list.append(round(loss.item(), 4))\n",
    "        test_losses_list.append(round(test_loss.item(), 4))\n",
    "        print(f\"Epoch: {epoch}/{epochs}, \"\n",
    "              f\"loss: {loss.item():.4f}, \"\n",
    "              f\"test_loss: {test_loss.item():.4f}\")\n",
    "        # print(f\"\\t{model_0.state_dict()}\")\n",
    "\n",
    "print(f\"Epoch: {epoch}/{epochs}, \"\n",
    "      f\"loss: {loss.item():.4f}, \"\n",
    "      f\"test_loss: {test_loss.item():.4f}\")\n",
    "# print(f\"\\t{model_0.state_dict()}\")\n",
    "\n",
    "print('\\n\\t\\t_> Done training ✅\\n')\n",
    "print(min(losses_list), max(losses_list))\n",
    "\n",
    "with torch.inference_mode():\n",
    "    preds = model_0(X_test)\n",
    "\n",
    "plot_predictions(predictions=preds)"
   ],
   "metadata": {
    "collapsed": false,
    "ExecuteTime": {
     "end_time": "2023-05-07T22:36:31.490726Z",
     "start_time": "2023-05-07T22:36:31.199114Z"
    }
   }
  },
  {
   "cell_type": "markdown",
   "source": [],
   "metadata": {
    "collapsed": false
   }
  },
  {
   "cell_type": "markdown",
   "source": [
    "# Plot the loss curves"
   ],
   "metadata": {
    "collapsed": false
   }
  },
  {
   "cell_type": "code",
   "execution_count": 24,
   "outputs": [
    {
     "data": {
      "text/plain": "<Figure size 864x576 with 1 Axes>",
      "image/png": "[encoded data removed]"
     },
     "metadata": {
      "needs_background": "light"
     },
     "output_type": "display_data"
    }
   ],
   "source": [
    "plt.plot(epoch_list, np.array(torch.tensor(losses_list).numpy()), label=\"Training loss\")\n",
    "plt.plot(epoch_list, test_losses_list, label=\"Testing loss\")\n",
    "plt.title(\"Training and Testing Loss\")\n",
    "plt.ylabel(\"Loss\")\n",
    "plt.xlabel(\"Epoch\")\n",
    "plt.legend()\n",
    "\n",
    "# increase the size of the plot\n",
    "plt.gcf().set_size_inches(12, 8)\n",
    "\n",
    "plt.show()"
   ],
   "metadata": {
    "collapsed": false,
    "ExecuteTime": {
     "end_time": "2023-05-07T22:36:31.838921Z",
     "start_time": "2023-05-07T22:36:31.484392Z"
    }
   }
  },
  {
   "cell_type": "markdown",
   "source": [],
   "metadata": {
    "collapsed": false
   }
  },
  {
   "cell_type": "markdown",
   "source": [
    "# Save the model\n"
   ],
   "metadata": {
    "collapsed": false
   }
  },
  {
   "cell_type": "code",
   "execution_count": 27,
   "outputs": [
    {
     "name": "stdout",
     "output_type": "stream",
     "text": [
      "\n",
      "\t\t_> Saving model to models/pytorch_linear_regression_model_0.pth ✅\n",
      "\n"
     ]
    }
   ],
   "source": [
    "# create the models directory\n",
    "MODEL_PATH = Path(\"models\")\n",
    "MODEL_PATH.mkdir(parents=True, exist_ok=True)\n",
    "\n",
    "# create the model save path\n",
    "MODEL_NAME = \"pytorch_linear_regression_model_0.pth\"\n",
    "MODEL_SAVE_PATH = MODEL_PATH / MODEL_NAME\n",
    "\n",
    "# save the model state dict\n",
    "print(f\"\\n_> Saving model to {MODEL_SAVE_PATH} ✅\\n\")\n",
    "torch.save(obj=model_0.state_dict(), f=MODEL_SAVE_PATH)"
   ],
   "metadata": {
    "collapsed": false,
    "ExecuteTime": {
     "end_time": "2023-05-07T23:01:59.669350Z",
     "start_time": "2023-05-07T23:01:59.592661Z"
    }
   }
  },
  {
   "cell_type": "code",
   "execution_count": 1,
   "outputs": [
    {
     "name": "stdout",
     "output_type": "stream",
     "text": [
      "total 16\r\n",
      "-rw-r--r--  1 juliushernandez  staff  1231 May  7 16:01 pytorch_linear_regression_model_0.pth\r\n",
      "-rw-r--r--  1 juliushernandez  staff  1295 May  7 18:03 pytorch_linear_regression_model_1.pth\r\n"
     ]
    }
   ],
   "source": [
    "!ls -l models"
   ],
   "metadata": {
    "collapsed": false,
    "ExecuteTime": {
     "end_time": "2023-05-08T01:04:12.888229Z",
     "start_time": "2023-05-08T01:04:12.740211Z"
    }
   }
  },
  {
   "cell_type": "markdown",
   "source": [],
   "metadata": {
    "collapsed": false
   }
  },
  {
   "cell_type": "markdown",
   "source": [
    "# Load the model"
   ],
   "metadata": {
    "collapsed": false
   }
  },
  {
   "cell_type": "code",
   "execution_count": 29,
   "outputs": [
    {
     "data": {
      "text/plain": "<All keys matched successfully>"
     },
     "execution_count": 29,
     "metadata": {},
     "output_type": "execute_result"
    }
   ],
   "source": [
    "loaded_model_0 = LinearRegressionModel()\n",
    "loaded_model_0.load_state_dict(torch.load(MODEL_SAVE_PATH))"
   ],
   "metadata": {
    "collapsed": false,
    "ExecuteTime": {
     "end_time": "2023-05-07T23:09:48.016597Z",
     "start_time": "2023-05-07T23:09:47.913921Z"
    }
   }
  },
  {
   "cell_type": "markdown",
   "source": [
    "### Make predictions with the loaded model"
   ],
   "metadata": {
    "collapsed": false
   }
  },
  {
   "cell_type": "code",
   "execution_count": 30,
   "outputs": [],
   "source": [
    "loaded_model_0.eval()\n",
    "with torch.inference_mode():\n",
    "    preds = loaded_model_0(X_test)"
   ],
   "metadata": {
    "collapsed": false,
    "ExecuteTime": {
     "end_time": "2023-05-07T23:09:57.315829Z",
     "start_time": "2023-05-07T23:09:57.284920Z"
    }
   }
  },
  {
   "cell_type": "code",
   "execution_count": 31,
   "outputs": [
    {
     "data": {
      "text/plain": "<Figure size 720x504 with 1 Axes>",
      "image/png": "[encoded data removed]"
     },
     "metadata": {
      "needs_background": "light"
     },
     "output_type": "display_data"
    }
   ],
   "source": [
    "plot_predictions(predictions=preds)"
   ],
   "metadata": {
    "collapsed": false,
    "ExecuteTime": {
     "end_time": "2023-05-07T23:10:00.758207Z",
     "start_time": "2023-05-07T23:10:00.473312Z"
    }
   }
  },
  {
   "cell_type": "code",
   "execution_count": null,
   "outputs": [],
   "source": [],
   "metadata": {
    "collapsed": false
   }
  }
 ],
 "metadata": {
  "kernelspec": {
   "display_name": "Python 3",
   "language": "python",
   "name": "python3"
  },
  "language_info": {
   "codemirror_mode": {
    "name": "ipython",
    "version": 2
   },
   "file_extension": ".py",
   "mimetype": "text/x-python",
   "name": "python",
   "nbconvert_exporter": "python",
   "pygments_lexer": "ipython2",
   "version": "2.7.6"
  }
 },
 "nbformat": 4,
 "nbformat_minor": 0
}

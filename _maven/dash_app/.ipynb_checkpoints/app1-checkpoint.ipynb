{
 "cells": [
  {
   "cell_type": "code",
   "execution_count": 2,
   "id": "initial_id",
   "metadata": {
    "ExecuteTime": {
     "end_time": "2023-08-26T16:42:04.450768Z",
     "start_time": "2023-08-26T16:42:04.446571Z"
    },
    "collapsed": true
   },
   "outputs": [],
   "source": [
    "from dash import Dash, dcc, html, exceptions\n",
    "from dash.dependencies import Input, Output\n",
    "import plotly"
   ]
  },
  {
   "cell_type": "code",
   "execution_count": 19,
   "id": "547e1f3e15ae6b49",
   "metadata": {
    "ExecuteTime": {
     "end_time": "2023-08-26T19:40:54.402820Z",
     "start_time": "2023-08-26T19:40:53.837326Z"
    }
   },
   "outputs": [
    {
     "data": {
      "text/html": [
       "\n",
       "        <iframe\n",
       "            width=\"100%\"\n",
       "            height=\"650\"\n",
       "            src=\"http://127.0.0.1:8050/\"\n",
       "            frameborder=\"0\"\n",
       "            allowfullscreen\n",
       "        ></iframe>\n",
       "        "
      ],
      "text/plain": [
       "<IPython.lib.display.IFrame at 0x7fcb7ac59a00>"
      ]
     },
     "metadata": {},
     "output_type": "display_data"
    },
    {
     "name": "stdout",
     "output_type": "stream",
     "text": [
      "\u001b[1;31m---------------------------------------------------------------------------\u001b[0m\n",
      "\u001b[1;31mNameError\u001b[0m                                 Traceback (most recent call last)\n",
      "\u001b[1;31mNameError\u001b[0m: name 'exceptions' is not defined\n",
      "\n"
     ]
    }
   ],
   "source": [
    "app = Dash(__name__)\n",
    "\n",
    "app.layout = html.Div([\n",
    "    html.H3('Dash App'),\n",
    "    html.Div(id='container'),\n",
    "    dcc.Dropdown(\n",
    "        options=['Red', 'Blue', 'Green'],\n",
    "        id='color-input',\n",
    "        #value='Red'\n",
    "    ),\n",
    "    #dcc.Graph(id='output-graph')\n",
    "    html.H1(id='color-output', children='Hello World', style={'color': 'black'})\n",
    "])\n",
    "\n",
    "@app.callback(\n",
    "    Output(component_id='color-output', component_property='children'), \n",
    "    Input(component_id='color-input', component_property='value'))\n",
    "def interactive_chart(color):\n",
    "    if not color:\n",
    "        raise exceptions.PreventUpdate\n",
    "    return f'Color selected: {color}'\n",
    "\n",
    "\n",
    "if __name__ == '__main__':\n",
    "    app.run_server(mode='inline', debug=True, height=500, width='20%')"
   ]
  },
  {
   "cell_type": "code",
   "execution_count": 4,
   "id": "88e66cc8907e14de",
   "metadata": {
    "ExecuteTime": {
     "end_time": "2023-08-26T16:42:06.287789Z",
     "start_time": "2023-08-26T16:42:06.080229Z"
    }
   },
   "outputs": [
    {
     "data": {
      "text/html": [
       "\n",
       "        <iframe\n",
       "            width=\"100%\"\n",
       "            height=\"650\"\n",
       "            src=\"http://127.0.0.1:8050/\"\n",
       "            frameborder=\"0\"\n",
       "            allowfullscreen\n",
       "        ></iframe>\n",
       "        "
      ],
      "text/plain": [
       "<IPython.lib.display.IFrame at 0x7fcb78ea35e0>"
      ]
     },
     "metadata": {},
     "output_type": "display_data"
    }
   ],
   "source": [
    "app.run_server()"
   ]
  },
  {
   "cell_type": "code",
   "execution_count": null,
   "id": "baf8821a26ce4ea4",
   "metadata": {},
   "outputs": [],
   "source": []
  }
 ],
 "metadata": {
  "kernelspec": {
   "display_name": "Python 3",
   "language": "python",
   "name": "python3"
  },
  "language_info": {
   "codemirror_mode": {
    "name": "ipython",
    "version": 3
   },
   "file_extension": ".py",
   "mimetype": "text/x-python",
   "name": "python",
   "nbconvert_exporter": "python",
   "pygments_lexer": "ipython3",
   "version": "3.9.1"
  }
 },
 "nbformat": 4,
 "nbformat_minor": 5
}

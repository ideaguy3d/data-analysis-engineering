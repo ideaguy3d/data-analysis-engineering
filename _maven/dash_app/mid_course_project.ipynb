{
 "cells": [
  {
   "cell_type": "markdown",
   "source": [
    "# Imports"
   ],
   "metadata": {
    "collapsed": false
   },
   "id": "c337d294b481f9f2"
  },
  {
   "cell_type": "code",
   "execution_count": 4,
   "id": "initial_id",
   "metadata": {
    "collapsed": true,
    "ExecuteTime": {
     "end_time": "2023-09-12T20:27:19.213140Z",
     "start_time": "2023-09-12T20:27:19.204245Z"
    }
   },
   "outputs": [],
   "source": [
    "from dash import Dash, dcc, html\n",
    "from dash.dependencies import Output, Input\n",
    "from dash.exceptions import PreventUpdate\n",
    "import plotly.express as px\n",
    "import pandas"
   ]
  },
  {
   "cell_type": "markdown",
   "source": [
    "# df_resorts"
   ],
   "metadata": {
    "collapsed": false
   },
   "id": "eff58d0b90a0abf2"
  },
  {
   "cell_type": "code",
   "execution_count": 2,
   "outputs": [
    {
     "data": {
      "text/plain": "    ID                        Resort   Latitude   Longitude        Country  \\\n3    4  Red Mountain Resort-Rossland  49.105520 -117.846280         Canada   \n10  11                        Fernie  49.504175 -115.062867         Canada   \n11  12                     Sun Peaks  50.884468 -119.882329         Canada   \n12  13                      Panorama  50.736999 -119.120561         Canada   \n21  22                     Steamboat  35.754022 -109.853751  United States   \n\n        Continent  Price            Season  Highest point  Lowest point  ...  \\\n3   North America     60  December - April           2075          1185  ...   \n10  North America     67  December - April           2134          1052  ...   \n11  North America     62  November - April           2082          1198  ...   \n12  North America     62  December - April           2365          1140  ...   \n21  North America    120  November - April           3221          2103  ...   \n\n    Snow cannons  Surface lifts  Chair lifts  Gondola lifts  Total lifts  \\\n3              0              2            5              1            8   \n10            11              3            7              0           10   \n11             0              6            6              0           12   \n12             0              3            6              4           13   \n21             0              1           14              2           17   \n\n    Lift capacity  Child friendly  Snowparks  Nightskiing  Summer skiing  \n3            9200             Yes        Yes          Yes             No  \n10          14514             Yes        Yes           No             No  \n11          13895             Yes        Yes          Yes             No  \n12          11890             Yes        Yes          Yes             No  \n21          32720             Yes        Yes          Yes             No  \n\n[5 rows x 25 columns]",
      "text/html": "<div>\n<style scoped>\n    .dataframe tbody tr th:only-of-type {\n        vertical-align: middle;\n    }\n\n    .dataframe tbody tr th {\n        vertical-align: top;\n    }\n\n    .dataframe thead th {\n        text-align: right;\n    }\n</style>\n<table border=\"1\" class=\"dataframe\">\n  <thead>\n    <tr style=\"text-align: right;\">\n      <th></th>\n      <th>ID</th>\n      <th>Resort</th>\n      <th>Latitude</th>\n      <th>Longitude</th>\n      <th>Country</th>\n      <th>Continent</th>\n      <th>Price</th>\n      <th>Season</th>\n      <th>Highest point</th>\n      <th>Lowest point</th>\n      <th>...</th>\n      <th>Snow cannons</th>\n      <th>Surface lifts</th>\n      <th>Chair lifts</th>\n      <th>Gondola lifts</th>\n      <th>Total lifts</th>\n      <th>Lift capacity</th>\n      <th>Child friendly</th>\n      <th>Snowparks</th>\n      <th>Nightskiing</th>\n      <th>Summer skiing</th>\n    </tr>\n  </thead>\n  <tbody>\n    <tr>\n      <th>3</th>\n      <td>4</td>\n      <td>Red Mountain Resort-Rossland</td>\n      <td>49.105520</td>\n      <td>-117.846280</td>\n      <td>Canada</td>\n      <td>North America</td>\n      <td>60</td>\n      <td>December - April</td>\n      <td>2075</td>\n      <td>1185</td>\n      <td>...</td>\n      <td>0</td>\n      <td>2</td>\n      <td>5</td>\n      <td>1</td>\n      <td>8</td>\n      <td>9200</td>\n      <td>Yes</td>\n      <td>Yes</td>\n      <td>Yes</td>\n      <td>No</td>\n    </tr>\n    <tr>\n      <th>10</th>\n      <td>11</td>\n      <td>Fernie</td>\n      <td>49.504175</td>\n      <td>-115.062867</td>\n      <td>Canada</td>\n      <td>North America</td>\n      <td>67</td>\n      <td>December - April</td>\n      <td>2134</td>\n      <td>1052</td>\n      <td>...</td>\n      <td>11</td>\n      <td>3</td>\n      <td>7</td>\n      <td>0</td>\n      <td>10</td>\n      <td>14514</td>\n      <td>Yes</td>\n      <td>Yes</td>\n      <td>No</td>\n      <td>No</td>\n    </tr>\n    <tr>\n      <th>11</th>\n      <td>12</td>\n      <td>Sun Peaks</td>\n      <td>50.884468</td>\n      <td>-119.882329</td>\n      <td>Canada</td>\n      <td>North America</td>\n      <td>62</td>\n      <td>November - April</td>\n      <td>2082</td>\n      <td>1198</td>\n      <td>...</td>\n      <td>0</td>\n      <td>6</td>\n      <td>6</td>\n      <td>0</td>\n      <td>12</td>\n      <td>13895</td>\n      <td>Yes</td>\n      <td>Yes</td>\n      <td>Yes</td>\n      <td>No</td>\n    </tr>\n    <tr>\n      <th>12</th>\n      <td>13</td>\n      <td>Panorama</td>\n      <td>50.736999</td>\n      <td>-119.120561</td>\n      <td>Canada</td>\n      <td>North America</td>\n      <td>62</td>\n      <td>December - April</td>\n      <td>2365</td>\n      <td>1140</td>\n      <td>...</td>\n      <td>0</td>\n      <td>3</td>\n      <td>6</td>\n      <td>4</td>\n      <td>13</td>\n      <td>11890</td>\n      <td>Yes</td>\n      <td>Yes</td>\n      <td>Yes</td>\n      <td>No</td>\n    </tr>\n    <tr>\n      <th>21</th>\n      <td>22</td>\n      <td>Steamboat</td>\n      <td>35.754022</td>\n      <td>-109.853751</td>\n      <td>United States</td>\n      <td>North America</td>\n      <td>120</td>\n      <td>November - April</td>\n      <td>3221</td>\n      <td>2103</td>\n      <td>...</td>\n      <td>0</td>\n      <td>1</td>\n      <td>14</td>\n      <td>2</td>\n      <td>17</td>\n      <td>32720</td>\n      <td>Yes</td>\n      <td>Yes</td>\n      <td>Yes</td>\n      <td>No</td>\n    </tr>\n  </tbody>\n</table>\n<p>5 rows × 25 columns</p>\n</div>"
     },
     "execution_count": 2,
     "metadata": {},
     "output_type": "execute_result"
    }
   ],
   "source": [
    "df_resorts = (\n",
    "    pandas.read_csv('data/resorts.csv', encoding=\"ISO-8859-1\")\n",
    "    .query(\"Country in ['United States', 'Canada']\")\n",
    ")\n",
    "df_resorts.head()"
   ],
   "metadata": {
    "collapsed": false,
    "ExecuteTime": {
     "end_time": "2023-09-12T19:35:22.192105Z",
     "start_time": "2023-09-12T19:35:21.844576Z"
    }
   },
   "id": "3cff4f237626cff7"
  },
  {
   "cell_type": "markdown",
   "source": [
    "# Map Densisty Skii Resorts app"
   ],
   "metadata": {
    "collapsed": false
   },
   "id": "5053aa49c210b80f"
  },
  {
   "cell_type": "code",
   "execution_count": 7,
   "outputs": [
    {
     "data": {
      "text/plain": "<IPython.lib.display.IFrame at 0x7f7a20999040>",
      "text/html": "\n        <iframe\n            width=\"100%\"\n            height=\"650\"\n            src=\"http://127.0.0.1:8050/\"\n            frameborder=\"0\"\n            allowfullscreen\n        ></iframe>\n        "
     },
     "metadata": {},
     "output_type": "display_data"
    }
   ],
   "source": [
    "app = Dash(__name__)\n",
    "\n",
    "app.layout = html.Div([\n",
    "    html.H1(id='title'),\n",
    "    html.Br(),\n",
    "    dcc.Slider(id='price_slider', min=0, max=150, step=10, value=150),\n",
    "    html.Br(),\n",
    "    dcc.RadioItems(\n",
    "        id='night_ski_toggle',\n",
    "        options=[\n",
    "            {\"label\": \"Has Night Skiing\", \"value\": \"Yes\"},\n",
    "            {\"label\": \"No Night Skiing\", \"value\": \"No\"},\n",
    "        ],\n",
    "        value=\"No\"\n",
    "    ),\n",
    "    dcc.Graph(id='resort_map')\n",
    "], style={\"width\": 1200})\n",
    "\n",
    "\n",
    "@app.callback(\n",
    "    Output(component_id='title', component_property='children'),\n",
    "    Output(component_id='resort_map', component_property='figure'),\n",
    "    Input(component_id='price_slider', component_property='value'),\n",
    "    Input(component_id='night_ski_toggle', component_property='value')\n",
    ")\n",
    "def snow_map(price: int, night_ski: str):\n",
    "    if not price and not night_ski:\n",
    "        raise PreventUpdate\n",
    "\n",
    "    df = df_resorts.loc[(df_resorts[\"Price\"] < price) & (df_resorts[\"Nightskiing\"] == night_ski)]\n",
    "\n",
    "    title = f\"Resorts with price less than ${price}\"\n",
    "\n",
    "    fig = px.density_mapbox(\n",
    "        df,\n",
    "        lat=\"Latitude\",\n",
    "        lon=\"Longitude\",\n",
    "        z=\"Total slopes\",\n",
    "        hover_name=\"Resort\",\n",
    "        center={\"lat\": 45, \"lon\": -100},\n",
    "        zoom=3,\n",
    "        mapbox_style=\"stamen-terrain\",\n",
    "        color_continuous_scale=\"viridis\",\n",
    "        # width=1000,\n",
    "        # height=800\n",
    "    )\n",
    "\n",
    "    return title, fig\n",
    "\n",
    "\n",
    "if __name__ == '__main__':\n",
    "    app.run_server(debug=True, mode='inline')"
   ],
   "metadata": {
    "collapsed": false,
    "ExecuteTime": {
     "end_time": "2023-09-12T20:28:53.221073Z",
     "start_time": "2023-09-12T20:28:52.760734Z"
    }
   },
   "id": "c36b7b3e38a93180"
  },
  {
   "cell_type": "markdown",
   "source": [
    "# Top Resorts by Metric app"
   ],
   "metadata": {
    "collapsed": false
   },
   "id": "c915a4e9a75e29d3"
  },
  {
   "cell_type": "code",
   "execution_count": 11,
   "outputs": [
    {
     "data": {
      "text/plain": "<IPython.lib.display.IFrame at 0x7f7a211af2e0>",
      "text/html": "\n        <iframe\n            width=\"100%\"\n            height=\"650\"\n            src=\"http://127.0.0.1:8050/\"\n            frameborder=\"0\"\n            allowfullscreen\n        ></iframe>\n        "
     },
     "metadata": {},
     "output_type": "display_data"
    }
   ],
   "source": [
    "app = Dash(__name__)\n",
    "\n",
    "app.layout = html.Div([\n",
    "    html.H1(id='title'),\n",
    "    html.Br(),\n",
    "    dcc.Checklist(\n",
    "        id=\"country_checklist\",\n",
    "        options=[\"Canada\", \"United States\"],\n",
    "        value=[\"Canada\", \"United States\"]\n",
    "    ),\n",
    "    html.Br(),\n",
    "    dcc.Dropdown(\n",
    "        id='column_picker',\n",
    "        options=df_resorts.select_dtypes(\"number\").columns[3:],\n",
    "        value=\"Price\"\n",
    "    ),\n",
    "    html.Br(),\n",
    "    dcc.RadioItems(\n",
    "        id='ascending_selector',\n",
    "        options=[\n",
    "            {\"label\": \"Ascending\", \"value\": True},\n",
    "            {\"label\": \"Descending\", \"value\": False},\n",
    "        ],\n",
    "        value=True\n",
    "    ),\n",
    "    html.Br(),\n",
    "    dcc.Graph(id='metric_bar')\n",
    "], style={\"width\": 1200})\n",
    "\n",
    "\n",
    "@app.callback(\n",
    "    Output(component_id='title', component_property='children'),\n",
    "    Output(component_id='metric_bar', component_property='figure'),\n",
    "    Input(component_id='country_checklist', component_property='value'),\n",
    "    Input(component_id='column_picker', component_property='value'),\n",
    "    Input(component_id='ascending_selector', component_property='value')\n",
    ")\n",
    "def snow_map(country: list, column: str, ascending: bool):\n",
    "    if not country and not column and not ascending:\n",
    "        raise PreventUpdate\n",
    "    \n",
    "    df = df_resorts.query(\"Country in @country\")\n",
    "    \n",
    "    title = f\"Top Resorts by {column} in {country}\"\n",
    "    \n",
    "    fig = px.bar(\n",
    "        df.sort_values(column, ascending=ascending).iloc[:10],\n",
    "        x=\"Resort\",\n",
    "        y=column,\n",
    "        color=\"Country\",\n",
    "        color_discrete_sequence=[\"#00cc96\", \"#EF553B\"],\n",
    "        width=1000,\n",
    "        height=800\n",
    "    )\n",
    "    \n",
    "    return title, fig \n",
    "\n",
    "\n",
    "if __name__ == '__main__':\n",
    "    app.run_server(debug=True, mode='inline')"
   ],
   "metadata": {
    "collapsed": false,
    "ExecuteTime": {
     "end_time": "2023-09-12T20:59:03.570245Z",
     "start_time": "2023-09-12T20:59:03.169177Z"
    }
   },
   "id": "3c2399d567df1f84"
  },
  {
   "cell_type": "code",
   "execution_count": null,
   "outputs": [],
   "source": [],
   "metadata": {
    "collapsed": false
   },
   "id": "87a60c320a6fb482"
  },
  {
   "cell_type": "code",
   "execution_count": null,
   "outputs": [],
   "source": [],
   "metadata": {
    "collapsed": false
   },
   "id": "442cdad5e5b8cf0d"
  },
  {
   "cell_type": "code",
   "execution_count": null,
   "outputs": [],
   "source": [],
   "metadata": {
    "collapsed": false
   },
   "id": "2ea5989a4dcb705b"
  },
  {
   "cell_type": "code",
   "execution_count": null,
   "outputs": [],
   "source": [],
   "metadata": {
    "collapsed": false
   },
   "id": "d52c6c2d136e1789"
  }
 ],
 "metadata": {
  "kernelspec": {
   "display_name": "Python 3",
   "language": "python",
   "name": "python3"
  },
  "language_info": {
   "codemirror_mode": {
    "name": "ipython",
    "version": 2
   },
   "file_extension": ".py",
   "mimetype": "text/x-python",
   "name": "python",
   "nbconvert_exporter": "python",
   "pygments_lexer": "ipython2",
   "version": "2.7.6"
  }
 },
 "nbformat": 4,
 "nbformat_minor": 5
}

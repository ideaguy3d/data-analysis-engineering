{
 "cells": [
  {
   "cell_type": "markdown",
   "source": [
    "# imports"
   ],
   "metadata": {
    "collapsed": false
   },
   "id": "ab4b7a1717e9e987"
  },
  {
   "cell_type": "code",
   "execution_count": null,
   "id": "initial_id",
   "metadata": {
    "collapsed": true
   },
   "outputs": [],
   "source": [
    "# Use as many python cells as you wish to write your code\n",
    "from pyspark.sql import SparkSession\n",
    "import pandas as pd\n",
    "import re"
   ]
  },
  {
   "cell_type": "code",
   "outputs": [],
   "source": [
    "# Initialize Spark session\n",
    "spark = SparkSession.builder.appName(\"HealthDataAnalysis\").getOrCreate()"
   ],
   "metadata": {
    "collapsed": false
   },
   "id": "2bea17e3481f459c"
  },
  {
   "cell_type": "markdown",
   "source": [
    "# defs "
   ],
   "metadata": {
    "collapsed": false
   },
   "id": "5d17a4fa1a363377"
  },
  {
   "cell_type": "code",
   "outputs": [],
   "source": [
    "def create_sql_views(csv_files):\n",
    "    temp_views = [f.split(\".\")[0] for f in csv_files]\n",
    "\n",
    "    # Import CSV files and create temporary views\n",
    "    for file, view in zip(csv_files, temp_views):\n",
    "        df = spark.read.csv(file, header=True, inferSchema=True)\n",
    "        df.createOrReplaceTempView(view)\n",
    "\n",
    "\n",
    "def merge_all_data(user_health_data, supplement_usage, experiments, user_profiles):\n",
    "    csv_files = [user_health_data, supplement_usage, experiments, user_profiles]\n",
    "    create_sql_views(csv_files)\n",
    "\n",
    "    data_merge_sdf = spark.sql('''\n",
    "\n",
    "        select \n",
    "            -- 1\n",
    "            up.user_id\n",
    "\n",
    "            -- 2\n",
    "            , cast(uhd.date as date) as date\n",
    "\n",
    "            -- 3\n",
    "            , up.email\n",
    "\n",
    "            -- 4\n",
    "            , case \n",
    "                when age is null then 'Unknown'\n",
    "                when age < 18 then 'Under 18'\n",
    "                when age between 18 and 25 then '18-25'\n",
    "                when age between 26 and 35 then '26-35'\n",
    "                when age between 36 and 45 then '36-45'\n",
    "                when age between 46 and 55 then '46-55'\n",
    "                when age between 56 and 65 then '56-65'\n",
    "                else 'Over 65'\n",
    "            end as user_age_group\n",
    "\n",
    "            -- 5\n",
    "            , e.name as experiment_name\n",
    "\n",
    "            -- 6\n",
    "            , coalesce(su.supplement_name, 'No intake') as supplement_name\n",
    "\n",
    "            -- 7\n",
    "            , coalesce(su.dosage / 1000, null) as dosage_grams\n",
    "\n",
    "            -- 8\n",
    "            , su.is_placebo\n",
    "\n",
    "            -- 9\n",
    "            , uhd.average_heart_rate\n",
    "\n",
    "            -- 10\n",
    "            , uhd.average_glucose\n",
    "\n",
    "            -- 11\n",
    "            , lower(uhd.sleep_hours) as sleep_hours\n",
    "\n",
    "            -- 12\n",
    "            , uhd.activity_level\n",
    "\n",
    "        from user_profiles up\n",
    "            left join user_health_data uhd \n",
    "                on up.user_id = uhd.user_id\n",
    "            left join supplement_usage su\n",
    "                on up.user_id = su.user_id \n",
    "                    and uhd.date = su.date\n",
    "            left join experiments e \n",
    "                on su.experiment_id = e.experiment_id \n",
    "\n",
    "        where \n",
    "            up.user_id is not null \n",
    "            and uhd.date is not null \n",
    "            and up.email is not null\n",
    "    ''')\n",
    "\n",
    "    data_merge_sdf.createOrReplaceTempView('data_merge')\n",
    "\n",
    "    df = data_merge_sdf.toPandas()\n",
    "\n",
    "    df['date'] = pd.to_datetime(df['date'])\n",
    "    df['user_id'] = df['user_id'].astype(str)\n",
    "    df['email'] = df['email'].astype(str)\n",
    "    df['user_age_group'] = df['user_age_group'].astype(str)\n",
    "    df['experiment_name'] = df['experiment_name'].astype(str)\n",
    "    df['supplement_name'] = df['supplement_name'].replace('null', None).astype(str)\n",
    "    df['dosage_grams'] = pd.to_numeric(df['dosage_grams'])\n",
    "    df['is_placebo'] = df['is_placebo'].replace('null', None).astype('boolean')\n",
    "    df['average_heart_rate'] = pd.to_numeric(df['average_heart_rate'])\n",
    "    df['average_glucose'] = pd.to_numeric(df['average_glucose'])\n",
    "    df['sleep_hours'] = df['sleep_hours'].astype(str)\n",
    "    df['activity_level'] = pd.to_numeric(df['activity_level'])\n",
    "\n",
    "    return df"
   ],
   "metadata": {
    "collapsed": false
   },
   "id": "e396bd288c733a7e"
  },
  {
   "cell_type": "markdown",
   "source": [
    "# protos"
   ],
   "metadata": {
    "collapsed": false
   },
   "id": "69a83a125f26effe"
  },
  {
   "cell_type": "code",
   "outputs": [],
   "source": [
    "spark.sql('''\n",
    "\n",
    "    select *\n",
    "    from data_merge\n",
    "\n",
    "''').toPandas()"
   ],
   "metadata": {
    "collapsed": false
   },
   "id": "f89a983b317ba1b1"
  },
  {
   "cell_type": "code",
   "outputs": [],
   "source": [
    "df = merge_all_data('user_health_data.csv', 'supplement_usage.csv', 'experiments.csv', 'user_profiles.csv')\n",
    "\n",
    "# Assuming df is the DataFrame returned by merge_all_data\n",
    "df['date'] = pd.to_datetime(df['date'])\n",
    "df['user_id'] = df['user_id'].astype(int)\n",
    "df['email'] = df['email'].astype(str)\n",
    "df['user_age_group'] = df['user_age_group'].astype(str)\n",
    "\n",
    "# Clean and standardize 'experiment_name' column\n",
    "df['experiment_name'] = df['experiment_name'].str.strip().str.lower().replace('null', None)\n",
    "\n",
    "# Clean and standardize 'supplement_name' column\n",
    "df['supplement_name'] = df['supplement_name'].str.strip().str.lower().replace('null', 'no intake')\n",
    "\n",
    "# Convert 'dosage_grams' to numeric, handling 'null' and invalid entries\n",
    "df['dosage_grams'] = pd.to_numeric(df['dosage_grams'], errors='coerce')\n",
    "\n",
    "# Convert 'is_placebo' to boolean, handling 'null' values\n",
    "df['is_placebo'] = df['is_placebo'].replace('null', None).astype('boolean')\n",
    "\n",
    "# Convert numeric columns, handling 'null' and invalid entries\n",
    "numeric_columns = ['average_heart_rate', 'average_glucose', 'sleep_hours', 'activity_level']\n",
    "for col in numeric_columns:\n",
    "    df[col] = pd.to_numeric(df[col], errors='coerce')\n",
    "\n",
    "# Clean 'user_age_group' column to match specified categories\n",
    "valid_age_groups = ['under 18', '18-25', '26-35', '36-45', '46-55', '56-65', 'over 65', 'unknown']\n",
    "df['user_age_group'] = df['user_age_group'].str.strip().str.lower()\n",
    "df.loc[~df['user_age_group'].isin(valid_age_groups), 'user_age_group'] = 'unknown'\n",
    "\n",
    "print(df.dtypes)\n",
    "print(df.head(10))\n"
   ],
   "metadata": {
    "collapsed": false
   },
   "id": "df1f32d1f928d2a0"
  },
  {
   "cell_type": "markdown",
   "source": [
    "# Merge All Data"
   ],
   "metadata": {
    "collapsed": false
   },
   "id": "9a13bdb02ce3a463"
  },
  {
   "cell_type": "code",
   "outputs": [],
   "source": [
    "merge_all_data('user_health_data.csv', 'supplement_usage.csv', 'experiments.csv', 'user_profiles.csv')"
   ],
   "metadata": {
    "collapsed": false
   },
   "id": "d28f3371a509b9a3"
  },
  {
   "cell_type": "code",
   "outputs": [],
   "source": [],
   "metadata": {
    "collapsed": false
   },
   "id": "ee89be2fb1b42f27"
  },
  {
   "cell_type": "code",
   "outputs": [],
   "source": [],
   "metadata": {
    "collapsed": false
   },
   "id": "fffcf03029918d02"
  },
  {
   "cell_type": "code",
   "outputs": [],
   "source": [],
   "metadata": {
    "collapsed": false
   },
   "id": "9fc726651e8f0510"
  },
  {
   "cell_type": "code",
   "outputs": [],
   "source": [],
   "metadata": {
    "collapsed": false
   },
   "id": "4f886b44e756f43b"
  }
 ],
 "metadata": {
  "kernelspec": {
   "display_name": "Python 3",
   "language": "python",
   "name": "python3"
  },
  "language_info": {
   "codemirror_mode": {
    "name": "ipython",
    "version": 2
   },
   "file_extension": ".py",
   "mimetype": "text/x-python",
   "name": "python",
   "nbconvert_exporter": "python",
   "pygments_lexer": "ipython2",
   "version": "2.7.6"
  }
 },
 "nbformat": 4,
 "nbformat_minor": 5
}

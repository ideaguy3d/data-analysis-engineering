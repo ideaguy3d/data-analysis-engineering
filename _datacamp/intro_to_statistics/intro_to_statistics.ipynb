{
 "cells": [
  {
   "cell_type": "code",
   "execution_count": 2,
   "metadata": {
    "collapsed": true
   },
   "outputs": [],
   "source": [
    "\"\"\"\n",
    "                        ~ Notable fields/methods & Distributions ~\n",
    "\n",
    "numpy\n",
    " - .quantile()\n",
    "\n",
    "scipy.stats\n",
    " - .iqr()\n",
    "\n",
    "scipy.stats.uniform\n",
    " - .cdf()\n",
    " - .rvs()  # e.g. to Generate 1000 wait times between 0 and 30 mins\n",
    "  -- wait_times = uniform.rvs(0,30,size=1000)\n",
    "\n",
    "scipy.stats.binom\n",
    " - .rvs()\n",
    " - .pmf()  # e.g. probability of getting 7 heads (successes) in 10 coin flips\n",
    "  -- binom.pmf(\"number of successes\", \"number of trials\", \"probability of success\")\n",
    "\n",
    " - .cdf()  # e.g. probability of getting 7 heads or less in 10 coin flips\n",
    "  -- binom.cdf(\"number of successes\", \"number of trials\", \"probability of success\")\n",
    "  -- \"1 - binom.cdf()\"  # e.g. probability of getting more than 7 successes\n",
    "\n",
    "scipy.stats.norm\n",
    " - .cdf()\n",
    " - .ppf()\n",
    " - .rvs()\n",
    "\n",
    "scipy.stats.poisson\n",
    " - .pmf()\n",
    " - .cdf()\n",
    "\n",
    "scipy.stats.expon\n",
    " - .cdf()\n",
    "\n",
    "Main Distributions:\n",
    " - discrete uniform     # rolling dice\n",
    " - continuous uniform   # waiting for a bus\n",
    " - binomial             # success/failure of flipping a coin 10 times\n",
    " - normal/gaussian      # clt, mean, & sd, 1 SD 68% | 2 SD 95% | 3 SD 99.7%\n",
    " - poisson              # events over some span of time\n",
    "\n",
    "Other Distributions:\n",
    " - exponential # related to poisson\n",
    " - t\n",
    " - log-normal\n",
    "\"\"\"\n",
    "import pandas\n",
    "import numpy\n",
    "import scipy\n",
    "from scipy.stats import iqr, uniform, binom, norm, poisson, expon, t\n",
    "import matplotlib.pyplot as plt\n",
    "\n",
    "data_folder = '../../data'\n",
    "# types: A = super center, B = discount store, C = neighborhood market\n",
    "df_walmart = pandas.read_csv(f'{data_folder}/walmart_sales_subset.csv', index_col=0)\n",
    "df_homeless = pandas.read_csv(f'{data_folder}/homeless.csv', index_col=0)\n",
    "df_amir = pandas.read_csv(f'{data_folder}/amir_deals.csv',index_col=0)\n",
    "# simplify df_amir to just 100 observations\n",
    "df_amir = pandas.DataFrame(df_amir[:100])"
   ]
  },
  {
   "cell_type": "code",
   "execution_count": 3,
   "outputs": [
    {
     "data": {
      "text/plain": "   store type  department        date  weekly_sales  is_holiday  \\\n0      1    A           1  2010-02-05      24924.50       False   \n1      1    A           1  2010-03-05      21827.90       False   \n2      1    A           1  2010-04-02      57258.43       False   \n3      1    A           1  2010-05-07      17413.94       False   \n4      1    A           1  2010-06-04      17558.09       False   \n\n   temperature_c  fuel_price_usd_per_l  unemployment  \n0       5.727778              0.679451         8.106  \n1       8.055556              0.693452         8.106  \n2      16.816667              0.718284         7.808  \n3      22.527778              0.748928         7.808  \n4      27.050000              0.714586         7.808  ",
      "text/html": "<div>\n<style scoped>\n    .dataframe tbody tr th:only-of-type {\n        vertical-align: middle;\n    }\n\n    .dataframe tbody tr th {\n        vertical-align: top;\n    }\n\n    .dataframe thead th {\n        text-align: right;\n    }\n</style>\n<table border=\"1\" class=\"dataframe\">\n  <thead>\n    <tr style=\"text-align: right;\">\n      <th></th>\n      <th>store</th>\n      <th>type</th>\n      <th>department</th>\n      <th>date</th>\n      <th>weekly_sales</th>\n      <th>is_holiday</th>\n      <th>temperature_c</th>\n      <th>fuel_price_usd_per_l</th>\n      <th>unemployment</th>\n    </tr>\n  </thead>\n  <tbody>\n    <tr>\n      <th>0</th>\n      <td>1</td>\n      <td>A</td>\n      <td>1</td>\n      <td>2010-02-05</td>\n      <td>24924.50</td>\n      <td>False</td>\n      <td>5.727778</td>\n      <td>0.679451</td>\n      <td>8.106</td>\n    </tr>\n    <tr>\n      <th>1</th>\n      <td>1</td>\n      <td>A</td>\n      <td>1</td>\n      <td>2010-03-05</td>\n      <td>21827.90</td>\n      <td>False</td>\n      <td>8.055556</td>\n      <td>0.693452</td>\n      <td>8.106</td>\n    </tr>\n    <tr>\n      <th>2</th>\n      <td>1</td>\n      <td>A</td>\n      <td>1</td>\n      <td>2010-04-02</td>\n      <td>57258.43</td>\n      <td>False</td>\n      <td>16.816667</td>\n      <td>0.718284</td>\n      <td>7.808</td>\n    </tr>\n    <tr>\n      <th>3</th>\n      <td>1</td>\n      <td>A</td>\n      <td>1</td>\n      <td>2010-05-07</td>\n      <td>17413.94</td>\n      <td>False</td>\n      <td>22.527778</td>\n      <td>0.748928</td>\n      <td>7.808</td>\n    </tr>\n    <tr>\n      <th>4</th>\n      <td>1</td>\n      <td>A</td>\n      <td>1</td>\n      <td>2010-06-04</td>\n      <td>17558.09</td>\n      <td>False</td>\n      <td>27.050000</td>\n      <td>0.714586</td>\n      <td>7.808</td>\n    </tr>\n  </tbody>\n</table>\n</div>"
     },
     "execution_count": 3,
     "metadata": {},
     "output_type": "execute_result"
    }
   ],
   "source": [
    "df_walmart.head()"
   ],
   "metadata": {
    "collapsed": false
   }
  },
  {
   "cell_type": "code",
   "execution_count": 4,
   "outputs": [
    {
     "data": {
      "text/plain": "               region       state  individuals  family_members  state_pop\n0  East South Central     Alabama       2570.0           864.0    4887681\n1             Pacific      Alaska       1434.0           582.0     735139\n2            Mountain     Arizona       7259.0          2606.0    7158024\n3  West South Central    Arkansas       2280.0           432.0    3009733\n4             Pacific  California     109008.0         20964.0   39461588",
      "text/html": "<div>\n<style scoped>\n    .dataframe tbody tr th:only-of-type {\n        vertical-align: middle;\n    }\n\n    .dataframe tbody tr th {\n        vertical-align: top;\n    }\n\n    .dataframe thead th {\n        text-align: right;\n    }\n</style>\n<table border=\"1\" class=\"dataframe\">\n  <thead>\n    <tr style=\"text-align: right;\">\n      <th></th>\n      <th>region</th>\n      <th>state</th>\n      <th>individuals</th>\n      <th>family_members</th>\n      <th>state_pop</th>\n    </tr>\n  </thead>\n  <tbody>\n    <tr>\n      <th>0</th>\n      <td>East South Central</td>\n      <td>Alabama</td>\n      <td>2570.0</td>\n      <td>864.0</td>\n      <td>4887681</td>\n    </tr>\n    <tr>\n      <th>1</th>\n      <td>Pacific</td>\n      <td>Alaska</td>\n      <td>1434.0</td>\n      <td>582.0</td>\n      <td>735139</td>\n    </tr>\n    <tr>\n      <th>2</th>\n      <td>Mountain</td>\n      <td>Arizona</td>\n      <td>7259.0</td>\n      <td>2606.0</td>\n      <td>7158024</td>\n    </tr>\n    <tr>\n      <th>3</th>\n      <td>West South Central</td>\n      <td>Arkansas</td>\n      <td>2280.0</td>\n      <td>432.0</td>\n      <td>3009733</td>\n    </tr>\n    <tr>\n      <th>4</th>\n      <td>Pacific</td>\n      <td>California</td>\n      <td>109008.0</td>\n      <td>20964.0</td>\n      <td>39461588</td>\n    </tr>\n  </tbody>\n</table>\n</div>"
     },
     "execution_count": 4,
     "metadata": {},
     "output_type": "execute_result"
    }
   ],
   "source": [
    "df_homeless.head()"
   ],
   "metadata": {
    "collapsed": false
   }
  },
  {
   "cell_type": "code",
   "execution_count": 5,
   "outputs": [
    {
     "data": {
      "text/plain": "     product   client status   amount  num_users\n1  Product F  Current    Won  7389.52         19\n2  Product C      New    Won  4493.01         43\n3  Product B      New    Won  5738.09         87\n4  Product I  Current    Won  2591.24         83\n5  Product E  Current    Won  6622.97         17",
      "text/html": "<div>\n<style scoped>\n    .dataframe tbody tr th:only-of-type {\n        vertical-align: middle;\n    }\n\n    .dataframe tbody tr th {\n        vertical-align: top;\n    }\n\n    .dataframe thead th {\n        text-align: right;\n    }\n</style>\n<table border=\"1\" class=\"dataframe\">\n  <thead>\n    <tr style=\"text-align: right;\">\n      <th></th>\n      <th>product</th>\n      <th>client</th>\n      <th>status</th>\n      <th>amount</th>\n      <th>num_users</th>\n    </tr>\n  </thead>\n  <tbody>\n    <tr>\n      <th>1</th>\n      <td>Product F</td>\n      <td>Current</td>\n      <td>Won</td>\n      <td>7389.52</td>\n      <td>19</td>\n    </tr>\n    <tr>\n      <th>2</th>\n      <td>Product C</td>\n      <td>New</td>\n      <td>Won</td>\n      <td>4493.01</td>\n      <td>43</td>\n    </tr>\n    <tr>\n      <th>3</th>\n      <td>Product B</td>\n      <td>New</td>\n      <td>Won</td>\n      <td>5738.09</td>\n      <td>87</td>\n    </tr>\n    <tr>\n      <th>4</th>\n      <td>Product I</td>\n      <td>Current</td>\n      <td>Won</td>\n      <td>2591.24</td>\n      <td>83</td>\n    </tr>\n    <tr>\n      <th>5</th>\n      <td>Product E</td>\n      <td>Current</td>\n      <td>Won</td>\n      <td>6622.97</td>\n      <td>17</td>\n    </tr>\n  </tbody>\n</table>\n</div>"
     },
     "execution_count": 5,
     "metadata": {},
     "output_type": "execute_result"
    }
   ],
   "source": [
    "df_amir.head()"
   ],
   "metadata": {
    "collapsed": false
   }
  },
  {
   "cell_type": "code",
   "execution_count": 6,
   "outputs": [
    {
     "data": {
      "text/plain": "array([ 1.  , 15.75, 32.5 , 51.25, 99.  ])"
     },
     "execution_count": 6,
     "metadata": {},
     "output_type": "execute_result"
    }
   ],
   "source": [
    "# df_amir.head()\n",
    "# df_amir.info()\n",
    "# df_amir['num_users'].sort_values()\n",
    "numpy.quantile(df_amir['num_users'],[0, 0.25, 0.50, 0.75, 1])"
   ],
   "metadata": {
    "collapsed": false
   }
  },
  {
   "cell_type": "code",
   "execution_count": 7,
   "outputs": [
    {
     "data": {
      "text/plain": "                            mean   median\nregion                                   \nEast North Central   5081.200000   5209.0\nEast South Central   3117.000000   2652.5\nMid-Atlantic        18012.666667   8163.0\nMountain             3561.375000   1926.5\nNew England          2150.500000   1142.5\nPacific             28427.200000  11139.0\nSouth Atlantic       5806.666667   3928.0\nWest North Central   1995.857143   1711.0\nWest South Central   6710.500000   2681.5",
      "text/html": "<div>\n<style scoped>\n    .dataframe tbody tr th:only-of-type {\n        vertical-align: middle;\n    }\n\n    .dataframe tbody tr th {\n        vertical-align: top;\n    }\n\n    .dataframe thead th {\n        text-align: right;\n    }\n</style>\n<table border=\"1\" class=\"dataframe\">\n  <thead>\n    <tr style=\"text-align: right;\">\n      <th></th>\n      <th>mean</th>\n      <th>median</th>\n    </tr>\n    <tr>\n      <th>region</th>\n      <th></th>\n      <th></th>\n    </tr>\n  </thead>\n  <tbody>\n    <tr>\n      <th>East North Central</th>\n      <td>5081.200000</td>\n      <td>5209.0</td>\n    </tr>\n    <tr>\n      <th>East South Central</th>\n      <td>3117.000000</td>\n      <td>2652.5</td>\n    </tr>\n    <tr>\n      <th>Mid-Atlantic</th>\n      <td>18012.666667</td>\n      <td>8163.0</td>\n    </tr>\n    <tr>\n      <th>Mountain</th>\n      <td>3561.375000</td>\n      <td>1926.5</td>\n    </tr>\n    <tr>\n      <th>New England</th>\n      <td>2150.500000</td>\n      <td>1142.5</td>\n    </tr>\n    <tr>\n      <th>Pacific</th>\n      <td>28427.200000</td>\n      <td>11139.0</td>\n    </tr>\n    <tr>\n      <th>South Atlantic</th>\n      <td>5806.666667</td>\n      <td>3928.0</td>\n    </tr>\n    <tr>\n      <th>West North Central</th>\n      <td>1995.857143</td>\n      <td>1711.0</td>\n    </tr>\n    <tr>\n      <th>West South Central</th>\n      <td>6710.500000</td>\n      <td>2681.5</td>\n    </tr>\n  </tbody>\n</table>\n</div>"
     },
     "execution_count": 7,
     "metadata": {},
     "output_type": "execute_result"
    }
   ],
   "source": [
    "df_homeless.groupby('region')['individuals'].agg([numpy.mean,numpy.median])"
   ],
   "metadata": {
    "collapsed": false
   }
  },
  {
   "cell_type": "code",
   "execution_count": 8,
   "outputs": [
    {
     "data": {
      "text/plain": "[15.75, 51.25, 35.5]"
     },
     "execution_count": 8,
     "metadata": {},
     "output_type": "execute_result"
    }
   ],
   "source": [
    "nu = df_amir['num_users']\n",
    "iqr = [numpy.quantile(nu,0.25),numpy.quantile(nu,0.75),scipy.stats.iqr(nu)]\n",
    "iqr"
   ],
   "metadata": {
    "collapsed": false
   }
  },
  {
   "cell_type": "code",
   "execution_count": 9,
   "outputs": [
    {
     "data": {
      "text/plain": "35.5"
     },
     "execution_count": 9,
     "metadata": {},
     "output_type": "execute_result"
    }
   ],
   "source": [
    "51.25-15.75"
   ],
   "metadata": {
    "collapsed": false
   }
  },
  {
   "cell_type": "code",
   "execution_count": 10,
   "outputs": [
    {
     "data": {
      "text/plain": "array([0])"
     },
     "execution_count": 10,
     "metadata": {},
     "output_type": "execute_result"
    }
   ],
   "source": [
    "numpy.random.seed(2022)\n",
    "# _practice_ The Binomial Distribution\n",
    "binom.rvs(\n",
    "    3,      # events (this can be the num of coin flips, num of deals, etc.)\n",
    "    0.30,   # probability of success (there is a 30% chance a deal will succeed)\n",
    "    size=1  # num of trials\n",
    ")\n",
    "# 3 deals (num events) in 1 week (num trials)"
   ],
   "metadata": {
    "collapsed": false
   }
  },
  {
   "cell_type": "code",
   "execution_count": 11,
   "outputs": [
    {
     "data": {
      "text/plain": "[array([1, 0, 0, 1, 1, 2, 1, 2, 1, 2, 2, 2, 2, 1, 1, 0, 1, 3, 0, 1, 0, 0,\n        1, 0, 1, 2, 1, 0, 1, 1, 1, 3, 0, 2, 1, 1, 2, 1, 2, 0, 0, 0, 1, 1,\n        1, 1, 1, 0, 2, 0, 1, 0])]"
     },
     "execution_count": 11,
     "metadata": {},
     "output_type": "execute_result"
    }
   ],
   "source": [
    "# 3 deals per week over 52 weeks. Each deal has a 30% chance of success\n",
    "sim_year = binom.rvs(\n",
    "    3, # events (e.g. 3 deals)\n",
    "    0.30, # probability of success (based on prior years' success rate)\n",
    "    size=52 # trials (weeks in a year)\n",
    ")\n",
    "# in week 1 there were 2 successes\n",
    "# week 2 had 0 successes\n",
    "# week 3 had 2 successes\n",
    "# week 4 had 0 successes\n",
    "# week 5 had 1 success\n",
    "[sim_year]"
   ],
   "metadata": {
    "collapsed": false
   }
  },
  {
   "cell_type": "code",
   "execution_count": 12,
   "outputs": [
    {
     "data": {
      "text/plain": "<Figure size 432x288 with 1 Axes>",
      "image/png": "[encoded data removed]"
     },
     "metadata": {},
     "output_type": "display_data"
    }
   ],
   "source": [
    "# _practice_ The Normal Distribution\n",
    "df_amir['amount'].hist()\n",
    "plt.show()"
   ],
   "metadata": {
    "collapsed": false
   }
  },
  {
   "cell_type": "markdown",
   "source": [
    "# Normal distribution"
   ],
   "metadata": {
    "collapsed": false
   }
  },
  {
   "cell_type": "code",
   "execution_count": 13,
   "outputs": [
    {
     "data": {
      "text/plain": "0.8943502263331446"
     },
     "execution_count": 13,
     "metadata": {},
     "output_type": "execute_result"
    }
   ],
   "source": [
    "mean = 5000\n",
    "standard_deviation = 2000\n",
    "\n",
    "# What's the probability of Amir closing a deal worth less than $7500?\n",
    "norm.cdf(\n",
    "    7500,               # target?\n",
    "    mean,               # mean\n",
    "    standard_deviation  # standard deviation\n",
    ")"
   ],
   "metadata": {
    "collapsed": false
   }
  },
  {
   "cell_type": "code",
   "execution_count": 14,
   "outputs": [
    {
     "data": {
      "text/plain": "0.9772498680518208"
     },
     "execution_count": 14,
     "metadata": {},
     "output_type": "execute_result"
    }
   ],
   "source": [
    "# What's the probability of Amir closing a deal worth more than $1000?\n",
    "1 - norm.cdf(1000, mean, standard_deviation)"
   ],
   "metadata": {
    "collapsed": false
   }
  },
  {
   "cell_type": "code",
   "execution_count": 15,
   "outputs": [
    {
     "data": {
      "text/plain": "0.6826894921370859"
     },
     "execution_count": 15,
     "metadata": {},
     "output_type": "execute_result"
    }
   ],
   "source": [
    "# What's the probability of Amir closing a deal worth between $3000 and $7000?\n",
    "norm.cdf(7000,mean,standard_deviation)-norm.cdf(3000,mean,standard_deviation)"
   ],
   "metadata": {
    "collapsed": false
   }
  },
  {
   "cell_type": "code",
   "execution_count": 16,
   "outputs": [
    {
     "data": {
      "text/plain": "3651.0204996078364"
     },
     "execution_count": 16,
     "metadata": {},
     "output_type": "execute_result"
    }
   ],
   "source": [
    "# What amount will 25% of Amir's sales be less than?\n",
    "norm.ppf(0.25,mean,standard_deviation)"
   ],
   "metadata": {
    "collapsed": false
   }
  },
  {
   "cell_type": "code",
   "execution_count": 17,
   "outputs": [
    {
     "data": {
      "text/plain": "[array([3321.25664649, 3674.11741964, 5340.80778474, 4810.06067548,\n        4709.93993352, 5386.4665384 , 5407.60702577, 2287.68142237,\n        5114.16739356, 5024.11027048, 4945.30289073, 5557.28669711,\n        4404.26241549, 7139.29630944, 6810.96322829, 4473.33479979,\n        7376.99500728, 6305.05791121, 2637.941117  , 2970.21986076,\n        3065.34455556, 7752.45391212, 5843.12619157, 7200.38045458,\n        5632.80198497, 6866.82457691, 4722.67600148, 2846.68442797,\n        3462.91406593, 4700.56916262, 5802.766059  , 6577.07049098,\n        4907.9461309 , 4144.77251673, 8094.03419277, 5108.11794784,\n        4166.66602056, 4574.7085451 , 5467.52597763, 6358.79311979,\n        5962.68174367, 7234.60909247, 3614.45028314, 6275.09591677,\n        3625.510511  , 6020.36609942, 3463.00449953, 2045.47826227,\n        3341.07276022, 3404.15883098, 4698.4118888 , 6864.76290015])]"
     },
     "execution_count": 17,
     "metadata": {},
     "output_type": "execute_result"
    }
   ],
   "source": [
    "# Simulate a year's worth of sales\n",
    "[norm.rvs(mean,standard_deviation,size=52)]"
   ],
   "metadata": {
    "collapsed": false
   }
  },
  {
   "cell_type": "markdown",
   "source": [
    "# Poisson Distribution"
   ],
   "metadata": {
    "collapsed": false
   }
  },
  {
   "cell_type": "code",
   "execution_count": 18,
   "outputs": [
    {
     "data": {
      "text/plain": "0.1562934518505317"
     },
     "execution_count": 18,
     "metadata": {},
     "output_type": "execute_result"
    }
   ],
   "source": [
    "# lambda is the average number of events per time span\n",
    "# e.g. sales rep responds to an avg of 4 leads per 1 day\n",
    "lam = 4\n",
    "# probability rep responds to 5 leads in 1 day\n",
    "poisson.pmf(5,lam)"
   ],
   "metadata": {
    "collapsed": false
   }
  },
  {
   "cell_type": "code",
   "execution_count": 19,
   "outputs": [
    {
     "data": {
      "text/plain": "0.23810330555354436"
     },
     "execution_count": 19,
     "metadata": {},
     "output_type": "execute_result"
    }
   ],
   "source": [
    "# probability rep responds to 2 leads or fewer in 1 day\n",
    "poisson.cdf(2,lam)"
   ],
   "metadata": {
    "collapsed": false
   }
  },
  {
   "cell_type": "code",
   "execution_count": 20,
   "outputs": [
    {
     "data": {
      "text/plain": "0.0028397661205137315"
     },
     "execution_count": 20,
     "metadata": {},
     "output_type": "execute_result"
    }
   ],
   "source": [
    "# probability of responding to more than 10 leads in 1 day\n",
    "1 - poisson.cdf(10,lam)"
   ],
   "metadata": {
    "collapsed": false
   }
  },
  {
   "cell_type": "code",
   "execution_count": 21,
   "outputs": [],
   "source": [
    "# Exponential Distribution\n",
    "# amount of time till someone pays off their loan\n",
    "# amount of time till someone walks in the store\n",
    "avg_time_to_respond = 2.5  # hours"
   ],
   "metadata": {
    "collapsed": false
   }
  },
  {
   "cell_type": "code",
   "execution_count": 22,
   "outputs": [
    {
     "data": {
      "text/plain": "0.3296799539643607"
     },
     "execution_count": 22,
     "metadata": {},
     "output_type": "execute_result"
    }
   ],
   "source": [
    "# probability of taking less than an hour\n",
    "expon.cdf(1,scale=avg_time_to_respond)"
   ],
   "metadata": {
    "collapsed": false
   }
  },
  {
   "cell_type": "code",
   "execution_count": 23,
   "outputs": [
    {
     "data": {
      "text/plain": "0.2231301601484298"
     },
     "execution_count": 23,
     "metadata": {},
     "output_type": "execute_result"
    }
   ],
   "source": [
    "# probability of taking more than 4 hours\n",
    "1 - expon.cdf(4,avg_time_to_respond)"
   ],
   "metadata": {
    "collapsed": false
   }
  },
  {
   "cell_type": "code",
   "execution_count": 23,
   "outputs": [],
   "source": [],
   "metadata": {
    "collapsed": false
   }
  }
 ],
 "metadata": {
  "kernelspec": {
   "display_name": "Python 3",
   "language": "python",
   "name": "python3"
  },
  "language_info": {
   "codemirror_mode": {
    "name": "ipython",
    "version": 2
   },
   "file_extension": ".py",
   "mimetype": "text/x-python",
   "name": "python",
   "nbconvert_exporter": "python",
   "pygments_lexer": "ipython2",
   "version": "2.7.6"
  }
 },
 "nbformat": 4,
 "nbformat_minor": 0
}

{
 "cells": [
  {
   "cell_type": "markdown",
   "source": [],
   "metadata": {
    "collapsed": false
   },
   "id": "f51a61a4026f93a5"
  },
  {
   "cell_type": "markdown",
   "source": [
    "# Imports"
   ],
   "metadata": {
    "collapsed": false
   },
   "id": "9df76930c0022090"
  },
  {
   "cell_type": "code",
   "execution_count": 12,
   "outputs": [],
   "source": [
    "from dash import Dash, dcc, html, dash_table\n",
    "import dash_bootstrap_components as dbc\n",
    "from dash.dependencies import Input, Output\n",
    "from dash.exceptions import PreventUpdate\n",
    "from dash_bootstrap_templates import load_figure_template\n",
    "import plotly.express as px\n",
    "import pandas\n",
    "import numpy as np\n",
    "import random\n",
    "from numpy.random import default_rng\n",
    "import datetime"
   ],
   "metadata": {
    "collapsed": false,
    "ExecuteTime": {
     "end_time": "2023-10-11T10:44:14.410259Z",
     "start_time": "2023-10-11T10:44:14.170089Z"
    }
   },
   "id": "e6e1149124ef9576"
  },
  {
   "cell_type": "markdown",
   "source": [
    "# df_edu"
   ],
   "metadata": {
    "collapsed": false
   },
   "id": "f96b11e3fb26663c"
  },
  {
   "cell_type": "code",
   "execution_count": null,
   "outputs": [],
   "source": [
    "df_edu = pandas.read_csv('data/states_all.csv').iloc[:, 1:]\n",
    "df_edu.head()"
   ],
   "metadata": {
    "collapsed": false
   },
   "id": "b6c427b39bbbc7f2"
  },
  {
   "cell_type": "markdown",
   "source": [
    "# df_ski"
   ],
   "metadata": {
    "collapsed": false
   },
   "id": "45691d4d4d429d71"
  },
  {
   "cell_type": "code",
   "execution_count": null,
   "outputs": [],
   "source": [
    "df_ski = pandas.read_csv('data/European_Ski_Resorts.csv')  #.drop(\"Unnamed: 0\", axis=1)"
   ],
   "metadata": {
    "collapsed": false
   },
   "id": "5b330b880fa8c16"
  },
  {
   "cell_type": "markdown",
   "source": [
    "# Data Table 1"
   ],
   "metadata": {
    "collapsed": false
   },
   "id": "b4a6867236748680"
  },
  {
   "cell_type": "code",
   "execution_count": null,
   "outputs": [],
   "source": [
    "dbc_css = \"https://cdn.jsdelivr.net/gh/AnnMarieW/dash-bootstrap-templates/dbc.min.css\"\n",
    "app = Dash(__name__, )  # external_stylesheets=[dbc.themes.BOOTSTRAP]\n",
    "\n",
    "app.layout = html.Div(\n",
    "    dash_table.DataTable(\n",
    "        columns=[{\"name\": i, \"id\": i} for i in df_edu.columns],\n",
    "        data=df_edu.to_dict('records'),\n",
    "        filter_action=\"native\",\n",
    "        sort_action=\"native\",\n",
    "        export_format=\"csv\",\n",
    "        style_header={\n",
    "            'backgroundColor': 'rgb(30, 30, 30)',\n",
    "            'fontWeight': 'bold',\n",
    "            'font-family': 'Arial',\n",
    "            'color': 'lightgrey'\n",
    "        },\n",
    "        style_data={\n",
    "            'font-family': 'Arial',\n",
    "            'color': 'grey',\n",
    "            'backgroundColor': 'rgb(50, 50, 50)',\n",
    "        }\n",
    "    )\n",
    ")\n",
    "\n",
    "app.run_server(debug=True)\n"
   ],
   "metadata": {
    "collapsed": false
   },
   "id": "f7e0650393c1baf8"
  },
  {
   "cell_type": "markdown",
   "source": [
    "# ASSIGNMENT: Data Table"
   ],
   "metadata": {
    "collapsed": false
   },
   "id": "41272fa261c4dd3d"
  },
  {
   "cell_type": "code",
   "execution_count": null,
   "outputs": [],
   "source": [
    "app = Dash(__name__, external_stylesheets=[dbc.themes.BOOTSTRAP])\n",
    "\n",
    "app.layout = html.Div([\n",
    "    html.H2(id=\"title\", style={\"text-align\": \"center\"}),\n",
    "    html.P(\"Select Country Below:\"),\n",
    "    dcc.Dropdown(\n",
    "        id=\"country_dropdown\",\n",
    "        options=df_ski['Country'].unique(),\n",
    "        value=\"Andorra\",\n",
    "        placeholder=\"Select a country\",\n",
    "        className=\"dbc\"\n",
    "    ),\n",
    "    html.Br(), html.Br(),\n",
    "    html.P(\"Select Elevation:\"),\n",
    "    dcc.Slider(\n",
    "        id=\"elevation_slider\",\n",
    "        min=0,\n",
    "        max=4000,\n",
    "        step=500,\n",
    "        value=500,\n",
    "        marks={i: {\"label\": f\"{i} m\", \"style\": {\"fontSize\": 16}}\n",
    "               for i in range(0, 4001, 500)},\n",
    "        className=\"dbc\"\n",
    "    ),\n",
    "    html.Br(), html.Br(),\n",
    "    html.Div(id=\"output_div\")\n",
    "\n",
    "])\n",
    "\n",
    "\n",
    "@app.callback(\n",
    "    Output(\"title\", \"children\"),\n",
    "    Output(\"output_div\", \"children\"),\n",
    "    Input(\"country_dropdown\", \"value\"),\n",
    "    Input(\"elevation_slider\", \"value\"),\n",
    ")\n",
    "def elevation_table(country: str, elevation: int):\n",
    "    if not country and not elevation:\n",
    "        raise PreventUpdate\n",
    "\n",
    "    df = df_ski.query(\"HighestPoint > @elevation and Country == @country\")\n",
    "\n",
    "    title = f\"Ski resorts in {country} with elevation > {elevation}\"\n",
    "\n",
    "    table = dash_table.DataTable(\n",
    "        columns=[{\"name\": i, \"id\": i} for i in df.columns],\n",
    "        data=df.to_dict('records'),\n",
    "        filter_action=\"native\",\n",
    "        sort_action=\"native\",\n",
    "        export_format=\"csv\",\n",
    "        style_header={\n",
    "            'backgroundColor': 'rgb(30, 30, 30)',\n",
    "            'fontWeight': 'bold',\n",
    "            'font-family': 'Arial',\n",
    "            'color': 'lightgrey'\n",
    "        },\n",
    "        style_data={\n",
    "            'font-family': 'Arial',\n",
    "            'color': 'grey',\n",
    "            'backgroundColor': 'rgb(50, 50, 50)',\n",
    "        }\n",
    "    )\n",
    "\n",
    "    return title, table\n",
    "\n",
    "\n",
    "app.run_server(debug=True)"
   ],
   "metadata": {
    "collapsed": false
   },
   "id": "a9a7f04fb1f5a5ed"
  },
  {
   "cell_type": "markdown",
   "source": [
    "# Conditional Callbacks"
   ],
   "metadata": {
    "collapsed": false
   },
   "id": "50be5435c284b212"
  },
  {
   "cell_type": "code",
   "execution_count": null,
   "outputs": [],
   "source": [
    "app = Dash(__name__, external_stylesheets=[dbc.themes.BOOTSTRAP])\n",
    "\n",
    "df_conditional = (\n",
    "    pandas.read_csv(\"data/states_all.csv\")\n",
    "    .iloc[:, 1:]\n",
    "    .groupby(\"STATE\", as_index=False)\n",
    "    .agg({\"TOTAL_EXPENDITURE\": \"mean\"})\n",
    "    .sort_values(\"TOTAL_EXPENDITURE\", ascending=False)\n",
    ")\n",
    "\n",
    "app.layout = html.Div([\n",
    "    dcc.RadioItems(\n",
    "        id=\"output_picker\",\n",
    "        options=[\"bar\", \"table\"],\n",
    "        value=\"bar\",\n",
    "    ),\n",
    "    html.Div(id=\"output_div\")\n",
    "])\n",
    "\n",
    "\n",
    "@app.callback(\n",
    "    Output(component_id=\"output_div\", component_property=\"children\"),\n",
    "    Input(component_id=\"output_picker\", component_property=\"value\")\n",
    ")\n",
    "def output_generator(output_style: str):\n",
    "    if output_style == \"bar\":\n",
    "        output = dcc.Graph(figure=px.bar(df_conditional, x=\"STATE\", y=\"TOTAL_EXPENDITURE\"))\n",
    "    else:\n",
    "        output = dash_table.DataTable(\n",
    "            columns=[{\"name\": i, \"id\": i} for i in df_conditional.columns],\n",
    "            data=df_conditional.to_dict('records'),\n",
    "            filter_action=\"native\",\n",
    "            sort_action=\"native\",\n",
    "            export_format=\"csv\",\n",
    "            style_header={\n",
    "                'backgroundColor': 'rgb(30, 30, 30)',\n",
    "                'fontWeight': 'bold',\n",
    "                'font-family': 'Arial',\n",
    "                'color': 'lightgrey'\n",
    "            },\n",
    "            style_data={\n",
    "                'font-family': 'Arial',\n",
    "                'color': 'grey',\n",
    "                'backgroundColor': 'rgb(50, 50, 50)',\n",
    "            }\n",
    "        )\n",
    "\n",
    "    return output\n",
    "\n",
    "\n",
    "app.run_server(debug=True)\n"
   ],
   "metadata": {
    "collapsed": false
   },
   "id": "672db3b8a547cd93"
  },
  {
   "cell_type": "markdown",
   "source": [
    "# Chained Callbacks"
   ],
   "metadata": {
    "collapsed": false
   },
   "id": "fd6deea50e9aada9"
  },
  {
   "cell_type": "code",
   "execution_count": null,
   "outputs": [],
   "source": [
    "app = Dash(__name__, external_stylesheets=[dbc.themes.SLATE])\n",
    "\n",
    "df_edu_chain = (\n",
    "    df_edu.assign(\n",
    "        Avg_Math=lambda df: df[['AVG_MATH_4_SCORE', 'AVG_MATH_8_SCORE']].mean(axis=1),\n",
    "        Avg_Reading=lambda df: df[['AVG_READING_4_SCORE', 'AVG_READING_8_SCORE']].mean(axis=1),\n",
    "    )\n",
    ")\n",
    "\n",
    "# TODO: Add chained callbacks here\n",
    "all_options = {}"
   ],
   "metadata": {
    "collapsed": false
   },
   "id": "38101552ada449ad"
  },
  {
   "cell_type": "code",
   "execution_count": null,
   "outputs": [],
   "source": [],
   "metadata": {
    "collapsed": false
   },
   "id": "e022ad62c7b1bb45"
  },
  {
   "cell_type": "code",
   "execution_count": null,
   "outputs": [],
   "source": [],
   "metadata": {
    "collapsed": false
   },
   "id": "874e6678f78177b5"
  },
  {
   "cell_type": "markdown",
   "source": [
    "# Interactive Cross-filtering"
   ],
   "metadata": {
    "collapsed": false
   },
   "id": "51588e58454da7d4"
  },
  {
   "cell_type": "code",
   "execution_count": null,
   "id": "initial_id",
   "metadata": {
    "collapsed": true
   },
   "outputs": [],
   "source": [
    "app = Dash(__name__, external_stylesheets=[dbc.themes.SLATE])\n",
    "\n",
    "df_cf = (\n",
    "    df_edu\n",
    "    .rename({\n",
    "        \"AVG_MATH_4_SCORE\": \"Math 4 grade\",\n",
    "        \"AVG_MATH_8_SCORE\": \"Math 8 grade\",\n",
    "        \"AVG_READING_4_SCORE\": \"Reading 4 grade\",\n",
    "        \"AVG_READING_8_SCORE\": \"Reading 8 grade\",\n",
    "    }, axis=1)\n",
    "    .assign(expenditure_per_student=lambda df: df['TOTAL_EXPENDITURE'] / df['GRADES_ALL_G'])\n",
    ")\n",
    "\n",
    "app.layout = html.Div([\n",
    "    dbc.Row(html.H1(\"Education Performance & Expenditure\", style={\"text-align\": \"center\"})),\n",
    "    dbc.Row([\n",
    "        dbc.Col([\n",
    "            dbc.Card([\n",
    "                dcc.Markdown(\"Select an X Column\"),\n",
    "                dcc.RadioItems(\n",
    "                    id=\"score-radio\",\n",
    "                    options=[\n",
    "                        {\"label\": \"Math 4 grade\", \"value\": \"Math 4 grade\"},\n",
    "                        {\"label\": \"Math 8 grade\", \"value\": \"Math 8 grade\"},\n",
    "                        {\"label\": \"Reading 4 grade\", \"value\": \"Reading 4 grade\"},\n",
    "                        {\"label\": \"Reading 8 grade\", \"value\": \"Reading 8 grade\"},\n",
    "                    ],\n",
    "                    value=\"Math 8 grade\",\n",
    "                ),\n",
    "                html.Hr(),\n",
    "                dcc.Markdown(\"Select a Y Column\"),\n",
    "                dcc.RadioItems(\n",
    "                    id=\"score-radio2\",\n",
    "                    options=[\n",
    "                        {\"label\": \"Math 4 grade\", \"value\": \"Math 4 grade\"},\n",
    "                        {\"label\": \"Math 8 grade\", \"value\": \"Math 8 grade\"},\n",
    "                        {\"label\": \"Reading 4 grade\", \"value\": \"Reading 4 grade\"},\n",
    "                        {\"label\": \"Reading 8 grade\", \"value\": \"Reading 8 grade\"},\n",
    "                    ],\n",
    "                    value=\"Math 8 grade\",\n",
    "                )\n",
    "            ])\n",
    "        ], width=2),\n",
    "        dbc.Col(\n",
    "            dcc.Graph(id=\"cross-filter-scatter\", hoverData={\"points\": [{\"customdata\": \"CALIFORNIA\"}]}),\n",
    "        ),\n",
    "        dbc.Col(dcc.Graph(id=\"x-line\"))\n",
    "    ]),\n",
    "    dbc.Row(html.P(\"Third row of app Layout\")),\n",
    "])\n",
    "\n",
    "@app.callback(\n",
    "    Output(\"cross-filter-scatter\", \"figure\"),\n",
    "    Input(\"score-radio\", \"value\"),\n",
    "    Input(\"score-radio2\", \"value\"),\n",
    ")\n",
    "def score_scatter(x, y):\n",
    "    fig = px.scatter(\n",
    "        df_cf.query(\"YEAR == 2013\"),\n",
    "        x=x,\n",
    "        y=y,\n",
    "        hover_name=\"STATE\",\n",
    "        custom_data=[\"STATE\"],\n",
    "    )\n",
    "    \n",
    "    return fig \n",
    "\n",
    "@app.callback(\n",
    "    Output(\"x-line\", \"figure\"),\n",
    "    Input(\"cross-filter-scatter\", \"hoverData\")\n",
    ")\n",
    "def update_line(hover_data: dict):\n",
    "    state_name = hover_data['points'][0]['customdata'][0]\n",
    "    df = df_cf.query(\"STATE == @state_name\")\n",
    "    \n",
    "    fig = px.line(\n",
    "        df,\n",
    "        x=\"YEAR\",\n",
    "        y=\"expenditure_per_student\",\n",
    "        title=f\"Expenditure per student in {state_name.title()}\",\n",
    "    ).update_xaxes(showgrid=False)\n",
    "    \n",
    "    return fig\n",
    "    \n",
    "if __name__ == \"__main__\":\n",
    "    app.run_server(debug=True)"
   ]
  },
  {
   "cell_type": "markdown",
   "source": [
    "# Real-Time Updates: Stand Deviation "
   ],
   "metadata": {
    "collapsed": false
   },
   "id": "40a7558a3ce49bde"
  },
  {
   "cell_type": "code",
   "execution_count": null,
   "outputs": [],
   "source": [
    "app = Dash(__name__, external_stylesheets=[dbc.themes.SLATE])\n",
    "rng = default_rng(42)\n",
    "\n",
    "app.layout = html.Div([\n",
    "    dbc.Row(html.H1(\"Normal Distribution Simulator\", style={\"text-align\": \"center\"})),\n",
    "    dbc.Row(dbc.Col(dcc.Graph(id=\"random-data-scatter\"))),\n",
    "    dcc.Interval(id='refresh-data-interval', interval=1000, n_intervals=0),\n",
    "])\n",
    "\n",
    "@app.callback(\n",
    "    Output(component_id=\"random-data-scatter\", component_property=\"figure\"),\n",
    "    Input(component_id=\"refresh-data-interval\", component_property=\"n_intervals\")\n",
    ")\n",
    "def rand_hist(n_intervals):\n",
    "    mean, stddev = 100, 10\n",
    "    fig = px.histogram(\n",
    "        x=rng.normal(mean, stddev, size=1000), \n",
    "        title=f\"Random Histogram has run {n_intervals} times\")\n",
    "    \n",
    "    return fig\n",
    "\n",
    "if __name__ == \"__main__\":\n",
    "    app.run_server(debug=True, port=8052)"
   ],
   "metadata": {
    "collapsed": false
   },
   "id": "50c8d253afc9efe7"
  },
  {
   "cell_type": "markdown",
   "source": [
    "# Real-Time Updates: Live Mock Data"
   ],
   "metadata": {
    "collapsed": false
   },
   "id": "2969fba96ecc6102"
  },
  {
   "cell_type": "code",
   "execution_count": 14,
   "outputs": [
    {
     "data": {
      "text/plain": "<IPython.lib.display.IFrame at 0x7fb4f63677c0>",
      "text/html": "\n        <iframe\n            width=\"100%\"\n            height=\"650\"\n            src=\"http://127.0.0.1:8052/\"\n            frameborder=\"0\"\n            allowfullscreen\n        ></iframe>\n        "
     },
     "metadata": {},
     "output_type": "display_data"
    }
   ],
   "source": [
    "app = Dash(__name__, external_stylesheets=[dbc.themes.SLATE])\n",
    "\n",
    "# Create an empty DataFrame with columns\n",
    "columns = [\"customer_id\", \"food_order\", \"sale_amount\", \"t\"]\n",
    "core_df = pandas.DataFrame(columns=columns)\n",
    "\n",
    "def append_row() -> pandas.DataFrame:\n",
    "    \"\"\"\n",
    "    adds a random row to the core_df\n",
    "    \n",
    "    :return: \n",
    "    \"\"\"\n",
    "    customer_id = random.randint(1, 1000) \n",
    "    food_order = random.choice([\"salad\", \"sushi\", \"pizza\", \"taco\"])\n",
    "    sale_amount = round(random.uniform(5.0, 50.0), 2)\n",
    "    t = datetime.datetime.now() \n",
    "    row = [customer_id, food_order, sale_amount, t]\n",
    "    print(row)\n",
    "    temp = pandas.DataFrame([row], columns=columns)\n",
    "    merge = pandas.concat([core_df, temp])\n",
    "    return merge\n",
    "    \n",
    "\n",
    "app.layout = html.Div([\n",
    "    dbc.Row(html.H1(\"Real-Time Sales Tracker\", style={\"text-align\": \"center\"})),\n",
    "    dbc.Row(dbc.Col(dcc.Graph(id=\"sales-price-line\"))),\n",
    "    dcc.Interval(id='refresh-data-interval', interval=1000, n_intervals=0)\n",
    "])\n",
    "\n",
    "\n",
    "@app.callback(\n",
    "    Output(component_id=\"sales-price-line\", component_property=\"figure\"),\n",
    "    Input(component_id=\"refresh-data-interval\", component_property=\"n_intervals\")\n",
    ")\n",
    "def sales_line(n_intervals):\n",
    "    global core_df\n",
    "    core_df = append_row()\n",
    "    fig = px.line(\n",
    "        (\n",
    "            core_df\n",
    "            .assign(t=pandas.to_datetime(core_df['t'], unit='s'))\n",
    "            .rename({\"sale_amount\": \"Sale\"}, axis=1)\n",
    "         ),\n",
    "        x=\"t\",\n",
    "        y=\"Sale\",\n",
    "        title=f\"Sales as of {datetime.datetime.now()}\",\n",
    "    )\n",
    "    return fig \n",
    "\n",
    "if __name__ == \"__main__\":\n",
    "    app.run_server(debug=True, port=8052)"
   ],
   "metadata": {
    "collapsed": false,
    "ExecuteTime": {
     "end_time": "2023-10-11T10:51:46.011236Z",
     "start_time": "2023-10-11T10:51:45.972182Z"
    }
   },
   "id": "31e5e465c6aca472"
  },
  {
   "cell_type": "code",
   "execution_count": 11,
   "outputs": [],
   "source": [],
   "metadata": {
    "collapsed": false,
    "ExecuteTime": {
     "end_time": "2023-10-11T10:38:33.396310Z",
     "start_time": "2023-10-11T10:38:33.381656Z"
    }
   },
   "id": "3de888d292e018fd"
  },
  {
   "cell_type": "code",
   "execution_count": null,
   "outputs": [],
   "source": [],
   "metadata": {
    "collapsed": false
   },
   "id": "e96790d90cded870"
  }
 ],
 "metadata": {
  "kernelspec": {
   "display_name": "Python 3",
   "language": "python",
   "name": "python3"
  },
  "language_info": {
   "codemirror_mode": {
    "name": "ipython",
    "version": 2
   },
   "file_extension": ".py",
   "mimetype": "text/x-python",
   "name": "python",
   "nbconvert_exporter": "python",
   "pygments_lexer": "ipython2",
   "version": "2.7.6"
  }
 },
 "nbformat": 4,
 "nbformat_minor": 5
}

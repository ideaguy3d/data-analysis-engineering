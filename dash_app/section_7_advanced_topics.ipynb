{
 "cells": [
  {
   "cell_type": "markdown",
   "source": [],
   "metadata": {
    "collapsed": false
   },
   "id": "f51a61a4026f93a5"
  },
  {
   "cell_type": "markdown",
   "source": [
    "# Imports"
   ],
   "metadata": {
    "collapsed": false
   },
   "id": "9df76930c0022090"
  },
  {
   "cell_type": "code",
   "execution_count": 2,
   "outputs": [],
   "source": [
    "from dash import Dash, dcc, html, dash_table\n",
    "import dash_bootstrap_components as dbc\n",
    "from dash.dependencies import Input, Output\n",
    "from dash.exceptions import PreventUpdate\n",
    "from dash_bootstrap_templates import load_figure_template\n",
    "import plotly.express as px\n",
    "import pandas\n",
    "import numpy as np"
   ],
   "metadata": {
    "collapsed": false,
    "ExecuteTime": {
     "end_time": "2023-09-12T21:51:35.156966Z",
     "start_time": "2023-09-12T21:51:31.642644Z"
    }
   },
   "id": "e6e1149124ef9576"
  },
  {
   "cell_type": "markdown",
   "source": [
    "# df_edu"
   ],
   "metadata": {
    "collapsed": false
   },
   "id": "f96b11e3fb26663c"
  },
  {
   "cell_type": "code",
   "execution_count": 3,
   "outputs": [
    {
     "data": {
      "text/plain": "        STATE  YEAR  ENROLL  TOTAL_REVENUE  FEDERAL_REVENUE  STATE_REVENUE  \\\n0     ALABAMA  1992     NaN      2678885.0         304177.0      1659028.0   \n1      ALASKA  1992     NaN      1049591.0         106780.0       720711.0   \n2     ARIZONA  1992     NaN      3258079.0         297888.0      1369815.0   \n3    ARKANSAS  1992     NaN      1711959.0         178571.0       958785.0   \n4  CALIFORNIA  1992     NaN     26260025.0        2072470.0     16546514.0   \n\n   LOCAL_REVENUE  TOTAL_EXPENDITURE  INSTRUCTION_EXPENDITURE  \\\n0       715680.0          2653798.0                1481703.0   \n1       222100.0           972488.0                 498362.0   \n2      1590376.0          3401580.0                1435908.0   \n3       574603.0          1743022.0                 964323.0   \n4      7641041.0         27138832.0               14358922.0   \n\n   SUPPORT_SERVICES_EXPENDITURE  ...  GRADES_4_G  GRADES_8_G  GRADES_12_G  \\\n0                      735036.0  ...     57948.0     58025.0      41167.0   \n1                      350902.0  ...      9748.0      8789.0       6714.0   \n2                     1007732.0  ...     55433.0     49081.0      37410.0   \n3                      483488.0  ...     34632.0     36011.0      27651.0   \n4                     8520926.0  ...    418418.0    363296.0     270675.0   \n\n   GRADES_1_8_G  GRADES_9_12_G  GRADES_ALL_G  AVG_MATH_4_SCORE  \\\n0           NaN            NaN      731634.0             208.0   \n1           NaN            NaN      122487.0               NaN   \n2           NaN            NaN      673477.0             215.0   \n3           NaN            NaN      441490.0             210.0   \n4           NaN            NaN     5254844.0             208.0   \n\n   AVG_MATH_8_SCORE  AVG_READING_4_SCORE  AVG_READING_8_SCORE  \n0             252.0                207.0                  NaN  \n1               NaN                  NaN                  NaN  \n2             265.0                209.0                  NaN  \n3             256.0                211.0                  NaN  \n4             261.0                202.0                  NaN  \n\n[5 rows x 24 columns]",
      "text/html": "<div>\n<style scoped>\n    .dataframe tbody tr th:only-of-type {\n        vertical-align: middle;\n    }\n\n    .dataframe tbody tr th {\n        vertical-align: top;\n    }\n\n    .dataframe thead th {\n        text-align: right;\n    }\n</style>\n<table border=\"1\" class=\"dataframe\">\n  <thead>\n    <tr style=\"text-align: right;\">\n      <th></th>\n      <th>STATE</th>\n      <th>YEAR</th>\n      <th>ENROLL</th>\n      <th>TOTAL_REVENUE</th>\n      <th>FEDERAL_REVENUE</th>\n      <th>STATE_REVENUE</th>\n      <th>LOCAL_REVENUE</th>\n      <th>TOTAL_EXPENDITURE</th>\n      <th>INSTRUCTION_EXPENDITURE</th>\n      <th>SUPPORT_SERVICES_EXPENDITURE</th>\n      <th>...</th>\n      <th>GRADES_4_G</th>\n      <th>GRADES_8_G</th>\n      <th>GRADES_12_G</th>\n      <th>GRADES_1_8_G</th>\n      <th>GRADES_9_12_G</th>\n      <th>GRADES_ALL_G</th>\n      <th>AVG_MATH_4_SCORE</th>\n      <th>AVG_MATH_8_SCORE</th>\n      <th>AVG_READING_4_SCORE</th>\n      <th>AVG_READING_8_SCORE</th>\n    </tr>\n  </thead>\n  <tbody>\n    <tr>\n      <th>0</th>\n      <td>ALABAMA</td>\n      <td>1992</td>\n      <td>NaN</td>\n      <td>2678885.0</td>\n      <td>304177.0</td>\n      <td>1659028.0</td>\n      <td>715680.0</td>\n      <td>2653798.0</td>\n      <td>1481703.0</td>\n      <td>735036.0</td>\n      <td>...</td>\n      <td>57948.0</td>\n      <td>58025.0</td>\n      <td>41167.0</td>\n      <td>NaN</td>\n      <td>NaN</td>\n      <td>731634.0</td>\n      <td>208.0</td>\n      <td>252.0</td>\n      <td>207.0</td>\n      <td>NaN</td>\n    </tr>\n    <tr>\n      <th>1</th>\n      <td>ALASKA</td>\n      <td>1992</td>\n      <td>NaN</td>\n      <td>1049591.0</td>\n      <td>106780.0</td>\n      <td>720711.0</td>\n      <td>222100.0</td>\n      <td>972488.0</td>\n      <td>498362.0</td>\n      <td>350902.0</td>\n      <td>...</td>\n      <td>9748.0</td>\n      <td>8789.0</td>\n      <td>6714.0</td>\n      <td>NaN</td>\n      <td>NaN</td>\n      <td>122487.0</td>\n      <td>NaN</td>\n      <td>NaN</td>\n      <td>NaN</td>\n      <td>NaN</td>\n    </tr>\n    <tr>\n      <th>2</th>\n      <td>ARIZONA</td>\n      <td>1992</td>\n      <td>NaN</td>\n      <td>3258079.0</td>\n      <td>297888.0</td>\n      <td>1369815.0</td>\n      <td>1590376.0</td>\n      <td>3401580.0</td>\n      <td>1435908.0</td>\n      <td>1007732.0</td>\n      <td>...</td>\n      <td>55433.0</td>\n      <td>49081.0</td>\n      <td>37410.0</td>\n      <td>NaN</td>\n      <td>NaN</td>\n      <td>673477.0</td>\n      <td>215.0</td>\n      <td>265.0</td>\n      <td>209.0</td>\n      <td>NaN</td>\n    </tr>\n    <tr>\n      <th>3</th>\n      <td>ARKANSAS</td>\n      <td>1992</td>\n      <td>NaN</td>\n      <td>1711959.0</td>\n      <td>178571.0</td>\n      <td>958785.0</td>\n      <td>574603.0</td>\n      <td>1743022.0</td>\n      <td>964323.0</td>\n      <td>483488.0</td>\n      <td>...</td>\n      <td>34632.0</td>\n      <td>36011.0</td>\n      <td>27651.0</td>\n      <td>NaN</td>\n      <td>NaN</td>\n      <td>441490.0</td>\n      <td>210.0</td>\n      <td>256.0</td>\n      <td>211.0</td>\n      <td>NaN</td>\n    </tr>\n    <tr>\n      <th>4</th>\n      <td>CALIFORNIA</td>\n      <td>1992</td>\n      <td>NaN</td>\n      <td>26260025.0</td>\n      <td>2072470.0</td>\n      <td>16546514.0</td>\n      <td>7641041.0</td>\n      <td>27138832.0</td>\n      <td>14358922.0</td>\n      <td>8520926.0</td>\n      <td>...</td>\n      <td>418418.0</td>\n      <td>363296.0</td>\n      <td>270675.0</td>\n      <td>NaN</td>\n      <td>NaN</td>\n      <td>5254844.0</td>\n      <td>208.0</td>\n      <td>261.0</td>\n      <td>202.0</td>\n      <td>NaN</td>\n    </tr>\n  </tbody>\n</table>\n<p>5 rows × 24 columns</p>\n</div>"
     },
     "execution_count": 3,
     "metadata": {},
     "output_type": "execute_result"
    }
   ],
   "source": [
    "df_edu = pandas.read_csv('data/states_all.csv').iloc[:, 1:]\n",
    "df_edu.head()"
   ],
   "metadata": {
    "collapsed": false,
    "ExecuteTime": {
     "end_time": "2023-09-12T21:51:35.233345Z",
     "start_time": "2023-09-12T21:51:35.138117Z"
    }
   },
   "id": "b6c427b39bbbc7f2"
  },
  {
   "cell_type": "markdown",
   "source": [
    "# df_ski"
   ],
   "metadata": {
    "collapsed": false
   },
   "id": "45691d4d4d429d71"
  },
  {
   "cell_type": "code",
   "execution_count": 12,
   "outputs": [],
   "source": [
    "df_ski = pandas.read_csv('data/European_Ski_Resorts.csv')  #.drop(\"Unnamed: 0\", axis=1)"
   ],
   "metadata": {
    "collapsed": false,
    "ExecuteTime": {
     "end_time": "2023-09-13T01:47:55.097087Z",
     "start_time": "2023-09-13T01:47:55.071447Z"
    }
   },
   "id": "5b330b880fa8c16"
  },
  {
   "cell_type": "markdown",
   "source": [
    "# Data Table 1"
   ],
   "metadata": {
    "collapsed": false
   },
   "id": "b4a6867236748680"
  },
  {
   "cell_type": "code",
   "execution_count": 13,
   "outputs": [
    {
     "data": {
      "text/plain": "<IPython.lib.display.IFrame at 0x7fed7af48d30>",
      "text/html": "\n        <iframe\n            width=\"100%\"\n            height=\"650\"\n            src=\"http://127.0.0.1:8050/\"\n            frameborder=\"0\"\n            allowfullscreen\n        ></iframe>\n        "
     },
     "metadata": {},
     "output_type": "display_data"
    }
   ],
   "source": [
    "dbc_css = \"https://cdn.jsdelivr.net/gh/AnnMarieW/dash-bootstrap-templates/dbc.min.css\"\n",
    "app = Dash(__name__, )  # external_stylesheets=[dbc.themes.BOOTSTRAP]\n",
    "\n",
    "app.layout = html.Div(\n",
    "    dash_table.DataTable(\n",
    "        columns=[{\"name\": i, \"id\": i} for i in df_edu.columns],\n",
    "        data=df_edu.to_dict('records'),\n",
    "        filter_action=\"native\",\n",
    "        sort_action=\"native\",\n",
    "        export_format=\"csv\",\n",
    "        style_header={\n",
    "            'backgroundColor': 'rgb(30, 30, 30)',\n",
    "            'fontWeight': 'bold',\n",
    "            'font-family': 'Arial',\n",
    "            'color': 'lightgrey'\n",
    "        },\n",
    "        style_data={\n",
    "            'font-family': 'Arial',\n",
    "            'color': 'grey',\n",
    "            'backgroundColor': 'rgb(50, 50, 50)',\n",
    "        }\n",
    "    )\n",
    ")\n",
    "\n",
    "app.run_server(debug=True)\n"
   ],
   "metadata": {
    "collapsed": false,
    "ExecuteTime": {
     "end_time": "2023-09-13T01:47:58.281619Z",
     "start_time": "2023-09-13T01:47:57.949301Z"
    }
   },
   "id": "f7e0650393c1baf8"
  },
  {
   "cell_type": "markdown",
   "source": [
    "# ASSIGNMENT: Data Table"
   ],
   "metadata": {
    "collapsed": false
   },
   "id": "41272fa261c4dd3d"
  },
  {
   "cell_type": "code",
   "execution_count": null,
   "outputs": [],
   "source": [
    "app = Dash(__name__, external_stylesheets=[dbc.themes.BOOTSTRAP])\n",
    "\n",
    "app.layout = html.Div([\n",
    "    html.H2(id=\"title\", style={\"text-align\": \"center\"}),\n",
    "    html.P(\"Select Country Below:\"),\n",
    "    dcc.Dropdown(\n",
    "        id=\"country_dropdown\",\n",
    "        options=df_ski['Country'].unique(),\n",
    "        value=\"Andorra\",\n",
    "        placeholder=\"Select a country\",\n",
    "        className=\"dbc\"\n",
    "    ),\n",
    "    html.Br(), html.Br(),\n",
    "    html.P(\"Select Elevation:\"),\n",
    "    dcc.Slider(\n",
    "        id=\"elevation_slider\",\n",
    "        min=0,\n",
    "        max=4000,\n",
    "        step=500,\n",
    "        value=500,\n",
    "        marks={i: {\"label\": f\"{i} m\", \"style\": {\"fontSize\": 16}}\n",
    "               for i in range(0, 4001, 500)},\n",
    "        className=\"dbc\"\n",
    "    ),\n",
    "    html.Br(), html.Br(),\n",
    "    html.Div(id=\"output_div\")\n",
    "\n",
    "])\n",
    "\n",
    "\n",
    "@app.callback(\n",
    "    Output(\"title\", \"children\"),\n",
    "    Output(\"output_div\", \"children\"),\n",
    "    Input(\"country_dropdown\", \"value\"),\n",
    "    Input(\"elevation_slider\", \"value\"),\n",
    ")\n",
    "def elevation_table(country: str, elevation: int):\n",
    "    if not country and not elevation:\n",
    "        raise PreventUpdate\n",
    "\n",
    "    df = df_ski.query(\"HighestPoint > @elevation and Country == @country\")\n",
    "\n",
    "    title = f\"Ski resorts in {country} with elevation > {elevation}\"\n",
    "\n",
    "    table = dash_table.DataTable(\n",
    "        columns=[{\"name\": i, \"id\": i} for i in df.columns],\n",
    "        data=df.to_dict('records'),\n",
    "        filter_action=\"native\",\n",
    "        sort_action=\"native\",\n",
    "        export_format=\"csv\",\n",
    "        style_header={\n",
    "            'backgroundColor': 'rgb(30, 30, 30)',\n",
    "            'fontWeight': 'bold',\n",
    "            'font-family': 'Arial',\n",
    "            'color': 'lightgrey'\n",
    "        },\n",
    "        style_data={\n",
    "            'font-family': 'Arial',\n",
    "            'color': 'grey',\n",
    "            'backgroundColor': 'rgb(50, 50, 50)',\n",
    "        }\n",
    "    )\n",
    "\n",
    "    return title, table\n",
    "\n",
    "\n",
    "app.run_server(debug=True)"
   ],
   "metadata": {
    "collapsed": false
   },
   "id": "a9a7f04fb1f5a5ed"
  },
  {
   "cell_type": "markdown",
   "source": [
    "# Conditional Callbacks"
   ],
   "metadata": {
    "collapsed": false
   },
   "id": "50be5435c284b212"
  },
  {
   "cell_type": "code",
   "execution_count": 24,
   "outputs": [
    {
     "data": {
      "text/plain": "<IPython.lib.display.IFrame at 0x7fed7abee5e0>",
      "text/html": "\n        <iframe\n            width=\"100%\"\n            height=\"650\"\n            src=\"http://127.0.0.1:8050/\"\n            frameborder=\"0\"\n            allowfullscreen\n        ></iframe>\n        "
     },
     "metadata": {},
     "output_type": "display_data"
    }
   ],
   "source": [
    "app = Dash(__name__, external_stylesheets=[dbc.themes.BOOTSTRAP])\n",
    "\n",
    "df_conditional = (\n",
    "    pandas.read_csv(\"data/states_all.csv\")\n",
    "    .iloc[:, 1:]\n",
    "    .groupby(\"STATE\", as_index=False)\n",
    "    .agg({\"TOTAL_EXPENDITURE\": \"mean\"})\n",
    "    .sort_values(\"TOTAL_EXPENDITURE\", ascending=False)\n",
    ")\n",
    "\n",
    "app.layout = html.Div([\n",
    "    dcc.RadioItems(\n",
    "        id=\"output_picker\",\n",
    "        options=[\"bar\", \"table\"],\n",
    "        value=\"bar\",\n",
    "    ),\n",
    "    html.Div(id=\"output_div\")\n",
    "])\n",
    "\n",
    "\n",
    "@app.callback(\n",
    "    Output(component_id=\"output_div\", component_property=\"children\"),\n",
    "    Input(component_id=\"output_picker\", component_property=\"value\")\n",
    ")\n",
    "def output_generator(output_style: str):\n",
    "    if output_style == \"bar\":\n",
    "        output = dcc.Graph(figure=px.bar(df_conditional, x=\"STATE\", y=\"TOTAL_EXPENDITURE\"))\n",
    "    else:\n",
    "        output = dash_table.DataTable(\n",
    "            columns=[{\"name\": i, \"id\": i} for i in df_conditional.columns],\n",
    "            data=df_conditional.to_dict('records'),\n",
    "            filter_action=\"native\",\n",
    "            sort_action=\"native\",\n",
    "            export_format=\"csv\",\n",
    "            style_header={\n",
    "                'backgroundColor': 'rgb(30, 30, 30)',\n",
    "                'fontWeight': 'bold',\n",
    "                'font-family': 'Arial',\n",
    "                'color': 'lightgrey'\n",
    "            },\n",
    "            style_data={\n",
    "                'font-family': 'Arial',\n",
    "                'color': 'grey',\n",
    "                'backgroundColor': 'rgb(50, 50, 50)',\n",
    "            }\n",
    "        )\n",
    "\n",
    "    return output\n",
    "\n",
    "\n",
    "app.run_server(debug=True)\n"
   ],
   "metadata": {
    "collapsed": false,
    "ExecuteTime": {
     "end_time": "2023-09-13T02:16:04.826541Z",
     "start_time": "2023-09-13T02:16:04.465511Z"
    }
   },
   "id": "672db3b8a547cd93"
  },
  {
   "cell_type": "markdown",
   "source": [
    "# Chained Callbacks"
   ],
   "metadata": {
    "collapsed": false
   },
   "id": "fd6deea50e9aada9"
  },
  {
   "cell_type": "code",
   "execution_count": 25,
   "outputs": [
    {
     "data": {
      "text/plain": "        STATE  YEAR  ENROLL  TOTAL_REVENUE  FEDERAL_REVENUE  STATE_REVENUE  \\\n0     ALABAMA  1992     NaN      2678885.0         304177.0      1659028.0   \n1      ALASKA  1992     NaN      1049591.0         106780.0       720711.0   \n2     ARIZONA  1992     NaN      3258079.0         297888.0      1369815.0   \n3    ARKANSAS  1992     NaN      1711959.0         178571.0       958785.0   \n4  CALIFORNIA  1992     NaN     26260025.0        2072470.0     16546514.0   \n\n   LOCAL_REVENUE  TOTAL_EXPENDITURE  INSTRUCTION_EXPENDITURE  \\\n0       715680.0          2653798.0                1481703.0   \n1       222100.0           972488.0                 498362.0   \n2      1590376.0          3401580.0                1435908.0   \n3       574603.0          1743022.0                 964323.0   \n4      7641041.0         27138832.0               14358922.0   \n\n   SUPPORT_SERVICES_EXPENDITURE  ...  GRADES_12_G  GRADES_1_8_G  \\\n0                      735036.0  ...      41167.0           NaN   \n1                      350902.0  ...       6714.0           NaN   \n2                     1007732.0  ...      37410.0           NaN   \n3                      483488.0  ...      27651.0           NaN   \n4                     8520926.0  ...     270675.0           NaN   \n\n   GRADES_9_12_G  GRADES_ALL_G  AVG_MATH_4_SCORE  AVG_MATH_8_SCORE  \\\n0            NaN      731634.0             208.0             252.0   \n1            NaN      122487.0               NaN               NaN   \n2            NaN      673477.0             215.0             265.0   \n3            NaN      441490.0             210.0             256.0   \n4            NaN     5254844.0             208.0             261.0   \n\n   AVG_READING_4_SCORE  AVG_READING_8_SCORE  Avg_Math  Avg_Reading  \n0                207.0                  NaN     230.0        207.0  \n1                  NaN                  NaN       NaN          NaN  \n2                209.0                  NaN     240.0        209.0  \n3                211.0                  NaN     233.0        211.0  \n4                202.0                  NaN     234.5        202.0  \n\n[5 rows x 26 columns]",
      "text/html": "<div>\n<style scoped>\n    .dataframe tbody tr th:only-of-type {\n        vertical-align: middle;\n    }\n\n    .dataframe tbody tr th {\n        vertical-align: top;\n    }\n\n    .dataframe thead th {\n        text-align: right;\n    }\n</style>\n<table border=\"1\" class=\"dataframe\">\n  <thead>\n    <tr style=\"text-align: right;\">\n      <th></th>\n      <th>STATE</th>\n      <th>YEAR</th>\n      <th>ENROLL</th>\n      <th>TOTAL_REVENUE</th>\n      <th>FEDERAL_REVENUE</th>\n      <th>STATE_REVENUE</th>\n      <th>LOCAL_REVENUE</th>\n      <th>TOTAL_EXPENDITURE</th>\n      <th>INSTRUCTION_EXPENDITURE</th>\n      <th>SUPPORT_SERVICES_EXPENDITURE</th>\n      <th>...</th>\n      <th>GRADES_12_G</th>\n      <th>GRADES_1_8_G</th>\n      <th>GRADES_9_12_G</th>\n      <th>GRADES_ALL_G</th>\n      <th>AVG_MATH_4_SCORE</th>\n      <th>AVG_MATH_8_SCORE</th>\n      <th>AVG_READING_4_SCORE</th>\n      <th>AVG_READING_8_SCORE</th>\n      <th>Avg_Math</th>\n      <th>Avg_Reading</th>\n    </tr>\n  </thead>\n  <tbody>\n    <tr>\n      <th>0</th>\n      <td>ALABAMA</td>\n      <td>1992</td>\n      <td>NaN</td>\n      <td>2678885.0</td>\n      <td>304177.0</td>\n      <td>1659028.0</td>\n      <td>715680.0</td>\n      <td>2653798.0</td>\n      <td>1481703.0</td>\n      <td>735036.0</td>\n      <td>...</td>\n      <td>41167.0</td>\n      <td>NaN</td>\n      <td>NaN</td>\n      <td>731634.0</td>\n      <td>208.0</td>\n      <td>252.0</td>\n      <td>207.0</td>\n      <td>NaN</td>\n      <td>230.0</td>\n      <td>207.0</td>\n    </tr>\n    <tr>\n      <th>1</th>\n      <td>ALASKA</td>\n      <td>1992</td>\n      <td>NaN</td>\n      <td>1049591.0</td>\n      <td>106780.0</td>\n      <td>720711.0</td>\n      <td>222100.0</td>\n      <td>972488.0</td>\n      <td>498362.0</td>\n      <td>350902.0</td>\n      <td>...</td>\n      <td>6714.0</td>\n      <td>NaN</td>\n      <td>NaN</td>\n      <td>122487.0</td>\n      <td>NaN</td>\n      <td>NaN</td>\n      <td>NaN</td>\n      <td>NaN</td>\n      <td>NaN</td>\n      <td>NaN</td>\n    </tr>\n    <tr>\n      <th>2</th>\n      <td>ARIZONA</td>\n      <td>1992</td>\n      <td>NaN</td>\n      <td>3258079.0</td>\n      <td>297888.0</td>\n      <td>1369815.0</td>\n      <td>1590376.0</td>\n      <td>3401580.0</td>\n      <td>1435908.0</td>\n      <td>1007732.0</td>\n      <td>...</td>\n      <td>37410.0</td>\n      <td>NaN</td>\n      <td>NaN</td>\n      <td>673477.0</td>\n      <td>215.0</td>\n      <td>265.0</td>\n      <td>209.0</td>\n      <td>NaN</td>\n      <td>240.0</td>\n      <td>209.0</td>\n    </tr>\n    <tr>\n      <th>3</th>\n      <td>ARKANSAS</td>\n      <td>1992</td>\n      <td>NaN</td>\n      <td>1711959.0</td>\n      <td>178571.0</td>\n      <td>958785.0</td>\n      <td>574603.0</td>\n      <td>1743022.0</td>\n      <td>964323.0</td>\n      <td>483488.0</td>\n      <td>...</td>\n      <td>27651.0</td>\n      <td>NaN</td>\n      <td>NaN</td>\n      <td>441490.0</td>\n      <td>210.0</td>\n      <td>256.0</td>\n      <td>211.0</td>\n      <td>NaN</td>\n      <td>233.0</td>\n      <td>211.0</td>\n    </tr>\n    <tr>\n      <th>4</th>\n      <td>CALIFORNIA</td>\n      <td>1992</td>\n      <td>NaN</td>\n      <td>26260025.0</td>\n      <td>2072470.0</td>\n      <td>16546514.0</td>\n      <td>7641041.0</td>\n      <td>27138832.0</td>\n      <td>14358922.0</td>\n      <td>8520926.0</td>\n      <td>...</td>\n      <td>270675.0</td>\n      <td>NaN</td>\n      <td>NaN</td>\n      <td>5254844.0</td>\n      <td>208.0</td>\n      <td>261.0</td>\n      <td>202.0</td>\n      <td>NaN</td>\n      <td>234.5</td>\n      <td>202.0</td>\n    </tr>\n  </tbody>\n</table>\n<p>5 rows × 26 columns</p>\n</div>"
     },
     "execution_count": 25,
     "metadata": {},
     "output_type": "execute_result"
    }
   ],
   "source": [
    "app = Dash(__name__, external_stylesheets=[dbc.themes.SLATE])\n",
    "\n",
    "df_edu_chain = (\n",
    "    df_edu.assign(\n",
    "        Avg_Math=lambda df: df[['AVG_MATH_4_SCORE', 'AVG_MATH_8_SCORE']].mean(axis=1),\n",
    "        Avg_Reading=lambda df: df[['AVG_READING_4_SCORE', 'AVG_READING_8_SCORE']].mean(axis=1),\n",
    "    )\n",
    ")\n",
    "\n",
    "# TODO: Add chained callbacks here\n",
    "all_options = {}"
   ],
   "metadata": {
    "collapsed": false,
    "ExecuteTime": {
     "end_time": "2023-09-13T02:35:57.867173Z",
     "start_time": "2023-09-13T02:35:57.617537Z"
    }
   },
   "id": "38101552ada449ad"
  },
  {
   "cell_type": "code",
   "execution_count": null,
   "outputs": [],
   "source": [],
   "metadata": {
    "collapsed": false
   },
   "id": "e022ad62c7b1bb45"
  },
  {
   "cell_type": "code",
   "execution_count": null,
   "outputs": [],
   "source": [],
   "metadata": {
    "collapsed": false
   },
   "id": "874e6678f78177b5"
  },
  {
   "cell_type": "markdown",
   "source": [
    "# Interactive Cross-filtering"
   ],
   "metadata": {
    "collapsed": false
   },
   "id": "51588e58454da7d4"
  },
  {
   "cell_type": "code",
   "execution_count": 28,
   "id": "initial_id",
   "metadata": {
    "collapsed": true,
    "ExecuteTime": {
     "end_time": "2023-09-13T05:14:01.049019Z",
     "start_time": "2023-09-13T05:14:00.683229Z"
    }
   },
   "outputs": [
    {
     "data": {
      "text/plain": "<IPython.lib.display.IFrame at 0x7fed7b40d820>",
      "text/html": "\n        <iframe\n            width=\"100%\"\n            height=\"650\"\n            src=\"http://127.0.0.1:8050/\"\n            frameborder=\"0\"\n            allowfullscreen\n        ></iframe>\n        "
     },
     "metadata": {},
     "output_type": "display_data"
    }
   ],
   "source": [
    "app = Dash(__name__, external_stylesheets=[dbc.themes.SLATE])\n",
    "\n",
    "df_cf = (\n",
    "    df_edu\n",
    "    .rename({\n",
    "        \"AVG_MATH_4_SCORE\": \"Math 4 grade\",\n",
    "        \"AVG_MATH_8_SCORE\": \"Math 8 grade\",\n",
    "        \"AVG_READING_4_SCORE\": \"Reading 4 grade\",\n",
    "        \"AVG_READING_8_SCORE\": \"Reading 8 grade\",\n",
    "    }, axis=1)\n",
    "    .assign(expenditure_per_student=lambda df: df['TOTAL_EXPENDITURE'] / df['GRADES_ALL_G'])\n",
    ")\n",
    "\n",
    "app.layout = html.Div([\n",
    "    dbc.Row(html.H1(\"Education Performance & Expenditure\", style={\"text-align\": \"center\"})),\n",
    "    dbc.Row([\n",
    "        dbc.Col([\n",
    "            dbc.Card([\n",
    "                dcc.Markdown(\"Select an X Column\"),\n",
    "                dcc.RadioItems(\n",
    "                    id=\"score-radio\",\n",
    "                    options=[\n",
    "                        {\"label\": \"Math 4 grade\", \"value\": \"Math 4 grade\"},\n",
    "                        {\"label\": \"Math 8 grade\", \"value\": \"Math 8 grade\"},\n",
    "                        {\"label\": \"Reading 4 grade\", \"value\": \"Reading 4 grade\"},\n",
    "                        {\"label\": \"Reading 8 grade\", \"value\": \"Reading 8 grade\"},\n",
    "                    ],\n",
    "                    value=\"Math 8 grade\",\n",
    "                ),\n",
    "                html.Hr(),\n",
    "                dcc.Markdown(\"Select a Y Column\"),\n",
    "                dcc.RadioItems(\n",
    "                    id=\"score-radio2\",\n",
    "                    options=[\n",
    "                        {\"label\": \"Math 4 grade\", \"value\": \"Math 4 grade\"},\n",
    "                        {\"label\": \"Math 8 grade\", \"value\": \"Math 8 grade\"},\n",
    "                        {\"label\": \"Reading 4 grade\", \"value\": \"Reading 4 grade\"},\n",
    "                        {\"label\": \"Reading 8 grade\", \"value\": \"Reading 8 grade\"},\n",
    "                    ],\n",
    "                    value=\"Math 8 grade\",\n",
    "                )\n",
    "            ])\n",
    "        ], width=2),\n",
    "        dbc.Col(\n",
    "            dcc.Graph(id=\"cross-filter-scatter\", hoverData={\"points\": [{\"customdata\": \"CALIFORNIA\"}]}),\n",
    "        ),\n",
    "        dbc.Col(dcc.Graph(id=\"x-line\"))\n",
    "    ]),\n",
    "    dbc.Row(html.P(\"Third row of app Layout\")),\n",
    "])\n",
    "\n",
    "@app.callback(\n",
    "    Output(\"cross-filter-scatter\", \"figure\"),\n",
    "    Input(\"score-radio\", \"value\"),\n",
    "    Input(\"score-radio2\", \"value\"),\n",
    ")\n",
    "def score_scatter(x, y):\n",
    "    fig = px.scatter(\n",
    "        df_cf.query(\"YEAR == 2013\"),\n",
    "        x=x,\n",
    "        y=y,\n",
    "        hover_name=\"STATE\",\n",
    "        custom_data=[\"STATE\"],\n",
    "    )\n",
    "    \n",
    "    return fig \n",
    "\n",
    "@app.callback(\n",
    "    Output(\"x-line\", \"figure\"),\n",
    "    Input(\"cross-filter-scatter\", \"hoverData\")\n",
    ")\n",
    "def update_line(hover_data: dict):\n",
    "    state_name = hover_data['points'][0]['customdata'][0]\n",
    "    df = df_cf.query(\"STATE == @state_name\")\n",
    "    \n",
    "    fig = px.line(\n",
    "        df,\n",
    "        x=\"YEAR\",\n",
    "        y=\"expenditure_per_student\",\n",
    "        title=f\"Expenditure per student in {state_name.title()}\",\n",
    "    ).update_xaxes(showgrid=False)\n",
    "    \n",
    "    return fig\n",
    "    \n",
    "if __name__ == \"__main__\":\n",
    "    app.run_server(debug=True)"
   ]
  },
  {
   "cell_type": "code",
   "execution_count": null,
   "outputs": [],
   "source": [],
   "metadata": {
    "collapsed": false
   },
   "id": "50c8d253afc9efe7"
  },
  {
   "cell_type": "code",
   "execution_count": null,
   "outputs": [],
   "source": [],
   "metadata": {
    "collapsed": false
   },
   "id": "31e5e465c6aca472"
  }
 ],
 "metadata": {
  "kernelspec": {
   "display_name": "Python 3",
   "language": "python",
   "name": "python3"
  },
  "language_info": {
   "codemirror_mode": {
    "name": "ipython",
    "version": 2
   },
   "file_extension": ".py",
   "mimetype": "text/x-python",
   "name": "python",
   "nbconvert_exporter": "python",
   "pygments_lexer": "ipython2",
   "version": "2.7.6"
  }
 },
 "nbformat": 4,
 "nbformat_minor": 5
}

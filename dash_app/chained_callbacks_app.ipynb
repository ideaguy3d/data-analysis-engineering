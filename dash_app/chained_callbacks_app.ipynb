{
 "cells": [
  {
   "cell_type": "markdown",
   "id": "identical-northern",
   "metadata": {},
   "source": [
    "# imports"
   ]
  },
  {
   "cell_type": "code",
   "execution_count": 3,
   "outputs": [],
   "source": [
    "from dash import Dash, dcc, html, dash_table\n",
    "import dash_bootstrap_components as dbc\n",
    "from dash.dependencies import Input, Output\n",
    "from dash.exceptions import PreventUpdate\n",
    "from dash_bootstrap_templates import load_figure_template\n",
    "import plotly.express as px\n",
    "import pandas\n",
    "import numpy as np\n",
    "import random\n",
    "from numpy.random import default_rng\n",
    "import datetime"
   ],
   "metadata": {
    "collapsed": false,
    "ExecuteTime": {
     "end_time": "2023-10-26T02:45:39.620717Z",
     "start_time": "2023-10-26T02:45:39.616137Z"
    }
   },
   "id": "9fe5d1e67de9d6c0"
  },
  {
   "cell_type": "markdown",
   "source": [
    "# dash app"
   ],
   "metadata": {
    "collapsed": false
   },
   "id": "3751407e23ef0ef3"
  },
  {
   "cell_type": "code",
   "execution_count": 8,
   "outputs": [
    {
     "name": "stdout",
     "output_type": "stream",
     "text": [
      "        STATE  YEAR  ENROLL  TOTAL_REVENUE  FEDERAL_REVENUE  STATE_REVENUE  \\\n",
      "0     ALABAMA  1992     NaN      2678885.0         304177.0      1659028.0   \n",
      "1      ALASKA  1992     NaN      1049591.0         106780.0       720711.0   \n",
      "2     ARIZONA  1992     NaN      3258079.0         297888.0      1369815.0   \n",
      "3    ARKANSAS  1992     NaN      1711959.0         178571.0       958785.0   \n",
      "4  CALIFORNIA  1992     NaN     26260025.0        2072470.0     16546514.0   \n",
      "\n",
      "   LOCAL_REVENUE  TOTAL_EXPENDITURE  INSTRUCTION_EXPENDITURE  \\\n",
      "0       715680.0          2653798.0                1481703.0   \n",
      "1       222100.0           972488.0                 498362.0   \n",
      "2      1590376.0          3401580.0                1435908.0   \n",
      "3       574603.0          1743022.0                 964323.0   \n",
      "4      7641041.0         27138832.0               14358922.0   \n",
      "\n",
      "   SUPPORT_SERVICES_EXPENDITURE  ...  GRADES_4_G  GRADES_8_G  GRADES_12_G  \\\n",
      "0                      735036.0  ...     57948.0     58025.0      41167.0   \n",
      "1                      350902.0  ...      9748.0      8789.0       6714.0   \n",
      "2                     1007732.0  ...     55433.0     49081.0      37410.0   \n",
      "3                      483488.0  ...     34632.0     36011.0      27651.0   \n",
      "4                     8520926.0  ...    418418.0    363296.0     270675.0   \n",
      "\n",
      "   GRADES_1_8_G  GRADES_9_12_G  GRADES_ALL_G  AVG_MATH_4_SCORE  \\\n",
      "0           NaN            NaN      731634.0             208.0   \n",
      "1           NaN            NaN      122487.0               NaN   \n",
      "2           NaN            NaN      673477.0             215.0   \n",
      "3           NaN            NaN      441490.0             210.0   \n",
      "4           NaN            NaN     5254844.0             208.0   \n",
      "\n",
      "   AVG_MATH_8_SCORE  AVG_READING_4_SCORE  AVG_READING_8_SCORE  \n",
      "0             252.0                207.0                  NaN  \n",
      "1               NaN                  NaN                  NaN  \n",
      "2             265.0                209.0                  NaN  \n",
      "3             256.0                211.0                  NaN  \n",
      "4             261.0                202.0                  NaN  \n",
      "\n",
      "[5 rows x 24 columns]\n"
     ]
    },
    {
     "data": {
      "text/plain": "<IPython.lib.display.IFrame at 0x7fdb015538e0>",
      "text/html": "\n        <iframe\n            width=\"100%\"\n            height=\"650\"\n            src=\"http://127.0.0.1:8052/\"\n            frameborder=\"0\"\n            allowfullscreen\n        ></iframe>\n        "
     },
     "metadata": {},
     "output_type": "display_data"
    }
   ],
   "source": [
    "\n",
    "df_edu = pandas.read_csv('data/states_all.csv').iloc[:, 1:]\n",
    "print(df_edu.head())\n",
    "\n",
    "app = Dash(__name__, external_stylesheets=[dbc.themes.SLATE])\n",
    "\n",
    "df_edu_chain = (\n",
    "    df_edu\n",
    "    .assign(\n",
    "        Avg_Math=lambda df: df[['AVG_MATH_4_SCORE', 'AVG_MATH_8_SCORE']].mean(axis=1),\n",
    "        Avg_Reading=lambda df: df[['AVG_READING_4_SCORE', 'AVG_READING_8_SCORE']].mean(axis=1),\n",
    "    )\n",
    ")\n",
    "\n",
    "all_options = {\n",
    "    \"By Subject\": [\n",
    "        {\"label\": \"Math\", \"value\": \"Avg_Math\"},\n",
    "        {\"label\": \"Reading\", \"value\": \"Avg_Reading\"}\n",
    "    ],\n",
    "    \"By Grade and Subject\": [\n",
    "        {\"label\": \"4th Grade Math\", \"value\": \"AVG_MATH_4_SCORE\"},\n",
    "        {\"label\": \"8th Grade Math\", \"value\": \"AVG_MATH_8_SCORE\"},\n",
    "        {\"label\": \"4th Grade Reading\", \"value\": \"AVG_READING_4_SCORE\"},\n",
    "        {\"label\": \"8th Grade Reading\", \"value\": \"AVG_READING_8_SCORE\"},\n",
    "    ],\n",
    "}\n",
    "\n",
    "app.layout = html.Div([\n",
    "    dcc.RadioItems(\n",
    "        id='report-type-radio',\n",
    "        options=[\"By Subject\", \"By Grade and Subject\"],\n",
    "        value=\"By Subject\",\n",
    "    ),\n",
    "    html.Hr(),\n",
    "    dcc.RadioItems(id=\"metric-radio\"),\n",
    "    html.Br(),\n",
    "    dcc.Graph(id=\"metric-bar\"),\n",
    "])\n",
    "\n",
    "\n",
    "@app.callback(\n",
    "    Output(component_id=\"metric-radio\", component_property=\"options\"),\n",
    "    Input(component_id=\"report-type-radio\", component_property=\"value\")\n",
    ")\n",
    "def set_metrics_options(selected_report: str):\n",
    "    return all_options[selected_report]\n",
    "\n",
    "\n",
    "@app.callback(\n",
    "    Output(component_id=\"metric-bar\", component_property=\"figure\"),\n",
    "    Input(component_id=\"metric-radio\", component_property=\"value\")\n",
    ")\n",
    "def plot_bar(metric: str):\n",
    "    if metric is None:\n",
    "        raise PreventUpdate\n",
    "\n",
    "    figure = px.bar(\n",
    "        (\n",
    "            df_edu_chain\n",
    "            .groupby(\"STATE\", as_index=False)\n",
    "            .agg({metric: \"mean\"})\n",
    "            .sort_values(metric, ascending=False)\n",
    "        ),\n",
    "        x=\"STATE\",\n",
    "        y=metric,\n",
    "    )\n",
    "    return figure\n",
    "\n",
    "\n",
    "if __name__ == '__main__':\n",
    "    # host=\"127.0.0.1\"\n",
    "    app.run_server(debug=True, port=8052)\n",
    "\n",
    "# eof"
   ],
   "metadata": {
    "collapsed": false,
    "ExecuteTime": {
     "end_time": "2023-10-26T02:58:24.121250Z",
     "start_time": "2023-10-26T02:58:23.803613Z"
    }
   },
   "id": "86af4bc34dbf3fb8"
  },
  {
   "cell_type": "code",
   "execution_count": null,
   "outputs": [],
   "source": [],
   "metadata": {
    "collapsed": false
   },
   "id": "5c09585679f5c49"
  }
 ],
 "metadata": {
  "jupytext": {
   "cell_metadata_filter": "-all",
   "main_language": "python",
   "notebook_metadata_filter": "-all"
  },
  "kernelspec": {
   "name": "python3",
   "language": "python",
   "display_name": "Python 3"
  }
 },
 "nbformat": 4,
 "nbformat_minor": 5
}

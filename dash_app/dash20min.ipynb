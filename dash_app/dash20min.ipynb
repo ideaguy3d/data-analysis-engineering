{
 "cells": [
  {
   "cell_type": "markdown",
   "source": [
    "# dash table callback & graph"
   ],
   "metadata": {
    "collapsed": false
   },
   "id": "aafda73ae148e1ea"
  },
  {
   "cell_type": "code",
   "execution_count": 12,
   "outputs": [
    {
     "data": {
      "text/plain": "<IPython.lib.display.IFrame at 0x7fc3b6ec6d90>",
      "text/html": "\n        <iframe\n            width=\"100%\"\n            height=\"650\"\n            src=\"http://localhost:8060/\"\n            frameborder=\"0\"\n            allowfullscreen\n        ></iframe>\n        "
     },
     "metadata": {},
     "output_type": "display_data"
    }
   ],
   "source": [
    "# Import packages\n",
    "from dash import Dash, html, dash_table, dcc, callback, Output, Input\n",
    "import pandas as pd\n",
    "from dash.exceptions import PreventUpdate\n",
    "import plotly.express as px\n",
    "\n",
    "# Incorporate data\n",
    "df = pd.read_csv('gapminder2007.csv')\n",
    "\n",
    "# Initialize the app\n",
    "app = Dash(__name__)\n",
    "\n",
    "# App layout\n",
    "app.layout = html.Div([\n",
    "    html.Div(children='My First App with Data, Graph, and Controls'),\n",
    "    html.Hr(),\n",
    "    html.P(id='p-output'),\n",
    "    # dcc.RadioItems(\n",
    "    #     options=['pop', 'lifeExp', 'gdpPercap'],\n",
    "    #     value='lifeExp',\n",
    "    #     id='radio-item-example'),\n",
    "    dash_table.DataTable(id='input-table', data=df.to_dict('records'), page_size=6),\n",
    "    dcc.Graph(figure={}, id='graph-example')\n",
    "])\n",
    "\n",
    "# Add controls to build the interaction\n",
    "@callback(\n",
    "    Output(component_id='p-output', component_property='children'),\n",
    "    Output(component_id='graph-example', component_property='figure'),\n",
    "    # Input(component_id='radio-item-example', component_property='value'),\n",
    "    Input(component_id='input-table', component_property='active_cell'),\n",
    ")\n",
    "def update_graph(active_cell: dict):\n",
    "    if active_cell is None:\n",
    "        raise PreventUpdate\n",
    "\n",
    "    # v = df[active_cell['row']][active_cell['column_id']]\n",
    "    data_row= active_cell['row']\n",
    "    data_col_id = active_cell['column_id']\n",
    "    cell_value = df.loc[data_row, data_col_id]\n",
    "\n",
    "    # print(data_row)\n",
    "    # print(data_col_id)\n",
    "    # print(cell_value)\n",
    "\n",
    "    p = f'You have chosen {str(active_cell)} |  {str(cell_value)}  |  @active_cell'\n",
    "    \n",
    "    if active_cell['column_id'] == 'pop':\n",
    "        col_chosen = 'pop'\n",
    "    elif active_cell['column_id'] == 'lifeExp':\n",
    "        col_chosen = 'lifeExp'\n",
    "    elif active_cell['column_id'] == 'gdpPercap':\n",
    "        col_chosen = 'gdpPercap'\n",
    "    else:\n",
    "        col_chosen = 'lifeExp'\n",
    "\n",
    "    fig = px.histogram(df, x='continent', y=col_chosen, histfunc='avg')\n",
    "\n",
    "    return p, fig\n",
    "\n",
    "# Run the app\n",
    "if __name__ == '__main__':\n",
    "    app.run(debug=True, host='localhost', port=8060)"
   ],
   "metadata": {
    "collapsed": false,
    "ExecuteTime": {
     "end_time": "2023-09-13T06:43:24.229015Z",
     "start_time": "2023-09-13T06:43:23.853365Z"
    }
   },
   "id": "8706ea35f0c82511"
  },
  {
   "cell_type": "markdown",
   "source": [
    "# simple dash app"
   ],
   "metadata": {
    "collapsed": false
   },
   "id": "eab1fb9ebd875fba"
  },
  {
   "cell_type": "code",
   "execution_count": 11,
   "outputs": [
    {
     "data": {
      "text/plain": "<IPython.lib.display.IFrame at 0x7fc3bc6f8610>",
      "text/html": "\n        <iframe\n            width=\"100%\"\n            height=\"650\"\n            src=\"http://localhost:8060/\"\n            frameborder=\"0\"\n            allowfullscreen\n        ></iframe>\n        "
     },
     "metadata": {},
     "output_type": "display_data"
    }
   ],
   "source": [
    "# Import packages\n",
    "from dash import Dash, html, dash_table, dcc, callback, Output, Input\n",
    "import pandas as pd\n",
    "from dash.exceptions import PreventUpdate\n",
    "import plotly.express as px\n",
    "\n",
    "# Incorporate data\n",
    "df = pd.read_csv('gapminder2007.csv')\n",
    "\n",
    "# Initialize the app\n",
    "app = Dash(__name__)\n",
    "\n",
    "# App layout\n",
    "app.layout = html.Div([\n",
    "    html.Div(children='My First App with Data, Graph, and Controls'),\n",
    "    html.Hr(),\n",
    "    html.P(id='p-output'),\n",
    "    dcc.RadioItems(\n",
    "        options=['pop', 'lifeExp', 'gdpPercap'], \n",
    "        value='lifeExp', \n",
    "        id='radio-item-example'),\n",
    "    dash_table.DataTable(id='input-table', data=df.to_dict('records'), page_size=6),\n",
    "    dcc.Graph(figure={}, id='graph-example')\n",
    "])\n",
    "\n",
    "# Add controls to build the interaction\n",
    "@callback(\n",
    "    Output(component_id='p-output', component_property='children'),\n",
    "    Output(component_id='graph-example', component_property='figure'),\n",
    "    Input(component_id='radio-item-example', component_property='value'),\n",
    "    Input(component_id='input-table', component_property='active_cell'),\n",
    ")\n",
    "def update_graph(col_chosen, active_cell: dict):\n",
    "    if active_cell is None:\n",
    "        raise PreventUpdate\n",
    "    \n",
    "    # v = df[active_cell['row']][active_cell['column_id']]\n",
    "    data_row= active_cell['row']\n",
    "    data_col_id = active_cell['column_id']\n",
    "    cell_value = df.loc[data_row, data_col_id]\n",
    "\n",
    "    # print(data_row)\n",
    "    # print(data_col_id)\n",
    "    # print(cell_value)\n",
    "    \n",
    "    p = f'You have chosen {str(active_cell)} |  {str(cell_value)}  |  @active_cell'\n",
    "    \n",
    "    fig = px.histogram(df, x='continent', y=col_chosen, histfunc='avg')\n",
    "    \n",
    "    return p, fig\n",
    "\n",
    "# Run the app\n",
    "if __name__ == '__main__':\n",
    "    app.run(debug=True, host='localhost', port=8060)"
   ],
   "metadata": {
    "collapsed": false,
    "ExecuteTime": {
     "end_time": "2023-09-13T06:34:22.117062Z",
     "start_time": "2023-09-13T06:34:21.812563Z"
    }
   },
   "id": "c7af684fcf2484f8"
  },
  {
   "cell_type": "markdown",
   "source": [],
   "metadata": {
    "collapsed": false
   },
   "id": "fbd0f64b531866f1"
  },
  {
   "cell_type": "code",
   "execution_count": null,
   "outputs": [],
   "source": [],
   "metadata": {
    "collapsed": false
   },
   "id": "6ec4a1484ee6c758"
  },
  {
   "cell_type": "code",
   "execution_count": null,
   "outputs": [],
   "source": [],
   "metadata": {
    "collapsed": false
   },
   "id": "6e10382f053e33ad"
  }
 ],
 "metadata": {
  "kernelspec": {
   "display_name": "Python 3",
   "language": "python",
   "name": "python3"
  },
  "language_info": {
   "codemirror_mode": {
    "name": "ipython",
    "version": 2
   },
   "file_extension": ".py",
   "mimetype": "text/x-python",
   "name": "python",
   "nbconvert_exporter": "python",
   "pygments_lexer": "ipython2",
   "version": "2.7.6"
  }
 },
 "nbformat": 4,
 "nbformat_minor": 5
}

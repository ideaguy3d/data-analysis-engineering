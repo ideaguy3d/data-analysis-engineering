{
 "cells": [
  {
   "cell_type": "markdown",
   "source": [
    "# Imports"
   ],
   "metadata": {
    "collapsed": false
   }
  },
  {
   "cell_type": "code",
   "execution_count": 43,
   "metadata": {
    "collapsed": true
   },
   "outputs": [],
   "source": [
    "from pyspark.sql import SparkSession\n",
    "from pyspark.sql.types import StructType, StructField, StringType, IntegerType, DoubleType\n",
    "from pyspark.sql.functions import col, lit, sum, avg, max, min, mean, count, udf\n",
    "from pyspark import SparkConf, SparkContext"
   ]
  },
  {
   "cell_type": "code",
   "execution_count": 2,
   "outputs": [],
   "source": [
    "spark = SparkSession.builder.appName(\"SparkDF\").getOrCreate()"
   ],
   "metadata": {
    "collapsed": false
   }
  },
  {
   "cell_type": "code",
   "execution_count": 0,
   "outputs": [],
   "source": [
    "df_students = spark.read.csv(\"data/students.csv\", header=True, inferSchema=True)"
   ],
   "metadata": {
    "collapsed": false
   }
  },
  {
   "cell_type": "code",
   "execution_count": 4,
   "outputs": [
    {
     "name": "stdout",
     "output_type": "stream",
     "text": [
      "+---+------+----------------+------+-----+-----+--------------------+\n",
      "|age|gender|            name|course| roll|marks|               email|\n",
      "+---+------+----------------+------+-----+-----+--------------------+\n",
      "| 28|Female| Hubert Oliveras|    DB| 2984|   59|Annika Hoffman_Na...|\n",
      "| 29|Female|Toshiko Hillyard| Cloud|12899|   62|Margene Moores_Ma...|\n",
      "| 28|  Male|  Celeste Lollis|    PF|21267|   45|Jeannetta Golden_...|\n",
      "| 29|Female|    Elenore Choy|    DB|32877|   29|Billi Clore_Mitzi...|\n",
      "| 28|  Male|  Sheryll Towler|   DSA|41487|   41|Claude Panos_Judi...|\n",
      "+---+------+----------------+------+-----+-----+--------------------+\n",
      "only showing top 5 rows\n",
      "\n"
     ]
    }
   ],
   "source": [
    "df_students.show(5)"
   ],
   "metadata": {
    "collapsed": false
   }
  },
  {
   "cell_type": "markdown",
   "source": [
    "# select, withColumn, filter"
   ],
   "metadata": {
    "collapsed": false
   }
  },
  {
   "cell_type": "code",
   "execution_count": 6,
   "outputs": [
    {
     "name": "stdout",
     "output_type": "stream",
     "text": [
      "+---+------+----------------+------+-----+-----+--------------------+-----------+\n",
      "|age|gender|            name|course| roll|marks|               email|total_marks|\n",
      "+---+------+----------------+------+-----+-----+--------------------+-----------+\n",
      "| 28|Female| Hubert Oliveras|    DB| 2984|   59|Annika Hoffman_Na...|        120|\n",
      "| 29|Female|Toshiko Hillyard| Cloud|12899|   62|Margene Moores_Ma...|        120|\n",
      "| 28|  Male|  Celeste Lollis|    PF|21267|   45|Jeannetta Golden_...|        120|\n",
      "| 29|Female|    Elenore Choy|    DB|32877|   29|Billi Clore_Mitzi...|        120|\n",
      "| 28|  Male|  Sheryll Towler|   DSA|41487|   41|Claude Panos_Judi...|        120|\n",
      "+---+------+----------------+------+-----+-----+--------------------+-----------+\n",
      "only showing top 5 rows\n",
      "\n"
     ]
    }
   ],
   "source": [
    "df_students = df_students.withColumn(\"total_marks\", lit(120))\n",
    "df_students.show(5)"
   ],
   "metadata": {
    "collapsed": false
   }
  },
  {
   "cell_type": "code",
   "execution_count": 7,
   "outputs": [
    {
     "name": "stdout",
     "output_type": "stream",
     "text": [
      "+---+------+----------------+------+-----+-----+--------------------+-----------+------------------+\n",
      "|age|gender|            name|course| roll|marks|               email|total_marks|           average|\n",
      "+---+------+----------------+------+-----+-----+--------------------+-----------+------------------+\n",
      "| 28|Female| Hubert Oliveras|    DB| 2984|   59|Annika Hoffman_Na...|        120|49.166666666666664|\n",
      "| 29|Female|Toshiko Hillyard| Cloud|12899|   62|Margene Moores_Ma...|        120| 51.66666666666667|\n",
      "| 28|  Male|  Celeste Lollis|    PF|21267|   45|Jeannetta Golden_...|        120|              37.5|\n",
      "| 29|Female|    Elenore Choy|    DB|32877|   29|Billi Clore_Mitzi...|        120|24.166666666666668|\n",
      "| 28|  Male|  Sheryll Towler|   DSA|41487|   41|Claude Panos_Judi...|        120|34.166666666666664|\n",
      "+---+------+----------------+------+-----+-----+--------------------+-----------+------------------+\n",
      "only showing top 5 rows\n",
      "\n"
     ]
    }
   ],
   "source": [
    "df_students = df_students.withColumn(\"average\", col(\"marks\") / col(\"total_marks\") * 100)\n",
    "df_students.show(5)"
   ],
   "metadata": {
    "collapsed": false
   }
  },
  {
   "cell_type": "code",
   "execution_count": 10,
   "outputs": [
    {
     "name": "stdout",
     "output_type": "stream",
     "text": [
      "+---+------+------------------+------+-------+-----+--------------------+-----------+-----------------+\n",
      "|age|gender|              name|course|   roll|marks|               email|total_marks|          average|\n",
      "+---+------+------------------+------+-------+-----+--------------------+-----------+-----------------+\n",
      "| 28|Female|     Kizzy Brenner|   OOP|2542257|   96|Eda Neathery_Lawa...|        120|             80.0|\n",
      "| 28|  Male|    Jenna Montague|   OOP|3331161|   98|Leontine Phillips...|        120|81.66666666666667|\n",
      "| 29|Female|Priscila Tavernier|   OOP|3902993|   99|Celeste Lollis_Bi...|        120|             82.5|\n",
      "| 29|  Male| Michelle Ruggiero|   OOP|4222829|   96|Kena Wild_Jalisa ...|        120|             80.0|\n",
      "| 28|Female|      Judie Chipps|   OOP|5451977|   99|Tamera Blakley_Mi...|        120|             82.5|\n",
      "+---+------+------------------+------+-------+-----+--------------------+-----------+-----------------+\n",
      "only showing top 5 rows\n",
      "\n"
     ]
    }
   ],
   "source": [
    "df_oop_b = df_students.filter((col(\"course\") == \"OOP\") & (col(\"average\") >= 80))\n",
    "df_oop_b.show(5)"
   ],
   "metadata": {
    "collapsed": false
   }
  },
  {
   "cell_type": "code",
   "execution_count": 11,
   "outputs": [
    {
     "name": "stdout",
     "output_type": "stream",
     "text": [
      "+---+------+--------------+------+-------+-----+--------------------+-----------+-----------------+\n",
      "|age|gender|          name|course|   roll|marks|               email|total_marks|          average|\n",
      "+---+------+--------------+------+-------+-----+--------------------+-----------+-----------------+\n",
      "| 28|Female|  Claude Panos| Cloud|  72409|   85|Sheryll Towler_Al...|        120|70.83333333333334|\n",
      "| 29|  Male|   Billi Clore| Cloud| 512047|   76|Taryn Brownlee_Ju...|        120|63.33333333333333|\n",
      "| 28|Female|Somer Stoecker| Cloud| 612490|   82|Sebrina Maresca_G...|        120|68.33333333333333|\n",
      "| 29|Female|  Judie Chipps| Cloud| 632793|   75|Tijuana Kropf_Ele...|        120|             62.5|\n",
      "| 29|Female|  Eda Neathery| Cloud|1011971|   91|Margene Moores_El...|        120|75.83333333333333|\n",
      "+---+------+--------------+------+-------+-----+--------------------+-----------+-----------------+\n",
      "only showing top 5 rows\n",
      "\n"
     ]
    }
   ],
   "source": [
    "df_cloud_d = df_students.filter((col(\"course\") == \"Cloud\") & (col(\"average\") >= 60))\n",
    "df_cloud_d.show(5)"
   ],
   "metadata": {
    "collapsed": false
   }
  },
  {
   "cell_type": "code",
   "execution_count": 12,
   "outputs": [
    {
     "name": "stdout",
     "output_type": "stream",
     "text": [
      "+------------------+-----+\n",
      "|              name|marks|\n",
      "+------------------+-----+\n",
      "|     Kizzy Brenner|   96|\n",
      "|    Jenna Montague|   98|\n",
      "|Priscila Tavernier|   99|\n",
      "| Michelle Ruggiero|   96|\n",
      "|      Judie Chipps|   99|\n",
      "+------------------+-----+\n",
      "only showing top 5 rows\n",
      "\n"
     ]
    }
   ],
   "source": [
    "df_oop_b.select(\"name\", \"marks\").show(5)"
   ],
   "metadata": {
    "collapsed": false
   }
  },
  {
   "cell_type": "code",
   "execution_count": 13,
   "outputs": [
    {
     "name": "stdout",
     "output_type": "stream",
     "text": [
      "+--------------+-----+\n",
      "|          name|marks|\n",
      "+--------------+-----+\n",
      "|  Claude Panos|   85|\n",
      "|   Billi Clore|   76|\n",
      "|Somer Stoecker|   82|\n",
      "|  Judie Chipps|   75|\n",
      "|  Eda Neathery|   91|\n",
      "+--------------+-----+\n",
      "only showing top 5 rows\n",
      "\n"
     ]
    }
   ],
   "source": [
    "df_cloud_d.select(\"name\", \"marks\").show(5)"
   ],
   "metadata": {
    "collapsed": false
   }
  },
  {
   "cell_type": "markdown",
   "source": [
    "# Distinct Duplicate"
   ],
   "metadata": {
    "collapsed": false
   }
  },
  {
   "cell_type": "code",
   "execution_count": 16,
   "outputs": [
    {
     "data": {
      "text/plain": "1000"
     },
     "metadata": {},
     "output_type": "display_data"
    },
    {
     "name": "stdout",
     "output_type": "stream",
     "text": [
      "+---+------+----------------+------+-----+-----+--------------------+-----------+------------------+\n",
      "|age|gender|            name|course| roll|marks|               email|total_marks|           average|\n",
      "+---+------+----------------+------+-----+-----+--------------------+-----------+------------------+\n",
      "| 28|Female| Hubert Oliveras|    DB| 2984|   59|Annika Hoffman_Na...|        120|49.166666666666664|\n",
      "| 29|Female|Toshiko Hillyard| Cloud|12899|   62|Margene Moores_Ma...|        120| 51.66666666666667|\n",
      "| 28|  Male|  Celeste Lollis|    PF|21267|   45|Jeannetta Golden_...|        120|              37.5|\n",
      "| 29|Female|    Elenore Choy|    DB|32877|   29|Billi Clore_Mitzi...|        120|24.166666666666668|\n",
      "+---+------+----------------+------+-----+-----+--------------------+-----------+------------------+\n",
      "only showing top 4 rows\n",
      "\n"
     ]
    }
   ],
   "source": [
    "display(df_students.count())\n",
    "df_students.show(4)"
   ],
   "metadata": {
    "collapsed": false
   }
  },
  {
   "cell_type": "code",
   "execution_count": 19,
   "outputs": [
    {
     "data": {
      "text/plain": "24"
     },
     "metadata": {},
     "output_type": "display_data"
    },
    {
     "name": "stdout",
     "output_type": "stream",
     "text": [
      "+---+------+------+\n",
      "|age|gender|course|\n",
      "+---+------+------+\n",
      "| 28|  Male| Cloud|\n",
      "| 28|Female|    DB|\n",
      "| 28|Female|   MVC|\n",
      "| 29|  Male|    PF|\n",
      "| 28|Female|   OOP|\n",
      "| 29|Female| Cloud|\n",
      "| 29|  Male| Cloud|\n",
      "| 29|Female|   DSA|\n",
      "| 29|  Male|   OOP|\n",
      "| 29|  Male|    DB|\n",
      "| 28|Female|    PF|\n",
      "| 29|Female|   MVC|\n",
      "| 29|Female|    DB|\n",
      "| 28|  Male|    PF|\n",
      "| 29|  Male|   DSA|\n",
      "| 28|Female| Cloud|\n",
      "| 29|Female|   OOP|\n",
      "| 29|  Male|   MVC|\n",
      "| 28|  Male|   OOP|\n",
      "| 28|  Male|   DSA|\n",
      "+---+------+------+\n",
      "only showing top 20 rows\n",
      "\n"
     ]
    }
   ],
   "source": [
    "# select unique rows for age gender course from df_students\n",
    "display(df_students.select(\"age\", \"gender\", \"course\").distinct().count())\n",
    "df_students.select(\"age\", \"gender\", \"course\").distinct().show()"
   ],
   "metadata": {
    "collapsed": false
   }
  },
  {
   "cell_type": "code",
   "execution_count": 21,
   "outputs": [
    {
     "data": {
      "text/plain": "24"
     },
     "metadata": {},
     "output_type": "display_data"
    },
    {
     "name": "stdout",
     "output_type": "stream",
     "text": [
      "+---+------+----------------+------+------+-----+--------------------+-----------+------------------+\n",
      "|age|gender|            name|course|  roll|marks|               email|total_marks|           average|\n",
      "+---+------+----------------+------+------+-----+--------------------+-----------+------------------+\n",
      "| 28|Female|    Claude Panos| Cloud| 72409|   85|Sheryll Towler_Al...|        120| 70.83333333333334|\n",
      "| 28|Female| Hubert Oliveras|    DB|  2984|   59|Annika Hoffman_Na...|        120|49.166666666666664|\n",
      "| 28|Female|    Jc Andrepont|   DSA|232060|   58|Billi Clore_Abram...|        120|48.333333333333336|\n",
      "| 28|Female|    Cheri Kenney|   MVC|321816|   24|Kena Wild_Michell...|        120|              20.0|\n",
      "| 28|Female|  Alberta Freund|   OOP|251805|   83|Annika Hoffman_Sh...|        120| 69.16666666666667|\n",
      "| 28|Female|  Loris Crossett|    PF|332739|   62|Michelle Ruggiero...|        120| 51.66666666666667|\n",
      "| 28|  Male|  Annika Hoffman| Cloud|722193|   55|Taryn Brownlee_El...|        120| 45.83333333333333|\n",
      "| 28|  Male|   Kizzy Brenner|    DB|381712|   36|Paris Hutton_Kena...|        120|              30.0|\n",
      "| 28|  Male|  Sheryll Towler|   DSA| 41487|   41|Claude Panos_Judi...|        120|34.166666666666664|\n",
      "| 28|  Male|  Margene Moores|   MVC| 52771|   32|Toshiko Hillyard_...|        120|26.666666666666668|\n",
      "| 28|  Male|     Neda Briski|   OOP| 61973|   69|Alberta Freund_El...|        120| 57.49999999999999|\n",
      "| 28|  Male|  Celeste Lollis|    PF| 21267|   45|Jeannetta Golden_...|        120|              37.5|\n",
      "| 29|Female|Toshiko Hillyard| Cloud| 12899|   62|Margene Moores_Ma...|        120| 51.66666666666667|\n",
      "| 29|Female|    Elenore Choy|    DB| 32877|   29|Billi Clore_Mitzi...|        120|24.166666666666668|\n",
      "| 29|Female|       Kena Wild|   DSA|102285|   35|Dustin Feagins_Ma...|        120|29.166666666666668|\n",
      "| 29|Female|  Latia Vanhoose|   MVC|132110|   55|Eda Neathery_Nico...|        120| 45.83333333333333|\n",
      "| 29|Female|    Claude Panos|   OOP|542821|   28|Hubert Oliveras_P...|        120|23.333333333333332|\n",
      "| 29|Female|  Loris Crossett|    PF|201487|   96|Elenore Choy_Lati...|        120|              80.0|\n",
      "| 29|  Male|     Billi Clore| Cloud|512047|   76|Taryn Brownlee_Ju...|        120| 63.33333333333333|\n",
      "| 29|  Male| Ernest Rossbach|    DB|111449|   53|Maybell Duguay_Ab...|        120|44.166666666666664|\n",
      "+---+------+----------------+------+------+-----+--------------------+-----------+------------------+\n",
      "only showing top 20 rows\n",
      "\n"
     ]
    }
   ],
   "source": [
    "display(df_students.dropDuplicates([\"age\", \"gender\", \"course\"]).count())\n",
    "df_students.dropDuplicates([\"age\", \"gender\", \"course\"]).show()"
   ],
   "metadata": {
    "collapsed": false
   }
  },
  {
   "cell_type": "markdown",
   "source": [
    "# sort/orderBy"
   ],
   "metadata": {
    "collapsed": false
   }
  },
  {
   "cell_type": "code",
   "execution_count": 22,
   "outputs": [
    {
     "name": "stdout",
     "output_type": "stream",
     "text": [
      "+-------------+----------+-----+------+---+-----+\n",
      "|employee_name|department|state|salary|age|bonus|\n",
      "+-------------+----------+-----+------+---+-----+\n",
      "|        James|     Sales|   NY| 90000| 34|10000|\n",
      "|      Michael|     Sales|   NY| 86000| 56|20000|\n",
      "|       Robert|     Sales|   CA| 81000| 30|23000|\n",
      "|        Maria|   Finance|   CA| 90000| 24|23000|\n",
      "|        Raman|   Finance|   CA| 99000| 40|24000|\n",
      "|        Scott|   Finance|   NY| 83000| 36|19000|\n",
      "|          Jen|   Finance|   NY| 79000| 53|15000|\n",
      "|         Jeff| Marketing|   CA| 80000| 25|18000|\n",
      "|        Kumar| Marketing|   NY| 91000| 50|21000|\n",
      "+-------------+----------+-----+------+---+-----+\n",
      "\n"
     ]
    }
   ],
   "source": [
    "df_office = spark.read.csv(\"data/office.csv\", header=True, inferSchema=True)\n",
    "df_office.show()"
   ],
   "metadata": {
    "collapsed": false
   }
  },
  {
   "cell_type": "code",
   "execution_count": 23,
   "outputs": [
    {
     "name": "stdout",
     "output_type": "stream",
     "text": [
      "+-------------+----------+-----+------+---+-----+\n",
      "|employee_name|department|state|salary|age|bonus|\n",
      "+-------------+----------+-----+------+---+-----+\n",
      "|        James|     Sales|   NY| 90000| 34|10000|\n",
      "|          Jen|   Finance|   NY| 79000| 53|15000|\n",
      "|         Jeff| Marketing|   CA| 80000| 25|18000|\n",
      "|        Scott|   Finance|   NY| 83000| 36|19000|\n",
      "|      Michael|     Sales|   NY| 86000| 56|20000|\n",
      "|        Kumar| Marketing|   NY| 91000| 50|21000|\n",
      "|       Robert|     Sales|   CA| 81000| 30|23000|\n",
      "|        Maria|   Finance|   CA| 90000| 24|23000|\n",
      "|        Raman|   Finance|   CA| 99000| 40|24000|\n",
      "+-------------+----------+-----+------+---+-----+\n",
      "\n"
     ]
    }
   ],
   "source": [
    "# soft bonus by ascending order\n",
    "df_office2 = df_office.sort(\"bonus\").show()"
   ],
   "metadata": {
    "collapsed": false
   }
  },
  {
   "cell_type": "code",
   "execution_count": 25,
   "outputs": [
    {
     "name": "stdout",
     "output_type": "stream",
     "text": [
      "+-------------+----------+-----+------+---+-----+\n",
      "|employee_name|department|state|salary|age|bonus|\n",
      "+-------------+----------+-----+------+---+-----+\n",
      "|      Michael|     Sales|   NY| 86000| 56|20000|\n",
      "|          Jen|   Finance|   NY| 79000| 53|15000|\n",
      "|        Kumar| Marketing|   NY| 91000| 50|21000|\n",
      "|        Raman|   Finance|   CA| 99000| 40|24000|\n",
      "|        Scott|   Finance|   NY| 83000| 36|19000|\n",
      "|        James|     Sales|   NY| 90000| 34|10000|\n",
      "|       Robert|     Sales|   CA| 81000| 30|23000|\n",
      "|         Jeff| Marketing|   CA| 80000| 25|18000|\n",
      "|        Maria|   Finance|   CA| 90000| 24|23000|\n",
      "+-------------+----------+-----+------+---+-----+\n",
      "\n"
     ]
    }
   ],
   "source": [
    "# sort df_office age by descending order and salary by ascending order\n",
    "df_office3 = df_office.sort(col(\"age\").desc(), col(\"salary\").asc())\n",
    "df_office3.show()"
   ],
   "metadata": {
    "collapsed": false
   }
  },
  {
   "cell_type": "code",
   "execution_count": 26,
   "outputs": [
    {
     "name": "stdout",
     "output_type": "stream",
     "text": [
      "+-------------+----------+-----+------+---+-----+\n",
      "|employee_name|department|state|salary|age|bonus|\n",
      "+-------------+----------+-----+------+---+-----+\n",
      "|      Michael|     Sales|   NY| 86000| 56|20000|\n",
      "|          Jen|   Finance|   NY| 79000| 53|15000|\n",
      "|        Kumar| Marketing|   NY| 91000| 50|21000|\n",
      "|        Raman|   Finance|   CA| 99000| 40|24000|\n",
      "|        Scott|   Finance|   NY| 83000| 36|19000|\n",
      "|        James|     Sales|   NY| 90000| 34|10000|\n",
      "|       Robert|     Sales|   CA| 81000| 30|23000|\n",
      "|         Jeff| Marketing|   CA| 80000| 25|18000|\n",
      "|        Maria|   Finance|   CA| 90000| 24|23000|\n",
      "+-------------+----------+-----+------+---+-----+\n",
      "\n"
     ]
    }
   ],
   "source": [
    "# sort df_office age by desc bonus by desc salary by asc\n",
    "df_office.sort(col(\"age\").desc(), col(\"bonus\").desc(), col(\"salary\").asc()).show()"
   ],
   "metadata": {
    "collapsed": false
   }
  },
  {
   "cell_type": "markdown",
   "source": [
    "# groupBy"
   ],
   "metadata": {
    "collapsed": false
   }
  },
  {
   "cell_type": "code",
   "execution_count": 27,
   "outputs": [
    {
     "name": "stdout",
     "output_type": "stream",
     "text": [
      "+---+------+----------------+------+-----+-----+--------------------+-----------+------------------+\n",
      "|age|gender|            name|course| roll|marks|               email|total_marks|           average|\n",
      "+---+------+----------------+------+-----+-----+--------------------+-----------+------------------+\n",
      "| 28|Female| Hubert Oliveras|    DB| 2984|   59|Annika Hoffman_Na...|        120|49.166666666666664|\n",
      "| 29|Female|Toshiko Hillyard| Cloud|12899|   62|Margene Moores_Ma...|        120| 51.66666666666667|\n",
      "| 28|  Male|  Celeste Lollis|    PF|21267|   45|Jeannetta Golden_...|        120|              37.5|\n",
      "| 29|Female|    Elenore Choy|    DB|32877|   29|Billi Clore_Mitzi...|        120|24.166666666666668|\n",
      "+---+------+----------------+------+-----+-----+--------------------+-----------+------------------+\n",
      "only showing top 4 rows\n",
      "\n"
     ]
    }
   ],
   "source": [
    "df_students.show(4)"
   ],
   "metadata": {
    "collapsed": false
   }
  },
  {
   "cell_type": "code",
   "execution_count": 34,
   "outputs": [
    {
     "name": "stdout",
     "output_type": "stream",
     "text": [
      "+------+------+----------------+---------+\n",
      "|course|gender|total_enrollment|grade_sum|\n",
      "+------+------+----------------+---------+\n",
      "| Cloud|  Male|              86|     5127|\n",
      "| Cloud|Female|             106|     6316|\n",
      "|    DB|  Male|              82|     5073|\n",
      "|    DB|Female|              75|     4197|\n",
      "|   DSA|Female|              98|     6124|\n",
      "|   DSA|  Male|              78|     4826|\n",
      "|   MVC|Female|              71|     4344|\n",
      "|   MVC|  Male|              86|     5241|\n",
      "|   OOP|  Male|              70|     4234|\n",
      "|   OOP|Female|              82|     4682|\n",
      "|    PF|  Male|              97|     5960|\n",
      "|    PF|Female|              69|     3973|\n",
      "+------+------+----------------+---------+\n",
      "\n"
     ]
    }
   ],
   "source": [
    "# group df_students by course and count using .agg()\n",
    "df_students.groupBy(\"course\", \"gender\").agg(\n",
    "    count('*').alias('total_enrollment'), sum('marks').alias('total_marks')) \\\n",
    "    .sort('course').show()"
   ],
   "metadata": {
    "collapsed": false
   }
  },
  {
   "cell_type": "code",
   "execution_count": 35,
   "outputs": [
    {
     "name": "stdout",
     "output_type": "stream",
     "text": [
      "+------+---+---------+---------+------------------+---------+\n",
      "|course|age|min_marks|max_marks|         avg_marks|sum_marks|\n",
      "+------+---+---------+---------+------------------+---------+\n",
      "| Cloud| 29|       21|       98|             61.25|     5635|\n",
      "| Cloud| 28|       20|       99|             58.08|     5808|\n",
      "|    DB| 28|       21|       98| 58.76829268292683|     4819|\n",
      "|    DB| 29|       20|       98|59.346666666666664|     4451|\n",
      "|   DSA| 28|       20|       99|  64.6867469879518|     5369|\n",
      "|   DSA| 29|       20|       99| 60.01075268817204|     5581|\n",
      "|   MVC| 29|       22|       99| 61.56470588235294|     5233|\n",
      "|   MVC| 28|       23|       99| 60.44444444444444|     4352|\n",
      "|   OOP| 29|       20|       99|59.729729729729726|     4420|\n",
      "|   OOP| 28|       23|       99| 57.64102564102564|     4496|\n",
      "|    PF| 29|       20|       99|56.275862068965516|     4896|\n",
      "|    PF| 28|       20|       98| 63.75949367088607|     5037|\n",
      "+------+---+---------+---------+------------------+---------+\n",
      "\n"
     ]
    }
   ],
   "source": [
    "# group df_students by course, age then get min, max, avg, sum of marks\n",
    "df_students.groupBy(\"course\", \"age\").agg(\n",
    "    min('marks').alias('min_marks'), max('marks').alias('max_marks'),\n",
    "    avg('marks').alias('avg_marks'), sum('marks').alias('sum_marks')) \\\n",
    "    .sort('course').show()"
   ],
   "metadata": {
    "collapsed": false
   }
  },
  {
   "cell_type": "markdown",
   "source": [
    "# Word Count"
   ],
   "metadata": {
    "collapsed": false
   }
  },
  {
   "cell_type": "code",
   "execution_count": 38,
   "outputs": [
    {
     "name": "stdout",
     "output_type": "stream",
     "text": [
      "+-----+\n",
      "|value|\n",
      "+-----+\n",
      "|Apple|\n",
      "|  Mic|\n",
      "|  Mic|\n",
      "|Apple|\n",
      "+-----+\n",
      "only showing top 4 rows\n",
      "\n"
     ]
    }
   ],
   "source": [
    "df_words = spark.read.text(\"data/words.txt\")\n",
    "df_words.show(4)"
   ],
   "metadata": {
    "collapsed": false
   }
  },
  {
   "cell_type": "code",
   "execution_count": 39,
   "outputs": [
    {
     "name": "stdout",
     "output_type": "stream",
     "text": [
      "+------+-----+\n",
      "| value|count|\n",
      "+------+-----+\n",
      "| Chair|   15|\n",
      "|   Mic|   10|\n",
      "| Apple|   10|\n",
      "|  Book|    5|\n",
      "|Laptop|    5|\n",
      "|   Bag|    5|\n",
      "|Mobile|    5|\n",
      "+------+-----+\n",
      "\n"
     ]
    }
   ],
   "source": [
    "# count the number of occurrences of each word in df_words\n",
    "df_words.groupBy(\"value\").count().sort(col(\"count\").desc()).show()"
   ],
   "metadata": {
    "collapsed": false
   }
  },
  {
   "cell_type": "markdown",
   "source": [
    "# UDFs"
   ],
   "metadata": {
    "collapsed": false
   }
  },
  {
   "cell_type": "code",
   "execution_count": 40,
   "outputs": [
    {
     "name": "stdout",
     "output_type": "stream",
     "text": [
      "+-------------+----------+-----+------+---+-----+\n",
      "|employee_name|department|state|salary|age|bonus|\n",
      "+-------------+----------+-----+------+---+-----+\n",
      "|        James|     Sales|   NY| 90000| 34|10000|\n",
      "|      Michael|     Sales|   NY| 86000| 56|20000|\n",
      "|       Robert|     Sales|   CA| 81000| 30|23000|\n",
      "|        Maria|   Finance|   CA| 90000| 24|23000|\n",
      "+-------------+----------+-----+------+---+-----+\n",
      "only showing top 4 rows\n",
      "\n"
     ]
    }
   ],
   "source": [
    "df_office.show(4)"
   ],
   "metadata": {
    "collapsed": false
   }
  },
  {
   "cell_type": "code",
   "execution_count": 45,
   "outputs": [
    {
     "name": "stdout",
     "output_type": "stream",
     "text": [
      "+-------------+----------+-----+------+---+-----+---------+\n",
      "|employee_name|department|state|salary|age|bonus|increment|\n",
      "+-------------+----------+-----+------+---+-----+---------+\n",
      "|        James|     Sales|   NY| 90000| 34|10000|   9500.0|\n",
      "|      Michael|     Sales|   NY| 86000| 56|20000|   9600.0|\n",
      "|       Robert|     Sales|   CA| 81000| 30|23000|  10410.0|\n",
      "|        Maria|   Finance|   CA| 90000| 24|23000|  11490.0|\n",
      "|        Raman|   Finance|   CA| 99000| 40|24000|  12600.0|\n",
      "|        Scott|   Finance|   NY| 83000| 36|19000|   9250.0|\n",
      "|          Jen|   Finance|   NY| 79000| 53|15000|   8650.0|\n",
      "|         Jeff| Marketing|   CA| 80000| 25|18000|  10140.0|\n",
      "|        Kumar| Marketing|   NY| 91000| 50|21000|  10150.0|\n",
      "+-------------+----------+-----+------+---+-----+---------+\n",
      "\n"
     ]
    }
   ],
   "source": [
    "def get_inc(state, salary, bonus):\n",
    "    inc = 0\n",
    "    if state == \"CA\":\n",
    "        inc = salary * 0.12\n",
    "        inc += bonus * 0.03\n",
    "    elif state == \"NY\":\n",
    "        inc = salary * 0.10\n",
    "        inc += bonus * 0.05\n",
    "    return inc\n",
    "\n",
    "\n",
    "# create a UDF from get_inc\n",
    "get_inc_udf = udf(get_inc, DoubleType())\n",
    "\n",
    "df_office.withColumn(\n",
    "    \"increment\", get_inc_udf(col(\"state\"), col(\"salary\"), col(\"bonus\"))).show()"
   ],
   "metadata": {
    "collapsed": false
   }
  },
  {
   "cell_type": "code",
   "execution_count": null,
   "outputs": [],
   "source": [],
   "metadata": {
    "collapsed": false
   }
  }
 ],
 "metadata": {
  "kernelspec": {
   "display_name": "Python 3",
   "language": "python",
   "name": "python3"
  },
  "language_info": {
   "codemirror_mode": {
    "name": "ipython",
    "version": 2
   },
   "file_extension": ".py",
   "mimetype": "text/x-python",
   "name": "python",
   "nbconvert_exporter": "python",
   "pygments_lexer": "ipython2",
   "version": "2.7.6"
  }
 },
 "nbformat": 4,
 "nbformat_minor": 0
}

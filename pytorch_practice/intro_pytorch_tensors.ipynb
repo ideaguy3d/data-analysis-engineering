{
 "cells": [
  {
   "cell_type": "markdown",
   "source": [
    "# Imports"
   ],
   "metadata": {
    "collapsed": false
   }
  },
  {
   "cell_type": "code",
   "execution_count": 1,
   "metadata": {
    "collapsed": true,
    "ExecuteTime": {
     "end_time": "2023-05-05T22:18:23.293759Z",
     "start_time": "2023-05-05T22:18:06.403265Z"
    }
   },
   "outputs": [
    {
     "name": "stdout",
     "output_type": "stream",
     "text": [
      "PyTorch 🔥 version\n",
      "1.13.1\n"
     ]
    }
   ],
   "source": [
    "\"\"\"\n",
    "feb13-feb28 = 16\n",
    "mar1-mar31 = 31\n",
    "apr1-apr30 = 30\n",
    "may1-may5 = 5\n",
    "total = 82 days\n",
    "\"\"\"\n",
    "import torch\n",
    "import pandas\n",
    "import numpy as np\n",
    "import matplotlib.pyplot as plt\n",
    "\n",
    "print('PyTorch 🔥 version')\n",
    "print(torch.__version__)"
   ]
  },
  {
   "cell_type": "code",
   "execution_count": 2,
   "outputs": [
    {
     "data": {
      "text/plain": "tensor(7)"
     },
     "metadata": {},
     "output_type": "display_data"
    },
    {
     "data": {
      "text/plain": "7"
     },
     "execution_count": 2,
     "metadata": {},
     "output_type": "execute_result"
    }
   ],
   "source": [
    "scalar = torch.tensor(7)\n",
    "display(scalar)\n",
    "scalar.item()"
   ],
   "metadata": {
    "collapsed": false,
    "ExecuteTime": {
     "end_time": "2023-05-05T22:18:23.315204Z",
     "start_time": "2023-05-05T22:18:23.292550Z"
    }
   }
  },
  {
   "cell_type": "code",
   "execution_count": 3,
   "outputs": [
    {
     "data": {
      "text/plain": "tensor([7, 7])"
     },
     "metadata": {},
     "output_type": "display_data"
    },
    {
     "data": {
      "text/plain": "torch.Size([2])"
     },
     "metadata": {},
     "output_type": "display_data"
    },
    {
     "data": {
      "text/plain": "1"
     },
     "metadata": {},
     "output_type": "display_data"
    },
    {
     "name": "stdout",
     "output_type": "stream",
     "text": [
      "7\n",
      "7\n"
     ]
    }
   ],
   "source": [
    "vector = torch.tensor([7, 7])\n",
    "display(vector, vector.shape, vector.ndim)\n",
    "\n",
    "for v in vector:\n",
    "    print(v.item())"
   ],
   "metadata": {
    "collapsed": false,
    "ExecuteTime": {
     "end_time": "2023-05-05T22:18:23.316578Z",
     "start_time": "2023-05-05T22:18:23.314220Z"
    }
   }
  },
  {
   "cell_type": "code",
   "execution_count": 4,
   "outputs": [
    {
     "data": {
      "text/plain": "tensor([[ 7,  7],\n        [57, 57],\n        [37, 37]])"
     },
     "metadata": {},
     "output_type": "display_data"
    },
    {
     "data": {
      "text/plain": "torch.Size([3, 2])"
     },
     "metadata": {},
     "output_type": "display_data"
    },
    {
     "data": {
      "text/plain": "2"
     },
     "metadata": {},
     "output_type": "display_data"
    },
    {
     "name": "stdout",
     "output_type": "stream",
     "text": [
      "tensor([7, 7])\n",
      "tensor([57, 57])\n",
      "tensor([37, 37])\n"
     ]
    }
   ],
   "source": [
    "MATRIX = torch.tensor([[7, 7], [57, 57], [37, 37]])\n",
    "display(MATRIX, MATRIX.shape, MATRIX.ndim)\n",
    "\n",
    "i = 0\n",
    "for _ in MATRIX:\n",
    "    print(MATRIX[i])\n",
    "    i += 1"
   ],
   "metadata": {
    "collapsed": false,
    "ExecuteTime": {
     "end_time": "2023-05-05T22:18:23.404872Z",
     "start_time": "2023-05-05T22:18:23.316189Z"
    }
   }
  },
  {
   "cell_type": "code",
   "execution_count": 5,
   "outputs": [
    {
     "data": {
      "text/plain": "tensor([[[ 7,  7],\n         [57, 57],\n         [37, 37]],\n\n        [[27, 27],\n         [47, 47],\n         [67, 67]]])"
     },
     "metadata": {},
     "output_type": "display_data"
    },
    {
     "data": {
      "text/plain": "torch.Size([2, 3, 2])"
     },
     "metadata": {},
     "output_type": "display_data"
    },
    {
     "data": {
      "text/plain": "3"
     },
     "metadata": {},
     "output_type": "display_data"
    },
    {
     "name": "stdout",
     "output_type": "stream",
     "text": [
      "0 ) tensor([[ 7,  7],\n",
      "        [57, 57],\n",
      "        [37, 37]])\n",
      "1 ) tensor([[27, 27],\n",
      "        [47, 47],\n",
      "        [67, 67]])\n"
     ]
    }
   ],
   "source": [
    "TENSOR = torch.tensor([[[7, 7], [57, 57], [37, 37]],\n",
    "                       [[27, 27], [47, 47], [67, 67]]])\n",
    "display(TENSOR, TENSOR.shape, TENSOR.ndim)\n",
    "\n",
    "i = 0\n",
    "for _ in TENSOR:\n",
    "    print(i, ')', TENSOR[i])\n",
    "    i += 1"
   ],
   "metadata": {
    "collapsed": false,
    "ExecuteTime": {
     "end_time": "2023-05-05T22:18:23.405759Z",
     "start_time": "2023-05-05T22:18:23.317121Z"
    }
   }
  },
  {
   "cell_type": "markdown",
   "source": [
    "# Random Tensors"
   ],
   "metadata": {
    "collapsed": false
   }
  },
  {
   "cell_type": "code",
   "execution_count": 6,
   "outputs": [
    {
     "data": {
      "text/plain": "tensor([[0.6745, 0.2423, 0.8344, 0.9438],\n        [0.1220, 0.0190, 0.8417, 0.5654],\n        [0.3838, 0.1697, 0.9087, 0.1172]])"
     },
     "metadata": {},
     "output_type": "display_data"
    },
    {
     "data": {
      "text/plain": "torch.Size([3, 4])"
     },
     "metadata": {},
     "output_type": "display_data"
    },
    {
     "data": {
      "text/plain": "2"
     },
     "metadata": {},
     "output_type": "display_data"
    }
   ],
   "source": [
    "random_tensor = torch.rand(3, 4)\n",
    "display(random_tensor, random_tensor.shape, random_tensor.ndim)"
   ],
   "metadata": {
    "collapsed": false,
    "ExecuteTime": {
     "end_time": "2023-05-05T23:16:50.622661Z",
     "start_time": "2023-05-05T23:16:49.832209Z"
    }
   }
  },
  {
   "cell_type": "code",
   "execution_count": 7,
   "outputs": [
    {
     "data": {
      "text/plain": "tensor([[[0.7143, 0.2370, 0.3268],\n         [0.5525, 0.5484, 0.0132],\n         [0.5079, 0.2182, 0.8425],\n         ...,\n         [0.9822, 0.3071, 0.6757],\n         [0.8301, 0.5044, 0.4914],\n         [0.0490, 0.1079, 0.2456]],\n\n        [[0.0821, 0.6411, 0.5186],\n         [0.3848, 0.4866, 0.5085],\n         [0.5641, 0.1766, 0.4629],\n         ...,\n         [0.0880, 0.2415, 0.9200],\n         [0.4390, 0.8838, 0.3880],\n         [0.8827, 0.2650, 0.8505]],\n\n        [[0.7211, 0.8472, 0.9181],\n         [0.5771, 0.0502, 0.4114],\n         [0.2819, 0.4559, 0.3352],\n         ...,\n         [0.8283, 0.1961, 0.6263],\n         [0.5310, 0.9627, 0.7602],\n         [0.8716, 0.7040, 0.6673]],\n\n        ...,\n\n        [[0.1666, 0.3815, 0.4595],\n         [0.4795, 0.5171, 0.2780],\n         [0.0747, 0.7619, 0.6647],\n         ...,\n         [0.4626, 0.2615, 0.1149],\n         [0.4143, 0.9380, 0.4668],\n         [0.6972, 0.1551, 0.4553]],\n\n        [[0.1903, 0.0871, 0.0017],\n         [0.4172, 0.1036, 0.2182],\n         [0.5063, 0.1050, 0.1498],\n         ...,\n         [0.0250, 0.0477, 0.0349],\n         [0.4392, 0.0359, 0.9472],\n         [0.8529, 0.2334, 0.4011]],\n\n        [[0.9547, 0.4256, 0.6535],\n         [0.3250, 0.5471, 0.8232],\n         [0.6191, 0.0934, 0.4081],\n         ...,\n         [0.5125, 0.0920, 0.5045],\n         [0.9129, 0.7814, 0.3581],\n         [0.2571, 0.5180, 0.8795]]])"
     },
     "metadata": {},
     "output_type": "display_data"
    },
    {
     "data": {
      "text/plain": "torch.Size([224, 224, 3])"
     },
     "metadata": {},
     "output_type": "display_data"
    },
    {
     "data": {
      "text/plain": "3"
     },
     "metadata": {},
     "output_type": "display_data"
    }
   ],
   "source": [
    "# height, width, channels (R, G, B)\n",
    "random_img_tensor = torch.rand(size=(224, 224, 3))\n",
    "display(random_img_tensor, random_img_tensor.shape, random_img_tensor.ndim)"
   ],
   "metadata": {
    "collapsed": false,
    "ExecuteTime": {
     "end_time": "2023-05-05T23:20:53.226629Z",
     "start_time": "2023-05-05T23:20:53.074327Z"
    }
   }
  },
  {
   "cell_type": "markdown",
   "source": [
    "# Zeros and Ones Tensors"
   ],
   "metadata": {
    "collapsed": false
   }
  },
  {
   "cell_type": "code",
   "execution_count": 9,
   "outputs": [
    {
     "data": {
      "text/plain": "tensor([[0., 0., 0., 0.],\n        [0., 0., 0., 0.],\n        [0., 0., 0., 0.]])"
     },
     "metadata": {},
     "output_type": "display_data"
    },
    {
     "data": {
      "text/plain": "torch.Size([3, 4])"
     },
     "metadata": {},
     "output_type": "display_data"
    },
    {
     "data": {
      "text/plain": "2"
     },
     "metadata": {},
     "output_type": "display_data"
    },
    {
     "data": {
      "text/plain": "torch.float32"
     },
     "metadata": {},
     "output_type": "display_data"
    }
   ],
   "source": [
    "zeros = torch.zeros(size=(3, 4))\n",
    "display(zeros, zeros.shape, zeros.ndim, zeros.dtype)"
   ],
   "metadata": {
    "collapsed": false,
    "ExecuteTime": {
     "end_time": "2023-05-05T23:27:46.099560Z",
     "start_time": "2023-05-05T23:27:46.085118Z"
    }
   }
  },
  {
   "cell_type": "code",
   "execution_count": 11,
   "outputs": [
    {
     "data": {
      "text/plain": "tensor([[1., 1., 1., 1.],\n        [1., 1., 1., 1.],\n        [1., 1., 1., 1.]])"
     },
     "metadata": {},
     "output_type": "display_data"
    },
    {
     "data": {
      "text/plain": "torch.Size([3, 4])"
     },
     "metadata": {},
     "output_type": "display_data"
    },
    {
     "data": {
      "text/plain": "2"
     },
     "metadata": {},
     "output_type": "display_data"
    },
    {
     "data": {
      "text/plain": "torch.float32"
     },
     "metadata": {},
     "output_type": "display_data"
    }
   ],
   "source": [
    "ones = torch.ones(size=(3, 4))\n",
    "display(ones, ones.shape, ones.ndim, ones.dtype)"
   ],
   "metadata": {
    "collapsed": false,
    "ExecuteTime": {
     "end_time": "2023-05-05T23:28:27.590814Z",
     "start_time": "2023-05-05T23:28:27.575078Z"
    }
   }
  },
  {
   "cell_type": "markdown",
   "source": [
    "# torch arange & like"
   ],
   "metadata": {
    "collapsed": false
   }
  },
  {
   "cell_type": "code",
   "execution_count": 14,
   "outputs": [
    {
     "data": {
      "text/plain": "tensor([ 0,  2,  4,  6,  8, 10])"
     },
     "execution_count": 14,
     "metadata": {},
     "output_type": "execute_result"
    }
   ],
   "source": [
    "torch.arange(start=0, end=11, step=2)"
   ],
   "metadata": {
    "collapsed": false,
    "ExecuteTime": {
     "end_time": "2023-05-05T23:31:30.008723Z",
     "start_time": "2023-05-05T23:31:30.001140Z"
    }
   }
  },
  {
   "cell_type": "code",
   "execution_count": 16,
   "outputs": [
    {
     "data": {
      "text/plain": "tensor([ 0,  1,  2,  3,  4,  5,  6,  7,  8,  9, 10])"
     },
     "execution_count": 16,
     "metadata": {},
     "output_type": "execute_result"
    }
   ],
   "source": [
    "one_to_ten = torch.arange(start=0, end=11, step=1)\n",
    "one_to_ten"
   ],
   "metadata": {
    "collapsed": false,
    "ExecuteTime": {
     "end_time": "2023-05-05T23:32:13.970697Z",
     "start_time": "2023-05-05T23:32:13.963349Z"
    }
   }
  },
  {
   "cell_type": "code",
   "execution_count": 17,
   "outputs": [
    {
     "data": {
      "text/plain": "tensor([0, 0, 0, 0, 0, 0, 0, 0, 0, 0, 0])"
     },
     "execution_count": 17,
     "metadata": {},
     "output_type": "execute_result"
    }
   ],
   "source": [
    "torch.zeros_like(input=one_to_ten)"
   ],
   "metadata": {
    "collapsed": false,
    "ExecuteTime": {
     "end_time": "2023-05-05T23:32:56.916064Z",
     "start_time": "2023-05-05T23:32:56.854762Z"
    }
   }
  },
  {
   "cell_type": "markdown",
   "source": [
    "# Tensor Datatypes"
   ],
   "metadata": {
    "collapsed": false
   }
  },
  {
   "cell_type": "code",
   "execution_count": 22,
   "outputs": [
    {
     "data": {
      "text/plain": "torch.float32"
     },
     "execution_count": 22,
     "metadata": {},
     "output_type": "execute_result"
    }
   ],
   "source": [
    "float_tensor = torch.tensor(\n",
    "    [3.0, 6.0, 9.0],\n",
    "    dtype=None,\n",
    "    device=None,  # CPU, GPU, CUDA, TPU, etc.\n",
    "    requires_grad=False # whether to track gradient\n",
    ")\n",
    "float_tensor.dtype"
   ],
   "metadata": {
    "collapsed": false,
    "ExecuteTime": {
     "end_time": "2023-05-05T23:54:24.743305Z",
     "start_time": "2023-05-05T23:54:24.736870Z"
    }
   }
  },
  {
   "cell_type": "code",
   "execution_count": 23,
   "outputs": [
    {
     "data": {
      "text/plain": "tensor([3., 6., 9.], dtype=torch.float16)"
     },
     "execution_count": 23,
     "metadata": {},
     "output_type": "execute_result"
    }
   ],
   "source": [
    "float_tensor.type(torch.half)"
   ],
   "metadata": {
    "collapsed": false,
    "ExecuteTime": {
     "end_time": "2023-05-05T23:54:25.389734Z",
     "start_time": "2023-05-05T23:54:25.280782Z"
    }
   }
  },
  {
   "cell_type": "code",
   "execution_count": 24,
   "outputs": [
    {
     "data": {
      "text/plain": "tensor([3., 6., 9.], dtype=torch.float16)"
     },
     "execution_count": 24,
     "metadata": {},
     "output_type": "execute_result"
    }
   ],
   "source": [
    "float_tensor.type(torch.float16)"
   ],
   "metadata": {
    "collapsed": false,
    "ExecuteTime": {
     "end_time": "2023-05-05T23:54:56.426215Z",
     "start_time": "2023-05-05T23:54:56.416533Z"
    }
   }
  },
  {
   "cell_type": "markdown",
   "source": [
    "# Tensor Operations"
   ],
   "metadata": {
    "collapsed": false
   }
  },
  {
   "cell_type": "code",
   "execution_count": 25,
   "outputs": [
    {
     "data": {
      "text/plain": "tensor([13., 16., 19.])"
     },
     "execution_count": 25,
     "metadata": {},
     "output_type": "execute_result"
    }
   ],
   "source": [
    "float_tensor + 10"
   ],
   "metadata": {
    "collapsed": false,
    "ExecuteTime": {
     "end_time": "2023-05-06T00:19:18.957537Z",
     "start_time": "2023-05-06T00:19:18.919458Z"
    }
   }
  },
  {
   "cell_type": "code",
   "execution_count": 26,
   "outputs": [
    {
     "data": {
      "text/plain": "tensor([30., 60., 90.])"
     },
     "execution_count": 26,
     "metadata": {},
     "output_type": "execute_result"
    }
   ],
   "source": [
    "float_tensor * 10"
   ],
   "metadata": {
    "collapsed": false,
    "ExecuteTime": {
     "end_time": "2023-05-06T00:20:32.041639Z",
     "start_time": "2023-05-06T00:20:32.033091Z"
    }
   }
  },
  {
   "cell_type": "code",
   "execution_count": 27,
   "outputs": [
    {
     "data": {
      "text/plain": "tensor([ 9., 36., 81.])"
     },
     "execution_count": 27,
     "metadata": {},
     "output_type": "execute_result"
    }
   ],
   "source": [
    "float_tensor * float_tensor"
   ],
   "metadata": {
    "collapsed": false,
    "ExecuteTime": {
     "end_time": "2023-05-06T00:21:35.515882Z",
     "start_time": "2023-05-06T00:21:35.509585Z"
    }
   }
  },
  {
   "cell_type": "markdown",
   "source": [
    "# Matrix Multiplication"
   ],
   "metadata": {
    "collapsed": false
   }
  },
  {
   "cell_type": "code",
   "execution_count": 30,
   "outputs": [
    {
     "name": "stdout",
     "output_type": "stream",
     "text": [
      "CPU times: user 206 µs, sys: 462 µs, total: 668 µs\n",
      "Wall time: 979 µs\n"
     ]
    },
    {
     "data": {
      "text/plain": "tensor([[19, 22],\n        [43, 50]])"
     },
     "execution_count": 30,
     "metadata": {},
     "output_type": "execute_result"
    }
   ],
   "source": [
    "%%time\n",
    "m1 = torch.tensor([[1, 2], [3, 4]])\n",
    "m2 = torch.tensor([[5, 6], [7, 8]])\n",
    "torch.matmul(m1, m2)"
   ],
   "metadata": {
    "collapsed": false,
    "ExecuteTime": {
     "end_time": "2023-05-06T00:32:15.259244Z",
     "start_time": "2023-05-06T00:32:15.253213Z"
    }
   }
  },
  {
   "cell_type": "code",
   "execution_count": 33,
   "outputs": [
    {
     "data": {
      "text/plain": "tensor([[1.0827, 0.8118],\n        [1.2031, 1.3135],\n        [0.4622, 0.5003],\n        [0.7931, 0.6606],\n        [0.8844, 0.6880]])"
     },
     "metadata": {},
     "output_type": "display_data"
    },
    {
     "data": {
      "text/plain": "torch.Size([5, 2])"
     },
     "metadata": {},
     "output_type": "display_data"
    },
    {
     "data": {
      "text/plain": "2"
     },
     "metadata": {},
     "output_type": "display_data"
    },
    {
     "data": {
      "text/plain": "torch.float32"
     },
     "metadata": {},
     "output_type": "display_data"
    },
    {
     "name": "stdout",
     "output_type": "stream",
     "text": [
      "CPU times: user 4.73 ms, sys: 2.15 ms, total: 6.88 ms\n",
      "Wall time: 5.42 ms\n"
     ]
    }
   ],
   "source": [
    "%%time\n",
    "mm1 = torch.matmul(torch.rand(5, 3), torch.rand(3, 2))\n",
    "display(mm1, mm1.shape, mm1.ndim, mm1.dtype)"
   ],
   "metadata": {
    "collapsed": false,
    "ExecuteTime": {
     "end_time": "2023-05-06T00:42:54.786518Z",
     "start_time": "2023-05-06T00:42:54.776370Z"
    }
   }
  },
  {
   "cell_type": "code",
   "execution_count": 34,
   "outputs": [
    {
     "data": {
      "text/plain": "tensor([[764.2687, 761.3394],\n        [730.5199, 741.3401],\n        [749.5496, 756.8575],\n        [744.4789, 755.5326],\n        [758.1427, 764.2729]])"
     },
     "metadata": {},
     "output_type": "display_data"
    },
    {
     "data": {
      "text/plain": "torch.Size([5, 2])"
     },
     "metadata": {},
     "output_type": "display_data"
    },
    {
     "data": {
      "text/plain": "2"
     },
     "metadata": {},
     "output_type": "display_data"
    },
    {
     "data": {
      "text/plain": "torch.float32"
     },
     "metadata": {},
     "output_type": "display_data"
    },
    {
     "name": "stdout",
     "output_type": "stream",
     "text": [
      "CPU times: user 4.75 ms, sys: 2.32 ms, total: 7.07 ms\n",
      "Wall time: 22.2 ms\n"
     ]
    }
   ],
   "source": [
    "%%time\n",
    "mm1 = torch.matmul(torch.rand(5, 3000), torch.rand(3000, 2))\n",
    "display(mm1, mm1.shape, mm1.ndim, mm1.dtype)"
   ],
   "metadata": {
    "collapsed": false,
    "ExecuteTime": {
     "end_time": "2023-05-06T00:42:59.738398Z",
     "start_time": "2023-05-06T00:42:59.711875Z"
    }
   }
  },
  {
   "cell_type": "markdown",
   "source": [
    "# Positional Maximum and Minimum"
   ],
   "metadata": {
    "collapsed": false
   }
  },
  {
   "cell_type": "code",
   "execution_count": 38,
   "outputs": [],
   "source": [
    "t1 = torch.tensor([1111, 250, 3, 4, 5])"
   ],
   "metadata": {
    "collapsed": false,
    "ExecuteTime": {
     "end_time": "2023-05-06T01:04:02.310955Z",
     "start_time": "2023-05-06T01:04:02.305205Z"
    }
   }
  },
  {
   "cell_type": "code",
   "execution_count": 39,
   "outputs": [
    {
     "data": {
      "text/plain": "tensor(2)"
     },
     "execution_count": 39,
     "metadata": {},
     "output_type": "execute_result"
    }
   ],
   "source": [
    "t1.argmin()"
   ],
   "metadata": {
    "collapsed": false,
    "ExecuteTime": {
     "end_time": "2023-05-06T01:04:03.093258Z",
     "start_time": "2023-05-06T01:04:03.086383Z"
    }
   }
  },
  {
   "cell_type": "code",
   "execution_count": 40,
   "outputs": [
    {
     "data": {
      "text/plain": "tensor(0)"
     },
     "execution_count": 40,
     "metadata": {},
     "output_type": "execute_result"
    }
   ],
   "source": [
    "t1.argmax()"
   ],
   "metadata": {
    "collapsed": false,
    "ExecuteTime": {
     "end_time": "2023-05-06T01:04:03.402477Z",
     "start_time": "2023-05-06T01:04:03.393670Z"
    }
   }
  },
  {
   "cell_type": "markdown",
   "source": [
    "# Reshaping, stacking, squeezing and unsqueezing"
   ],
   "metadata": {
    "collapsed": false
   }
  },
  {
   "cell_type": "code",
   "execution_count": 44,
   "outputs": [
    {
     "data": {
      "text/plain": "tensor([ 1,  2,  3,  4,  5,  6,  7,  8,  9, 10])"
     },
     "metadata": {},
     "output_type": "display_data"
    },
    {
     "data": {
      "text/plain": "torch.Size([10])"
     },
     "metadata": {},
     "output_type": "display_data"
    },
    {
     "data": {
      "text/plain": "1"
     },
     "metadata": {},
     "output_type": "display_data"
    },
    {
     "data": {
      "text/plain": "torch.int64"
     },
     "metadata": {},
     "output_type": "display_data"
    }
   ],
   "source": [
    "t = torch.arange(1, 11)\n",
    "display(t, t.shape, t.ndim)"
   ],
   "metadata": {
    "collapsed": false,
    "ExecuteTime": {
     "end_time": "2023-05-06T01:25:44.702569Z",
     "start_time": "2023-05-06T01:25:44.693465Z"
    }
   }
  },
  {
   "cell_type": "code",
   "execution_count": 47,
   "outputs": [
    {
     "data": {
      "text/plain": "tensor([[ 1,  2,  3,  4,  5],\n        [ 6,  7,  8,  9, 10]])"
     },
     "metadata": {},
     "output_type": "display_data"
    },
    {
     "data": {
      "text/plain": "torch.Size([2, 5])"
     },
     "metadata": {},
     "output_type": "display_data"
    },
    {
     "data": {
      "text/plain": "2"
     },
     "metadata": {},
     "output_type": "display_data"
    }
   ],
   "source": [
    "t_reshaped = t.reshape(2, 5)\n",
    "display(t_reshaped, t_reshaped.shape, t_reshaped.ndim)"
   ],
   "metadata": {
    "collapsed": false,
    "ExecuteTime": {
     "end_time": "2023-05-06T01:28:57.647402Z",
     "start_time": "2023-05-06T01:28:57.637732Z"
    }
   }
  },
  {
   "cell_type": "code",
   "execution_count": 49,
   "outputs": [
    {
     "data": {
      "text/plain": "tensor([[ 1,  2,  3,  4,  5,  6,  7,  8,  9, 10]])"
     },
     "metadata": {},
     "output_type": "display_data"
    },
    {
     "data": {
      "text/plain": "torch.Size([1, 10])"
     },
     "metadata": {},
     "output_type": "display_data"
    },
    {
     "data": {
      "text/plain": "2"
     },
     "metadata": {},
     "output_type": "display_data"
    }
   ],
   "source": [
    "t_reshape2 = t.reshape(1, 10)\n",
    "display(t_reshape2, t_reshape2.shape, t_reshape2.ndim)"
   ],
   "metadata": {
    "collapsed": false,
    "ExecuteTime": {
     "end_time": "2023-05-06T01:30:25.881631Z",
     "start_time": "2023-05-06T01:30:25.870456Z"
    }
   }
  },
  {
   "cell_type": "code",
   "execution_count": 51,
   "outputs": [
    {
     "data": {
      "text/plain": "tensor([ 1,  2,  3,  4,  5,  6,  7,  8,  9, 10])"
     },
     "execution_count": 51,
     "metadata": {},
     "output_type": "execute_result"
    }
   ],
   "source": [
    "t_reshape2.squeeze()"
   ],
   "metadata": {
    "collapsed": false,
    "ExecuteTime": {
     "end_time": "2023-05-06T01:31:23.200726Z",
     "start_time": "2023-05-06T01:31:23.160461Z"
    }
   }
  },
  {
   "cell_type": "code",
   "execution_count": 52,
   "outputs": [
    {
     "data": {
      "text/plain": "tensor([[[0.0890, 0.4023, 0.9144],\n         [0.6120, 0.3706, 0.2183],\n         [0.0293, 0.7928, 0.8488],\n         ...,\n         [0.1196, 0.1516, 0.0376],\n         [0.2629, 0.2680, 0.4966],\n         [0.7515, 0.1704, 0.7938]],\n\n        [[0.3795, 0.6411, 0.1323],\n         [0.9189, 0.1112, 0.1557],\n         [0.6789, 0.5548, 0.7176],\n         ...,\n         [0.3339, 0.5412, 0.4045],\n         [0.3331, 0.2402, 0.0535],\n         [0.3015, 0.7477, 0.0642]],\n\n        [[0.5389, 0.9366, 0.2916],\n         [0.9186, 0.9649, 0.6260],\n         [0.7941, 0.8346, 0.9557],\n         ...,\n         [0.8457, 0.1638, 0.0897],\n         [0.5002, 0.9837, 0.8372],\n         [0.9522, 0.2287, 0.0648]],\n\n        ...,\n\n        [[0.6379, 0.3044, 0.6695],\n         [0.0664, 0.4925, 0.9378],\n         [0.3165, 0.0678, 0.6047],\n         ...,\n         [0.1843, 0.2295, 0.2132],\n         [0.4629, 0.2301, 0.0128],\n         [0.1460, 0.6727, 0.4257]],\n\n        [[0.3790, 0.3493, 0.2460],\n         [0.1907, 0.7712, 0.3883],\n         [0.0929, 0.2582, 0.2823],\n         ...,\n         [0.1063, 0.1607, 0.9940],\n         [0.6138, 0.3932, 0.6028],\n         [0.2604, 0.3585, 0.7941]],\n\n        [[0.8740, 0.8454, 0.7643],\n         [0.0929, 0.6645, 0.7110],\n         [0.3498, 0.6923, 0.6274],\n         ...,\n         [0.7044, 0.6340, 0.1063],\n         [0.7247, 0.1019, 0.9841],\n         [0.6333, 0.2380, 0.1706]]])"
     },
     "metadata": {},
     "output_type": "display_data"
    },
    {
     "data": {
      "text/plain": "torch.Size([224, 224, 3])"
     },
     "metadata": {},
     "output_type": "display_data"
    },
    {
     "data": {
      "text/plain": "3"
     },
     "metadata": {},
     "output_type": "display_data"
    }
   ],
   "source": [
    "x_orig = torch.rand(size=(224,224, 3))\n",
    "display(x_orig, x_orig.shape, x_orig.ndim)"
   ],
   "metadata": {
    "collapsed": false,
    "ExecuteTime": {
     "end_time": "2023-05-06T01:39:32.083761Z",
     "start_time": "2023-05-06T01:39:32.071832Z"
    }
   }
  },
  {
   "cell_type": "code",
   "execution_count": 53,
   "outputs": [
    {
     "data": {
      "text/plain": "tensor([[[0.0890, 0.6120, 0.0293,  ..., 0.1196, 0.2629, 0.7515],\n         [0.3795, 0.9189, 0.6789,  ..., 0.3339, 0.3331, 0.3015],\n         [0.5389, 0.9186, 0.7941,  ..., 0.8457, 0.5002, 0.9522],\n         ...,\n         [0.6379, 0.0664, 0.3165,  ..., 0.1843, 0.4629, 0.1460],\n         [0.3790, 0.1907, 0.0929,  ..., 0.1063, 0.6138, 0.2604],\n         [0.8740, 0.0929, 0.3498,  ..., 0.7044, 0.7247, 0.6333]],\n\n        [[0.4023, 0.3706, 0.7928,  ..., 0.1516, 0.2680, 0.1704],\n         [0.6411, 0.1112, 0.5548,  ..., 0.5412, 0.2402, 0.7477],\n         [0.9366, 0.9649, 0.8346,  ..., 0.1638, 0.9837, 0.2287],\n         ...,\n         [0.3044, 0.4925, 0.0678,  ..., 0.2295, 0.2301, 0.6727],\n         [0.3493, 0.7712, 0.2582,  ..., 0.1607, 0.3932, 0.3585],\n         [0.8454, 0.6645, 0.6923,  ..., 0.6340, 0.1019, 0.2380]],\n\n        [[0.9144, 0.2183, 0.8488,  ..., 0.0376, 0.4966, 0.7938],\n         [0.1323, 0.1557, 0.7176,  ..., 0.4045, 0.0535, 0.0642],\n         [0.2916, 0.6260, 0.9557,  ..., 0.0897, 0.8372, 0.0648],\n         ...,\n         [0.6695, 0.9378, 0.6047,  ..., 0.2132, 0.0128, 0.4257],\n         [0.2460, 0.3883, 0.2823,  ..., 0.9940, 0.6028, 0.7941],\n         [0.7643, 0.7110, 0.6274,  ..., 0.1063, 0.9841, 0.1706]]])"
     },
     "metadata": {},
     "output_type": "display_data"
    },
    {
     "data": {
      "text/plain": "torch.Size([3, 224, 224])"
     },
     "metadata": {},
     "output_type": "display_data"
    },
    {
     "data": {
      "text/plain": "3"
     },
     "metadata": {},
     "output_type": "display_data"
    }
   ],
   "source": [
    "x_permuted = x_orig.permute(2, 0, 1)\n",
    "display(x_permuted, x_permuted.shape, x_permuted.ndim)"
   ],
   "metadata": {
    "collapsed": false,
    "ExecuteTime": {
     "end_time": "2023-05-06T01:40:59.048588Z",
     "start_time": "2023-05-06T01:40:58.865119Z"
    }
   }
  },
  {
   "cell_type": "code",
   "execution_count": 54,
   "outputs": [
    {
     "data": {
      "text/plain": "False"
     },
     "execution_count": 54,
     "metadata": {},
     "output_type": "execute_result"
    }
   ],
   "source": [
    "torch.cuda.is_available()"
   ],
   "metadata": {
    "collapsed": false,
    "ExecuteTime": {
     "end_time": "2023-05-06T02:42:42.898016Z",
     "start_time": "2023-05-06T02:42:42.894157Z"
    }
   }
  },
  {
   "cell_type": "code",
   "execution_count": null,
   "outputs": [],
   "source": [],
   "metadata": {
    "collapsed": false
   }
  },
  {
   "cell_type": "code",
   "execution_count": null,
   "outputs": [],
   "source": [],
   "metadata": {
    "collapsed": false
   }
  }
 ],
 "metadata": {
  "kernelspec": {
   "display_name": "Python 3",
   "language": "python",
   "name": "python3"
  },
  "language_info": {
   "codemirror_mode": {
    "name": "ipython",
    "version": 2
   },
   "file_extension": ".py",
   "mimetype": "text/x-python",
   "name": "python",
   "nbconvert_exporter": "python",
   "pygments_lexer": "ipython2",
   "version": "2.7.6"
  }
 },
 "nbformat": 4,
 "nbformat_minor": 0
}
